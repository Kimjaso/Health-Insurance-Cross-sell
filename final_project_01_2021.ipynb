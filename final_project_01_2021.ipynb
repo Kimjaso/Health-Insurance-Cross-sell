{
 "cells": [
  {
   "cell_type": "markdown",
   "metadata": {},
   "source": [
    "My final project for Brainstation's September 2020 machine learning course. In this project, I do basic data cleaning, logistic regression and PCA for modeling, and use ROC and AUC with F1 scores to evaluate model performance. Finally, I use keras to train a model and improve performance metrics.\n",
    "\n",
    "Original data from https://www.kaggle.com/anmolkumar/health-insurance-cross-sell-prediction?select=test.csv"
   ]
  },
  {
   "cell_type": "code",
   "execution_count": 1,
   "metadata": {},
   "outputs": [],
   "source": [
    "#Import all of the packages we think we will need\n",
    "import pandas as pd\n",
    "import numpy as np\n",
    "import matplotlib.pyplot as plt\n",
    "%matplotlib inline\n",
    "import sklearn as sk\n",
    "pd.options.display.max_columns=500\n",
    "import warnings\n",
    "warnings.filterwarnings(\"ignore\")\n",
    "from sklearn.metrics import accuracy_score\n",
    "from sklearn import model_selection, metrics, linear_model, datasets, feature_selection\n",
    "from sklearn.preprocessing import MinMaxScaler\n",
    "import seaborn as sns"
   ]
  },
  {
   "cell_type": "code",
   "execution_count": 2,
   "metadata": {},
   "outputs": [],
   "source": [
    "fp = pd.read_csv('trainfp.csv')"
   ]
  },
  {
   "cell_type": "code",
   "execution_count": 3,
   "metadata": {
    "scrolled": true
   },
   "outputs": [
    {
     "data": {
      "text/html": [
       "<div>\n",
       "<style scoped>\n",
       "    .dataframe tbody tr th:only-of-type {\n",
       "        vertical-align: middle;\n",
       "    }\n",
       "\n",
       "    .dataframe tbody tr th {\n",
       "        vertical-align: top;\n",
       "    }\n",
       "\n",
       "    .dataframe thead th {\n",
       "        text-align: right;\n",
       "    }\n",
       "</style>\n",
       "<table border=\"1\" class=\"dataframe\">\n",
       "  <thead>\n",
       "    <tr style=\"text-align: right;\">\n",
       "      <th></th>\n",
       "      <th>id</th>\n",
       "      <th>Gender</th>\n",
       "      <th>Age</th>\n",
       "      <th>Driving_License</th>\n",
       "      <th>Region_Code</th>\n",
       "      <th>Previously_Insured</th>\n",
       "      <th>Vehicle_Age</th>\n",
       "      <th>Vehicle_Damage</th>\n",
       "      <th>Annual_Premium</th>\n",
       "      <th>Policy_Sales_Channel</th>\n",
       "      <th>Vintage</th>\n",
       "      <th>Response</th>\n",
       "    </tr>\n",
       "  </thead>\n",
       "  <tbody>\n",
       "    <tr>\n",
       "      <th>0</th>\n",
       "      <td>1</td>\n",
       "      <td>Male</td>\n",
       "      <td>44</td>\n",
       "      <td>1</td>\n",
       "      <td>28.0</td>\n",
       "      <td>0</td>\n",
       "      <td>&gt; 2 Years</td>\n",
       "      <td>Yes</td>\n",
       "      <td>40454.0</td>\n",
       "      <td>26.0</td>\n",
       "      <td>217</td>\n",
       "      <td>1</td>\n",
       "    </tr>\n",
       "    <tr>\n",
       "      <th>1</th>\n",
       "      <td>2</td>\n",
       "      <td>Male</td>\n",
       "      <td>76</td>\n",
       "      <td>1</td>\n",
       "      <td>3.0</td>\n",
       "      <td>0</td>\n",
       "      <td>1-2 Year</td>\n",
       "      <td>No</td>\n",
       "      <td>33536.0</td>\n",
       "      <td>26.0</td>\n",
       "      <td>183</td>\n",
       "      <td>0</td>\n",
       "    </tr>\n",
       "    <tr>\n",
       "      <th>2</th>\n",
       "      <td>3</td>\n",
       "      <td>Male</td>\n",
       "      <td>47</td>\n",
       "      <td>1</td>\n",
       "      <td>28.0</td>\n",
       "      <td>0</td>\n",
       "      <td>&gt; 2 Years</td>\n",
       "      <td>Yes</td>\n",
       "      <td>38294.0</td>\n",
       "      <td>26.0</td>\n",
       "      <td>27</td>\n",
       "      <td>1</td>\n",
       "    </tr>\n",
       "    <tr>\n",
       "      <th>3</th>\n",
       "      <td>4</td>\n",
       "      <td>Male</td>\n",
       "      <td>21</td>\n",
       "      <td>1</td>\n",
       "      <td>11.0</td>\n",
       "      <td>1</td>\n",
       "      <td>&lt; 1 Year</td>\n",
       "      <td>No</td>\n",
       "      <td>28619.0</td>\n",
       "      <td>152.0</td>\n",
       "      <td>203</td>\n",
       "      <td>0</td>\n",
       "    </tr>\n",
       "    <tr>\n",
       "      <th>4</th>\n",
       "      <td>5</td>\n",
       "      <td>Female</td>\n",
       "      <td>29</td>\n",
       "      <td>1</td>\n",
       "      <td>41.0</td>\n",
       "      <td>1</td>\n",
       "      <td>&lt; 1 Year</td>\n",
       "      <td>No</td>\n",
       "      <td>27496.0</td>\n",
       "      <td>152.0</td>\n",
       "      <td>39</td>\n",
       "      <td>0</td>\n",
       "    </tr>\n",
       "  </tbody>\n",
       "</table>\n",
       "</div>"
      ],
      "text/plain": [
       "   id  Gender  Age  Driving_License  Region_Code  Previously_Insured  \\\n",
       "0   1    Male   44                1         28.0                   0   \n",
       "1   2    Male   76                1          3.0                   0   \n",
       "2   3    Male   47                1         28.0                   0   \n",
       "3   4    Male   21                1         11.0                   1   \n",
       "4   5  Female   29                1         41.0                   1   \n",
       "\n",
       "  Vehicle_Age Vehicle_Damage  Annual_Premium  Policy_Sales_Channel  Vintage  \\\n",
       "0   > 2 Years            Yes         40454.0                  26.0      217   \n",
       "1    1-2 Year             No         33536.0                  26.0      183   \n",
       "2   > 2 Years            Yes         38294.0                  26.0       27   \n",
       "3    < 1 Year             No         28619.0                 152.0      203   \n",
       "4    < 1 Year             No         27496.0                 152.0       39   \n",
       "\n",
       "   Response  \n",
       "0         1  \n",
       "1         0  \n",
       "2         1  \n",
       "3         0  \n",
       "4         0  "
      ]
     },
     "execution_count": 3,
     "metadata": {},
     "output_type": "execute_result"
    }
   ],
   "source": [
    "fp.head()\n",
    "#First lets look at the data"
   ]
  },
  {
   "cell_type": "code",
   "execution_count": 4,
   "metadata": {},
   "outputs": [
    {
     "data": {
      "text/plain": [
       "152.0    134784\n",
       "26.0      79700\n",
       "124.0     73995\n",
       "160.0     21779\n",
       "156.0     10661\n",
       "          ...  \n",
       "144.0         1\n",
       "149.0         1\n",
       "84.0          1\n",
       "143.0         1\n",
       "43.0          1\n",
       "Name: Policy_Sales_Channel, Length: 155, dtype: int64"
      ]
     },
     "execution_count": 4,
     "metadata": {},
     "output_type": "execute_result"
    }
   ],
   "source": [
    "fp['Policy_Sales_Channel'].value_counts(dropna=False)"
   ]
  },
  {
   "cell_type": "code",
   "execution_count": 5,
   "metadata": {},
   "outputs": [
    {
     "data": {
      "text/plain": [
       "False"
      ]
     },
     "execution_count": 5,
     "metadata": {},
     "output_type": "execute_result"
    }
   ],
   "source": [
    "fp.isnull().values.any() #A good way to initially check for any NaN values across the entire data set.\n",
    "#False return means no NaN at all, simplifying your data cleaning."
   ]
  },
  {
   "cell_type": "code",
   "execution_count": 6,
   "metadata": {
    "scrolled": false
   },
   "outputs": [
    {
     "data": {
      "text/plain": [
       "array([217, 183,  27, 203,  39, 176, 249,  72,  28,  80,  46, 289, 221,\n",
       "        15,  58, 147, 256, 299, 158, 102, 116, 177, 232,  60, 180,  49,\n",
       "        57, 223, 136, 222, 149, 169,  88, 253, 107, 264, 233,  45, 184,\n",
       "       251, 153, 186,  71,  34,  83,  12, 246, 141, 216, 130, 282,  73,\n",
       "       171, 283, 295, 165,  30, 218,  22,  36,  79,  81, 100,  63, 242,\n",
       "       277,  61, 111, 167,  74, 235, 131, 243, 248, 114, 281,  62, 189,\n",
       "       139, 138, 209, 254, 291,  68,  92,  52,  78, 156, 247, 275,  77,\n",
       "       181, 229, 166,  16,  23,  31, 293, 219,  50, 155,  66, 260,  19,\n",
       "       258, 117, 193, 204, 212, 144, 234, 206, 228, 125,  29,  18,  84,\n",
       "       230,  54, 123, 101,  86,  13, 237,  85,  98,  67, 128,  95,  89,\n",
       "        99, 208, 134, 135, 268, 284, 119, 226, 105, 142, 207, 272, 263,\n",
       "        64,  40, 245, 163,  24, 265, 202, 259,  91, 106, 190, 162,  33,\n",
       "       194, 287, 292,  69, 239, 132, 255, 152, 121, 150, 143, 198, 103,\n",
       "       127, 285, 214, 151, 199,  56,  59, 215, 104, 238, 120,  21,  32,\n",
       "       270, 211, 200, 197,  11, 213,  93, 113, 178,  10, 290,  94, 231,\n",
       "       296,  47, 122, 271, 278, 276,  96, 240, 172, 257, 224, 173, 220,\n",
       "       185,  90,  51, 205,  70, 160, 137, 168,  87, 118, 288, 126, 241,\n",
       "        82, 227, 115, 164, 236, 286, 244, 108, 274, 201,  97,  25, 174,\n",
       "       182, 154,  48,  20,  53,  17, 261,  41, 266,  35, 140, 269, 146,\n",
       "       145,  65, 298, 133, 195,  55, 188,  75,  38,  43, 110,  37, 129,\n",
       "       170, 109, 267, 279, 112, 280,  76, 191,  26, 161, 179, 175, 252,\n",
       "        42, 124, 187, 148, 294,  44, 157, 192, 262, 159, 210, 250,  14,\n",
       "       273, 297, 225, 196], dtype=int64)"
      ]
     },
     "execution_count": 6,
     "metadata": {},
     "output_type": "execute_result"
    }
   ],
   "source": [
    "fp['Vintage'].unique() #The days someone has been a customer. Every customer is less than a year old, very suspicious data"
   ]
  },
  {
   "cell_type": "code",
   "execution_count": 8,
   "metadata": {},
   "outputs": [
    {
     "data": {
      "image/png": "[encoded data removed]",
      "text/plain": [
       "<Figure size 432x288 with 1 Axes>"
      ]
     },
     "metadata": {
      "needs_background": "light"
     },
     "output_type": "display_data"
    }
   ],
   "source": [
    "Annual_premium = sns.regplot(x= 'Annual_Premium', y= 'Response', data= fp, logistic= True).set_title(\"Annual Premium log odds linear plot\")\n",
    "#Not a \"U\" shape, slight \"S\" shape Assumption of IV's log odds linearity seems intact"
   ]
  },
  {
   "cell_type": "code",
   "execution_count": 11,
   "metadata": {
    "scrolled": true
   },
   "outputs": [
    {
     "data": {
      "image/png": "[encoded data removed]",
      "text/plain": [
       "<Figure size 432x288 with 1 Axes>"
      ]
     },
     "metadata": {
      "needs_background": "light"
     },
     "output_type": "display_data"
    }
   ],
   "source": [
    "Days_With = sns.regplot(x= 'Vintage', y= 'Response', data= fp, logistic= True).set_title(\"Vintage log odds linear plot\")\n",
    "#Clearly not S shape, discard"
   ]
  },
  {
   "cell_type": "code",
   "execution_count": 3,
   "metadata": {},
   "outputs": [],
   "source": [
    "fp['Vehicle_Age'] = fp['Vehicle_Age'].replace({'< 1 Year':0, '1-2 Year':1, '> 2 Years':2})\n",
    "\n",
    "#Consider turning Policy_Sales_Channel into dummy variables\n",
    "#Consider turning Region_Code into dummy variables"
   ]
  },
  {
   "cell_type": "code",
   "execution_count": 4,
   "metadata": {},
   "outputs": [],
   "source": [
    "fp['Gender'] = fp['Gender'].replace({'Male':0, 'Female':1})"
   ]
  },
  {
   "cell_type": "code",
   "execution_count": 5,
   "metadata": {},
   "outputs": [],
   "source": [
    "fp['Vehicle_Damage'] = fp['Vehicle_Damage'].replace({'Yes':0, 'No':1})"
   ]
  },
  {
   "cell_type": "code",
   "execution_count": 6,
   "metadata": {},
   "outputs": [],
   "source": [
    "from sklearn.cluster import KMeans\n",
    "#We originally wanted to use KMeans to determine customer segmentation but with responses already known, training a \n",
    "#logistic regression model made more sense"
   ]
  },
  {
   "cell_type": "markdown",
   "metadata": {},
   "source": [
    "For my feature selection, I made the decision to remove \"policy sales channel\" and \"region code\" because their numerical values were categorical but I had no information on what each value refered to. I am unable to interpret these variables' meaning. In addition, I remove 'vintage' for failing the linearity assumption of independent variable's log odds."
   ]
  },
  {
   "cell_type": "code",
   "execution_count": 11,
   "metadata": {},
   "outputs": [],
   "source": [
    "# Remove 'Policy_Sales_Channel', 'Vintage', and 'Region_Code' because they do not meet conditions and/or do not have clear \n",
    "#documentation. In addition, we may have to remove additional variables due to multicollinearity"
   ]
  },
  {
   "cell_type": "code",
   "execution_count": 12,
   "metadata": {},
   "outputs": [],
   "source": [
    "#Check multicollinearity \n",
    "multico = fp.corr()\n",
    "#Vehicle Age and Age of customer are moderately positively correlated. Older customers have older vehicles. Consider dropping one\n",
    "#Vehicle Damage and Previously Insured are highly correlated which is not surprising. Consider dropping one term"
   ]
  },
  {
   "cell_type": "code",
   "execution_count": 7,
   "metadata": {},
   "outputs": [],
   "source": [
    "del fp['Vintage']\n",
    "del fp['id']\n",
    "del fp['Region_Code']\n",
    "del fp['Policy_Sales_Channel']"
   ]
  },
  {
   "cell_type": "code",
   "execution_count": 12,
   "metadata": {},
   "outputs": [],
   "source": [
    "sns.set(font_scale=1)"
   ]
  },
  {
   "cell_type": "code",
   "execution_count": 16,
   "metadata": {},
   "outputs": [
    {
     "data": {
      "text/plain": [
       "<matplotlib.axes._subplots.AxesSubplot at 0x1afea916fd0>"
      ]
     },
     "execution_count": 16,
     "metadata": {},
     "output_type": "execute_result"
    },
    {
     "data": {
      "image/png": "[encoded data removed]",
      "text/plain": [
       "<Figure size 720x720 with 2 Axes>"
      ]
     },
     "metadata": {},
     "output_type": "display_data"
    }
   ],
   "source": [
    "#We are going to make a heat graph of multicollinearity for visual's sake\n",
    "plt.figure(figsize=(10,10)) \n",
    "sns.heatmap(multico, annot = True, cmap = 'bwr')"
   ]
  },
  {
   "cell_type": "markdown",
   "metadata": {},
   "source": [
    "While using a heatmap to visualize multicollinearity is good, a heatmap should not be used to determine what variables to drop. Instead, I will calculate the variance inflation factor (VIF) to identify which variables are the most correlated. VIF>5 means lots of multicollinearity and VIF > 10 means that there is extreme multicollinearity."
   ]
  },
  {
   "cell_type": "code",
   "execution_count": 8,
   "metadata": {},
   "outputs": [],
   "source": [
    "import statsmodels.api as sm\n",
    "from statsmodels.stats.outliers_influence import variance_inflation_factor "
   ]
  },
  {
   "cell_type": "code",
   "execution_count": 9,
   "metadata": {},
   "outputs": [],
   "source": [
    "fpnr = fp.drop(['Response'],axis = 1)"
   ]
  },
  {
   "cell_type": "code",
   "execution_count": 10,
   "metadata": {},
   "outputs": [],
   "source": [
    "features_to_include = ['Gender', 'Vehicle_Age', 'Vehicle_Damage', 'Age', 'Previously_Insured','Annual_Premium', ]\n"
   ]
  },
  {
   "cell_type": "code",
   "execution_count": 19,
   "metadata": {},
   "outputs": [
    {
     "name": "stdout",
     "output_type": "stream",
     "text": [
      "              feature        VIF\n",
      "0              Gender   1.899458\n",
      "1                 Age  17.198158\n",
      "2     Driving_License  14.075008\n",
      "3  Previously_Insured   5.821599\n",
      "4         Vehicle_Age   5.809125\n",
      "5      Vehicle_Damage   6.337200\n",
      "6      Annual_Premium   4.151380\n"
     ]
    }
   ],
   "source": [
    "# VIF dataframe \n",
    "vif_data = pd.DataFrame() \n",
    "vif_data['feature'] = fpnr.columns\n",
    "  \n",
    "# calculating VIF for each feature \n",
    "vif_data[\"VIF\"] = [variance_inflation_factor(fpnr.values, i) \n",
    "                          for i in range(len(fpnr.columns))] \n",
    "  \n",
    "print(vif_data)"
   ]
  },
  {
   "cell_type": "markdown",
   "metadata": {},
   "source": [
    "Out of the 7 features in my data set, 4 of them have VIF scores greater than 5! In order to reduce the VIF score, I will remove the column with the highest score and run the test again."
   ]
  },
  {
   "cell_type": "code",
   "execution_count": 20,
   "metadata": {},
   "outputs": [
    {
     "name": "stdout",
     "output_type": "stream",
     "text": [
      "              feature       VIF\n",
      "0              Gender  1.897788\n",
      "1     Driving_License  8.534838\n",
      "2  Previously_Insured  5.818547\n",
      "3         Vehicle_Age  2.609965\n",
      "4      Vehicle_Damage  6.332523\n",
      "5      Annual_Premium  4.131076\n"
     ]
    }
   ],
   "source": [
    "# VIF dataframe \n",
    "vif_data = pd.DataFrame() \n",
    "vif_data['feature'] = fpnr.drop(['Age'], axis = 1).columns \n",
    "  \n",
    "# calculating VIF for each feature \n",
    "vif_data[\"VIF\"] = [variance_inflation_factor(fpnr.drop(['Age'], axis = 1).values, i) \n",
    "                          for i in range(len(fpnr.drop(['Age'], axis = 1).columns))] \n",
    "  \n",
    "print(vif_data)"
   ]
  },
  {
   "cell_type": "markdown",
   "metadata": {},
   "source": [
    "With the removal of age, driving license sees its VIF score drop dramatically while all other scores remain unaffected. This corresponds with our heat map and multicollinearity scores. However, we are much more interested in the age of a customer than whether they have a driving license or not. In fact, we would hope all customers purchasing auto insurance are certified to operate a motor vehicle!"
   ]
  },
  {
   "cell_type": "code",
   "execution_count": 21,
   "metadata": {
    "scrolled": false
   },
   "outputs": [
    {
     "name": "stdout",
     "output_type": "stream",
     "text": [
      "              feature        VIF\n",
      "0              Gender   1.732599\n",
      "1                 Age  10.428662\n",
      "2  Previously_Insured   5.795984\n",
      "3         Vehicle_Age   5.637297\n",
      "4      Vehicle_Damage   6.179888\n",
      "5      Annual_Premium   3.478673\n"
     ]
    }
   ],
   "source": [
    "# VIF dataframe \n",
    "vif_data = pd.DataFrame() \n",
    "vif_data['feature'] = fpnr.drop(['Driving_License',], axis = 1).columns \n",
    "  \n",
    "# calculating VIF for each feature \n",
    "vif_data[\"VIF\"] = [variance_inflation_factor(fpnr.drop(['Driving_License'], axis = 1).values, i) \n",
    "                          for i in range(len(fpnr.drop(['Driving_License'], axis = 1).columns))] \n",
    "  \n",
    "print(vif_data)"
   ]
  },
  {
   "cell_type": "markdown",
   "metadata": {},
   "source": [
    "With driving license removed, age's VIF drops heavily but still remains above 10. While worrying, a business is very interested in its customers' demographics so age is here to stay."
   ]
  },
  {
   "cell_type": "code",
   "execution_count": 17,
   "metadata": {
    "scrolled": true
   },
   "outputs": [
    {
     "data": {
      "text/html": [
       "<div>\n",
       "<style scoped>\n",
       "    .dataframe tbody tr th:only-of-type {\n",
       "        vertical-align: middle;\n",
       "    }\n",
       "\n",
       "    .dataframe tbody tr th {\n",
       "        vertical-align: top;\n",
       "    }\n",
       "\n",
       "    .dataframe thead th {\n",
       "        text-align: right;\n",
       "    }\n",
       "</style>\n",
       "<table border=\"1\" class=\"dataframe\">\n",
       "  <thead>\n",
       "    <tr style=\"text-align: right;\">\n",
       "      <th></th>\n",
       "      <th>Gender</th>\n",
       "      <th>Age</th>\n",
       "      <th>Driving_License</th>\n",
       "      <th>Previously_Insured</th>\n",
       "      <th>Vehicle_Age</th>\n",
       "      <th>Vehicle_Damage</th>\n",
       "      <th>Annual_Premium</th>\n",
       "      <th>Response</th>\n",
       "    </tr>\n",
       "  </thead>\n",
       "  <tbody>\n",
       "    <tr>\n",
       "      <th>0</th>\n",
       "      <td>0</td>\n",
       "      <td>44</td>\n",
       "      <td>1</td>\n",
       "      <td>0</td>\n",
       "      <td>2</td>\n",
       "      <td>0</td>\n",
       "      <td>40454.0</td>\n",
       "      <td>1</td>\n",
       "    </tr>\n",
       "    <tr>\n",
       "      <th>1</th>\n",
       "      <td>0</td>\n",
       "      <td>76</td>\n",
       "      <td>1</td>\n",
       "      <td>0</td>\n",
       "      <td>1</td>\n",
       "      <td>1</td>\n",
       "      <td>33536.0</td>\n",
       "      <td>0</td>\n",
       "    </tr>\n",
       "    <tr>\n",
       "      <th>2</th>\n",
       "      <td>0</td>\n",
       "      <td>47</td>\n",
       "      <td>1</td>\n",
       "      <td>0</td>\n",
       "      <td>2</td>\n",
       "      <td>0</td>\n",
       "      <td>38294.0</td>\n",
       "      <td>1</td>\n",
       "    </tr>\n",
       "    <tr>\n",
       "      <th>3</th>\n",
       "      <td>0</td>\n",
       "      <td>21</td>\n",
       "      <td>1</td>\n",
       "      <td>1</td>\n",
       "      <td>0</td>\n",
       "      <td>1</td>\n",
       "      <td>28619.0</td>\n",
       "      <td>0</td>\n",
       "    </tr>\n",
       "    <tr>\n",
       "      <th>4</th>\n",
       "      <td>1</td>\n",
       "      <td>29</td>\n",
       "      <td>1</td>\n",
       "      <td>1</td>\n",
       "      <td>0</td>\n",
       "      <td>1</td>\n",
       "      <td>27496.0</td>\n",
       "      <td>0</td>\n",
       "    </tr>\n",
       "    <tr>\n",
       "      <th>...</th>\n",
       "      <td>...</td>\n",
       "      <td>...</td>\n",
       "      <td>...</td>\n",
       "      <td>...</td>\n",
       "      <td>...</td>\n",
       "      <td>...</td>\n",
       "      <td>...</td>\n",
       "      <td>...</td>\n",
       "    </tr>\n",
       "    <tr>\n",
       "      <th>381104</th>\n",
       "      <td>0</td>\n",
       "      <td>74</td>\n",
       "      <td>1</td>\n",
       "      <td>1</td>\n",
       "      <td>1</td>\n",
       "      <td>1</td>\n",
       "      <td>30170.0</td>\n",
       "      <td>0</td>\n",
       "    </tr>\n",
       "    <tr>\n",
       "      <th>381105</th>\n",
       "      <td>0</td>\n",
       "      <td>30</td>\n",
       "      <td>1</td>\n",
       "      <td>1</td>\n",
       "      <td>0</td>\n",
       "      <td>1</td>\n",
       "      <td>40016.0</td>\n",
       "      <td>0</td>\n",
       "    </tr>\n",
       "    <tr>\n",
       "      <th>381106</th>\n",
       "      <td>0</td>\n",
       "      <td>21</td>\n",
       "      <td>1</td>\n",
       "      <td>1</td>\n",
       "      <td>0</td>\n",
       "      <td>1</td>\n",
       "      <td>35118.0</td>\n",
       "      <td>0</td>\n",
       "    </tr>\n",
       "    <tr>\n",
       "      <th>381107</th>\n",
       "      <td>1</td>\n",
       "      <td>68</td>\n",
       "      <td>1</td>\n",
       "      <td>0</td>\n",
       "      <td>2</td>\n",
       "      <td>0</td>\n",
       "      <td>44617.0</td>\n",
       "      <td>0</td>\n",
       "    </tr>\n",
       "    <tr>\n",
       "      <th>381108</th>\n",
       "      <td>0</td>\n",
       "      <td>46</td>\n",
       "      <td>1</td>\n",
       "      <td>0</td>\n",
       "      <td>1</td>\n",
       "      <td>1</td>\n",
       "      <td>41777.0</td>\n",
       "      <td>0</td>\n",
       "    </tr>\n",
       "  </tbody>\n",
       "</table>\n",
       "<p>381109 rows × 8 columns</p>\n",
       "</div>"
      ],
      "text/plain": [
       "        Gender  Age  Driving_License  Previously_Insured  Vehicle_Age  \\\n",
       "0            0   44                1                   0            2   \n",
       "1            0   76                1                   0            1   \n",
       "2            0   47                1                   0            2   \n",
       "3            0   21                1                   1            0   \n",
       "4            1   29                1                   1            0   \n",
       "...        ...  ...              ...                 ...          ...   \n",
       "381104       0   74                1                   1            1   \n",
       "381105       0   30                1                   1            0   \n",
       "381106       0   21                1                   1            0   \n",
       "381107       1   68                1                   0            2   \n",
       "381108       0   46                1                   0            1   \n",
       "\n",
       "        Vehicle_Damage  Annual_Premium  Response  \n",
       "0                    0         40454.0         1  \n",
       "1                    1         33536.0         0  \n",
       "2                    0         38294.0         1  \n",
       "3                    1         28619.0         0  \n",
       "4                    1         27496.0         0  \n",
       "...                ...             ...       ...  \n",
       "381104               1         30170.0         0  \n",
       "381105               1         40016.0         0  \n",
       "381106               1         35118.0         0  \n",
       "381107               0         44617.0         0  \n",
       "381108               1         41777.0         0  \n",
       "\n",
       "[381109 rows x 8 columns]"
      ]
     },
     "execution_count": 17,
     "metadata": {},
     "output_type": "execute_result"
    }
   ],
   "source": [
    "fp"
   ]
  },
  {
   "cell_type": "code",
   "execution_count": 11,
   "metadata": {},
   "outputs": [],
   "source": [
    "from sklearn.preprocessing import StandardScaler\n"
   ]
  },
  {
   "cell_type": "code",
   "execution_count": 12,
   "metadata": {},
   "outputs": [],
   "source": [
    "scaler = StandardScaler()\n",
    "scaler.fit(fp[features_to_include])\n",
    "XS = scaler.transform(fp[features_to_include])\n",
    "#We are going to scale the data because we are going to use PCA for some models\n",
    "#This is the wrong way of scaling data, but I didn't learn that until after I started"
   ]
  },
  {
   "cell_type": "code",
   "execution_count": 21,
   "metadata": {},
   "outputs": [],
   "source": [
    "from matplotlib import pyplot"
   ]
  },
  {
   "cell_type": "code",
   "execution_count": 25,
   "metadata": {},
   "outputs": [
    {
     "data": {
      "text/plain": [
       "540165.0"
      ]
     },
     "execution_count": 25,
     "metadata": {},
     "output_type": "execute_result"
    }
   ],
   "source": [
    "fp['Annual_Premium'].max()"
   ]
  },
  {
   "cell_type": "code",
   "execution_count": 27,
   "metadata": {
    "scrolled": true
   },
   "outputs": [
    {
     "data": {
      "text/plain": [
       "(array([3.80973e+05, 1.17000e+02, 1.90000e+01]),\n",
       " array([  2630.        , 181808.33333333, 360986.66666667, 540165.        ]),\n",
       " <a list of 3 Patch objects>)"
      ]
     },
     "execution_count": 27,
     "metadata": {},
     "output_type": "execute_result"
    },
    {
     "data": {
      "image/png": "[encoded data removed]",
      "text/plain": [
       "<Figure size 432x288 with 1 Axes>"
      ]
     },
     "metadata": {
      "needs_background": "light"
     },
     "output_type": "display_data"
    }
   ],
   "source": [
    "pyplot.hist(fp['Annual_Premium'], bins = 3)"
   ]
  },
  {
   "cell_type": "markdown",
   "metadata": {},
   "source": [
    "Looking at the histogram and the max value, annual premium is suffering from a very heavy right-skew. Standard scaling which works best on normally distributed data isn't the best choice here. Instead, let's use a more robust scaler."
   ]
  },
  {
   "cell_type": "code",
   "execution_count": 28,
   "metadata": {},
   "outputs": [],
   "source": [
    "from sklearn.preprocessing import RobustScaler\n",
    "scaler = RobustScaler()"
   ]
  },
  {
   "cell_type": "code",
   "execution_count": null,
   "metadata": {},
   "outputs": [],
   "source": [
    "Annual"
   ]
  },
  {
   "cell_type": "code",
   "execution_count": 29,
   "metadata": {
    "scrolled": true
   },
   "outputs": [],
   "source": [
    "Annual_Premium_S = scaler.fit_transform(fp['Annual_Premium'].values.reshape(-1,1))"
   ]
  },
  {
   "cell_type": "code",
   "execution_count": 30,
   "metadata": {},
   "outputs": [],
   "source": [
    "fp['Annual_Premium_S'] = Annual_Premium_S"
   ]
  },
  {
   "cell_type": "code",
   "execution_count": 31,
   "metadata": {},
   "outputs": [
    {
     "data": {
      "text/html": [
       "<div>\n",
       "<style scoped>\n",
       "    .dataframe tbody tr th:only-of-type {\n",
       "        vertical-align: middle;\n",
       "    }\n",
       "\n",
       "    .dataframe tbody tr th {\n",
       "        vertical-align: top;\n",
       "    }\n",
       "\n",
       "    .dataframe thead th {\n",
       "        text-align: right;\n",
       "    }\n",
       "</style>\n",
       "<table border=\"1\" class=\"dataframe\">\n",
       "  <thead>\n",
       "    <tr style=\"text-align: right;\">\n",
       "      <th></th>\n",
       "      <th>Gender</th>\n",
       "      <th>Age</th>\n",
       "      <th>Driving_License</th>\n",
       "      <th>Previously_Insured</th>\n",
       "      <th>Vehicle_Age</th>\n",
       "      <th>Vehicle_Damage</th>\n",
       "      <th>Annual_Premium</th>\n",
       "      <th>Response</th>\n",
       "      <th>Annual_Premium_S</th>\n",
       "    </tr>\n",
       "  </thead>\n",
       "  <tbody>\n",
       "    <tr>\n",
       "      <th>0</th>\n",
       "      <td>0</td>\n",
       "      <td>44</td>\n",
       "      <td>1</td>\n",
       "      <td>0</td>\n",
       "      <td>2</td>\n",
       "      <td>0</td>\n",
       "      <td>40454.0</td>\n",
       "      <td>1</td>\n",
       "      <td>0.585862</td>\n",
       "    </tr>\n",
       "    <tr>\n",
       "      <th>1</th>\n",
       "      <td>0</td>\n",
       "      <td>76</td>\n",
       "      <td>1</td>\n",
       "      <td>0</td>\n",
       "      <td>1</td>\n",
       "      <td>1</td>\n",
       "      <td>33536.0</td>\n",
       "      <td>0</td>\n",
       "      <td>0.124508</td>\n",
       "    </tr>\n",
       "    <tr>\n",
       "      <th>2</th>\n",
       "      <td>0</td>\n",
       "      <td>47</td>\n",
       "      <td>1</td>\n",
       "      <td>0</td>\n",
       "      <td>2</td>\n",
       "      <td>0</td>\n",
       "      <td>38294.0</td>\n",
       "      <td>1</td>\n",
       "      <td>0.441814</td>\n",
       "    </tr>\n",
       "    <tr>\n",
       "      <th>3</th>\n",
       "      <td>0</td>\n",
       "      <td>21</td>\n",
       "      <td>1</td>\n",
       "      <td>1</td>\n",
       "      <td>0</td>\n",
       "      <td>1</td>\n",
       "      <td>28619.0</td>\n",
       "      <td>0</td>\n",
       "      <td>-0.203401</td>\n",
       "    </tr>\n",
       "    <tr>\n",
       "      <th>4</th>\n",
       "      <td>1</td>\n",
       "      <td>29</td>\n",
       "      <td>1</td>\n",
       "      <td>1</td>\n",
       "      <td>0</td>\n",
       "      <td>1</td>\n",
       "      <td>27496.0</td>\n",
       "      <td>0</td>\n",
       "      <td>-0.278293</td>\n",
       "    </tr>\n",
       "    <tr>\n",
       "      <th>...</th>\n",
       "      <td>...</td>\n",
       "      <td>...</td>\n",
       "      <td>...</td>\n",
       "      <td>...</td>\n",
       "      <td>...</td>\n",
       "      <td>...</td>\n",
       "      <td>...</td>\n",
       "      <td>...</td>\n",
       "      <td>...</td>\n",
       "    </tr>\n",
       "    <tr>\n",
       "      <th>381104</th>\n",
       "      <td>0</td>\n",
       "      <td>74</td>\n",
       "      <td>1</td>\n",
       "      <td>1</td>\n",
       "      <td>1</td>\n",
       "      <td>1</td>\n",
       "      <td>30170.0</td>\n",
       "      <td>0</td>\n",
       "      <td>-0.099967</td>\n",
       "    </tr>\n",
       "    <tr>\n",
       "      <th>381105</th>\n",
       "      <td>0</td>\n",
       "      <td>30</td>\n",
       "      <td>1</td>\n",
       "      <td>1</td>\n",
       "      <td>0</td>\n",
       "      <td>1</td>\n",
       "      <td>40016.0</td>\n",
       "      <td>0</td>\n",
       "      <td>0.556652</td>\n",
       "    </tr>\n",
       "    <tr>\n",
       "      <th>381106</th>\n",
       "      <td>0</td>\n",
       "      <td>21</td>\n",
       "      <td>1</td>\n",
       "      <td>1</td>\n",
       "      <td>0</td>\n",
       "      <td>1</td>\n",
       "      <td>35118.0</td>\n",
       "      <td>0</td>\n",
       "      <td>0.230010</td>\n",
       "    </tr>\n",
       "    <tr>\n",
       "      <th>381107</th>\n",
       "      <td>1</td>\n",
       "      <td>68</td>\n",
       "      <td>1</td>\n",
       "      <td>0</td>\n",
       "      <td>2</td>\n",
       "      <td>0</td>\n",
       "      <td>44617.0</td>\n",
       "      <td>0</td>\n",
       "      <td>0.863488</td>\n",
       "    </tr>\n",
       "    <tr>\n",
       "      <th>381108</th>\n",
       "      <td>0</td>\n",
       "      <td>46</td>\n",
       "      <td>1</td>\n",
       "      <td>0</td>\n",
       "      <td>1</td>\n",
       "      <td>1</td>\n",
       "      <td>41777.0</td>\n",
       "      <td>0</td>\n",
       "      <td>0.674091</td>\n",
       "    </tr>\n",
       "  </tbody>\n",
       "</table>\n",
       "<p>381109 rows × 9 columns</p>\n",
       "</div>"
      ],
      "text/plain": [
       "        Gender  Age  Driving_License  Previously_Insured  Vehicle_Age  \\\n",
       "0            0   44                1                   0            2   \n",
       "1            0   76                1                   0            1   \n",
       "2            0   47                1                   0            2   \n",
       "3            0   21                1                   1            0   \n",
       "4            1   29                1                   1            0   \n",
       "...        ...  ...              ...                 ...          ...   \n",
       "381104       0   74                1                   1            1   \n",
       "381105       0   30                1                   1            0   \n",
       "381106       0   21                1                   1            0   \n",
       "381107       1   68                1                   0            2   \n",
       "381108       0   46                1                   0            1   \n",
       "\n",
       "        Vehicle_Damage  Annual_Premium  Response  Annual_Premium_S  \n",
       "0                    0         40454.0         1          0.585862  \n",
       "1                    1         33536.0         0          0.124508  \n",
       "2                    0         38294.0         1          0.441814  \n",
       "3                    1         28619.0         0         -0.203401  \n",
       "4                    1         27496.0         0         -0.278293  \n",
       "...                ...             ...       ...               ...  \n",
       "381104               1         30170.0         0         -0.099967  \n",
       "381105               1         40016.0         0          0.556652  \n",
       "381106               1         35118.0         0          0.230010  \n",
       "381107               0         44617.0         0          0.863488  \n",
       "381108               1         41777.0         0          0.674091  \n",
       "\n",
       "[381109 rows x 9 columns]"
      ]
     },
     "execution_count": 31,
     "metadata": {},
     "output_type": "execute_result"
    }
   ],
   "source": [
    "fp"
   ]
  },
  {
   "cell_type": "code",
   "execution_count": 33,
   "metadata": {},
   "outputs": [],
   "source": [
    "features_to_include = ['Gender', 'Vehicle_Age', 'Vehicle_Damage', 'Age', 'Previously_Insured','Annual_Premium_S',]"
   ]
  },
  {
   "cell_type": "code",
   "execution_count": 35,
   "metadata": {},
   "outputs": [
    {
     "data": {
      "text/plain": [
       "KMeans(n_clusters=2)"
      ]
     },
     "execution_count": 35,
     "metadata": {},
     "output_type": "execute_result"
    }
   ],
   "source": [
    "k_means_model = KMeans(n_clusters = 2)\n",
    "k_means_model.fit(fp[features_to_include])"
   ]
  },
  {
   "cell_type": "code",
   "execution_count": 38,
   "metadata": {
    "scrolled": true
   },
   "outputs": [
    {
     "data": {
      "image/png": "[encoded data removed]",
      "text/plain": [
       "<Figure size 432x288 with 1 Axes>"
      ]
     },
     "metadata": {},
     "output_type": "display_data"
    }
   ],
   "source": [
    "inertia_list = []\n",
    "k_range = np.arange(1,10)\n",
    "for k in k_range:\n",
    "    k_means_model = KMeans(n_clusters = k)\n",
    "    k_means_model.fit(XS)\n",
    "    inertia_list.append(k_means_model.inertia_)\n",
    "\n",
    "plt.scatter(k_range,inertia_list)\n",
    "plt.show()"
   ]
  },
  {
   "cell_type": "code",
   "execution_count": 39,
   "metadata": {},
   "outputs": [],
   "source": [
    "#Looks like 2 is the elbow. Let's do k-means with 2, 3, and 4 clusters\n",
    "four_means_model = KMeans(n_clusters = 4)\n",
    "four_means_model.fit(XS);\n",
    "\n",
    "three_means_model = KMeans(n_clusters = 3)\n",
    "three_means_model.fit(XS);\n"
   ]
  },
  {
   "cell_type": "code",
   "execution_count": 36,
   "metadata": {},
   "outputs": [
    {
     "data": {
      "text/plain": [
       "KMeans(n_clusters=2)"
      ]
     },
     "execution_count": 36,
     "metadata": {},
     "output_type": "execute_result"
    }
   ],
   "source": [
    "two_means_model = KMeans(n_clusters = 2)\n",
    "two_means_model.fit(fp[features_to_include])"
   ]
  },
  {
   "cell_type": "code",
   "execution_count": 37,
   "metadata": {
    "scrolled": true
   },
   "outputs": [
    {
     "data": {
      "text/plain": [
       "array([1, 1, 1, ..., 0, 1, 1])"
      ]
     },
     "execution_count": 37,
     "metadata": {},
     "output_type": "execute_result"
    }
   ],
   "source": [
    "two_means_model.labels_"
   ]
  },
  {
   "cell_type": "code",
   "execution_count": 38,
   "metadata": {},
   "outputs": [],
   "source": [
    "from sklearn.metrics import accuracy_score\n"
   ]
  },
  {
   "cell_type": "code",
   "execution_count": 39,
   "metadata": {},
   "outputs": [
    {
     "name": "stdout",
     "output_type": "stream",
     "text": [
      "0.5924131941255651\n"
     ]
    }
   ],
   "source": [
    "print(accuracy_score(two_means_model.labels_, fp['Response']))"
   ]
  },
  {
   "cell_type": "code",
   "execution_count": 40,
   "metadata": {},
   "outputs": [],
   "source": [
    "from sklearn.decomposition import PCA\n"
   ]
  },
  {
   "cell_type": "code",
   "execution_count": 41,
   "metadata": {},
   "outputs": [],
   "source": [
    "from sklearn import decomposition"
   ]
  },
  {
   "cell_type": "code",
   "execution_count": 42,
   "metadata": {},
   "outputs": [
    {
     "data": {
      "image/png": "[encoded data removed]",
      "text/plain": [
       "<Figure size 432x288 with 1 Axes>"
      ]
     },
     "metadata": {
      "needs_background": "light"
     },
     "output_type": "display_data"
    }
   ],
   "source": [
    "#PCA when we have already scaled down the features manually\n",
    "pca = PCA().fit(fp[features_to_include])\n",
    "plt.plot(np.cumsum(pca.explained_variance_ratio_))\n",
    "plt.xlabel('number of components')\n",
    "plt.ylabel('cumulative explained variance');"
   ]
  },
  {
   "cell_type": "code",
   "execution_count": 47,
   "metadata": {},
   "outputs": [],
   "source": [
    "fpnr = fp.drop(['Response', 'Annual_Premium'], axis = 1)"
   ]
  },
  {
   "cell_type": "code",
   "execution_count": 48,
   "metadata": {},
   "outputs": [
    {
     "data": {
      "text/html": [
       "<div>\n",
       "<style scoped>\n",
       "    .dataframe tbody tr th:only-of-type {\n",
       "        vertical-align: middle;\n",
       "    }\n",
       "\n",
       "    .dataframe tbody tr th {\n",
       "        vertical-align: top;\n",
       "    }\n",
       "\n",
       "    .dataframe thead th {\n",
       "        text-align: right;\n",
       "    }\n",
       "</style>\n",
       "<table border=\"1\" class=\"dataframe\">\n",
       "  <thead>\n",
       "    <tr style=\"text-align: right;\">\n",
       "      <th></th>\n",
       "      <th>Gender</th>\n",
       "      <th>Age</th>\n",
       "      <th>Driving_License</th>\n",
       "      <th>Previously_Insured</th>\n",
       "      <th>Vehicle_Age</th>\n",
       "      <th>Vehicle_Damage</th>\n",
       "      <th>Annual_Premium_S</th>\n",
       "    </tr>\n",
       "  </thead>\n",
       "  <tbody>\n",
       "    <tr>\n",
       "      <th>0</th>\n",
       "      <td>0</td>\n",
       "      <td>44</td>\n",
       "      <td>1</td>\n",
       "      <td>0</td>\n",
       "      <td>2</td>\n",
       "      <td>0</td>\n",
       "      <td>0.585862</td>\n",
       "    </tr>\n",
       "    <tr>\n",
       "      <th>1</th>\n",
       "      <td>0</td>\n",
       "      <td>76</td>\n",
       "      <td>1</td>\n",
       "      <td>0</td>\n",
       "      <td>1</td>\n",
       "      <td>1</td>\n",
       "      <td>0.124508</td>\n",
       "    </tr>\n",
       "    <tr>\n",
       "      <th>2</th>\n",
       "      <td>0</td>\n",
       "      <td>47</td>\n",
       "      <td>1</td>\n",
       "      <td>0</td>\n",
       "      <td>2</td>\n",
       "      <td>0</td>\n",
       "      <td>0.441814</td>\n",
       "    </tr>\n",
       "    <tr>\n",
       "      <th>3</th>\n",
       "      <td>0</td>\n",
       "      <td>21</td>\n",
       "      <td>1</td>\n",
       "      <td>1</td>\n",
       "      <td>0</td>\n",
       "      <td>1</td>\n",
       "      <td>-0.203401</td>\n",
       "    </tr>\n",
       "    <tr>\n",
       "      <th>4</th>\n",
       "      <td>1</td>\n",
       "      <td>29</td>\n",
       "      <td>1</td>\n",
       "      <td>1</td>\n",
       "      <td>0</td>\n",
       "      <td>1</td>\n",
       "      <td>-0.278293</td>\n",
       "    </tr>\n",
       "    <tr>\n",
       "      <th>...</th>\n",
       "      <td>...</td>\n",
       "      <td>...</td>\n",
       "      <td>...</td>\n",
       "      <td>...</td>\n",
       "      <td>...</td>\n",
       "      <td>...</td>\n",
       "      <td>...</td>\n",
       "    </tr>\n",
       "    <tr>\n",
       "      <th>381104</th>\n",
       "      <td>0</td>\n",
       "      <td>74</td>\n",
       "      <td>1</td>\n",
       "      <td>1</td>\n",
       "      <td>1</td>\n",
       "      <td>1</td>\n",
       "      <td>-0.099967</td>\n",
       "    </tr>\n",
       "    <tr>\n",
       "      <th>381105</th>\n",
       "      <td>0</td>\n",
       "      <td>30</td>\n",
       "      <td>1</td>\n",
       "      <td>1</td>\n",
       "      <td>0</td>\n",
       "      <td>1</td>\n",
       "      <td>0.556652</td>\n",
       "    </tr>\n",
       "    <tr>\n",
       "      <th>381106</th>\n",
       "      <td>0</td>\n",
       "      <td>21</td>\n",
       "      <td>1</td>\n",
       "      <td>1</td>\n",
       "      <td>0</td>\n",
       "      <td>1</td>\n",
       "      <td>0.230010</td>\n",
       "    </tr>\n",
       "    <tr>\n",
       "      <th>381107</th>\n",
       "      <td>1</td>\n",
       "      <td>68</td>\n",
       "      <td>1</td>\n",
       "      <td>0</td>\n",
       "      <td>2</td>\n",
       "      <td>0</td>\n",
       "      <td>0.863488</td>\n",
       "    </tr>\n",
       "    <tr>\n",
       "      <th>381108</th>\n",
       "      <td>0</td>\n",
       "      <td>46</td>\n",
       "      <td>1</td>\n",
       "      <td>0</td>\n",
       "      <td>1</td>\n",
       "      <td>1</td>\n",
       "      <td>0.674091</td>\n",
       "    </tr>\n",
       "  </tbody>\n",
       "</table>\n",
       "<p>381109 rows × 7 columns</p>\n",
       "</div>"
      ],
      "text/plain": [
       "        Gender  Age  Driving_License  Previously_Insured  Vehicle_Age  \\\n",
       "0            0   44                1                   0            2   \n",
       "1            0   76                1                   0            1   \n",
       "2            0   47                1                   0            2   \n",
       "3            0   21                1                   1            0   \n",
       "4            1   29                1                   1            0   \n",
       "...        ...  ...              ...                 ...          ...   \n",
       "381104       0   74                1                   1            1   \n",
       "381105       0   30                1                   1            0   \n",
       "381106       0   21                1                   1            0   \n",
       "381107       1   68                1                   0            2   \n",
       "381108       0   46                1                   0            1   \n",
       "\n",
       "        Vehicle_Damage  Annual_Premium_S  \n",
       "0                    0          0.585862  \n",
       "1                    1          0.124508  \n",
       "2                    0          0.441814  \n",
       "3                    1         -0.203401  \n",
       "4                    1         -0.278293  \n",
       "...                ...               ...  \n",
       "381104               1         -0.099967  \n",
       "381105               1          0.556652  \n",
       "381106               1          0.230010  \n",
       "381107               0          0.863488  \n",
       "381108               1          0.674091  \n",
       "\n",
       "[381109 rows x 7 columns]"
      ]
     },
     "execution_count": 48,
     "metadata": {},
     "output_type": "execute_result"
    }
   ],
   "source": [
    "fpnr"
   ]
  },
  {
   "cell_type": "code",
   "execution_count": 49,
   "metadata": {},
   "outputs": [
    {
     "data": {
      "image/png": "[encoded data removed]",
      "text/plain": [
       "<Figure size 432x288 with 1 Axes>"
      ]
     },
     "metadata": {
      "needs_background": "light"
     },
     "output_type": "display_data"
    }
   ],
   "source": [
    "pca = PCA().fit(fpnr)\n",
    "plt.plot(np.cumsum(pca.explained_variance_ratio_))\n",
    "plt.xlabel('number of components')\n",
    "plt.ylabel('cumulative explained variance');"
   ]
  },
  {
   "cell_type": "code",
   "execution_count": 53,
   "metadata": {},
   "outputs": [],
   "source": [
    "\n",
    "#Build and fit a PCA model to the data\n",
    "my_pca = PCA(n_components=2)\n",
    "my_pca.fit(fp[features_to_include])\n",
    "my_pca_test = PCA(n_components = 2)\n",
    "my_pca2 = PCA(n_components= 3)\n",
    "my_pca2.fit(fp[features_to_include])\n",
    "X_PCA = my_pca.transform(fp[features_to_include])\n",
    "X2_PCA = my_pca2.transform(fp[features_to_include])\n"
   ]
  },
  {
   "cell_type": "code",
   "execution_count": 54,
   "metadata": {
    "scrolled": true
   },
   "outputs": [
    {
     "name": "stdout",
     "output_type": "stream",
     "text": [
      "[[ 5.22734630e+00  6.14779629e-01]\n",
      " [ 3.71727822e+01  1.88673384e-02]\n",
      " [ 8.22516186e+00  4.56816370e-01]\n",
      " ...\n",
      " [-1.78361123e+01  3.99620022e-01]\n",
      " [ 2.92123676e+01  7.84498123e-01]\n",
      " [ 7.19015502e+00  7.07738345e-01]]\n"
     ]
    }
   ],
   "source": [
    "print(X_PCA)"
   ]
  },
  {
   "cell_type": "code",
   "execution_count": 55,
   "metadata": {},
   "outputs": [
    {
     "name": "stdout",
     "output_type": "stream",
     "text": [
      "[[0.00468071 0.02801954 0.0086403  0.99951286 0.00819744 0.00501928]\n",
      " [0.00363187 0.00669745 0.00733669 0.00464571 0.01305534 0.99984804]]\n"
     ]
    }
   ],
   "source": [
    "print(abs(my_pca.components_))"
   ]
  },
  {
   "cell_type": "code",
   "execution_count": 56,
   "metadata": {
    "scrolled": true
   },
   "outputs": [
    {
     "name": "stdout",
     "output_type": "stream",
     "text": [
      "[0.99114409 0.00539906]\n"
     ]
    }
   ],
   "source": [
    "print(my_pca.explained_variance_ratio_)"
   ]
  },
  {
   "cell_type": "code",
   "execution_count": 57,
   "metadata": {},
   "outputs": [
    {
     "name": "stdout",
     "output_type": "stream",
     "text": [
      "[0.99114409 0.00539906 0.00181405]\n"
     ]
    }
   ],
   "source": [
    "print(my_pca2.explained_variance_ratio_)"
   ]
  },
  {
   "cell_type": "code",
   "execution_count": 58,
   "metadata": {},
   "outputs": [
    {
     "data": {
      "text/plain": [
       "Text(0, 0.5, 'pca d 2')"
      ]
     },
     "execution_count": 58,
     "metadata": {},
     "output_type": "execute_result"
    },
    {
     "data": {
      "image/png": "[encoded data removed]",
      "text/plain": [
       "<Figure size 576x576 with 1 Axes>"
      ]
     },
     "metadata": {
      "needs_background": "light"
     },
     "output_type": "display_data"
    }
   ],
   "source": [
    "#Ploting the difference in groups determined by PCA. Not a lot of separation\n",
    "plt.figure(figsize=(8,8))\n",
    "plt.scatter(X_PCA[:,0], X_PCA[:,1],c=fp['Response'])\n",
    "plt.xlabel('pca d 1')\n",
    "plt.ylabel('pca d 2')"
   ]
  },
  {
   "cell_type": "code",
   "execution_count": 46,
   "metadata": {},
   "outputs": [
    {
     "data": {
      "text/plain": [
       "(381109, 2)"
      ]
     },
     "execution_count": 46,
     "metadata": {},
     "output_type": "execute_result"
    }
   ],
   "source": [
    "X_PCA.shape"
   ]
  },
  {
   "cell_type": "markdown",
   "metadata": {},
   "source": [
    "I used PCA as a follow up to K-means in order to see if I could improve the accuracy of my unsupervised learning. However, both the use of K-means and PCA is flawed as I have already done pre-selection of the variables to include in my model. Using logistic regression makes more sense."
   ]
  },
  {
   "cell_type": "code",
   "execution_count": 59,
   "metadata": {},
   "outputs": [],
   "source": [
    "from sklearn.linear_model import LogisticRegression\n"
   ]
  },
  {
   "cell_type": "code",
   "execution_count": 60,
   "metadata": {},
   "outputs": [],
   "source": [
    "logreg = LogisticRegression()"
   ]
  },
  {
   "cell_type": "code",
   "execution_count": 64,
   "metadata": {},
   "outputs": [],
   "source": [
    "from sklearn.model_selection import train_test_split\n"
   ]
  },
  {
   "cell_type": "code",
   "execution_count": 73,
   "metadata": {},
   "outputs": [],
   "source": [
    "from sklearn.metrics import f1_score\n",
    "#A way of checking a model's performance. 0 is bad, 1 is max."
   ]
  },
  {
   "cell_type": "code",
   "execution_count": 76,
   "metadata": {
    "scrolled": false
   },
   "outputs": [
    {
     "data": {
      "text/plain": [
       "0    334399\n",
       "1     46710\n",
       "Name: Response, dtype: int64"
      ]
     },
     "execution_count": 76,
     "metadata": {},
     "output_type": "execute_result"
    }
   ],
   "source": [
    "fp['Response'].value_counts()\n"
   ]
  },
  {
   "cell_type": "code",
   "execution_count": 77,
   "metadata": {},
   "outputs": [
    {
     "data": {
      "text/plain": [
       "0.13968343206767964"
      ]
     },
     "execution_count": 77,
     "metadata": {},
     "output_type": "execute_result"
    }
   ],
   "source": [
    "46710 / 334399 #Checking the ratio of success/fails in the dataset. This will be important for when we do weighting"
   ]
  },
  {
   "cell_type": "code",
   "execution_count": 82,
   "metadata": {},
   "outputs": [],
   "source": [
    " from sklearn.metrics import confusion_matrix as cs"
   ]
  },
  {
   "cell_type": "code",
   "execution_count": 89,
   "metadata": {},
   "outputs": [],
   "source": [
    "from sklearn.metrics import roc_auc_score\n",
    "from sklearn.metrics import r2_score\n",
    "from sklearn.metrics import mean_squared_error as mse\n",
    "import tensorflow.keras.backend as K\n",
    "from keras.optimizers import SGD\n",
    "\n",
    "import tensorflow as tf\n",
    "#Here we try Keras"
   ]
  },
  {
   "cell_type": "code",
   "execution_count": 90,
   "metadata": {},
   "outputs": [],
   "source": [
    "from keras.layers import Dropout        \n",
    "from tensorflow.keras.utils import to_categorical\n"
   ]
  },
  {
   "cell_type": "code",
   "execution_count": 91,
   "metadata": {},
   "outputs": [],
   "source": [
    "#Using stack overflow we find a method of fixing the performance of the model through each epoch\n",
    "def recall_score(y_true, y_pred):\n",
    "    true_positives = K.sum(K.round(K.clip(y_true * y_pred, 0, 1)))\n",
    "    possible_positives = K.sum(K.round(K.clip(y_true, 0, 1)))\n",
    "    recall = true_positives / (possible_positives + K.epsilon())\n",
    "    #true_positives and possible_positives seem to be misnamed\n",
    "    return recall\n",
    "#Sum up the rounded 'clipped' value of y_true multiplied by y_pred, where y_true and y_pred are bounded between 0 and 1\n",
    "# Because this is log regression, clipping should be redundant as all values are 0 or 1 and any misentered responses should be\n",
    "#removed during data cleaning\n",
    "#Recall is 1 when there are no false negatives, lower when there are\n",
    "\n",
    "def precision_score(y_true, y_pred):\n",
    "    true_positives = K.sum(K.round(K.clip(y_true * y_pred, 0, 1)))\n",
    "    predicted_positives = K.sum(K.round(K.clip(y_pred, 0, 1)))\n",
    "    precision = true_positives / (predicted_positives + K.epsilon())\n",
    "    return precision\n",
    "#Precision is 1 when predicted = true positives\n",
    "#however unlike recall, precision is looking at how accurately the model predicted positives. It gets lower when there\n",
    "#are false positives, not false negatives\n",
    "def keras_f1_score(y_true, y_pred):\n",
    "    precision = precision_score(y_true, y_pred)\n",
    "    recall = recall_score(y_true, y_pred)\n",
    "    return 2*((precision*recall)/(precision+recall+K.epsilon()))"
   ]
  },
  {
   "cell_type": "code",
   "execution_count": 98,
   "metadata": {},
   "outputs": [],
   "source": [
    "def create_model():\n",
    "    model = tf.keras.Sequential([\n",
    "        tf.keras.layers.Input(6),\n",
    "        tf.keras.layers.BatchNormalization(),\n",
    "        tf.keras.layers.Dense(30, activation=\"relu\"),\n",
    "        tf.keras.layers.BatchNormalization(),\n",
    "        tf.keras.layers.Dropout(0.3),\n",
    "        tf.keras.layers.Dense(2, activation='softmax')\n",
    "    ])\n",
    "    model.compile(\n",
    "        loss=tf.keras.losses.binary_crossentropy, \n",
    "        optimizer=tf.keras.optimizers.Adam(learning_rate=0.001),\n",
    "        metrics=[keras_f1_score]\n",
    "    )\n",
    "    return model"
   ]
  },
  {
   "cell_type": "code",
   "execution_count": 99,
   "metadata": {},
   "outputs": [],
   "source": [
    "XK = fp[features_to_include]\n",
    "y = fp['Response']"
   ]
  },
  {
   "cell_type": "code",
   "execution_count": 94,
   "metadata": {},
   "outputs": [],
   "source": [
    "XK_train, XK_test, yk_train, yk_test = train_test_split(XK, y, test_size=0.2,)"
   ]
  },
  {
   "cell_type": "code",
   "execution_count": 95,
   "metadata": {},
   "outputs": [],
   "source": [
    "y_nn_train = to_categorical(yk_train)"
   ]
  },
  {
   "cell_type": "code",
   "execution_count": 104,
   "metadata": {},
   "outputs": [],
   "source": [
    "class_weight2 = {\n",
    "    0: 1.,\n",
    "    1: 7.\n",
    "}\n",
    "T#he proportions are close to 7:1, so lets make a  model with this weight"
   ]
  },
  {
   "cell_type": "code",
   "execution_count": 105,
   "metadata": {
    "scrolled": true
   },
   "outputs": [
    {
     "name": "stdout",
     "output_type": "stream",
     "text": [
      "Epoch 1/35\n",
      "953/953 - 1s - loss: 0.8826 - keras_f1_score: 0.6698 - val_loss: 0.4777 - val_keras_f1_score: 0.6673\n",
      "Epoch 2/35\n",
      "953/953 - 1s - loss: 0.7732 - keras_f1_score: 0.6784 - val_loss: 0.4675 - val_keras_f1_score: 0.6823\n",
      "Epoch 3/35\n",
      "953/953 - 1s - loss: 0.7661 - keras_f1_score: 0.6804 - val_loss: 0.4566 - val_keras_f1_score: 0.6894\n",
      "Epoch 4/35\n",
      "953/953 - 1s - loss: 0.7625 - keras_f1_score: 0.6833 - val_loss: 0.4745 - val_keras_f1_score: 0.6781\n",
      "Epoch 5/35\n",
      "953/953 - 1s - loss: 0.7611 - keras_f1_score: 0.6854 - val_loss: 0.4762 - val_keras_f1_score: 0.6822\n",
      "Epoch 6/35\n",
      "953/953 - 1s - loss: 0.7602 - keras_f1_score: 0.6857 - val_loss: 0.4695 - val_keras_f1_score: 0.6873\n",
      "Epoch 7/35\n",
      "953/953 - 1s - loss: 0.7588 - keras_f1_score: 0.6855 - val_loss: 0.4698 - val_keras_f1_score: 0.6937\n",
      "Epoch 8/35\n",
      "953/953 - 1s - loss: 0.7573 - keras_f1_score: 0.6863 - val_loss: 0.4788 - val_keras_f1_score: 0.6882\n",
      "Epoch 9/35\n",
      "953/953 - 1s - loss: 0.7579 - keras_f1_score: 0.6859 - val_loss: 0.4844 - val_keras_f1_score: 0.6864\n",
      "Epoch 10/35\n",
      "953/953 - 1s - loss: 0.7566 - keras_f1_score: 0.6863 - val_loss: 0.4792 - val_keras_f1_score: 0.6885\n",
      "Epoch 11/35\n",
      "953/953 - 1s - loss: 0.7555 - keras_f1_score: 0.6873 - val_loss: 0.4639 - val_keras_f1_score: 0.6964\n",
      "Epoch 12/35\n",
      "953/953 - 1s - loss: 0.7560 - keras_f1_score: 0.6868 - val_loss: 0.4700 - val_keras_f1_score: 0.6906\n",
      "Epoch 13/35\n",
      "953/953 - 1s - loss: 0.7557 - keras_f1_score: 0.6882 - val_loss: 0.4560 - val_keras_f1_score: 0.6970\n",
      "Epoch 14/35\n",
      "953/953 - 1s - loss: 0.7554 - keras_f1_score: 0.6888 - val_loss: 0.4740 - val_keras_f1_score: 0.6950\n",
      "Epoch 15/35\n",
      "953/953 - 1s - loss: 0.7560 - keras_f1_score: 0.6876 - val_loss: 0.4701 - val_keras_f1_score: 0.6807\n",
      "Epoch 16/35\n",
      "953/953 - 1s - loss: 0.7545 - keras_f1_score: 0.6878 - val_loss: 0.4640 - val_keras_f1_score: 0.7028\n",
      "Epoch 17/35\n",
      "953/953 - 1s - loss: 0.7542 - keras_f1_score: 0.6886 - val_loss: 0.4693 - val_keras_f1_score: 0.6834\n",
      "Epoch 18/35\n",
      "953/953 - 1s - loss: 0.7552 - keras_f1_score: 0.6874 - val_loss: 0.4622 - val_keras_f1_score: 0.6903\n",
      "Epoch 19/35\n",
      "953/953 - 1s - loss: 0.7543 - keras_f1_score: 0.6876 - val_loss: 0.4766 - val_keras_f1_score: 0.6832\n",
      "Epoch 20/35\n",
      "953/953 - 1s - loss: 0.7539 - keras_f1_score: 0.6877 - val_loss: 0.4819 - val_keras_f1_score: 0.6878\n",
      "Epoch 21/35\n",
      "953/953 - 1s - loss: 0.7546 - keras_f1_score: 0.6875 - val_loss: 0.4627 - val_keras_f1_score: 0.6931\n",
      "Epoch 22/35\n",
      "953/953 - 1s - loss: 0.7547 - keras_f1_score: 0.6870 - val_loss: 0.4690 - val_keras_f1_score: 0.6988\n",
      "Epoch 23/35\n",
      "953/953 - 1s - loss: 0.7545 - keras_f1_score: 0.6863 - val_loss: 0.4757 - val_keras_f1_score: 0.6927\n",
      "Epoch 24/35\n",
      "953/953 - 1s - loss: 0.7545 - keras_f1_score: 0.6872 - val_loss: 0.4685 - val_keras_f1_score: 0.6996\n",
      "Epoch 25/35\n",
      "953/953 - 1s - loss: 0.7543 - keras_f1_score: 0.6878 - val_loss: 0.4723 - val_keras_f1_score: 0.6926\n",
      "Epoch 26/35\n",
      "953/953 - 1s - loss: 0.7538 - keras_f1_score: 0.6878 - val_loss: 0.4769 - val_keras_f1_score: 0.6793\n",
      "Epoch 27/35\n",
      "953/953 - 1s - loss: 0.7540 - keras_f1_score: 0.6886 - val_loss: 0.4699 - val_keras_f1_score: 0.6905\n",
      "Epoch 28/35\n",
      "953/953 - 1s - loss: 0.7536 - keras_f1_score: 0.6879 - val_loss: 0.4779 - val_keras_f1_score: 0.6835\n",
      "Epoch 29/35\n",
      "953/953 - 1s - loss: 0.7545 - keras_f1_score: 0.6869 - val_loss: 0.4583 - val_keras_f1_score: 0.6997\n",
      "Epoch 30/35\n",
      "953/953 - 1s - loss: 0.7539 - keras_f1_score: 0.6874 - val_loss: 0.4733 - val_keras_f1_score: 0.6961\n",
      "Epoch 31/35\n",
      "953/953 - 1s - loss: 0.7542 - keras_f1_score: 0.6875 - val_loss: 0.4767 - val_keras_f1_score: 0.6956\n",
      "Epoch 32/35\n",
      "953/953 - 1s - loss: 0.7532 - keras_f1_score: 0.6872 - val_loss: 0.4725 - val_keras_f1_score: 0.6980\n",
      "Epoch 33/35\n",
      "953/953 - 1s - loss: 0.7541 - keras_f1_score: 0.6872 - val_loss: 0.4663 - val_keras_f1_score: 0.6889\n",
      "Epoch 34/35\n",
      "953/953 - 1s - loss: 0.7538 - keras_f1_score: 0.6868 - val_loss: 0.4657 - val_keras_f1_score: 0.6977\n",
      "Epoch 35/35\n",
      "953/953 - 1s - loss: 0.7533 - keras_f1_score: 0.6881 - val_loss: 0.4735 - val_keras_f1_score: 0.6908\n"
     ]
    },
    {
     "data": {
      "text/plain": [
       "<tensorflow.python.keras.callbacks.History at 0x2b9f31fa130>"
      ]
     },
     "execution_count": 105,
     "metadata": {},
     "output_type": "execute_result"
    }
   ],
   "source": [
    "model2 = create_model()\n",
    "model2.fit(XK_train, y_nn_train, validation_split=0.2, epochs=35, batch_size=256, verbose=2, class_weight=class_weight2)"
   ]
  },
  {
   "cell_type": "code",
   "execution_count": 106,
   "metadata": {},
   "outputs": [],
   "source": [
    "predsk2 = model2.predict(XK_test)\n",
    "predsk2 = np.argmax(predsk2, axis=1)"
   ]
  },
  {
   "cell_type": "code",
   "execution_count": 107,
   "metadata": {},
   "outputs": [
    {
     "name": "stdout",
     "output_type": "stream",
     "text": [
      "0.6881740180000525\n",
      "0.4215061091369323\n",
      "0.7916211136635525\n"
     ]
    }
   ],
   "source": [
    "print(accuracy_score(predsk2, yk_test))\n",
    "print(f1_score(yk_test, predsk2))\n",
    "print(roc_auc_score(yk_test, predsk2))"
   ]
  },
  {
   "cell_type": "code",
   "execution_count": 108,
   "metadata": {},
   "outputs": [
    {
     "data": {
      "text/plain": [
       "array([[43795, 23102],\n",
       "       [  666,  8659]], dtype=int64)"
      ]
     },
     "execution_count": 108,
     "metadata": {},
     "output_type": "execute_result"
    }
   ],
   "source": [
    "cs(yk_test, predsk2, )"
   ]
  },
  {
   "cell_type": "markdown",
   "metadata": {},
   "source": [
    "With the use of Keras, I have improved the performance of my model through iterative optimizing of the f-1 score"
   ]
  },
  {
   "cell_type": "markdown",
   "metadata": {},
   "source": [
    "I want to return to PCA using Keras and also with a new approach to training the data. Previously, I scaled the data before the train/test split which is incorrect. This time, I will scale the training set after splitting the data. Why should we do this? Transforming the data transforms the domain. If you transform the entire data set, you are causing overfitting as both the train and test data are shifted into the same domain. This will make your model unreliable when ran against new data."
   ]
  },
  {
   "cell_type": "code",
   "execution_count": 109,
   "metadata": {},
   "outputs": [],
   "source": [
    "from statsmodels.api import OLS"
   ]
  },
  {
   "cell_type": "code",
   "execution_count": 110,
   "metadata": {},
   "outputs": [
    {
     "name": "stdout",
     "output_type": "stream",
     "text": [
      "Training Set Accuracy: 87.6288592166934%\n",
      "Testing Set Accuracy: 87.74631996011651%\n"
     ]
    }
   ],
   "source": [
    "X_train, X_test, y_train, y_test = train_test_split(fpnr, y, test_size=0.2,) #Split up training data and test\n",
    "\n",
    "#Code borrowed from Harvard's CS109A Introduction to Data Science\n",
    "#Create and fit PCA object\n",
    "pca = PCA(n_components=3)\n",
    "pca.fit(X_train)\n",
    "\n",
    "#Transforming x_train and x_test \n",
    "X_train_pca = pca.transform(X_train)\n",
    "X_test_pca = pca.transform(X_test)\n",
    "\n",
    "#Add constant to x_train and x_test. this section of the borrowed code is unnecessary\n",
    "X_train_pca_cst = sm.add_constant(X_train_pca)\n",
    "X_test_pca_cst = sm.add_constant(X_test_pca)\n",
    "\n",
    "#Training\n",
    "model = LogisticRegression(C=100000).fit(X_train_pca_cst, y_train)\n",
    "\n",
    "#Predict\n",
    "y_pred_train = model.predict(X_train_pca_cst)\n",
    "y_pred_test = model.predict(X_test_pca_cst)\n",
    "\n",
    "#Perfromance Evaluation\n",
    "train_score = accuracy_score(y_train, y_pred_train)*100\n",
    "test_score = accuracy_score(y_test, y_pred_test)*100\n",
    "\n",
    "print(\"Training Set Accuracy:\",str(train_score)+'%')\n",
    "print(\"Testing Set Accuracy:\",str(test_score)+'%')"
   ]
  },
  {
   "cell_type": "code",
   "execution_count": 111,
   "metadata": {},
   "outputs": [
    {
     "name": "stdout",
     "output_type": "stream",
     "text": [
      "0.018907563025210083\n"
     ]
    }
   ],
   "source": [
    "print(f1_score(y_pred_test, y_test))"
   ]
  },
  {
   "cell_type": "code",
   "execution_count": 112,
   "metadata": {},
   "outputs": [
    {
     "name": "stdout",
     "output_type": "stream",
     "text": [
      "0.5038604932675651\n"
     ]
    }
   ],
   "source": [
    "print(roc_auc_score(y_test, y_pred_test))"
   ]
  },
  {
   "cell_type": "code",
   "execution_count": 113,
   "metadata": {},
   "outputs": [],
   "source": [
    "y_nn_train2 = to_categorical(y_train)"
   ]
  },
  {
   "cell_type": "code",
   "execution_count": 114,
   "metadata": {},
   "outputs": [],
   "source": [
    "def create_model2():\n",
    "    modelo = tf.keras.Sequential([\n",
    "        tf.keras.layers.Input(3),\n",
    "        tf.keras.layers.BatchNormalization(),\n",
    "        tf.keras.layers.Dense(30, activation=\"relu\"),\n",
    "        tf.keras.layers.BatchNormalization(),\n",
    "        tf.keras.layers.Dropout(0.3),\n",
    "        tf.keras.layers.Dense(2, activation='softmax')\n",
    "    ])\n",
    "    modelo.compile(\n",
    "        loss=tf.keras.losses.binary_crossentropy, \n",
    "        optimizer=tf.keras.optimizers.Adam(learning_rate=0.001),\n",
    "        metrics=[keras_f1_score]\n",
    "    )\n",
    "    return modelo"
   ]
  },
  {
   "cell_type": "code",
   "execution_count": 115,
   "metadata": {},
   "outputs": [
    {
     "name": "stdout",
     "output_type": "stream",
     "text": [
      "Epoch 1/35\n",
      "953/953 - 1s - loss: 0.9065 - keras_f1_score: 0.6780 - val_loss: 0.4912 - val_keras_f1_score: 0.6858\n",
      "Epoch 2/35\n",
      "953/953 - 1s - loss: 0.7786 - keras_f1_score: 0.6853 - val_loss: 0.4769 - val_keras_f1_score: 0.6943\n",
      "Epoch 3/35\n",
      "953/953 - 1s - loss: 0.7704 - keras_f1_score: 0.6849 - val_loss: 0.4789 - val_keras_f1_score: 0.6806\n",
      "Epoch 4/35\n",
      "953/953 - 1s - loss: 0.7672 - keras_f1_score: 0.6862 - val_loss: 0.4631 - val_keras_f1_score: 0.6928\n",
      "Epoch 5/35\n",
      "953/953 - 1s - loss: 0.7664 - keras_f1_score: 0.6863 - val_loss: 0.4833 - val_keras_f1_score: 0.6836\n",
      "Epoch 6/35\n",
      "953/953 - 1s - loss: 0.7647 - keras_f1_score: 0.6859 - val_loss: 0.4824 - val_keras_f1_score: 0.6860\n",
      "Epoch 7/35\n",
      "953/953 - 1s - loss: 0.7645 - keras_f1_score: 0.6860 - val_loss: 0.4892 - val_keras_f1_score: 0.6861\n",
      "Epoch 8/35\n",
      "953/953 - 1s - loss: 0.7662 - keras_f1_score: 0.6850 - val_loss: 0.4904 - val_keras_f1_score: 0.6818\n",
      "Epoch 9/35\n",
      "953/953 - 1s - loss: 0.7639 - keras_f1_score: 0.6836 - val_loss: 0.4612 - val_keras_f1_score: 0.7013\n",
      "Epoch 10/35\n",
      "953/953 - 1s - loss: 0.7617 - keras_f1_score: 0.6847 - val_loss: 0.4746 - val_keras_f1_score: 0.6859\n",
      "Epoch 11/35\n",
      "953/953 - 1s - loss: 0.7616 - keras_f1_score: 0.6851 - val_loss: 0.4620 - val_keras_f1_score: 0.6965\n",
      "Epoch 12/35\n",
      "953/953 - 1s - loss: 0.7619 - keras_f1_score: 0.6843 - val_loss: 0.4874 - val_keras_f1_score: 0.6756\n",
      "Epoch 13/35\n",
      "953/953 - 1s - loss: 0.7621 - keras_f1_score: 0.6841 - val_loss: 0.4729 - val_keras_f1_score: 0.6879\n",
      "Epoch 14/35\n",
      "953/953 - 1s - loss: 0.7612 - keras_f1_score: 0.6853 - val_loss: 0.4812 - val_keras_f1_score: 0.6793\n",
      "Epoch 15/35\n",
      "953/953 - 1s - loss: 0.7615 - keras_f1_score: 0.6853 - val_loss: 0.4820 - val_keras_f1_score: 0.6884\n",
      "Epoch 16/35\n",
      "953/953 - 1s - loss: 0.7607 - keras_f1_score: 0.6864 - val_loss: 0.4719 - val_keras_f1_score: 0.6981\n",
      "Epoch 17/35\n",
      "953/953 - 1s - loss: 0.7617 - keras_f1_score: 0.6846 - val_loss: 0.4834 - val_keras_f1_score: 0.6850\n",
      "Epoch 18/35\n",
      "953/953 - 1s - loss: 0.7613 - keras_f1_score: 0.6845 - val_loss: 0.4762 - val_keras_f1_score: 0.6860\n",
      "Epoch 19/35\n",
      "953/953 - 1s - loss: 0.7601 - keras_f1_score: 0.6843 - val_loss: 0.4660 - val_keras_f1_score: 0.6994\n",
      "Epoch 20/35\n",
      "953/953 - 1s - loss: 0.7602 - keras_f1_score: 0.6859 - val_loss: 0.4772 - val_keras_f1_score: 0.6873\n",
      "Epoch 21/35\n",
      "953/953 - 1s - loss: 0.7613 - keras_f1_score: 0.6850 - val_loss: 0.4799 - val_keras_f1_score: 0.6727\n",
      "Epoch 22/35\n",
      "953/953 - 1s - loss: 0.7617 - keras_f1_score: 0.6859 - val_loss: 0.4822 - val_keras_f1_score: 0.6827\n",
      "Epoch 23/35\n",
      "953/953 - 1s - loss: 0.7602 - keras_f1_score: 0.6865 - val_loss: 0.4699 - val_keras_f1_score: 0.7009\n",
      "Epoch 24/35\n",
      "953/953 - 1s - loss: 0.7596 - keras_f1_score: 0.6865 - val_loss: 0.4689 - val_keras_f1_score: 0.6879\n",
      "Epoch 25/35\n",
      "953/953 - 1s - loss: 0.7609 - keras_f1_score: 0.6847 - val_loss: 0.4754 - val_keras_f1_score: 0.6864\n",
      "Epoch 26/35\n",
      "953/953 - 1s - loss: 0.7590 - keras_f1_score: 0.6868 - val_loss: 0.4862 - val_keras_f1_score: 0.6836\n",
      "Epoch 27/35\n",
      "953/953 - 1s - loss: 0.7605 - keras_f1_score: 0.6857 - val_loss: 0.4772 - val_keras_f1_score: 0.6956\n",
      "Epoch 28/35\n",
      "953/953 - 1s - loss: 0.7602 - keras_f1_score: 0.6850 - val_loss: 0.4705 - val_keras_f1_score: 0.6867\n",
      "Epoch 29/35\n",
      "953/953 - 1s - loss: 0.7603 - keras_f1_score: 0.6846 - val_loss: 0.4747 - val_keras_f1_score: 0.6854\n",
      "Epoch 30/35\n",
      "953/953 - 1s - loss: 0.7602 - keras_f1_score: 0.6846 - val_loss: 0.4730 - val_keras_f1_score: 0.6928\n",
      "Epoch 31/35\n",
      "953/953 - 1s - loss: 0.7600 - keras_f1_score: 0.6859 - val_loss: 0.4781 - val_keras_f1_score: 0.6876\n",
      "Epoch 32/35\n",
      "953/953 - 1s - loss: 0.7604 - keras_f1_score: 0.6846 - val_loss: 0.4631 - val_keras_f1_score: 0.6914\n",
      "Epoch 33/35\n",
      "953/953 - 1s - loss: 0.7602 - keras_f1_score: 0.6848 - val_loss: 0.4742 - val_keras_f1_score: 0.6882\n",
      "Epoch 34/35\n",
      "953/953 - 1s - loss: 0.7595 - keras_f1_score: 0.6845 - val_loss: 0.4649 - val_keras_f1_score: 0.6899\n",
      "Epoch 35/35\n",
      "953/953 - 1s - loss: 0.7597 - keras_f1_score: 0.6842 - val_loss: 0.4676 - val_keras_f1_score: 0.6870\n"
     ]
    },
    {
     "data": {
      "text/plain": [
       "<tensorflow.python.keras.callbacks.History at 0x2b9802f8a00>"
      ]
     },
     "execution_count": 115,
     "metadata": {},
     "output_type": "execute_result"
    }
   ],
   "source": [
    "modelpca = create_model2()\n",
    "modelpca.fit(X_train_pca, y_nn_train2, validation_split=0.2, epochs=35, batch_size=256, verbose=2, class_weight=class_weight2)"
   ]
  },
  {
   "cell_type": "code",
   "execution_count": 116,
   "metadata": {},
   "outputs": [],
   "source": [
    "predspca = modelpca.predict(X_test_pca)\n",
    "predspca= np.argmax(predspca, axis=1)"
   ]
  },
  {
   "cell_type": "code",
   "execution_count": 117,
   "metadata": {},
   "outputs": [
    {
     "name": "stdout",
     "output_type": "stream",
     "text": [
      "0.6842775051822308\n",
      "0.4185091216624381\n",
      "0.790619426569171\n"
     ]
    }
   ],
   "source": [
    "print(accuracy_score(predspca, y_test))\n",
    "print(f1_score(y_test, predspca))\n",
    "print(roc_auc_score(y_test, predspca))\n",
    "#Wow, outperforms the normal logistic model!\n",
    "#However, keep in mind that we are using more features in this model so it is only natural for 'better' results\n",
    "#12/08/2020 no longer outperforms normal log model after changes to scaling"
   ]
  },
  {
   "cell_type": "markdown",
   "metadata": {},
   "source": [
    "Now I am going to scale the data and see if there is a difference in performance"
   ]
  },
  {
   "cell_type": "code",
   "execution_count": 118,
   "metadata": {},
   "outputs": [],
   "source": [
    "X2_train, X2_test, y2_train, y2_test = train_test_split(fpnr, y, test_size=0.2, )"
   ]
  },
  {
   "cell_type": "code",
   "execution_count": 119,
   "metadata": {},
   "outputs": [],
   "source": [
    "scaler = StandardScaler()\n",
    "scaler.fit(X2_train)\n",
    "XS = scaler.transform(X2_train)\n"
   ]
  },
  {
   "cell_type": "code",
   "execution_count": 120,
   "metadata": {},
   "outputs": [],
   "source": [
    "scaler.fit(X2_test)\n",
    "XST = scaler.transform(X2_test)\n"
   ]
  },
  {
   "cell_type": "code",
   "execution_count": 121,
   "metadata": {},
   "outputs": [],
   "source": [
    "def create_model3():\n",
    "    model3 = tf.keras.Sequential([\n",
    "        tf.keras.layers.Input(3),\n",
    "        tf.keras.layers.BatchNormalization(),\n",
    "        tf.keras.layers.Dense(30, activation=\"relu\"),\n",
    "        tf.keras.layers.BatchNormalization(),\n",
    "        tf.keras.layers.Dropout(0.3),\n",
    "        tf.keras.layers.Dense(2, activation='softmax')\n",
    "    ])\n",
    "    model3.compile(\n",
    "        loss=tf.keras.losses.binary_crossentropy, \n",
    "        optimizer=tf.keras.optimizers.Adam(learning_rate=0.001),\n",
    "        metrics=[keras_f1_score]\n",
    "    )\n",
    "    return model3"
   ]
  },
  {
   "cell_type": "code",
   "execution_count": 122,
   "metadata": {},
   "outputs": [],
   "source": [
    "pca2 = PCA(n_components=3)\n",
    "pca2.fit(XS)\n",
    "\n",
    "#Transforming x_train and x_test \n",
    "XS_train_pca = pca2.transform(XS)\n",
    "XS_test_pca = pca2.transform(XST)"
   ]
  },
  {
   "cell_type": "code",
   "execution_count": 123,
   "metadata": {},
   "outputs": [],
   "source": [
    "y_nn_train3 = to_categorical(y2_train)"
   ]
  },
  {
   "cell_type": "code",
   "execution_count": 124,
   "metadata": {
    "scrolled": true
   },
   "outputs": [
    {
     "name": "stdout",
     "output_type": "stream",
     "text": [
      "Epoch 1/35\n",
      "953/953 - 1s - loss: 0.8691 - keras_f1_score: 0.6684 - val_loss: 0.5191 - val_keras_f1_score: 0.6499\n",
      "Epoch 2/35\n",
      "953/953 - 1s - loss: 0.7906 - keras_f1_score: 0.6672 - val_loss: 0.4668 - val_keras_f1_score: 0.6832\n",
      "Epoch 3/35\n",
      "953/953 - 1s - loss: 0.7857 - keras_f1_score: 0.6668 - val_loss: 0.4820 - val_keras_f1_score: 0.6653\n",
      "Epoch 4/35\n",
      "953/953 - 1s - loss: 0.7833 - keras_f1_score: 0.6670 - val_loss: 0.4927 - val_keras_f1_score: 0.6787\n",
      "Epoch 5/35\n",
      "953/953 - 1s - loss: 0.7829 - keras_f1_score: 0.6664 - val_loss: 0.4937 - val_keras_f1_score: 0.6668\n",
      "Epoch 6/35\n",
      "953/953 - 1s - loss: 0.7808 - keras_f1_score: 0.6670 - val_loss: 0.4716 - val_keras_f1_score: 0.6647\n",
      "Epoch 7/35\n",
      "953/953 - 1s - loss: 0.7809 - keras_f1_score: 0.6656 - val_loss: 0.4905 - val_keras_f1_score: 0.6721\n",
      "Epoch 8/35\n",
      "953/953 - 1s - loss: 0.7807 - keras_f1_score: 0.6656 - val_loss: 0.4742 - val_keras_f1_score: 0.6797\n",
      "Epoch 9/35\n",
      "953/953 - 1s - loss: 0.7799 - keras_f1_score: 0.6668 - val_loss: 0.4925 - val_keras_f1_score: 0.6596\n",
      "Epoch 10/35\n",
      "953/953 - 1s - loss: 0.7791 - keras_f1_score: 0.6663 - val_loss: 0.4931 - val_keras_f1_score: 0.6735\n",
      "Epoch 11/35\n",
      "953/953 - 1s - loss: 0.7796 - keras_f1_score: 0.6675 - val_loss: 0.4969 - val_keras_f1_score: 0.6578\n",
      "Epoch 12/35\n",
      "953/953 - 1s - loss: 0.7788 - keras_f1_score: 0.6662 - val_loss: 0.4725 - val_keras_f1_score: 0.6830\n",
      "Epoch 13/35\n",
      "953/953 - 1s - loss: 0.7786 - keras_f1_score: 0.6674 - val_loss: 0.4836 - val_keras_f1_score: 0.6735\n",
      "Epoch 14/35\n",
      "953/953 - 1s - loss: 0.7781 - keras_f1_score: 0.6674 - val_loss: 0.4764 - val_keras_f1_score: 0.6661\n",
      "Epoch 15/35\n",
      "953/953 - 1s - loss: 0.7786 - keras_f1_score: 0.6674 - val_loss: 0.4862 - val_keras_f1_score: 0.6584\n",
      "Epoch 16/35\n",
      "953/953 - 1s - loss: 0.7786 - keras_f1_score: 0.6656 - val_loss: 0.4836 - val_keras_f1_score: 0.6803\n",
      "Epoch 17/35\n",
      "953/953 - 1s - loss: 0.7782 - keras_f1_score: 0.6667 - val_loss: 0.4788 - val_keras_f1_score: 0.6807\n",
      "Epoch 18/35\n",
      "953/953 - 1s - loss: 0.7771 - keras_f1_score: 0.6666 - val_loss: 0.4828 - val_keras_f1_score: 0.6759\n",
      "Epoch 19/35\n",
      "953/953 - 1s - loss: 0.7777 - keras_f1_score: 0.6660 - val_loss: 0.4939 - val_keras_f1_score: 0.6609\n",
      "Epoch 20/35\n",
      "953/953 - 1s - loss: 0.7777 - keras_f1_score: 0.6666 - val_loss: 0.4799 - val_keras_f1_score: 0.6540\n",
      "Epoch 21/35\n",
      "953/953 - 1s - loss: 0.7766 - keras_f1_score: 0.6660 - val_loss: 0.4973 - val_keras_f1_score: 0.6777\n",
      "Epoch 22/35\n",
      "953/953 - 1s - loss: 0.7778 - keras_f1_score: 0.6675 - val_loss: 0.4927 - val_keras_f1_score: 0.6641\n",
      "Epoch 23/35\n",
      "953/953 - 1s - loss: 0.7768 - keras_f1_score: 0.6667 - val_loss: 0.4891 - val_keras_f1_score: 0.6661\n",
      "Epoch 24/35\n",
      "953/953 - 1s - loss: 0.7783 - keras_f1_score: 0.6650 - val_loss: 0.4792 - val_keras_f1_score: 0.6757\n",
      "Epoch 25/35\n",
      "953/953 - 1s - loss: 0.7773 - keras_f1_score: 0.6659 - val_loss: 0.4753 - val_keras_f1_score: 0.6765\n",
      "Epoch 26/35\n",
      "953/953 - 1s - loss: 0.7765 - keras_f1_score: 0.6665 - val_loss: 0.4780 - val_keras_f1_score: 0.6785\n",
      "Epoch 27/35\n",
      "953/953 - 1s - loss: 0.7772 - keras_f1_score: 0.6657 - val_loss: 0.4938 - val_keras_f1_score: 0.6743\n",
      "Epoch 28/35\n",
      "953/953 - 1s - loss: 0.7758 - keras_f1_score: 0.6657 - val_loss: 0.4980 - val_keras_f1_score: 0.6567\n",
      "Epoch 29/35\n",
      "953/953 - 1s - loss: 0.7765 - keras_f1_score: 0.6650 - val_loss: 0.4819 - val_keras_f1_score: 0.6764\n",
      "Epoch 30/35\n",
      "953/953 - 1s - loss: 0.7764 - keras_f1_score: 0.6667 - val_loss: 0.4876 - val_keras_f1_score: 0.6602\n",
      "Epoch 31/35\n",
      "953/953 - 1s - loss: 0.7770 - keras_f1_score: 0.6656 - val_loss: 0.4791 - val_keras_f1_score: 0.6601\n",
      "Epoch 32/35\n",
      "953/953 - 1s - loss: 0.7756 - keras_f1_score: 0.6670 - val_loss: 0.4855 - val_keras_f1_score: 0.6723\n",
      "Epoch 33/35\n",
      "953/953 - 1s - loss: 0.7759 - keras_f1_score: 0.6658 - val_loss: 0.4914 - val_keras_f1_score: 0.6594\n",
      "Epoch 34/35\n",
      "953/953 - 1s - loss: 0.7765 - keras_f1_score: 0.6666 - val_loss: 0.5086 - val_keras_f1_score: 0.6590\n",
      "Epoch 35/35\n",
      "953/953 - 1s - loss: 0.7760 - keras_f1_score: 0.6666 - val_loss: 0.4858 - val_keras_f1_score: 0.6733\n"
     ]
    },
    {
     "data": {
      "text/plain": [
       "<tensorflow.python.keras.callbacks.History at 0x2b983c01a00>"
      ]
     },
     "execution_count": 124,
     "metadata": {},
     "output_type": "execute_result"
    }
   ],
   "source": [
    "modelpca = create_model3()\n",
    "modelpca.fit(XS_train_pca, y_nn_train3, validation_split=0.2, epochs=35, batch_size=256, verbose=2, class_weight=class_weight2)"
   ]
  },
  {
   "cell_type": "code",
   "execution_count": 125,
   "metadata": {},
   "outputs": [],
   "source": [
    "predspca2 = modelpca.predict(XS_test_pca)\n",
    "predspca2 = np.argmax(predspca2,axis = 1 )"
   ]
  },
  {
   "cell_type": "code",
   "execution_count": 126,
   "metadata": {},
   "outputs": [
    {
     "name": "stdout",
     "output_type": "stream",
     "text": [
      "0.6729290755949726\n",
      "0.41621393780442106\n",
      "0.7900565067670859\n"
     ]
    }
   ],
   "source": [
    "print(accuracy_score(predspca2, y2_test))\n",
    "print(f1_score(y2_test, predspca2))\n",
    "print(roc_auc_score(y2_test, predspca2))\n",
    "#Actually we see a slight performance decrease"
   ]
  },
  {
   "cell_type": "code",
   "execution_count": 102,
   "metadata": {
    "scrolled": true
   },
   "outputs": [
    {
     "data": {
      "text/html": [
       "<div>\n",
       "<style scoped>\n",
       "    .dataframe tbody tr th:only-of-type {\n",
       "        vertical-align: middle;\n",
       "    }\n",
       "\n",
       "    .dataframe tbody tr th {\n",
       "        vertical-align: top;\n",
       "    }\n",
       "\n",
       "    .dataframe thead th {\n",
       "        text-align: right;\n",
       "    }\n",
       "</style>\n",
       "<table border=\"1\" class=\"dataframe\">\n",
       "  <thead>\n",
       "    <tr style=\"text-align: right;\">\n",
       "      <th></th>\n",
       "      <th>Gender</th>\n",
       "      <th>Age</th>\n",
       "      <th>Driving_License</th>\n",
       "      <th>Region_Code</th>\n",
       "      <th>Previously_Insured</th>\n",
       "      <th>Vehicle_Age</th>\n",
       "      <th>Vehicle_Damage</th>\n",
       "      <th>Annual_Premium</th>\n",
       "      <th>Policy_Sales_Channel</th>\n",
       "    </tr>\n",
       "  </thead>\n",
       "  <tbody>\n",
       "    <tr>\n",
       "      <th>0</th>\n",
       "      <td>0</td>\n",
       "      <td>44</td>\n",
       "      <td>1</td>\n",
       "      <td>28.0</td>\n",
       "      <td>0</td>\n",
       "      <td>2</td>\n",
       "      <td>0</td>\n",
       "      <td>40454.0</td>\n",
       "      <td>26.0</td>\n",
       "    </tr>\n",
       "    <tr>\n",
       "      <th>1</th>\n",
       "      <td>0</td>\n",
       "      <td>76</td>\n",
       "      <td>1</td>\n",
       "      <td>3.0</td>\n",
       "      <td>0</td>\n",
       "      <td>1</td>\n",
       "      <td>1</td>\n",
       "      <td>33536.0</td>\n",
       "      <td>26.0</td>\n",
       "    </tr>\n",
       "    <tr>\n",
       "      <th>2</th>\n",
       "      <td>0</td>\n",
       "      <td>47</td>\n",
       "      <td>1</td>\n",
       "      <td>28.0</td>\n",
       "      <td>0</td>\n",
       "      <td>2</td>\n",
       "      <td>0</td>\n",
       "      <td>38294.0</td>\n",
       "      <td>26.0</td>\n",
       "    </tr>\n",
       "    <tr>\n",
       "      <th>3</th>\n",
       "      <td>0</td>\n",
       "      <td>21</td>\n",
       "      <td>1</td>\n",
       "      <td>11.0</td>\n",
       "      <td>1</td>\n",
       "      <td>0</td>\n",
       "      <td>1</td>\n",
       "      <td>28619.0</td>\n",
       "      <td>152.0</td>\n",
       "    </tr>\n",
       "    <tr>\n",
       "      <th>4</th>\n",
       "      <td>1</td>\n",
       "      <td>29</td>\n",
       "      <td>1</td>\n",
       "      <td>41.0</td>\n",
       "      <td>1</td>\n",
       "      <td>0</td>\n",
       "      <td>1</td>\n",
       "      <td>27496.0</td>\n",
       "      <td>152.0</td>\n",
       "    </tr>\n",
       "    <tr>\n",
       "      <th>...</th>\n",
       "      <td>...</td>\n",
       "      <td>...</td>\n",
       "      <td>...</td>\n",
       "      <td>...</td>\n",
       "      <td>...</td>\n",
       "      <td>...</td>\n",
       "      <td>...</td>\n",
       "      <td>...</td>\n",
       "      <td>...</td>\n",
       "    </tr>\n",
       "    <tr>\n",
       "      <th>381104</th>\n",
       "      <td>0</td>\n",
       "      <td>74</td>\n",
       "      <td>1</td>\n",
       "      <td>26.0</td>\n",
       "      <td>1</td>\n",
       "      <td>1</td>\n",
       "      <td>1</td>\n",
       "      <td>30170.0</td>\n",
       "      <td>26.0</td>\n",
       "    </tr>\n",
       "    <tr>\n",
       "      <th>381105</th>\n",
       "      <td>0</td>\n",
       "      <td>30</td>\n",
       "      <td>1</td>\n",
       "      <td>37.0</td>\n",
       "      <td>1</td>\n",
       "      <td>0</td>\n",
       "      <td>1</td>\n",
       "      <td>40016.0</td>\n",
       "      <td>152.0</td>\n",
       "    </tr>\n",
       "    <tr>\n",
       "      <th>381106</th>\n",
       "      <td>0</td>\n",
       "      <td>21</td>\n",
       "      <td>1</td>\n",
       "      <td>30.0</td>\n",
       "      <td>1</td>\n",
       "      <td>0</td>\n",
       "      <td>1</td>\n",
       "      <td>35118.0</td>\n",
       "      <td>160.0</td>\n",
       "    </tr>\n",
       "    <tr>\n",
       "      <th>381107</th>\n",
       "      <td>1</td>\n",
       "      <td>68</td>\n",
       "      <td>1</td>\n",
       "      <td>14.0</td>\n",
       "      <td>0</td>\n",
       "      <td>2</td>\n",
       "      <td>0</td>\n",
       "      <td>44617.0</td>\n",
       "      <td>124.0</td>\n",
       "    </tr>\n",
       "    <tr>\n",
       "      <th>381108</th>\n",
       "      <td>0</td>\n",
       "      <td>46</td>\n",
       "      <td>1</td>\n",
       "      <td>29.0</td>\n",
       "      <td>0</td>\n",
       "      <td>1</td>\n",
       "      <td>1</td>\n",
       "      <td>41777.0</td>\n",
       "      <td>26.0</td>\n",
       "    </tr>\n",
       "  </tbody>\n",
       "</table>\n",
       "<p>381109 rows × 9 columns</p>\n",
       "</div>"
      ],
      "text/plain": [
       "        Gender  Age  Driving_License  Region_Code  Previously_Insured  \\\n",
       "0            0   44                1         28.0                   0   \n",
       "1            0   76                1          3.0                   0   \n",
       "2            0   47                1         28.0                   0   \n",
       "3            0   21                1         11.0                   1   \n",
       "4            1   29                1         41.0                   1   \n",
       "...        ...  ...              ...          ...                 ...   \n",
       "381104       0   74                1         26.0                   1   \n",
       "381105       0   30                1         37.0                   1   \n",
       "381106       0   21                1         30.0                   1   \n",
       "381107       1   68                1         14.0                   0   \n",
       "381108       0   46                1         29.0                   0   \n",
       "\n",
       "        Vehicle_Age  Vehicle_Damage  Annual_Premium  Policy_Sales_Channel  \n",
       "0                 2               0         40454.0                  26.0  \n",
       "1                 1               1         33536.0                  26.0  \n",
       "2                 2               0         38294.0                  26.0  \n",
       "3                 0               1         28619.0                 152.0  \n",
       "4                 0               1         27496.0                 152.0  \n",
       "...             ...             ...             ...                   ...  \n",
       "381104            1               1         30170.0                  26.0  \n",
       "381105            0               1         40016.0                 152.0  \n",
       "381106            0               1         35118.0                 160.0  \n",
       "381107            2               0         44617.0                 124.0  \n",
       "381108            1               1         41777.0                  26.0  \n",
       "\n",
       "[381109 rows x 9 columns]"
      ]
     },
     "execution_count": 102,
     "metadata": {},
     "output_type": "execute_result"
    }
   ],
   "source": [
    "fpnr"
   ]
  },
  {
   "cell_type": "markdown",
   "metadata": {},
   "source": [
    "Now I'm going to test models that use PCA and the reduced feature set"
   ]
  },
  {
   "cell_type": "code",
   "execution_count": 127,
   "metadata": {},
   "outputs": [],
   "source": [
    "X3_train, X3_test, y3_train, y3_test = train_test_split(fp[features_to_include], y, test_size=0.2, )"
   ]
  },
  {
   "cell_type": "code",
   "execution_count": 128,
   "metadata": {},
   "outputs": [],
   "source": [
    "scaler.fit(X3_train)\n",
    "XS3 = scaler.transform(X3_train)\n"
   ]
  },
  {
   "cell_type": "code",
   "execution_count": 129,
   "metadata": {},
   "outputs": [],
   "source": [
    "scaler.fit(X3_test)\n",
    "XS3T = scaler.transform(X3_test)\n"
   ]
  },
  {
   "cell_type": "code",
   "execution_count": 130,
   "metadata": {},
   "outputs": [],
   "source": [
    "pca3 = PCA(n_components=3)\n",
    "pca3.fit(XS3)\n",
    "\n",
    "#Transforming x_train and x_test \n",
    "XS2_train_pca = pca3.transform(XS3)\n",
    "XS2_test_pca = pca3.transform(XS3T)"
   ]
  },
  {
   "cell_type": "code",
   "execution_count": 131,
   "metadata": {},
   "outputs": [],
   "source": [
    "y_nn_train4 = to_categorical(y3_train)"
   ]
  },
  {
   "cell_type": "code",
   "execution_count": 132,
   "metadata": {},
   "outputs": [
    {
     "name": "stdout",
     "output_type": "stream",
     "text": [
      "Epoch 1/35\n",
      "953/953 - 1s - loss: 0.8915 - keras_f1_score: 0.6615 - val_loss: 0.4972 - val_keras_f1_score: 0.6675\n",
      "Epoch 2/35\n",
      "953/953 - 1s - loss: 0.7902 - keras_f1_score: 0.6662 - val_loss: 0.4819 - val_keras_f1_score: 0.6721\n",
      "Epoch 3/35\n",
      "953/953 - 1s - loss: 0.7850 - keras_f1_score: 0.6667 - val_loss: 0.4803 - val_keras_f1_score: 0.6718\n",
      "Epoch 4/35\n",
      "953/953 - 1s - loss: 0.7835 - keras_f1_score: 0.6668 - val_loss: 0.4821 - val_keras_f1_score: 0.6704\n",
      "Epoch 5/35\n",
      "953/953 - 1s - loss: 0.7814 - keras_f1_score: 0.6676 - val_loss: 0.4864 - val_keras_f1_score: 0.6700\n",
      "Epoch 6/35\n",
      "953/953 - 1s - loss: 0.7793 - keras_f1_score: 0.6663 - val_loss: 0.4878 - val_keras_f1_score: 0.6759\n",
      "Epoch 7/35\n",
      "953/953 - 1s - loss: 0.7796 - keras_f1_score: 0.6664 - val_loss: 0.5036 - val_keras_f1_score: 0.6675\n",
      "Epoch 8/35\n",
      "953/953 - 1s - loss: 0.7782 - keras_f1_score: 0.6657 - val_loss: 0.4780 - val_keras_f1_score: 0.6777\n",
      "Epoch 9/35\n",
      "953/953 - 1s - loss: 0.7780 - keras_f1_score: 0.6664 - val_loss: 0.4678 - val_keras_f1_score: 0.6721\n",
      "Epoch 10/35\n",
      "953/953 - 1s - loss: 0.7781 - keras_f1_score: 0.6658 - val_loss: 0.4869 - val_keras_f1_score: 0.6782\n",
      "Epoch 11/35\n",
      "953/953 - 1s - loss: 0.7771 - keras_f1_score: 0.6657 - val_loss: 0.4901 - val_keras_f1_score: 0.6781\n",
      "Epoch 12/35\n",
      "953/953 - 1s - loss: 0.7772 - keras_f1_score: 0.6654 - val_loss: 0.4911 - val_keras_f1_score: 0.6713\n",
      "Epoch 13/35\n",
      "953/953 - 1s - loss: 0.7763 - keras_f1_score: 0.6651 - val_loss: 0.4863 - val_keras_f1_score: 0.6589\n",
      "Epoch 14/35\n",
      "953/953 - 1s - loss: 0.7770 - keras_f1_score: 0.6648 - val_loss: 0.4754 - val_keras_f1_score: 0.6751\n",
      "Epoch 15/35\n",
      "953/953 - 1s - loss: 0.7770 - keras_f1_score: 0.6637 - val_loss: 0.4789 - val_keras_f1_score: 0.6769\n",
      "Epoch 16/35\n",
      "953/953 - 1s - loss: 0.7757 - keras_f1_score: 0.6651 - val_loss: 0.4737 - val_keras_f1_score: 0.6758\n",
      "Epoch 17/35\n",
      "953/953 - 1s - loss: 0.7761 - keras_f1_score: 0.6649 - val_loss: 0.4783 - val_keras_f1_score: 0.6692\n",
      "Epoch 18/35\n",
      "953/953 - 1s - loss: 0.7753 - keras_f1_score: 0.6649 - val_loss: 0.4853 - val_keras_f1_score: 0.6660\n",
      "Epoch 19/35\n",
      "953/953 - 1s - loss: 0.7771 - keras_f1_score: 0.6638 - val_loss: 0.4859 - val_keras_f1_score: 0.6588\n",
      "Epoch 20/35\n",
      "953/953 - 1s - loss: 0.7760 - keras_f1_score: 0.6645 - val_loss: 0.4793 - val_keras_f1_score: 0.6718\n",
      "Epoch 21/35\n",
      "953/953 - 1s - loss: 0.7755 - keras_f1_score: 0.6648 - val_loss: 0.4882 - val_keras_f1_score: 0.6585\n",
      "Epoch 22/35\n",
      "953/953 - 1s - loss: 0.7762 - keras_f1_score: 0.6640 - val_loss: 0.4735 - val_keras_f1_score: 0.6724\n",
      "Epoch 23/35\n",
      "953/953 - 1s - loss: 0.7757 - keras_f1_score: 0.6654 - val_loss: 0.4854 - val_keras_f1_score: 0.6505\n",
      "Epoch 24/35\n",
      "953/953 - 1s - loss: 0.7759 - keras_f1_score: 0.6642 - val_loss: 0.4757 - val_keras_f1_score: 0.6742\n",
      "Epoch 25/35\n",
      "953/953 - 1s - loss: 0.7753 - keras_f1_score: 0.6658 - val_loss: 0.4857 - val_keras_f1_score: 0.6667\n",
      "Epoch 26/35\n",
      "953/953 - 1s - loss: 0.7757 - keras_f1_score: 0.6649 - val_loss: 0.4719 - val_keras_f1_score: 0.6691\n",
      "Epoch 27/35\n",
      "953/953 - 1s - loss: 0.7760 - keras_f1_score: 0.6648 - val_loss: 0.4871 - val_keras_f1_score: 0.6718\n",
      "Epoch 28/35\n",
      "953/953 - 1s - loss: 0.7757 - keras_f1_score: 0.6645 - val_loss: 0.4770 - val_keras_f1_score: 0.6777\n",
      "Epoch 29/35\n",
      "953/953 - 1s - loss: 0.7755 - keras_f1_score: 0.6649 - val_loss: 0.4874 - val_keras_f1_score: 0.6756\n",
      "Epoch 30/35\n",
      "953/953 - 1s - loss: 0.7756 - keras_f1_score: 0.6642 - val_loss: 0.4943 - val_keras_f1_score: 0.6710\n",
      "Epoch 31/35\n",
      "953/953 - 1s - loss: 0.7757 - keras_f1_score: 0.6647 - val_loss: 0.4774 - val_keras_f1_score: 0.6753\n",
      "Epoch 32/35\n",
      "953/953 - 1s - loss: 0.7751 - keras_f1_score: 0.6651 - val_loss: 0.4814 - val_keras_f1_score: 0.6653\n",
      "Epoch 33/35\n",
      "953/953 - 1s - loss: 0.7751 - keras_f1_score: 0.6646 - val_loss: 0.4779 - val_keras_f1_score: 0.6718\n",
      "Epoch 34/35\n",
      "953/953 - 1s - loss: 0.7752 - keras_f1_score: 0.6651 - val_loss: 0.4714 - val_keras_f1_score: 0.6665\n",
      "Epoch 35/35\n",
      "953/953 - 1s - loss: 0.7761 - keras_f1_score: 0.6642 - val_loss: 0.4839 - val_keras_f1_score: 0.6724\n"
     ]
    },
    {
     "data": {
      "text/plain": [
       "<tensorflow.python.keras.callbacks.History at 0x2b9802e3ac0>"
      ]
     },
     "execution_count": 132,
     "metadata": {},
     "output_type": "execute_result"
    }
   ],
   "source": [
    "modelpca = create_model3()\n",
    "modelpca.fit(XS2_train_pca, y_nn_train4, validation_split=0.2, epochs=35, batch_size=256, verbose=2, class_weight=class_weight2)"
   ]
  },
  {
   "cell_type": "code",
   "execution_count": 133,
   "metadata": {},
   "outputs": [],
   "source": [
    "predspca3 = modelpca.predict(XS2_test_pca)\n",
    "predspca3 = np.argmax(predspca3,axis = 1 )"
   ]
  },
  {
   "cell_type": "code",
   "execution_count": 134,
   "metadata": {},
   "outputs": [
    {
     "name": "stdout",
     "output_type": "stream",
     "text": [
      "0.6701214872346567\n",
      "0.415989222836438\n",
      "0.7897794049669022\n"
     ]
    }
   ],
   "source": [
    "print(accuracy_score(predspca3, y3_test))\n",
    "print(f1_score(y3_test, predspca3))\n",
    "print(roc_auc_score(y3_test, predspca3))\n",
    "#Reduced accuracy and performance which is to be expected with smaller feature set"
   ]
  },
  {
   "cell_type": "markdown",
   "metadata": {},
   "source": [
    "0.6395266458502794\n",
    "0.378258508327299\n",
    "0.7498430805761529\n"
   ]
  },
  {
   "cell_type": "code",
   "execution_count": 157,
   "metadata": {},
   "outputs": [
    {
     "name": "stdout",
     "output_type": "stream",
     "text": [
      "0.6641914407913726\n",
      "0.4119917298414886\n",
      "0.7892842050332978\n"
     ]
    }
   ],
   "source": [
    "print(accuracy_score(predspca2, y2_test))\n",
    "print(f1_score(y2_test, predspca2))\n",
    "print(roc_auc_score(y2_test, predspca2))\n",
    "#compare "
   ]
  },
  {
   "cell_type": "markdown",
   "metadata": {},
   "source": [
    "Model with PCA and reduced feature set but no scaling"
   ]
  },
  {
   "cell_type": "code",
   "execution_count": 135,
   "metadata": {},
   "outputs": [],
   "source": [
    "pca3 = PCA(n_components=3)\n",
    "pca3.fit(X3_train)\n",
    "\n",
    "#Transforming x_train and x_test \n",
    "X3_train_pca = pca3.transform(X3_train)\n",
    "X3_test_pca = pca3.transform(X3_test)"
   ]
  },
  {
   "cell_type": "code",
   "execution_count": 136,
   "metadata": {
    "scrolled": false
   },
   "outputs": [
    {
     "name": "stdout",
     "output_type": "stream",
     "text": [
      "Epoch 1/35\n",
      "953/953 - 1s - loss: 0.8294 - keras_f1_score: 0.6610 - val_loss: 0.4695 - val_keras_f1_score: 0.6791\n",
      "Epoch 2/35\n",
      "953/953 - 1s - loss: 0.7711 - keras_f1_score: 0.6797 - val_loss: 0.4497 - val_keras_f1_score: 0.7102\n",
      "Epoch 3/35\n",
      "953/953 - 1s - loss: 0.7672 - keras_f1_score: 0.6837 - val_loss: 0.4585 - val_keras_f1_score: 0.7039\n",
      "Epoch 4/35\n",
      "953/953 - 1s - loss: 0.7658 - keras_f1_score: 0.6835 - val_loss: 0.4758 - val_keras_f1_score: 0.6908\n",
      "Epoch 5/35\n",
      "953/953 - 1s - loss: 0.7648 - keras_f1_score: 0.6850 - val_loss: 0.4692 - val_keras_f1_score: 0.6728\n",
      "Epoch 6/35\n",
      "953/953 - 1s - loss: 0.7635 - keras_f1_score: 0.6857 - val_loss: 0.4690 - val_keras_f1_score: 0.6888\n",
      "Epoch 7/35\n",
      "953/953 - 1s - loss: 0.7629 - keras_f1_score: 0.6853 - val_loss: 0.4617 - val_keras_f1_score: 0.7039\n",
      "Epoch 8/35\n",
      "953/953 - 1s - loss: 0.7634 - keras_f1_score: 0.6856 - val_loss: 0.4732 - val_keras_f1_score: 0.6846\n",
      "Epoch 9/35\n",
      "953/953 - 1s - loss: 0.7631 - keras_f1_score: 0.6858 - val_loss: 0.4635 - val_keras_f1_score: 0.6966\n",
      "Epoch 10/35\n",
      "953/953 - 1s - loss: 0.7621 - keras_f1_score: 0.6858 - val_loss: 0.4639 - val_keras_f1_score: 0.6997\n",
      "Epoch 11/35\n",
      "953/953 - 1s - loss: 0.7629 - keras_f1_score: 0.6857 - val_loss: 0.4589 - val_keras_f1_score: 0.7004\n",
      "Epoch 12/35\n",
      "953/953 - 1s - loss: 0.7623 - keras_f1_score: 0.6858 - val_loss: 0.4738 - val_keras_f1_score: 0.6827\n",
      "Epoch 13/35\n",
      "953/953 - 1s - loss: 0.7622 - keras_f1_score: 0.6857 - val_loss: 0.4618 - val_keras_f1_score: 0.7009\n",
      "Epoch 14/35\n",
      "953/953 - 1s - loss: 0.7620 - keras_f1_score: 0.6864 - val_loss: 0.4732 - val_keras_f1_score: 0.6920\n",
      "Epoch 15/35\n",
      "953/953 - 1s - loss: 0.7612 - keras_f1_score: 0.6869 - val_loss: 0.4689 - val_keras_f1_score: 0.6961\n",
      "Epoch 16/35\n",
      "953/953 - 1s - loss: 0.7622 - keras_f1_score: 0.6848 - val_loss: 0.4625 - val_keras_f1_score: 0.6970\n",
      "Epoch 17/35\n",
      "953/953 - 1s - loss: 0.7610 - keras_f1_score: 0.6859 - val_loss: 0.4678 - val_keras_f1_score: 0.6918\n",
      "Epoch 18/35\n",
      "953/953 - 1s - loss: 0.7622 - keras_f1_score: 0.6862 - val_loss: 0.4862 - val_keras_f1_score: 0.6684\n",
      "Epoch 19/35\n",
      "953/953 - 1s - loss: 0.7613 - keras_f1_score: 0.6864 - val_loss: 0.4664 - val_keras_f1_score: 0.6980\n",
      "Epoch 20/35\n",
      "953/953 - 1s - loss: 0.7616 - keras_f1_score: 0.6856 - val_loss: 0.4711 - val_keras_f1_score: 0.6831\n",
      "Epoch 21/35\n",
      "953/953 - 1s - loss: 0.7612 - keras_f1_score: 0.6865 - val_loss: 0.4658 - val_keras_f1_score: 0.6903\n",
      "Epoch 22/35\n",
      "953/953 - 1s - loss: 0.7614 - keras_f1_score: 0.6869 - val_loss: 0.4819 - val_keras_f1_score: 0.6887\n",
      "Epoch 23/35\n",
      "953/953 - 1s - loss: 0.7614 - keras_f1_score: 0.6849 - val_loss: 0.4752 - val_keras_f1_score: 0.6958\n",
      "Epoch 24/35\n",
      "953/953 - 1s - loss: 0.7616 - keras_f1_score: 0.6852 - val_loss: 0.4919 - val_keras_f1_score: 0.6778\n",
      "Epoch 25/35\n",
      "953/953 - 1s - loss: 0.7610 - keras_f1_score: 0.6843 - val_loss: 0.4698 - val_keras_f1_score: 0.6896\n",
      "Epoch 26/35\n",
      "953/953 - 1s - loss: 0.7610 - keras_f1_score: 0.6857 - val_loss: 0.4703 - val_keras_f1_score: 0.6871\n",
      "Epoch 27/35\n",
      "953/953 - 1s - loss: 0.7605 - keras_f1_score: 0.6856 - val_loss: 0.4659 - val_keras_f1_score: 0.6931\n",
      "Epoch 28/35\n",
      "953/953 - 1s - loss: 0.7603 - keras_f1_score: 0.6860 - val_loss: 0.4643 - val_keras_f1_score: 0.6991\n",
      "Epoch 29/35\n",
      "953/953 - 1s - loss: 0.7609 - keras_f1_score: 0.6856 - val_loss: 0.4829 - val_keras_f1_score: 0.6721\n",
      "Epoch 30/35\n",
      "953/953 - 1s - loss: 0.7613 - keras_f1_score: 0.6844 - val_loss: 0.4796 - val_keras_f1_score: 0.6858\n",
      "Epoch 31/35\n",
      "953/953 - 1s - loss: 0.7604 - keras_f1_score: 0.6852 - val_loss: 0.4860 - val_keras_f1_score: 0.6747\n",
      "Epoch 32/35\n",
      "953/953 - 1s - loss: 0.7614 - keras_f1_score: 0.6847 - val_loss: 0.4758 - val_keras_f1_score: 0.6905\n",
      "Epoch 33/35\n",
      "953/953 - 1s - loss: 0.7614 - keras_f1_score: 0.6851 - val_loss: 0.4688 - val_keras_f1_score: 0.6880\n",
      "Epoch 34/35\n",
      "953/953 - 1s - loss: 0.7611 - keras_f1_score: 0.6875 - val_loss: 0.4820 - val_keras_f1_score: 0.6738\n",
      "Epoch 35/35\n",
      "953/953 - 1s - loss: 0.7607 - keras_f1_score: 0.6846 - val_loss: 0.4642 - val_keras_f1_score: 0.6953\n"
     ]
    },
    {
     "data": {
      "text/plain": [
       "<tensorflow.python.keras.callbacks.History at 0x2b98927eaf0>"
      ]
     },
     "execution_count": 136,
     "metadata": {},
     "output_type": "execute_result"
    }
   ],
   "source": [
    "modelpca_noscaling = create_model3()\n",
    "modelpca.fit(X3_train_pca, y_nn_train4, validation_split=0.2, epochs=35, batch_size=256, verbose=2, class_weight=class_weight2)"
   ]
  },
  {
   "cell_type": "code",
   "execution_count": 137,
   "metadata": {},
   "outputs": [],
   "source": [
    "predspca4 = modelpca.predict(X3_test_pca)\n",
    "predspca4 = np.argmax(predspca4,axis = 1 )"
   ]
  },
  {
   "cell_type": "code",
   "execution_count": 138,
   "metadata": {},
   "outputs": [
    {
     "name": "stdout",
     "output_type": "stream",
     "text": [
      "0.6925690745454068\n",
      "0.4280030268264701\n",
      "0.7940371449744953\n"
     ]
    }
   ],
   "source": [
    "print(accuracy_score(predspca4, y3_test))\n",
    "print(f1_score(y3_test, predspca4))\n",
    "print(roc_auc_score(y3_test, predspca4))\n",
    "#Better than the scaled model"
   ]
  },
  {
   "cell_type": "markdown",
   "metadata": {},
   "source": [
    "Through optimizing the feature set and transforming the data through PCA, we improve the accurracy and performance metrics f1-score and ROC AUC score for our model in keras."
   ]
  },
  {
   "cell_type": "code",
   "execution_count": null,
   "metadata": {},
   "outputs": [],
   "source": []
  }
 ],
 "metadata": {
  "kernelspec": {
   "display_name": "Python 3",
   "language": "python",
   "name": "python3"
  },
  "language_info": {
   "codemirror_mode": {
    "name": "ipython",
    "version": 3
   },
   "file_extension": ".py",
   "mimetype": "text/x-python",
   "name": "python",
   "nbconvert_exporter": "python",
   "pygments_lexer": "ipython3",
   "version": "3.8.3"
  }
 },
 "nbformat": 4,
 "nbformat_minor": 4
}
