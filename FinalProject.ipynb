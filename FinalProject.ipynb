{
 "cells": [
  {
   "cell_type": "markdown",
   "metadata": {},
   "source": [
    "My final project for Brainstation's September 2020 machine learning course. In this project, I do basic data cleaning, logistic regression and PCA for modeling, and use ROC and AUC with F1 scores to evaluate model performance. Finally, I use keras to train a model and improve performance metrics.\n",
    "\n",
    "Original data from https://www.kaggle.com/anmolkumar/health-insurance-cross-sell-prediction?select=test.csv"
   ]
  },
  {
   "cell_type": "code",
   "execution_count": 1,
   "metadata": {},
   "outputs": [],
   "source": [
    "#Import all of the packages we think we will need\n",
    "import pandas as pd\n",
    "import numpy as np\n",
    "import matplotlib.pyplot as plt\n",
    "%matplotlib inline\n",
    "import sklearn as sk\n",
    "pd.options.display.max_columns=500\n",
    "import warnings\n",
    "warnings.filterwarnings(\"ignore\")\n",
    "from sklearn.metrics import accuracy_score\n",
    "from sklearn import model_selection, metrics, linear_model, datasets, feature_selection\n",
    "from sklearn.preprocessing import MinMaxScaler\n",
    "import seaborn as sns"
   ]
  },
  {
   "cell_type": "code",
   "execution_count": null,
   "metadata": {},
   "outputs": [],
   "source": []
  },
  {
   "cell_type": "code",
   "execution_count": 2,
   "metadata": {},
   "outputs": [],
   "source": [
    "fp = pd.read_csv('trainfp.csv')"
   ]
  },
  {
   "cell_type": "code",
   "execution_count": 3,
   "metadata": {
    "scrolled": true
   },
   "outputs": [
    {
     "data": {
      "text/html": [
       "<div>\n",
       "<style scoped>\n",
       "    .dataframe tbody tr th:only-of-type {\n",
       "        vertical-align: middle;\n",
       "    }\n",
       "\n",
       "    .dataframe tbody tr th {\n",
       "        vertical-align: top;\n",
       "    }\n",
       "\n",
       "    .dataframe thead th {\n",
       "        text-align: right;\n",
       "    }\n",
       "</style>\n",
       "<table border=\"1\" class=\"dataframe\">\n",
       "  <thead>\n",
       "    <tr style=\"text-align: right;\">\n",
       "      <th></th>\n",
       "      <th>id</th>\n",
       "      <th>Gender</th>\n",
       "      <th>Age</th>\n",
       "      <th>Driving_License</th>\n",
       "      <th>Region_Code</th>\n",
       "      <th>Previously_Insured</th>\n",
       "      <th>Vehicle_Age</th>\n",
       "      <th>Vehicle_Damage</th>\n",
       "      <th>Annual_Premium</th>\n",
       "      <th>Policy_Sales_Channel</th>\n",
       "      <th>Vintage</th>\n",
       "      <th>Response</th>\n",
       "    </tr>\n",
       "  </thead>\n",
       "  <tbody>\n",
       "    <tr>\n",
       "      <th>0</th>\n",
       "      <td>1</td>\n",
       "      <td>Male</td>\n",
       "      <td>44</td>\n",
       "      <td>1</td>\n",
       "      <td>28.0</td>\n",
       "      <td>0</td>\n",
       "      <td>&gt; 2 Years</td>\n",
       "      <td>Yes</td>\n",
       "      <td>40454.0</td>\n",
       "      <td>26.0</td>\n",
       "      <td>217</td>\n",
       "      <td>1</td>\n",
       "    </tr>\n",
       "    <tr>\n",
       "      <th>1</th>\n",
       "      <td>2</td>\n",
       "      <td>Male</td>\n",
       "      <td>76</td>\n",
       "      <td>1</td>\n",
       "      <td>3.0</td>\n",
       "      <td>0</td>\n",
       "      <td>1-2 Year</td>\n",
       "      <td>No</td>\n",
       "      <td>33536.0</td>\n",
       "      <td>26.0</td>\n",
       "      <td>183</td>\n",
       "      <td>0</td>\n",
       "    </tr>\n",
       "    <tr>\n",
       "      <th>2</th>\n",
       "      <td>3</td>\n",
       "      <td>Male</td>\n",
       "      <td>47</td>\n",
       "      <td>1</td>\n",
       "      <td>28.0</td>\n",
       "      <td>0</td>\n",
       "      <td>&gt; 2 Years</td>\n",
       "      <td>Yes</td>\n",
       "      <td>38294.0</td>\n",
       "      <td>26.0</td>\n",
       "      <td>27</td>\n",
       "      <td>1</td>\n",
       "    </tr>\n",
       "    <tr>\n",
       "      <th>3</th>\n",
       "      <td>4</td>\n",
       "      <td>Male</td>\n",
       "      <td>21</td>\n",
       "      <td>1</td>\n",
       "      <td>11.0</td>\n",
       "      <td>1</td>\n",
       "      <td>&lt; 1 Year</td>\n",
       "      <td>No</td>\n",
       "      <td>28619.0</td>\n",
       "      <td>152.0</td>\n",
       "      <td>203</td>\n",
       "      <td>0</td>\n",
       "    </tr>\n",
       "    <tr>\n",
       "      <th>4</th>\n",
       "      <td>5</td>\n",
       "      <td>Female</td>\n",
       "      <td>29</td>\n",
       "      <td>1</td>\n",
       "      <td>41.0</td>\n",
       "      <td>1</td>\n",
       "      <td>&lt; 1 Year</td>\n",
       "      <td>No</td>\n",
       "      <td>27496.0</td>\n",
       "      <td>152.0</td>\n",
       "      <td>39</td>\n",
       "      <td>0</td>\n",
       "    </tr>\n",
       "  </tbody>\n",
       "</table>\n",
       "</div>"
      ],
      "text/plain": [
       "   id  Gender  Age  Driving_License  Region_Code  Previously_Insured  \\\n",
       "0   1    Male   44                1         28.0                   0   \n",
       "1   2    Male   76                1          3.0                   0   \n",
       "2   3    Male   47                1         28.0                   0   \n",
       "3   4    Male   21                1         11.0                   1   \n",
       "4   5  Female   29                1         41.0                   1   \n",
       "\n",
       "  Vehicle_Age Vehicle_Damage  Annual_Premium  Policy_Sales_Channel  Vintage  \\\n",
       "0   > 2 Years            Yes         40454.0                  26.0      217   \n",
       "1    1-2 Year             No         33536.0                  26.0      183   \n",
       "2   > 2 Years            Yes         38294.0                  26.0       27   \n",
       "3    < 1 Year             No         28619.0                 152.0      203   \n",
       "4    < 1 Year             No         27496.0                 152.0       39   \n",
       "\n",
       "   Response  \n",
       "0         1  \n",
       "1         0  \n",
       "2         1  \n",
       "3         0  \n",
       "4         0  "
      ]
     },
     "execution_count": 3,
     "metadata": {},
     "output_type": "execute_result"
    }
   ],
   "source": [
    "fp.head()\n",
    "#First lets look at the data"
   ]
  },
  {
   "cell_type": "code",
   "execution_count": 4,
   "metadata": {},
   "outputs": [
    {
     "data": {
      "text/plain": [
       "152.0    134784\n",
       "26.0      79700\n",
       "124.0     73995\n",
       "160.0     21779\n",
       "156.0     10661\n",
       "          ...  \n",
       "144.0         1\n",
       "149.0         1\n",
       "84.0          1\n",
       "143.0         1\n",
       "43.0          1\n",
       "Name: Policy_Sales_Channel, Length: 155, dtype: int64"
      ]
     },
     "execution_count": 4,
     "metadata": {},
     "output_type": "execute_result"
    }
   ],
   "source": [
    "fp['Policy_Sales_Channel'].value_counts(dropna=False)"
   ]
  },
  {
   "cell_type": "code",
   "execution_count": null,
   "metadata": {},
   "outputs": [],
   "source": []
  },
  {
   "cell_type": "code",
   "execution_count": 5,
   "metadata": {},
   "outputs": [
    {
     "data": {
      "text/plain": [
       "False"
      ]
     },
     "execution_count": 5,
     "metadata": {},
     "output_type": "execute_result"
    }
   ],
   "source": [
    "fp.isnull().values.any() #Check for any NaN values across the entire data set. Doesn't sum"
   ]
  },
  {
   "cell_type": "code",
   "execution_count": 6,
   "metadata": {
    "scrolled": false
   },
   "outputs": [
    {
     "data": {
      "text/plain": [
       "array([217, 183,  27, 203,  39, 176, 249,  72,  28,  80,  46, 289, 221,\n",
       "        15,  58, 147, 256, 299, 158, 102, 116, 177, 232,  60, 180,  49,\n",
       "        57, 223, 136, 222, 149, 169,  88, 253, 107, 264, 233,  45, 184,\n",
       "       251, 153, 186,  71,  34,  83,  12, 246, 141, 216, 130, 282,  73,\n",
       "       171, 283, 295, 165,  30, 218,  22,  36,  79,  81, 100,  63, 242,\n",
       "       277,  61, 111, 167,  74, 235, 131, 243, 248, 114, 281,  62, 189,\n",
       "       139, 138, 209, 254, 291,  68,  92,  52,  78, 156, 247, 275,  77,\n",
       "       181, 229, 166,  16,  23,  31, 293, 219,  50, 155,  66, 260,  19,\n",
       "       258, 117, 193, 204, 212, 144, 234, 206, 228, 125,  29,  18,  84,\n",
       "       230,  54, 123, 101,  86,  13, 237,  85,  98,  67, 128,  95,  89,\n",
       "        99, 208, 134, 135, 268, 284, 119, 226, 105, 142, 207, 272, 263,\n",
       "        64,  40, 245, 163,  24, 265, 202, 259,  91, 106, 190, 162,  33,\n",
       "       194, 287, 292,  69, 239, 132, 255, 152, 121, 150, 143, 198, 103,\n",
       "       127, 285, 214, 151, 199,  56,  59, 215, 104, 238, 120,  21,  32,\n",
       "       270, 211, 200, 197,  11, 213,  93, 113, 178,  10, 290,  94, 231,\n",
       "       296,  47, 122, 271, 278, 276,  96, 240, 172, 257, 224, 173, 220,\n",
       "       185,  90,  51, 205,  70, 160, 137, 168,  87, 118, 288, 126, 241,\n",
       "        82, 227, 115, 164, 236, 286, 244, 108, 274, 201,  97,  25, 174,\n",
       "       182, 154,  48,  20,  53,  17, 261,  41, 266,  35, 140, 269, 146,\n",
       "       145,  65, 298, 133, 195,  55, 188,  75,  38,  43, 110,  37, 129,\n",
       "       170, 109, 267, 279, 112, 280,  76, 191,  26, 161, 179, 175, 252,\n",
       "        42, 124, 187, 148, 294,  44, 157, 192, 262, 159, 210, 250,  14,\n",
       "       273, 297, 225, 196], dtype=int64)"
      ]
     },
     "execution_count": 6,
     "metadata": {},
     "output_type": "execute_result"
    }
   ],
   "source": [
    "fp['Vintage'].unique() #The days someone has been a customer. Every customer is less than a year old, very suspicious data"
   ]
  },
  {
   "cell_type": "code",
   "execution_count": 8,
   "metadata": {},
   "outputs": [
    {
     "data": {
      "image/png": "[encoded data removed]",
      "text/plain": [
       "<Figure size 432x288 with 1 Axes>"
      ]
     },
     "metadata": {
      "needs_background": "light"
     },
     "output_type": "display_data"
    }
   ],
   "source": [
    "Annual_premium = sns.regplot(x= 'Annual_Premium', y= 'Response', data= fp, logistic= True).set_title(\"Annual Premium log odds linear plot\")\n",
    "#This takes a long time, like 5+ minutes long\n",
    "#Not a \"U\" shape, slight \"S\" shape Assumption of IV's log odds linearity seems intact"
   ]
  },
  {
   "cell_type": "code",
   "execution_count": 11,
   "metadata": {
    "scrolled": true
   },
   "outputs": [
    {
     "data": {
      "image/png": "[encoded data removed]",
      "text/plain": [
       "<Figure size 432x288 with 1 Axes>"
      ]
     },
     "metadata": {
      "needs_background": "light"
     },
     "output_type": "display_data"
    }
   ],
   "source": [
    "Days_With = sns.regplot(x= 'Vintage', y= 'Response', data= fp, logistic= True).set_title(\"Vintage log odds linear plot\")\n",
    "#Clearly not S shape, Discard"
   ]
  },
  {
   "cell_type": "code",
   "execution_count": 9,
   "metadata": {},
   "outputs": [
    {
     "data": {
      "image/png": "[encoded data removed]",
      "text/plain": [
       "<Figure size 432x288 with 1 Axes>"
      ]
     },
     "metadata": {
      "needs_background": "light"
     },
     "output_type": "display_data"
    }
   ],
   "source": [
    "Months_With = sns.regplot(x= 'Vintage_M', y= 'Response', data= fp, logistic= True).set_title(\"Vintage Months log odds linear plot\")\n",
    "#Changed Vintage into months, obviously didn't change shape of the plot"
   ]
  },
  {
   "cell_type": "code",
   "execution_count": 7,
   "metadata": {},
   "outputs": [],
   "source": [
    "fp['Vehicle_Age'] = fp['Vehicle_Age'].replace({'< 1 Year':0, '1-2 Year':1, '> 2 Years':2})\n",
    "\n",
    "#Consider turning Policy_Sales_Channel into dummy variables\n",
    "#Consider turning Region_Code into dummy variables"
   ]
  },
  {
   "cell_type": "code",
   "execution_count": 8,
   "metadata": {},
   "outputs": [],
   "source": [
    "fp['Gender'] = fp['Gender'].replace({'Male':0, 'Female':1})"
   ]
  },
  {
   "cell_type": "code",
   "execution_count": 9,
   "metadata": {},
   "outputs": [],
   "source": [
    "fp['Vehicle_Damage'] = fp['Vehicle_Damage'].replace({'Yes':0, 'No':1})"
   ]
  },
  {
   "cell_type": "code",
   "execution_count": 10,
   "metadata": {},
   "outputs": [],
   "source": [
    "from sklearn.cluster import KMeans\n",
    "#We originally wanted to use KMeans to determine customer segmentation but with responses already known, training a \n",
    "#logistic regression model made more sense"
   ]
  },
  {
   "cell_type": "code",
   "execution_count": 11,
   "metadata": {},
   "outputs": [],
   "source": [
    "features_to_include = ['Gender', 'Age', 'Driving_License', 'Previously_Insured','Annual_Premium', ]\n",
    "# Remove 'Policy_Sales_Channel', 'Vintage', and 'Region_Code' because they do not meet conditions and/or do not have clear \n",
    "#documentation. In addition, we will remove Vehicle_age and Vehicle_Damage for this iteration due to multico"
   ]
  },
  {
   "cell_type": "code",
   "execution_count": 12,
   "metadata": {},
   "outputs": [],
   "source": [
    "#Check multicollinearity \n",
    "multico = fp.corr()\n",
    "#Vehicle Age and Age of customer are moderately positively correlated. Older customers have older vehicles. Consider dropping one\n",
    "#Vehicle Damage and Previously Insured are highly correlated which is not surprising. Consider dropping one term"
   ]
  },
  {
   "cell_type": "code",
   "execution_count": 13,
   "metadata": {},
   "outputs": [
    {
     "name": "stdout",
     "output_type": "stream",
     "text": [
      "                            id    Gender       Age  Driving_License  \\\n",
      "id                    1.000000 -0.000999  0.001561        -0.000564   \n",
      "Gender               -0.000999  1.000000 -0.145545         0.018374   \n",
      "Age                   0.001561 -0.145545  1.000000        -0.079782   \n",
      "Driving_License      -0.000564  0.018374 -0.079782         1.000000   \n",
      "Region_Code          -0.000572 -0.000604  0.042574        -0.001081   \n",
      "Previously_Insured    0.002457  0.081932 -0.254682         0.014969   \n",
      "Vehicle_Age           0.000878 -0.160427  0.765790        -0.037306   \n",
      "Vehicle_Damage        0.001507  0.091606 -0.267534         0.016622   \n",
      "Annual_Premium        0.003027 -0.003673  0.067507        -0.011906   \n",
      "Policy_Sales_Channel -0.002837  0.111159 -0.577826         0.043731   \n",
      "Vintage              -0.000630  0.002517 -0.001264        -0.000848   \n",
      "Response             -0.001368 -0.052440  0.111147         0.010155   \n",
      "\n",
      "                      Region_Code  Previously_Insured  Vehicle_Age  \\\n",
      "id                      -0.000572            0.002457     0.000878   \n",
      "Gender                  -0.000604            0.081932    -0.160427   \n",
      "Age                      0.042574           -0.254682     0.765790   \n",
      "Driving_License         -0.001081            0.014969    -0.037306   \n",
      "Region_Code              1.000000           -0.024659     0.043778   \n",
      "Previously_Insured      -0.024659            1.000000    -0.380873   \n",
      "Vehicle_Age              0.043778           -0.380873     1.000000   \n",
      "Vehicle_Damage          -0.028235            0.824143    -0.396873   \n",
      "Annual_Premium          -0.010588            0.004269     0.041580   \n",
      "Policy_Sales_Channel    -0.042420            0.219381    -0.550663   \n",
      "Vintage                 -0.002750            0.002537    -0.001892   \n",
      "Response                 0.010570           -0.341170     0.221874   \n",
      "\n",
      "                      Vehicle_Damage  Annual_Premium  Policy_Sales_Channel  \\\n",
      "id                          0.001507        0.003027             -0.002837   \n",
      "Gender                      0.091606       -0.003673              0.111159   \n",
      "Age                        -0.267534        0.067507             -0.577826   \n",
      "Driving_License             0.016622       -0.011906              0.043731   \n",
      "Region_Code                -0.028235       -0.010588             -0.042420   \n",
      "Previously_Insured          0.824143        0.004269              0.219381   \n",
      "Vehicle_Age                -0.396873        0.041580             -0.550663   \n",
      "Vehicle_Damage              1.000000       -0.009349              0.224377   \n",
      "Annual_Premium             -0.009349        1.000000             -0.113247   \n",
      "Policy_Sales_Channel        0.224377       -0.113247              1.000000   \n",
      "Vintage                     0.002064       -0.000608              0.000002   \n",
      "Response                   -0.354400        0.022575             -0.139042   \n",
      "\n",
      "                       Vintage  Response  \n",
      "id                   -0.000630 -0.001368  \n",
      "Gender                0.002517 -0.052440  \n",
      "Age                  -0.001264  0.111147  \n",
      "Driving_License      -0.000848  0.010155  \n",
      "Region_Code          -0.002750  0.010570  \n",
      "Previously_Insured    0.002537 -0.341170  \n",
      "Vehicle_Age          -0.001892  0.221874  \n",
      "Vehicle_Damage        0.002064 -0.354400  \n",
      "Annual_Premium       -0.000608  0.022575  \n",
      "Policy_Sales_Channel  0.000002 -0.139042  \n",
      "Vintage               1.000000 -0.001050  \n",
      "Response             -0.001050  1.000000  \n"
     ]
    }
   ],
   "source": [
    "print(multico)"
   ]
  },
  {
   "cell_type": "code",
   "execution_count": 14,
   "metadata": {},
   "outputs": [],
   "source": [
    "del fp['Vintage']\n",
    "del fp['id']"
   ]
  },
  {
   "cell_type": "code",
   "execution_count": 34,
   "metadata": {},
   "outputs": [],
   "source": [
    "sns.set(font_scale=1)"
   ]
  },
  {
   "cell_type": "code",
   "execution_count": 35,
   "metadata": {},
   "outputs": [
    {
     "data": {
      "text/plain": [
       "<matplotlib.axes._subplots.AxesSubplot at 0x120b419f7f0>"
      ]
     },
     "execution_count": 35,
     "metadata": {},
     "output_type": "execute_result"
    },
    {
     "data": {
      "image/png": "[encoded data removed]",
      "text/plain": [
       "<Figure size 720x720 with 2 Axes>"
      ]
     },
     "metadata": {},
     "output_type": "display_data"
    }
   ],
   "source": [
    "#We are going to make a heat graph of multicollinearity for visual's sake\n",
    "plt.figure(figsize=(10,10)) \n",
    "sns.heatmap(multico, annot = True, cmap = 'bwr')"
   ]
  },
  {
   "cell_type": "code",
   "execution_count": 18,
   "metadata": {},
   "outputs": [
    {
     "data": {
      "text/html": [
       "<div>\n",
       "<style scoped>\n",
       "    .dataframe tbody tr th:only-of-type {\n",
       "        vertical-align: middle;\n",
       "    }\n",
       "\n",
       "    .dataframe tbody tr th {\n",
       "        vertical-align: top;\n",
       "    }\n",
       "\n",
       "    .dataframe thead th {\n",
       "        text-align: right;\n",
       "    }\n",
       "</style>\n",
       "<table border=\"1\" class=\"dataframe\">\n",
       "  <thead>\n",
       "    <tr style=\"text-align: right;\">\n",
       "      <th></th>\n",
       "      <th>id</th>\n",
       "      <th>Gender</th>\n",
       "      <th>Age</th>\n",
       "      <th>Driving_License</th>\n",
       "      <th>Region_Code</th>\n",
       "      <th>Previously_Insured</th>\n",
       "      <th>Vehicle_Age</th>\n",
       "      <th>Vehicle_Damage</th>\n",
       "      <th>Annual_Premium</th>\n",
       "      <th>Policy_Sales_Channel</th>\n",
       "      <th>Response</th>\n",
       "    </tr>\n",
       "  </thead>\n",
       "  <tbody>\n",
       "    <tr>\n",
       "      <th>0</th>\n",
       "      <td>1</td>\n",
       "      <td>0</td>\n",
       "      <td>44</td>\n",
       "      <td>1</td>\n",
       "      <td>28</td>\n",
       "      <td>0</td>\n",
       "      <td>2</td>\n",
       "      <td>0</td>\n",
       "      <td>40454</td>\n",
       "      <td>26</td>\n",
       "      <td>1</td>\n",
       "    </tr>\n",
       "    <tr>\n",
       "      <th>1</th>\n",
       "      <td>2</td>\n",
       "      <td>0</td>\n",
       "      <td>76</td>\n",
       "      <td>1</td>\n",
       "      <td>3</td>\n",
       "      <td>0</td>\n",
       "      <td>1</td>\n",
       "      <td>1</td>\n",
       "      <td>33536</td>\n",
       "      <td>26</td>\n",
       "      <td>0</td>\n",
       "    </tr>\n",
       "    <tr>\n",
       "      <th>2</th>\n",
       "      <td>3</td>\n",
       "      <td>0</td>\n",
       "      <td>47</td>\n",
       "      <td>1</td>\n",
       "      <td>28</td>\n",
       "      <td>0</td>\n",
       "      <td>2</td>\n",
       "      <td>0</td>\n",
       "      <td>38294</td>\n",
       "      <td>26</td>\n",
       "      <td>1</td>\n",
       "    </tr>\n",
       "    <tr>\n",
       "      <th>3</th>\n",
       "      <td>4</td>\n",
       "      <td>0</td>\n",
       "      <td>21</td>\n",
       "      <td>1</td>\n",
       "      <td>11</td>\n",
       "      <td>1</td>\n",
       "      <td>0</td>\n",
       "      <td>1</td>\n",
       "      <td>28619</td>\n",
       "      <td>152</td>\n",
       "      <td>0</td>\n",
       "    </tr>\n",
       "    <tr>\n",
       "      <th>4</th>\n",
       "      <td>5</td>\n",
       "      <td>1</td>\n",
       "      <td>29</td>\n",
       "      <td>1</td>\n",
       "      <td>41</td>\n",
       "      <td>1</td>\n",
       "      <td>0</td>\n",
       "      <td>1</td>\n",
       "      <td>27496</td>\n",
       "      <td>152</td>\n",
       "      <td>0</td>\n",
       "    </tr>\n",
       "    <tr>\n",
       "      <th>...</th>\n",
       "      <td>...</td>\n",
       "      <td>...</td>\n",
       "      <td>...</td>\n",
       "      <td>...</td>\n",
       "      <td>...</td>\n",
       "      <td>...</td>\n",
       "      <td>...</td>\n",
       "      <td>...</td>\n",
       "      <td>...</td>\n",
       "      <td>...</td>\n",
       "      <td>...</td>\n",
       "    </tr>\n",
       "    <tr>\n",
       "      <th>381104</th>\n",
       "      <td>381105</td>\n",
       "      <td>0</td>\n",
       "      <td>74</td>\n",
       "      <td>1</td>\n",
       "      <td>26</td>\n",
       "      <td>1</td>\n",
       "      <td>1</td>\n",
       "      <td>1</td>\n",
       "      <td>30170</td>\n",
       "      <td>26</td>\n",
       "      <td>0</td>\n",
       "    </tr>\n",
       "    <tr>\n",
       "      <th>381105</th>\n",
       "      <td>381106</td>\n",
       "      <td>0</td>\n",
       "      <td>30</td>\n",
       "      <td>1</td>\n",
       "      <td>37</td>\n",
       "      <td>1</td>\n",
       "      <td>0</td>\n",
       "      <td>1</td>\n",
       "      <td>40016</td>\n",
       "      <td>152</td>\n",
       "      <td>0</td>\n",
       "    </tr>\n",
       "    <tr>\n",
       "      <th>381106</th>\n",
       "      <td>381107</td>\n",
       "      <td>0</td>\n",
       "      <td>21</td>\n",
       "      <td>1</td>\n",
       "      <td>30</td>\n",
       "      <td>1</td>\n",
       "      <td>0</td>\n",
       "      <td>1</td>\n",
       "      <td>35118</td>\n",
       "      <td>160</td>\n",
       "      <td>0</td>\n",
       "    </tr>\n",
       "    <tr>\n",
       "      <th>381107</th>\n",
       "      <td>381108</td>\n",
       "      <td>1</td>\n",
       "      <td>68</td>\n",
       "      <td>1</td>\n",
       "      <td>14</td>\n",
       "      <td>0</td>\n",
       "      <td>2</td>\n",
       "      <td>0</td>\n",
       "      <td>44617</td>\n",
       "      <td>124</td>\n",
       "      <td>0</td>\n",
       "    </tr>\n",
       "    <tr>\n",
       "      <th>381108</th>\n",
       "      <td>381109</td>\n",
       "      <td>0</td>\n",
       "      <td>46</td>\n",
       "      <td>1</td>\n",
       "      <td>29</td>\n",
       "      <td>0</td>\n",
       "      <td>1</td>\n",
       "      <td>1</td>\n",
       "      <td>41777</td>\n",
       "      <td>26</td>\n",
       "      <td>0</td>\n",
       "    </tr>\n",
       "  </tbody>\n",
       "</table>\n",
       "<p>381109 rows × 11 columns</p>\n",
       "</div>"
      ],
      "text/plain": [
       "            id  Gender  Age  Driving_License  Region_Code  Previously_Insured  \\\n",
       "0            1       0   44                1           28                   0   \n",
       "1            2       0   76                1            3                   0   \n",
       "2            3       0   47                1           28                   0   \n",
       "3            4       0   21                1           11                   1   \n",
       "4            5       1   29                1           41                   1   \n",
       "...        ...     ...  ...              ...          ...                 ...   \n",
       "381104  381105       0   74                1           26                   1   \n",
       "381105  381106       0   30                1           37                   1   \n",
       "381106  381107       0   21                1           30                   1   \n",
       "381107  381108       1   68                1           14                   0   \n",
       "381108  381109       0   46                1           29                   0   \n",
       "\n",
       "        Vehicle_Age  Vehicle_Damage  Annual_Premium  Policy_Sales_Channel  \\\n",
       "0                 2               0           40454                    26   \n",
       "1                 1               1           33536                    26   \n",
       "2                 2               0           38294                    26   \n",
       "3                 0               1           28619                   152   \n",
       "4                 0               1           27496                   152   \n",
       "...             ...             ...             ...                   ...   \n",
       "381104            1               1           30170                    26   \n",
       "381105            0               1           40016                   152   \n",
       "381106            0               1           35118                   160   \n",
       "381107            2               0           44617                   124   \n",
       "381108            1               1           41777                    26   \n",
       "\n",
       "        Response  \n",
       "0              1  \n",
       "1              0  \n",
       "2              1  \n",
       "3              0  \n",
       "4              0  \n",
       "...          ...  \n",
       "381104         0  \n",
       "381105         0  \n",
       "381106         0  \n",
       "381107         0  \n",
       "381108         0  \n",
       "\n",
       "[381109 rows x 11 columns]"
      ]
     },
     "execution_count": 18,
     "metadata": {},
     "output_type": "execute_result"
    }
   ],
   "source": [
    "fp"
   ]
  },
  {
   "cell_type": "code",
   "execution_count": 93,
   "metadata": {},
   "outputs": [],
   "source": [
    "from sklearn.preprocessing import StandardScaler\n"
   ]
  },
  {
   "cell_type": "code",
   "execution_count": 25,
   "metadata": {},
   "outputs": [],
   "source": [
    "scaler = StandardScaler()\n",
    "scaler.fit(fp[features_to_include])\n",
    "XS = scaler.transform(fp[features_to_include])\n",
    "#We are going to scale the data because we are going to use PCA for some models\n",
    "#This is the wrong way of scaling data, but I didn't learn that until after I started"
   ]
  },
  {
   "cell_type": "code",
   "execution_count": 26,
   "metadata": {},
   "outputs": [
    {
     "data": {
      "text/plain": [
       "array([[-0.92154476,  0.33377727,  0.04620794, -0.91963797,  0.57453868],\n",
       "       [-0.92154476,  2.39675074,  0.04620794, -0.91963797,  0.17263624],\n",
       "       [-0.92154476,  0.52718104,  0.04620794, -0.91963797,  0.4490531 ],\n",
       "       ...,\n",
       "       [-0.92154476, -1.14898491,  0.04620794,  1.08738442,  0.26454281],\n",
       "       [ 1.08513449,  1.88100737,  0.04620794, -0.91963797,  0.81638891],\n",
       "       [-0.92154476,  0.46271311,  0.04620794, -0.91963797,  0.6513986 ]])"
      ]
     },
     "execution_count": 26,
     "metadata": {},
     "output_type": "execute_result"
    }
   ],
   "source": [
    "XS"
   ]
  },
  {
   "cell_type": "code",
   "execution_count": 29,
   "metadata": {},
   "outputs": [
    {
     "data": {
      "text/plain": [
       "KMeans(n_clusters=2)"
      ]
     },
     "execution_count": 29,
     "metadata": {},
     "output_type": "execute_result"
    }
   ],
   "source": [
    "k_means_model = KMeans(n_clusters = 2)\n",
    "k_means_model.fit(XS)"
   ]
  },
  {
   "cell_type": "code",
   "execution_count": 31,
   "metadata": {
    "scrolled": true
   },
   "outputs": [
    {
     "data": {
      "image/png": "[encoded data removed]",
      "text/plain": [
       "<Figure size 432x288 with 1 Axes>"
      ]
     },
     "metadata": {
      "needs_background": "light"
     },
     "output_type": "display_data"
    }
   ],
   "source": [
    "inertia_list = []\n",
    "k_range = np.arange(1,10)\n",
    "for k in k_range:\n",
    "    k_means_model = KMeans(n_clusters = k)\n",
    "    k_means_model.fit(XS)\n",
    "    inertia_list.append(k_means_model.inertia_)\n",
    "\n",
    "plt.scatter(k_range,inertia_list)\n",
    "plt.show()"
   ]
  },
  {
   "cell_type": "code",
   "execution_count": 32,
   "metadata": {},
   "outputs": [
    {
     "data": {
      "text/plain": [
       "KMeans(n_clusters=5)"
      ]
     },
     "execution_count": 32,
     "metadata": {},
     "output_type": "execute_result"
    }
   ],
   "source": [
    "#Looks like 3 is the elbow. Let's do k-means with 2, 3, and 4 clusters\n",
    "four_means_model = KMeans(n_clusters = 4)\n",
    "four_means_model.fit(XS);\n",
    "\n",
    "three_means_model = KMeans(n_clusters = 3)\n",
    "three_means_model.fit(XS);\n",
    "\n",
    "five_means_model = KMeans(n_clusters = 5)\n",
    "five_means_model.fit(XS)"
   ]
  },
  {
   "cell_type": "code",
   "execution_count": 34,
   "metadata": {},
   "outputs": [
    {
     "data": {
      "text/plain": [
       "KMeans(n_clusters=2)"
      ]
     },
     "execution_count": 34,
     "metadata": {},
     "output_type": "execute_result"
    }
   ],
   "source": [
    "two_means_model = KMeans(n_clusters = 2)\n",
    "two_means_model.fit(XS)"
   ]
  },
  {
   "cell_type": "code",
   "execution_count": 35,
   "metadata": {
    "scrolled": true
   },
   "outputs": [
    {
     "data": {
      "text/plain": [
       "array([1, 1, 1, ..., 0, 1, 1])"
      ]
     },
     "execution_count": 35,
     "metadata": {},
     "output_type": "execute_result"
    }
   ],
   "source": [
    "two_means_model.labels_"
   ]
  },
  {
   "cell_type": "code",
   "execution_count": 36,
   "metadata": {},
   "outputs": [],
   "source": [
    "from sklearn.metrics import accuracy_score\n"
   ]
  },
  {
   "cell_type": "code",
   "execution_count": 40,
   "metadata": {},
   "outputs": [
    {
     "name": "stdout",
     "output_type": "stream",
     "text": [
      "0.5793434424272321\n"
     ]
    }
   ],
   "source": [
    "print(accuracy_score(two_means_model.labels_, fp['Response']))"
   ]
  },
  {
   "cell_type": "code",
   "execution_count": 37,
   "metadata": {},
   "outputs": [],
   "source": [
    "from sklearn.decomposition import PCA\n"
   ]
  },
  {
   "cell_type": "code",
   "execution_count": 38,
   "metadata": {},
   "outputs": [],
   "source": [
    "from sklearn import decomposition"
   ]
  },
  {
   "cell_type": "markdown",
   "metadata": {},
   "source": [
    "I used PCA as a follow up to K-means in order to see if I could improve the accuracy of my unsupervised learning. However, both the use of K-means and PCA was flawed as I had already done pre-selection of the variables to include in my model. Nonetheless, I've kept my work on both in the project to show my development and growth through the project"
   ]
  },
  {
   "cell_type": "code",
   "execution_count": 39,
   "metadata": {},
   "outputs": [
    {
     "data": {
      "image/png": "[encoded data removed]",
      "text/plain": [
       "<Figure size 432x288 with 1 Axes>"
      ]
     },
     "metadata": {},
     "output_type": "display_data"
    }
   ],
   "source": [
    "#PCA when we have already scaled down the features manually\n",
    "pca = PCA().fit(fp[features_to_include])\n",
    "plt.plot(np.cumsum(pca.explained_variance_ratio_))\n",
    "plt.xlabel('number of components')\n",
    "plt.ylabel('cumulative explained variance');"
   ]
  },
  {
   "cell_type": "code",
   "execution_count": 40,
   "metadata": {
    "scrolled": true
   },
   "outputs": [
    {
     "data": {
      "text/html": [
       "<div>\n",
       "<style scoped>\n",
       "    .dataframe tbody tr th:only-of-type {\n",
       "        vertical-align: middle;\n",
       "    }\n",
       "\n",
       "    .dataframe tbody tr th {\n",
       "        vertical-align: top;\n",
       "    }\n",
       "\n",
       "    .dataframe thead th {\n",
       "        text-align: right;\n",
       "    }\n",
       "</style>\n",
       "<table border=\"1\" class=\"dataframe\">\n",
       "  <thead>\n",
       "    <tr style=\"text-align: right;\">\n",
       "      <th></th>\n",
       "      <th>Gender</th>\n",
       "      <th>Age</th>\n",
       "      <th>Driving_License</th>\n",
       "      <th>Region_Code</th>\n",
       "      <th>Previously_Insured</th>\n",
       "      <th>Vehicle_Age</th>\n",
       "      <th>Vehicle_Damage</th>\n",
       "      <th>Annual_Premium</th>\n",
       "      <th>Policy_Sales_Channel</th>\n",
       "      <th>Response</th>\n",
       "    </tr>\n",
       "  </thead>\n",
       "  <tbody>\n",
       "    <tr>\n",
       "      <th>0</th>\n",
       "      <td>0</td>\n",
       "      <td>44</td>\n",
       "      <td>1</td>\n",
       "      <td>28.0</td>\n",
       "      <td>0</td>\n",
       "      <td>2</td>\n",
       "      <td>0</td>\n",
       "      <td>40454.0</td>\n",
       "      <td>26.0</td>\n",
       "      <td>1</td>\n",
       "    </tr>\n",
       "    <tr>\n",
       "      <th>1</th>\n",
       "      <td>0</td>\n",
       "      <td>76</td>\n",
       "      <td>1</td>\n",
       "      <td>3.0</td>\n",
       "      <td>0</td>\n",
       "      <td>1</td>\n",
       "      <td>1</td>\n",
       "      <td>33536.0</td>\n",
       "      <td>26.0</td>\n",
       "      <td>0</td>\n",
       "    </tr>\n",
       "    <tr>\n",
       "      <th>2</th>\n",
       "      <td>0</td>\n",
       "      <td>47</td>\n",
       "      <td>1</td>\n",
       "      <td>28.0</td>\n",
       "      <td>0</td>\n",
       "      <td>2</td>\n",
       "      <td>0</td>\n",
       "      <td>38294.0</td>\n",
       "      <td>26.0</td>\n",
       "      <td>1</td>\n",
       "    </tr>\n",
       "    <tr>\n",
       "      <th>3</th>\n",
       "      <td>0</td>\n",
       "      <td>21</td>\n",
       "      <td>1</td>\n",
       "      <td>11.0</td>\n",
       "      <td>1</td>\n",
       "      <td>0</td>\n",
       "      <td>1</td>\n",
       "      <td>28619.0</td>\n",
       "      <td>152.0</td>\n",
       "      <td>0</td>\n",
       "    </tr>\n",
       "    <tr>\n",
       "      <th>4</th>\n",
       "      <td>1</td>\n",
       "      <td>29</td>\n",
       "      <td>1</td>\n",
       "      <td>41.0</td>\n",
       "      <td>1</td>\n",
       "      <td>0</td>\n",
       "      <td>1</td>\n",
       "      <td>27496.0</td>\n",
       "      <td>152.0</td>\n",
       "      <td>0</td>\n",
       "    </tr>\n",
       "    <tr>\n",
       "      <th>...</th>\n",
       "      <td>...</td>\n",
       "      <td>...</td>\n",
       "      <td>...</td>\n",
       "      <td>...</td>\n",
       "      <td>...</td>\n",
       "      <td>...</td>\n",
       "      <td>...</td>\n",
       "      <td>...</td>\n",
       "      <td>...</td>\n",
       "      <td>...</td>\n",
       "    </tr>\n",
       "    <tr>\n",
       "      <th>381104</th>\n",
       "      <td>0</td>\n",
       "      <td>74</td>\n",
       "      <td>1</td>\n",
       "      <td>26.0</td>\n",
       "      <td>1</td>\n",
       "      <td>1</td>\n",
       "      <td>1</td>\n",
       "      <td>30170.0</td>\n",
       "      <td>26.0</td>\n",
       "      <td>0</td>\n",
       "    </tr>\n",
       "    <tr>\n",
       "      <th>381105</th>\n",
       "      <td>0</td>\n",
       "      <td>30</td>\n",
       "      <td>1</td>\n",
       "      <td>37.0</td>\n",
       "      <td>1</td>\n",
       "      <td>0</td>\n",
       "      <td>1</td>\n",
       "      <td>40016.0</td>\n",
       "      <td>152.0</td>\n",
       "      <td>0</td>\n",
       "    </tr>\n",
       "    <tr>\n",
       "      <th>381106</th>\n",
       "      <td>0</td>\n",
       "      <td>21</td>\n",
       "      <td>1</td>\n",
       "      <td>30.0</td>\n",
       "      <td>1</td>\n",
       "      <td>0</td>\n",
       "      <td>1</td>\n",
       "      <td>35118.0</td>\n",
       "      <td>160.0</td>\n",
       "      <td>0</td>\n",
       "    </tr>\n",
       "    <tr>\n",
       "      <th>381107</th>\n",
       "      <td>1</td>\n",
       "      <td>68</td>\n",
       "      <td>1</td>\n",
       "      <td>14.0</td>\n",
       "      <td>0</td>\n",
       "      <td>2</td>\n",
       "      <td>0</td>\n",
       "      <td>44617.0</td>\n",
       "      <td>124.0</td>\n",
       "      <td>0</td>\n",
       "    </tr>\n",
       "    <tr>\n",
       "      <th>381108</th>\n",
       "      <td>0</td>\n",
       "      <td>46</td>\n",
       "      <td>1</td>\n",
       "      <td>29.0</td>\n",
       "      <td>0</td>\n",
       "      <td>1</td>\n",
       "      <td>1</td>\n",
       "      <td>41777.0</td>\n",
       "      <td>26.0</td>\n",
       "      <td>0</td>\n",
       "    </tr>\n",
       "  </tbody>\n",
       "</table>\n",
       "<p>381109 rows × 10 columns</p>\n",
       "</div>"
      ],
      "text/plain": [
       "        Gender  Age  Driving_License  Region_Code  Previously_Insured  \\\n",
       "0            0   44                1         28.0                   0   \n",
       "1            0   76                1          3.0                   0   \n",
       "2            0   47                1         28.0                   0   \n",
       "3            0   21                1         11.0                   1   \n",
       "4            1   29                1         41.0                   1   \n",
       "...        ...  ...              ...          ...                 ...   \n",
       "381104       0   74                1         26.0                   1   \n",
       "381105       0   30                1         37.0                   1   \n",
       "381106       0   21                1         30.0                   1   \n",
       "381107       1   68                1         14.0                   0   \n",
       "381108       0   46                1         29.0                   0   \n",
       "\n",
       "        Vehicle_Age  Vehicle_Damage  Annual_Premium  Policy_Sales_Channel  \\\n",
       "0                 2               0         40454.0                  26.0   \n",
       "1                 1               1         33536.0                  26.0   \n",
       "2                 2               0         38294.0                  26.0   \n",
       "3                 0               1         28619.0                 152.0   \n",
       "4                 0               1         27496.0                 152.0   \n",
       "...             ...             ...             ...                   ...   \n",
       "381104            1               1         30170.0                  26.0   \n",
       "381105            0               1         40016.0                 152.0   \n",
       "381106            0               1         35118.0                 160.0   \n",
       "381107            2               0         44617.0                 124.0   \n",
       "381108            1               1         41777.0                  26.0   \n",
       "\n",
       "        Response  \n",
       "0              1  \n",
       "1              0  \n",
       "2              1  \n",
       "3              0  \n",
       "4              0  \n",
       "...          ...  \n",
       "381104         0  \n",
       "381105         0  \n",
       "381106         0  \n",
       "381107         0  \n",
       "381108         0  \n",
       "\n",
       "[381109 rows x 10 columns]"
      ]
     },
     "execution_count": 40,
     "metadata": {},
     "output_type": "execute_result"
    }
   ],
   "source": [
    "fp"
   ]
  },
  {
   "cell_type": "code",
   "execution_count": 41,
   "metadata": {},
   "outputs": [],
   "source": [
    "fpnr = fp.drop('Response', axis = 1)"
   ]
  },
  {
   "cell_type": "code",
   "execution_count": 42,
   "metadata": {},
   "outputs": [
    {
     "data": {
      "text/html": [
       "<div>\n",
       "<style scoped>\n",
       "    .dataframe tbody tr th:only-of-type {\n",
       "        vertical-align: middle;\n",
       "    }\n",
       "\n",
       "    .dataframe tbody tr th {\n",
       "        vertical-align: top;\n",
       "    }\n",
       "\n",
       "    .dataframe thead th {\n",
       "        text-align: right;\n",
       "    }\n",
       "</style>\n",
       "<table border=\"1\" class=\"dataframe\">\n",
       "  <thead>\n",
       "    <tr style=\"text-align: right;\">\n",
       "      <th></th>\n",
       "      <th>Gender</th>\n",
       "      <th>Age</th>\n",
       "      <th>Driving_License</th>\n",
       "      <th>Region_Code</th>\n",
       "      <th>Previously_Insured</th>\n",
       "      <th>Vehicle_Age</th>\n",
       "      <th>Vehicle_Damage</th>\n",
       "      <th>Annual_Premium</th>\n",
       "      <th>Policy_Sales_Channel</th>\n",
       "    </tr>\n",
       "  </thead>\n",
       "  <tbody>\n",
       "    <tr>\n",
       "      <th>0</th>\n",
       "      <td>0</td>\n",
       "      <td>44</td>\n",
       "      <td>1</td>\n",
       "      <td>28.0</td>\n",
       "      <td>0</td>\n",
       "      <td>2</td>\n",
       "      <td>0</td>\n",
       "      <td>40454.0</td>\n",
       "      <td>26.0</td>\n",
       "    </tr>\n",
       "    <tr>\n",
       "      <th>1</th>\n",
       "      <td>0</td>\n",
       "      <td>76</td>\n",
       "      <td>1</td>\n",
       "      <td>3.0</td>\n",
       "      <td>0</td>\n",
       "      <td>1</td>\n",
       "      <td>1</td>\n",
       "      <td>33536.0</td>\n",
       "      <td>26.0</td>\n",
       "    </tr>\n",
       "    <tr>\n",
       "      <th>2</th>\n",
       "      <td>0</td>\n",
       "      <td>47</td>\n",
       "      <td>1</td>\n",
       "      <td>28.0</td>\n",
       "      <td>0</td>\n",
       "      <td>2</td>\n",
       "      <td>0</td>\n",
       "      <td>38294.0</td>\n",
       "      <td>26.0</td>\n",
       "    </tr>\n",
       "    <tr>\n",
       "      <th>3</th>\n",
       "      <td>0</td>\n",
       "      <td>21</td>\n",
       "      <td>1</td>\n",
       "      <td>11.0</td>\n",
       "      <td>1</td>\n",
       "      <td>0</td>\n",
       "      <td>1</td>\n",
       "      <td>28619.0</td>\n",
       "      <td>152.0</td>\n",
       "    </tr>\n",
       "    <tr>\n",
       "      <th>4</th>\n",
       "      <td>1</td>\n",
       "      <td>29</td>\n",
       "      <td>1</td>\n",
       "      <td>41.0</td>\n",
       "      <td>1</td>\n",
       "      <td>0</td>\n",
       "      <td>1</td>\n",
       "      <td>27496.0</td>\n",
       "      <td>152.0</td>\n",
       "    </tr>\n",
       "    <tr>\n",
       "      <th>...</th>\n",
       "      <td>...</td>\n",
       "      <td>...</td>\n",
       "      <td>...</td>\n",
       "      <td>...</td>\n",
       "      <td>...</td>\n",
       "      <td>...</td>\n",
       "      <td>...</td>\n",
       "      <td>...</td>\n",
       "      <td>...</td>\n",
       "    </tr>\n",
       "    <tr>\n",
       "      <th>381104</th>\n",
       "      <td>0</td>\n",
       "      <td>74</td>\n",
       "      <td>1</td>\n",
       "      <td>26.0</td>\n",
       "      <td>1</td>\n",
       "      <td>1</td>\n",
       "      <td>1</td>\n",
       "      <td>30170.0</td>\n",
       "      <td>26.0</td>\n",
       "    </tr>\n",
       "    <tr>\n",
       "      <th>381105</th>\n",
       "      <td>0</td>\n",
       "      <td>30</td>\n",
       "      <td>1</td>\n",
       "      <td>37.0</td>\n",
       "      <td>1</td>\n",
       "      <td>0</td>\n",
       "      <td>1</td>\n",
       "      <td>40016.0</td>\n",
       "      <td>152.0</td>\n",
       "    </tr>\n",
       "    <tr>\n",
       "      <th>381106</th>\n",
       "      <td>0</td>\n",
       "      <td>21</td>\n",
       "      <td>1</td>\n",
       "      <td>30.0</td>\n",
       "      <td>1</td>\n",
       "      <td>0</td>\n",
       "      <td>1</td>\n",
       "      <td>35118.0</td>\n",
       "      <td>160.0</td>\n",
       "    </tr>\n",
       "    <tr>\n",
       "      <th>381107</th>\n",
       "      <td>1</td>\n",
       "      <td>68</td>\n",
       "      <td>1</td>\n",
       "      <td>14.0</td>\n",
       "      <td>0</td>\n",
       "      <td>2</td>\n",
       "      <td>0</td>\n",
       "      <td>44617.0</td>\n",
       "      <td>124.0</td>\n",
       "    </tr>\n",
       "    <tr>\n",
       "      <th>381108</th>\n",
       "      <td>0</td>\n",
       "      <td>46</td>\n",
       "      <td>1</td>\n",
       "      <td>29.0</td>\n",
       "      <td>0</td>\n",
       "      <td>1</td>\n",
       "      <td>1</td>\n",
       "      <td>41777.0</td>\n",
       "      <td>26.0</td>\n",
       "    </tr>\n",
       "  </tbody>\n",
       "</table>\n",
       "<p>381109 rows × 9 columns</p>\n",
       "</div>"
      ],
      "text/plain": [
       "        Gender  Age  Driving_License  Region_Code  Previously_Insured  \\\n",
       "0            0   44                1         28.0                   0   \n",
       "1            0   76                1          3.0                   0   \n",
       "2            0   47                1         28.0                   0   \n",
       "3            0   21                1         11.0                   1   \n",
       "4            1   29                1         41.0                   1   \n",
       "...        ...  ...              ...          ...                 ...   \n",
       "381104       0   74                1         26.0                   1   \n",
       "381105       0   30                1         37.0                   1   \n",
       "381106       0   21                1         30.0                   1   \n",
       "381107       1   68                1         14.0                   0   \n",
       "381108       0   46                1         29.0                   0   \n",
       "\n",
       "        Vehicle_Age  Vehicle_Damage  Annual_Premium  Policy_Sales_Channel  \n",
       "0                 2               0         40454.0                  26.0  \n",
       "1                 1               1         33536.0                  26.0  \n",
       "2                 2               0         38294.0                  26.0  \n",
       "3                 0               1         28619.0                 152.0  \n",
       "4                 0               1         27496.0                 152.0  \n",
       "...             ...             ...             ...                   ...  \n",
       "381104            1               1         30170.0                  26.0  \n",
       "381105            0               1         40016.0                 152.0  \n",
       "381106            0               1         35118.0                 160.0  \n",
       "381107            2               0         44617.0                 124.0  \n",
       "381108            1               1         41777.0                  26.0  \n",
       "\n",
       "[381109 rows x 9 columns]"
      ]
     },
     "execution_count": 42,
     "metadata": {},
     "output_type": "execute_result"
    }
   ],
   "source": [
    "fpnr"
   ]
  },
  {
   "cell_type": "code",
   "execution_count": 43,
   "metadata": {},
   "outputs": [
    {
     "data": {
      "image/png": "[encoded data removed]",
      "text/plain": [
       "<Figure size 432x288 with 1 Axes>"
      ]
     },
     "metadata": {},
     "output_type": "display_data"
    }
   ],
   "source": [
    "pca = PCA().fit(fpnr)\n",
    "plt.plot(np.cumsum(pca.explained_variance_ratio_))\n",
    "plt.xlabel('number of components')\n",
    "plt.ylabel('cumulative explained variance');"
   ]
  },
  {
   "cell_type": "code",
   "execution_count": 44,
   "metadata": {},
   "outputs": [
    {
     "ename": "NameError",
     "evalue": "name 'XS' is not defined",
     "output_type": "error",
     "traceback": [
      "\u001b[1;31m---------------------------------------------------------------------------\u001b[0m",
      "\u001b[1;31mNameError\u001b[0m                                 Traceback (most recent call last)",
      "\u001b[1;32m<ipython-input-44-efcd8b028d85>\u001b[0m in \u001b[0;36m<module>\u001b[1;34m\u001b[0m\n\u001b[0;32m      1\u001b[0m \u001b[1;31m#Build and fit a PCA model to the data\u001b[0m\u001b[1;33m\u001b[0m\u001b[1;33m\u001b[0m\u001b[1;33m\u001b[0m\u001b[0m\n\u001b[0;32m      2\u001b[0m \u001b[0mmy_pca\u001b[0m \u001b[1;33m=\u001b[0m \u001b[0mPCA\u001b[0m\u001b[1;33m(\u001b[0m\u001b[0mn_components\u001b[0m\u001b[1;33m=\u001b[0m\u001b[1;36m2\u001b[0m\u001b[1;33m)\u001b[0m\u001b[1;33m\u001b[0m\u001b[1;33m\u001b[0m\u001b[0m\n\u001b[1;32m----> 3\u001b[1;33m \u001b[0mmy_pca\u001b[0m\u001b[1;33m.\u001b[0m\u001b[0mfit\u001b[0m\u001b[1;33m(\u001b[0m\u001b[0mXS\u001b[0m\u001b[1;33m)\u001b[0m\u001b[1;33m\u001b[0m\u001b[1;33m\u001b[0m\u001b[0m\n\u001b[0m\u001b[0;32m      4\u001b[0m \u001b[0mmy_pca_test\u001b[0m \u001b[1;33m=\u001b[0m \u001b[0mPCA\u001b[0m\u001b[1;33m(\u001b[0m\u001b[0mn_components\u001b[0m \u001b[1;33m=\u001b[0m \u001b[1;36m2\u001b[0m\u001b[1;33m)\u001b[0m\u001b[1;33m\u001b[0m\u001b[1;33m\u001b[0m\u001b[0m\n\u001b[0;32m      5\u001b[0m \u001b[1;31m#my_pca_test.fit(Xt)\u001b[0m\u001b[1;33m\u001b[0m\u001b[1;33m\u001b[0m\u001b[1;33m\u001b[0m\u001b[0m\n",
      "\u001b[1;31mNameError\u001b[0m: name 'XS' is not defined"
     ]
    }
   ],
   "source": [
    "\n",
    "#Build and fit a PCA model to the data\n",
    "my_pca = PCA(n_components=2)\n",
    "my_pca.fit(XS)\n",
    "my_pca_test = PCA(n_components = 2)\n",
    "#my_pca_test.fit(Xt)\n",
    "my_pca2 = PCA(n_components= 3)\n",
    "my_pca2.fit(XS)\n",
    "#my_pca_test2 = PCA(n_components = 3)\n",
    "#my_pca_test2.fit(Xt)\n",
    "\n",
    "#X2_test = PCA(n_components = 2)\n",
    "#Transform the data\n",
    "X_PCA = my_pca.transform(XS)\n",
    "#X_PCA_test = my_pca_test.transform(Xt)\n",
    "X2_PCA = my_pca2.transform(XS)\n",
    "#X2_PCA_test = my_pca_test2.transform(Xt)"
   ]
  },
  {
   "cell_type": "code",
   "execution_count": 44,
   "metadata": {
    "scrolled": true
   },
   "outputs": [
    {
     "name": "stdout",
     "output_type": "stream",
     "text": [
      "[[ 1.20224365  0.03672681]\n",
      " [ 2.50943954 -0.2035566 ]\n",
      " [ 1.31338021 -0.05681788]\n",
      " ...\n",
      " [-0.97659743  0.22083672]\n",
      " [ 1.41569183  0.71374083]\n",
      " [ 1.29719845  0.10418913]]\n"
     ]
    }
   ],
   "source": [
    "print(X_PCA)"
   ]
  },
  {
   "cell_type": "code",
   "execution_count": 45,
   "metadata": {},
   "outputs": [
    {
     "name": "stdout",
     "output_type": "stream",
     "text": [
      "[[0.41738763 0.65896853 0.19941224 0.57869542 0.12997854]\n",
      " [0.20821783 0.04109291 0.4896834  0.24701481 0.80879575]]\n"
     ]
    }
   ],
   "source": [
    "print(abs(my_pca.components_))"
   ]
  },
  {
   "cell_type": "code",
   "execution_count": 46,
   "metadata": {
    "scrolled": true
   },
   "outputs": [
    {
     "name": "stdout",
     "output_type": "stream",
     "text": [
      "[0.27066079 0.20219936]\n"
     ]
    }
   ],
   "source": [
    "print(my_pca.explained_variance_ratio_)"
   ]
  },
  {
   "cell_type": "code",
   "execution_count": 47,
   "metadata": {},
   "outputs": [
    {
     "name": "stdout",
     "output_type": "stream",
     "text": [
      "[0.27066079 0.20219936 0.19720262]\n"
     ]
    }
   ],
   "source": [
    "print(my_pca2.explained_variance_ratio_)"
   ]
  },
  {
   "cell_type": "code",
   "execution_count": 48,
   "metadata": {},
   "outputs": [
    {
     "data": {
      "text/plain": [
       "Text(0, 0.5, 'pca d 2')"
      ]
     },
     "execution_count": 48,
     "metadata": {},
     "output_type": "execute_result"
    },
    {
     "data": {
      "image/png": "[encoded data removed]",
      "text/plain": [
       "<Figure size 576x576 with 1 Axes>"
      ]
     },
     "metadata": {
      "needs_background": "light"
     },
     "output_type": "display_data"
    }
   ],
   "source": [
    "#Ploting the difference in groups determined by PCA. Not a lot of separation\n",
    "plt.figure(figsize=(8,8))\n",
    "plt.scatter(X_PCA[:,0], X_PCA[:,1],c=fp['Response'])\n",
    "plt.xlabel('pca d 1')\n",
    "plt.ylabel('pca d 2')"
   ]
  },
  {
   "cell_type": "code",
   "execution_count": 46,
   "metadata": {},
   "outputs": [
    {
     "data": {
      "text/plain": [
       "(381109, 2)"
      ]
     },
     "execution_count": 46,
     "metadata": {},
     "output_type": "execute_result"
    }
   ],
   "source": [
    "X_PCA.shape"
   ]
  },
  {
   "cell_type": "code",
   "execution_count": 45,
   "metadata": {},
   "outputs": [],
   "source": [
    "from sklearn.linear_model import LogisticRegression\n"
   ]
  },
  {
   "cell_type": "code",
   "execution_count": 25,
   "metadata": {},
   "outputs": [],
   "source": [
    "import sklearn.pipeline as skpl #I considered using pipeline to move from PCA to logistic regression but abandoned the idea\n",
    "#for manually moving between the models in order to keep better track of what I was doing"
   ]
  },
  {
   "cell_type": "code",
   "execution_count": 28,
   "metadata": {},
   "outputs": [],
   "source": [
    "pca = PCA(n_components = 3)"
   ]
  },
  {
   "cell_type": "code",
   "execution_count": 29,
   "metadata": {},
   "outputs": [],
   "source": [
    "logreg = LogisticRegression()"
   ]
  },
  {
   "cell_type": "code",
   "execution_count": 30,
   "metadata": {},
   "outputs": [],
   "source": [
    "pipe = skpl.Pipeline(steps =[('pca', pca), ('logreg', logreg)]) "
   ]
  },
  {
   "cell_type": "code",
   "execution_count": 31,
   "metadata": {},
   "outputs": [
    {
     "data": {
      "text/plain": [
       "LogisticRegression()"
      ]
     },
     "execution_count": 31,
     "metadata": {},
     "output_type": "execute_result"
    }
   ],
   "source": [
    "logreg"
   ]
  },
  {
   "cell_type": "code",
   "execution_count": 32,
   "metadata": {},
   "outputs": [
    {
     "data": {
      "text/plain": [
       "Pipeline(steps=[('pca', PCA(n_components=3)), ('logreg', LogisticRegression())])"
      ]
     },
     "execution_count": 32,
     "metadata": {},
     "output_type": "execute_result"
    }
   ],
   "source": [
    "pipe"
   ]
  },
  {
   "cell_type": "code",
   "execution_count": 52,
   "metadata": {},
   "outputs": [],
   "source": [
    "y = fp['Response']\n"
   ]
  },
  {
   "cell_type": "code",
   "execution_count": 56,
   "metadata": {},
   "outputs": [
    {
     "data": {
      "text/plain": [
       "LogisticRegression()"
      ]
     },
     "execution_count": 56,
     "metadata": {},
     "output_type": "execute_result"
    }
   ],
   "source": [
    "train1 = X_PCA\n",
    "logreg.fit(train1, y)\n",
    "#This is a poor training model with lots of overfitting. We will try splitting the data and making a training and test set next"
   ]
  },
  {
   "cell_type": "code",
   "execution_count": 57,
   "metadata": {},
   "outputs": [
    {
     "data": {
      "text/plain": [
       "0.8772896992723866"
      ]
     },
     "execution_count": 57,
     "metadata": {},
     "output_type": "execute_result"
    }
   ],
   "source": [
    "logreg.score(X_PCA,y) #Good accuracy"
   ]
  },
  {
   "cell_type": "code",
   "execution_count": 46,
   "metadata": {},
   "outputs": [],
   "source": [
    "from sklearn.model_selection import train_test_split\n"
   ]
  },
  {
   "cell_type": "code",
   "execution_count": 47,
   "metadata": {},
   "outputs": [
    {
     "ename": "NameError",
     "evalue": "name 'X_PCA' is not defined",
     "output_type": "error",
     "traceback": [
      "\u001b[1;31m---------------------------------------------------------------------------\u001b[0m",
      "\u001b[1;31mNameError\u001b[0m                                 Traceback (most recent call last)",
      "\u001b[1;32m<ipython-input-47-1d998ea859eb>\u001b[0m in \u001b[0;36m<module>\u001b[1;34m\u001b[0m\n\u001b[1;32m----> 1\u001b[1;33m \u001b[0mX_train\u001b[0m\u001b[1;33m,\u001b[0m \u001b[0mX_test\u001b[0m\u001b[1;33m,\u001b[0m \u001b[0my_train\u001b[0m\u001b[1;33m,\u001b[0m \u001b[0my_test\u001b[0m \u001b[1;33m=\u001b[0m \u001b[0mtrain_test_split\u001b[0m\u001b[1;33m(\u001b[0m\u001b[0mX_PCA\u001b[0m\u001b[1;33m,\u001b[0m \u001b[0my\u001b[0m\u001b[1;33m,\u001b[0m \u001b[0mtest_size\u001b[0m\u001b[1;33m=\u001b[0m\u001b[1;36m0.4\u001b[0m\u001b[1;33m,\u001b[0m\u001b[1;33m)\u001b[0m \u001b[1;31m#Split up training data and test\u001b[0m\u001b[1;33m\u001b[0m\u001b[1;33m\u001b[0m\u001b[0m\n\u001b[0m",
      "\u001b[1;31mNameError\u001b[0m: name 'X_PCA' is not defined"
     ]
    }
   ],
   "source": [
    "\n",
    "X_train, X_test, y_train, y_test = train_test_split(X_PCA, y, test_size=0.4,) #Split up training data and test\n"
   ]
  },
  {
   "cell_type": "code",
   "execution_count": 48,
   "metadata": {},
   "outputs": [
    {
     "ename": "NameError",
     "evalue": "name 'XS' is not defined",
     "output_type": "error",
     "traceback": [
      "\u001b[1;31m---------------------------------------------------------------------------\u001b[0m",
      "\u001b[1;31mNameError\u001b[0m                                 Traceback (most recent call last)",
      "\u001b[1;32m<ipython-input-48-cf60d1b290da>\u001b[0m in \u001b[0;36m<module>\u001b[1;34m\u001b[0m\n\u001b[1;32m----> 1\u001b[1;33m \u001b[0mXp_train\u001b[0m\u001b[1;33m,\u001b[0m \u001b[0mXp_test\u001b[0m\u001b[1;33m,\u001b[0m \u001b[0myp_train\u001b[0m\u001b[1;33m,\u001b[0m \u001b[0myp_test\u001b[0m \u001b[1;33m=\u001b[0m \u001b[0mtrain_test_split\u001b[0m\u001b[1;33m(\u001b[0m\u001b[0mXS\u001b[0m\u001b[1;33m,\u001b[0m\u001b[0my\u001b[0m\u001b[1;33m,\u001b[0m \u001b[0mtest_size\u001b[0m \u001b[1;33m=\u001b[0m \u001b[1;36m0.4\u001b[0m\u001b[1;33m)\u001b[0m \u001b[1;31m#Try scaled data only\u001b[0m\u001b[1;33m\u001b[0m\u001b[1;33m\u001b[0m\u001b[0m\n\u001b[0m",
      "\u001b[1;31mNameError\u001b[0m: name 'XS' is not defined"
     ]
    }
   ],
   "source": [
    "Xp_train, Xp_test, yp_train, yp_test = train_test_split(XS,y, test_size = 0.4) #Try scaled data only"
   ]
  },
  {
   "cell_type": "code",
   "execution_count": 49,
   "metadata": {},
   "outputs": [
    {
     "ename": "NameError",
     "evalue": "name 'X2_PCA' is not defined",
     "output_type": "error",
     "traceback": [
      "\u001b[1;31m---------------------------------------------------------------------------\u001b[0m",
      "\u001b[1;31mNameError\u001b[0m                                 Traceback (most recent call last)",
      "\u001b[1;32m<ipython-input-49-6a25eb38a44c>\u001b[0m in \u001b[0;36m<module>\u001b[1;34m\u001b[0m\n\u001b[1;32m----> 1\u001b[1;33m \u001b[0mX2_train\u001b[0m\u001b[1;33m,\u001b[0m \u001b[0mX2_test\u001b[0m\u001b[1;33m,\u001b[0m \u001b[0my2_train\u001b[0m\u001b[1;33m,\u001b[0m \u001b[0my2_test\u001b[0m \u001b[1;33m=\u001b[0m \u001b[0mtrain_test_split\u001b[0m\u001b[1;33m(\u001b[0m\u001b[0mX2_PCA\u001b[0m\u001b[1;33m,\u001b[0m \u001b[0my\u001b[0m\u001b[1;33m,\u001b[0m \u001b[0mtest_size\u001b[0m\u001b[1;33m=\u001b[0m\u001b[1;36m0.2\u001b[0m\u001b[1;33m,\u001b[0m \u001b[1;33m)\u001b[0m \u001b[1;31m#PCA with 3 components\u001b[0m\u001b[1;33m\u001b[0m\u001b[1;33m\u001b[0m\u001b[0m\n\u001b[0m",
      "\u001b[1;31mNameError\u001b[0m: name 'X2_PCA' is not defined"
     ]
    }
   ],
   "source": [
    "X2_train, X2_test, y2_train, y2_test = train_test_split(X2_PCA, y, test_size=0.2, ) #PCA with 3 components"
   ]
  },
  {
   "cell_type": "code",
   "execution_count": 63,
   "metadata": {},
   "outputs": [
    {
     "name": "stdout",
     "output_type": "stream",
     "text": [
      "0.8780011020440293\n"
     ]
    }
   ],
   "source": [
    "#logreg of PCA n_components = 3\n",
    "logreg2 = LogisticRegression()\n",
    "\n",
    "logreg2.fit(X2_train, y2_train)\n",
    "preds2 = logreg2.predict(X2_test)\n",
    "print(accuracy_score(y2_test, preds2))"
   ]
  },
  {
   "cell_type": "code",
   "execution_count": 64,
   "metadata": {},
   "outputs": [
    {
     "data": {
      "text/plain": [
       "LogisticRegression()"
      ]
     },
     "execution_count": 64,
     "metadata": {},
     "output_type": "execute_result"
    }
   ],
   "source": [
    "logreg.fit(X_train, y_train) #logreg of PCA n_components = 2"
   ]
  },
  {
   "cell_type": "code",
   "execution_count": 65,
   "metadata": {},
   "outputs": [],
   "source": [
    "preds = logreg.predict(X_test)"
   ]
  },
  {
   "cell_type": "code",
   "execution_count": 66,
   "metadata": {},
   "outputs": [
    {
     "name": "stdout",
     "output_type": "stream",
     "text": [
      "0.8777255910367086\n"
     ]
    }
   ],
   "source": [
    "print(accuracy_score(y_test, preds)) #Still overfitting????????"
   ]
  },
  {
   "cell_type": "code",
   "execution_count": 68,
   "metadata": {},
   "outputs": [
    {
     "data": {
      "text/plain": [
       "0    133823\n",
       "1     18621\n",
       "Name: Response, dtype: int64"
      ]
     },
     "execution_count": 68,
     "metadata": {},
     "output_type": "execute_result"
    }
   ],
   "source": [
    "y_test.value_counts()"
   ]
  },
  {
   "cell_type": "code",
   "execution_count": 114,
   "metadata": {},
   "outputs": [],
   "source": [
    "okay = pd.read_csv('sample_submissionfp.csv')"
   ]
  },
  {
   "cell_type": "code",
   "execution_count": 115,
   "metadata": {},
   "outputs": [
    {
     "data": {
      "text/html": [
       "<div>\n",
       "<style scoped>\n",
       "    .dataframe tbody tr th:only-of-type {\n",
       "        vertical-align: middle;\n",
       "    }\n",
       "\n",
       "    .dataframe tbody tr th {\n",
       "        vertical-align: top;\n",
       "    }\n",
       "\n",
       "    .dataframe thead th {\n",
       "        text-align: right;\n",
       "    }\n",
       "</style>\n",
       "<table border=\"1\" class=\"dataframe\">\n",
       "  <thead>\n",
       "    <tr style=\"text-align: right;\">\n",
       "      <th></th>\n",
       "      <th>id</th>\n",
       "      <th>Response</th>\n",
       "    </tr>\n",
       "  </thead>\n",
       "  <tbody>\n",
       "    <tr>\n",
       "      <th>0</th>\n",
       "      <td>381110</td>\n",
       "      <td>0</td>\n",
       "    </tr>\n",
       "    <tr>\n",
       "      <th>1</th>\n",
       "      <td>381111</td>\n",
       "      <td>0</td>\n",
       "    </tr>\n",
       "    <tr>\n",
       "      <th>2</th>\n",
       "      <td>381112</td>\n",
       "      <td>0</td>\n",
       "    </tr>\n",
       "    <tr>\n",
       "      <th>3</th>\n",
       "      <td>381113</td>\n",
       "      <td>0</td>\n",
       "    </tr>\n",
       "    <tr>\n",
       "      <th>4</th>\n",
       "      <td>381114</td>\n",
       "      <td>0</td>\n",
       "    </tr>\n",
       "    <tr>\n",
       "      <th>...</th>\n",
       "      <td>...</td>\n",
       "      <td>...</td>\n",
       "    </tr>\n",
       "    <tr>\n",
       "      <th>127032</th>\n",
       "      <td>508142</td>\n",
       "      <td>0</td>\n",
       "    </tr>\n",
       "    <tr>\n",
       "      <th>127033</th>\n",
       "      <td>508143</td>\n",
       "      <td>0</td>\n",
       "    </tr>\n",
       "    <tr>\n",
       "      <th>127034</th>\n",
       "      <td>508144</td>\n",
       "      <td>0</td>\n",
       "    </tr>\n",
       "    <tr>\n",
       "      <th>127035</th>\n",
       "      <td>508145</td>\n",
       "      <td>0</td>\n",
       "    </tr>\n",
       "    <tr>\n",
       "      <th>127036</th>\n",
       "      <td>508146</td>\n",
       "      <td>0</td>\n",
       "    </tr>\n",
       "  </tbody>\n",
       "</table>\n",
       "<p>127037 rows × 2 columns</p>\n",
       "</div>"
      ],
      "text/plain": [
       "            id  Response\n",
       "0       381110         0\n",
       "1       381111         0\n",
       "2       381112         0\n",
       "3       381113         0\n",
       "4       381114         0\n",
       "...        ...       ...\n",
       "127032  508142         0\n",
       "127033  508143         0\n",
       "127034  508144         0\n",
       "127035  508145         0\n",
       "127036  508146         0\n",
       "\n",
       "[127037 rows x 2 columns]"
      ]
     },
     "execution_count": 115,
     "metadata": {},
     "output_type": "execute_result"
    }
   ],
   "source": [
    "okay #The sample submissions responses are all 0's which is one of the reasons I decided to split the train data"
   ]
  },
  {
   "cell_type": "markdown",
   "metadata": {},
   "source": []
  },
  {
   "cell_type": "code",
   "execution_count": 84,
   "metadata": {},
   "outputs": [
    {
     "name": "stdout",
     "output_type": "stream",
     "text": [
      "0.8777255910367086\n",
      "0.8780011020440293\n"
     ]
    }
   ],
   "source": [
    " #accuracy hardly increases with three components\n",
    "print(accuracy_score(y_test, preds))\n",
    "print(accuracy_score(y2_test, preds2))\n",
    "#weird values\n",
    "#0.9633807473413257\n",
    "#0.9972711290703471\n",
    "#0.9397577083841715\n",
    "#0.997336726929233"
   ]
  },
  {
   "cell_type": "code",
   "execution_count": 50,
   "metadata": {},
   "outputs": [],
   "source": [
    "from sklearn.metrics import f1_score\n",
    "#A way of checking a model's performance. 0 is bad, 1 is best."
   ]
  },
  {
   "cell_type": "code",
   "execution_count": 86,
   "metadata": {
    "scrolled": false
   },
   "outputs": [
    {
     "name": "stdout",
     "output_type": "stream",
     "text": [
      "0.000107284626113078\n",
      "0.0\n"
     ]
    }
   ],
   "source": [
    "\n",
    "print(f1_score(y_test, preds))\n",
    "print(f1_score(y2_test, preds2))\n",
    "#possible interpretations: One factor is under represented in sample, need to simulate data for higher counts of \n",
    "#under represented factor or change weights\n",
    "#change up test size and random state\n",
    "#Ideally want f1 score between .6 -> .8\n"
   ]
  },
  {
   "cell_type": "markdown",
   "metadata": {},
   "source": [
    "Poor f1-scores means poor model performance. F1-score is calculated by creating a harmonic mean between precision and recall. Because accuracy score is good for the models but the f-1 score is 0, then the model's recall must be non-existant. What exactly are the models doing?"
   ]
  },
  {
   "cell_type": "code",
   "execution_count": 76,
   "metadata": {},
   "outputs": [
    {
     "data": {
      "text/plain": [
       "230682    0\n",
       "175136    1\n",
       "312939    0\n",
       "298527    0\n",
       "105098    0\n",
       "         ..\n",
       "342871    0\n",
       "335165    0\n",
       "210032    0\n",
       "276813    0\n",
       "55455     0\n",
       "Name: Response, Length: 152444, dtype: int32"
      ]
     },
     "execution_count": 76,
     "metadata": {},
     "output_type": "execute_result"
    }
   ],
   "source": [
    "y_test #Taking a look at the data"
   ]
  },
  {
   "cell_type": "code",
   "execution_count": 75,
   "metadata": {},
   "outputs": [
    {
     "data": {
      "text/plain": [
       "0    127037\n",
       "Name: Response, dtype: int64"
      ]
     },
     "execution_count": 75,
     "metadata": {},
     "output_type": "execute_result"
    }
   ],
   "source": [
    "okay['Response'].value_counts()"
   ]
  },
  {
   "cell_type": "code",
   "execution_count": 76,
   "metadata": {},
   "outputs": [
    {
     "data": {
      "text/plain": [
       "array([0], dtype=int64)"
      ]
     },
     "execution_count": 76,
     "metadata": {},
     "output_type": "execute_result"
    }
   ],
   "source": [
    "okay['Response'].unique() #Only failures are included in validation set. Because of this, I went back to my models\n",
    "#and split the training data"
   ]
  },
  {
   "cell_type": "code",
   "execution_count": 87,
   "metadata": {
    "scrolled": true
   },
   "outputs": [
    {
     "data": {
      "text/plain": [
       "0    334399\n",
       "1     46710\n",
       "Name: Response, dtype: int64"
      ]
     },
     "execution_count": 87,
     "metadata": {},
     "output_type": "execute_result"
    }
   ],
   "source": [
    "fp['Response'].value_counts()\n"
   ]
  },
  {
   "cell_type": "code",
   "execution_count": 88,
   "metadata": {},
   "outputs": [
    {
     "data": {
      "text/plain": [
       "0.13968343206767964"
      ]
     },
     "execution_count": 88,
     "metadata": {},
     "output_type": "execute_result"
    }
   ],
   "source": [
    "46710 / 334399 #Checking the percentage of successes in the dataset. This will be important for when we do weighting"
   ]
  },
  {
   "cell_type": "code",
   "execution_count": 89,
   "metadata": {},
   "outputs": [
    {
     "name": "stdout",
     "output_type": "stream",
     "text": [
      "[[ 0.35170556 -1.37512116 -2.03430791]]\n"
     ]
    }
   ],
   "source": [
    "print(logreg.coef_)"
   ]
  },
  {
   "cell_type": "code",
   "execution_count": 53,
   "metadata": {},
   "outputs": [
    {
     "data": {
      "text/plain": [
       "LogisticRegression()"
      ]
     },
     "execution_count": 53,
     "metadata": {},
     "output_type": "execute_result"
    }
   ],
   "source": [
    "#Abandoning PCA and moving into normal logreg\n",
    "train3 = fp[features_to_include]\n",
    "X3_train, X3_test, y3_train, y3_test = train_test_split(train3, y, test_size=0.4, )\n",
    "logreg3 = LogisticRegression()\n",
    "y = fp['Response']\n",
    "logreg3.fit(X3_train, y3_train)\n"
   ]
  },
  {
   "cell_type": "code",
   "execution_count": 37,
   "metadata": {},
   "outputs": [],
   "source": [
    "preds3 = logreg3.predict(X3_test)"
   ]
  },
  {
   "cell_type": "code",
   "execution_count": 38,
   "metadata": {},
   "outputs": [
    {
     "name": "stdout",
     "output_type": "stream",
     "text": [
      "0.8774238408858335\n"
     ]
    }
   ],
   "source": [
    "print(accuracy_score(preds3, y3_test))"
   ]
  },
  {
   "cell_type": "code",
   "execution_count": 39,
   "metadata": {},
   "outputs": [
    {
     "ename": "NameError",
     "evalue": "name 'f1_score' is not defined",
     "output_type": "error",
     "traceback": [
      "\u001b[1;31m---------------------------------------------------------------------------\u001b[0m",
      "\u001b[1;31mNameError\u001b[0m                                 Traceback (most recent call last)",
      "\u001b[1;32m<ipython-input-39-e2595a48136f>\u001b[0m in \u001b[0;36m<module>\u001b[1;34m\u001b[0m\n\u001b[1;32m----> 1\u001b[1;33m \u001b[0mprint\u001b[0m\u001b[1;33m(\u001b[0m\u001b[0mf1_score\u001b[0m\u001b[1;33m(\u001b[0m\u001b[0mpreds3\u001b[0m\u001b[1;33m,\u001b[0m \u001b[0my3_test\u001b[0m\u001b[1;33m)\u001b[0m\u001b[1;33m)\u001b[0m \u001b[1;31m#Still 0\u001b[0m\u001b[1;33m\u001b[0m\u001b[1;33m\u001b[0m\u001b[0m\n\u001b[0m",
      "\u001b[1;31mNameError\u001b[0m: name 'f1_score' is not defined"
     ]
    }
   ],
   "source": [
    "print(f1_score(preds3, y3_test)) #Still 0"
   ]
  },
  {
   "cell_type": "code",
   "execution_count": 94,
   "metadata": {},
   "outputs": [
    {
     "name": "stdout",
     "output_type": "stream",
     "text": [
      "[0 0 0 0 0 0 0 0 0 0 0 0 0 0 0 0 0 0 0 0 0 0 0 0 0 0 0 0 0 0 0 0 0 0 0 0 0\n",
      " 0 0 0 0 0 0 0 0 0 0 0 0 0 0 0 0 0 0 0 0 0 0 0 0 0 0 0 0 0 0 0 0 0 0 0 0 0\n",
      " 0 0 0 0 0 0 0 0 0 0 0 0 0 0 0 0 0 0 0 0 0 0 0 0 0 0 0 0 0 0 0 0 0 0 0 0 0\n",
      " 0 0 0 0 0 0 0 0 0 0 0 0 0 0 0 0 0 0 0 0 0 0 0 0 0 0 0 0 0 0 0 0 0 0 0 0 0\n",
      " 0 0 0 0 0 0 0 0 0 0 0 0 0 0 0 0 0 0 0 0 0 0 0 0 0 0 0 0 0 0 0 0 0 0 0 0 0\n",
      " 0 0 0 0 0 0 0 0 0 0 0 0 0 0 0 0 0 0 0 0 0 0 0 0 0 0 0 0 0 0 0 0 0 0 0 0 0\n",
      " 0 0 0 0 0 0 0 0 0 0 0 0 0 0 0 0 0 0 0 0 0 0 0 0 0 0 0 0 0 0 0 0 0 0 0 0 0\n",
      " 0 0 0 0 0 0 0 0 0 0 0 0 0 0 0 0 0 0 0 0 0 0 0 0 0 0 0 0 0 0 0 0 0 0 0 0 0\n",
      " 0 0 0 0 0 0 0 0 0 0 0 0 0 0 0 0 0 0 0 0 0 0 0 0 0 0 0 0 0 0 0 0 0 0 0 0 0\n",
      " 0 0 0 0 0 0 0 0 0 0 0 0 0 0 0 0 0 0 0 0 0 0 0 0 0 0 0 0 0 0 0 0 0 0 0 0 0\n",
      " 0 0 0 0 0 0 0 0 0 0 0 0 0 0 0 0 0 0 0 0 0 0 0 0 0 0 0 0 0 0 0 0 0 0 0 0 0\n",
      " 0 0 0 0 0 0 0 0 0 0 0 0 0 0 0 0 0 0 0 0 0 0 0 0 0 0 0 0 0 0 0 0 0 0 0 0 0\n",
      " 0 0 0 0 0 0 0 0 0 0 0 0 0 0 0 0 0 0 0 0 0 0 0 0 0 0 0 0 0 0 0 0 0 0 0 0 0\n",
      " 0 0 0 0 0 0 0 0 0 0 0 0 0 0 0 0 0 0 0 0 0 0 0 0 0 0 0 0 0 0 0 0 0 0 0 0 0\n",
      " 0 0 0 0 0 0 0 0 0 0 0 0 0 0 0 0 0 0 0 0 0 0 0 0 0 0 0 0 0 0 0 0 0 0 0 0 0\n",
      " 0 0 0 0 0 0 0 0 0 0 0 0 0 0 0 0 0 0 0 0 0 0 0 0 0 0 0 0 0 0 0 0 0 0 0 0 0\n",
      " 0 0 0 0 0 0 0 0 0 0 0 0 0 0 0 0 0 0 0 0 0 0 0 0 0 0 0 0 0 0 0 0 0 0 0 0 0\n",
      " 0 0 0 0 0 0 0 0 0 0 0 0 0 0 0 0 0 0 0 0 0 0 0 0 0 0 0 0 0 0 0 0 0 0 0 0 0\n",
      " 0 0 0 0 0 0 0 0 0 0 0 0 0 0 0 0 0 0 0 0 0 0 0 0 0 0 0 0 0 0 0 0 0 0 0 0 0\n",
      " 0 0 0 0 0 0 0 0 0 0 0 0 0 0 0 0 0 0 0 0 0 0 0 0 0 0 0 0 0 0 0 0 0 0 0 0 0\n",
      " 0 0 0 0 0 0 0 0 0 0 0 0 0 0 0 0 0 0 0 0 0 0 0 0 0 0 0 0 0 0 0 0 0 0 0 0 0\n",
      " 0 0 0 0 0 0 0 0 0 0 0 0 0 0 0 0 0 0 0 0 0 0 0 0 0 0 0 0 0 0 0 0 0 0 0 0 0\n",
      " 0 0 0 0 0 0 0 0 0 0 0 0 0 0 0 0 0 0 0 0 0 0 0 0 0 0 0 0 0 0 0 0 0 0 0 0 0\n",
      " 0 0 0 0 0 0 0 0 0 0 0 0 0 0 0 0 0 0 0 0 0 0 0 0 0 0 0 0 0 0 0 0 0 0 0 0 0\n",
      " 0 0 0 0 0 0 0 0 0 0 0 0 0 0 0 0 0 0 0 0 0 0 0 0 0 0 0 0 0 0 0 0 0 0 0 0 0\n",
      " 0 0 0 0 0 0 0 0 0 0 0 0 0 0 0 0 0 0 0 0 0 0 0 0 0 0 0 0 0 0 0 0 0 0 0 0 0\n",
      " 0 0 0 0 0 0 0 0 0 0 0 0 0 0 0 0 0 0 0 0 0 0 0 0 0 0 0 0 0 0 0 0 0 0 0 0 0\n",
      " 0 ... 0 0 0 0 0 0 0 0 0 0 0 0 0 0 0 0 0 0 0 0 0 0 0 0 0 0 0 0 0 0 0 0 0 0\n",
      " 0 0 0 0 0 0 0 0 0 0 0 0 0 0 0 0 0 0 0 0 0 0 0 0 0 0 0 0 0 0 0 0 0 0 0 0 0\n",
      " 0 0 0 0 0 0 0 0 0 0 0 0 0 0 0 0 0 0 0 0 0 0 0 0 0 0 0 0 0 0 0 0 0 0 0 0 0\n",
      " 0 0 0 0 0 0 0 0 0 0 0 0 0 0 0 0 0 0 0 0 0 0 0 0 0 0 0 0 0 0 0 0 0 0 0 0 0\n",
      " 0 0 0 0 0 0 0 0 0 0 0 0 0 0 0 0 0 0 0 0 0 0 0 0 0 0 0 0 0 0 0 0 0 0 0 0 0\n",
      " 0 0 0 0 0 0 0 0 0 0 0 0 0 0 0 0 0 0 0 0 0 0 0 0 0 0 0 0 0 0 0 0 0 0 0 0 0\n",
      " 0 0 0 0 0 0 0 0 0 0 0 0 0 0 0 0 0 0 0 0 0 0 0 0 0 0 0 0 0 0 0 0 0 0 0 0 0\n",
      " 0 0 0 0 0 0 0 0 0 0 0 0 0 0 0 0 0 0 0 0 0 0 0 0 0 0 0 0 0 0 0 0 0 0 0 0 0\n",
      " 0 0 0 0 0 0 0 0 0 0 0 0 0 0 0 0 0 0 0 0 0 0 0 0 0 0 0 0 0 0 0 0 0 0 0 0 0\n",
      " 0 0 0 0 0 0 0 0 0 0 0 0 0 0 0 0 0 0 0 0 0 0 0 0 0 0 0 0 0 0 0 0 0 0 0 0 0\n",
      " 0 0 0 0 0 0 0 0 0 0 0 0 0 0 0 0 0 0 0 0 0 0 0 0 0 0 0 0 0 0 0 0 0 0 0 0 0\n",
      " 0 0 0 0 0 0 0 0 0 0 0 0 0 0 0 0 0 0 0 0 0 0 0 0 0 0 0 0 0 0 0 0 0 0 0 0 0\n",
      " 0 0 0 0 0 0 0 0 0 0 0 0 0 0 0 0 0 0 0 0 0 0 0 0 0 0 0 0 0 0 0 0 0 0 0 0 0\n",
      " 0 0 0 0 0 0 0 0 0 0 0 0 0 0 0 0 0 0 0 0 0 0 0 0 0 0 0 0 0 0 0 0 0 0 0 0 0\n",
      " 0 0 0 0 0 0 0 0 0 0 0 0 0 0 0 0 0 0 0 0 0 0 0 0 0 0 0 0 0 0 0 0 0 0 0 0 0\n",
      " 0 0 0 0 0 0 0 0 0 0 0 0 0 0 0 0 0 0 0 0 0 0 0 0 0 0 0 0 0 0 0 0 0 0 0 0 0\n",
      " 0 0 0 0 0 0 0 0 0 0 0 0 0 0 0 0 0 0 0 0 0 0 0 0 0 0 0 0 0 0 0 0 0 0 0 0 0\n",
      " 0 0 0 0 0 0 0 0 0 0 0 0 0 0 0 0 0 0 0 0 0 0 0 0 0 0 0 0 0 0 0 0 0 0 0 0 0\n",
      " 0 0 0 0 0 0 0 0 0 0 0 0 0 0 0 0 0 0 0 0 0 0 0 0 0 0 0 0 0 0 0 0 0 0 0 0 0\n",
      " 0 0 0 0 0 0 0 0 0 0 0 0 0 0 0 0 0 0 0 0 0 0 0 0 0 0 0 0 0 0 0 0 0 0 0 0 0\n",
      " 0 0 0 0 0 0 0 0 0 0 0 0 0 0 0 0 0 0 0 0 0 0 0 0 0 0 0 0 0 0 0 0 0 0 0 0 0\n",
      " 0 0 0 0 0 0 0 0 0 0 0 0 0 0 0 0 0 0 0 0 0 0 0 0 0 0 0 0 0 0 0 0 0 0 0 0 0\n",
      " 0 0 0 0 0 0 0 0 0 0 0 0 0 0 0 0 0 0 0 0 0 0 0 0 0 0 0 0 0 0 0 0 0 0 0 0 0\n",
      " 0 0 0 0 0 0 0 0 0 0 0 0 0 0 0 0 0 0 0 0 0 0 0 0 0 0 0 0 0 0 0 0 0 0 0 0 0\n",
      " 0 0 0 0 0 0 0 0 0 0 0 0 0 0 0 0 0 0 0 0 0 0 0 0 0 0 0 0 0 0 0 0 0 0 0 0 0\n",
      " 0 0 0 0 0 0 0 0 0 0 0 0 0 0 0 0 0 0 0 0 0 0 0 0 0 0 0 0 0 0 0 0 0 0 0 0 0\n",
      " 0 0 0 0 0 0 0 0 0 0 0 0 0 0 0 0 0 0 0 0 0 0 0 0 0 0 0 0 0 0 0 0 0 0 0 0 0\n",
      " 0 0 0 0]\n"
     ]
    }
   ],
   "source": [
    "np.set_printoptions(edgeitems = 1000)\n",
    "print(preds3)\n",
    "#Checking model predictions. As we can see, there is an abundance of 0's"
   ]
  },
  {
   "cell_type": "code",
   "execution_count": 60,
   "metadata": {},
   "outputs": [],
   "source": [
    "from sklearn.metrics import roc_auc_score\n",
    "#Another method of checking a model's performance. We aren't expecting this value to be any better than what we got for\n",
    "#our f-1 scores"
   ]
  },
  {
   "cell_type": "code",
   "execution_count": 96,
   "metadata": {},
   "outputs": [
    {
     "name": "stdout",
     "output_type": "stream",
     "text": [
      "0.4999521258339855\n",
      "0.5\n",
      "0.5\n"
     ]
    }
   ],
   "source": [
    "print(roc_auc_score(y_test, preds))\n",
    "print(roc_auc_score(y2_test, preds2))\n",
    "print(roc_auc_score(y3_test, preds3))\n",
    "\n",
    "#Oh no, our model is worthless lets move onto keras"
   ]
  },
  {
   "cell_type": "code",
   "execution_count": 97,
   "metadata": {},
   "outputs": [
    {
     "data": {
      "text/html": [
       "<div>\n",
       "<style scoped>\n",
       "    .dataframe tbody tr th:only-of-type {\n",
       "        vertical-align: middle;\n",
       "    }\n",
       "\n",
       "    .dataframe tbody tr th {\n",
       "        vertical-align: top;\n",
       "    }\n",
       "\n",
       "    .dataframe thead th {\n",
       "        text-align: right;\n",
       "    }\n",
       "</style>\n",
       "<table border=\"1\" class=\"dataframe\">\n",
       "  <thead>\n",
       "    <tr style=\"text-align: right;\">\n",
       "      <th></th>\n",
       "      <th>id</th>\n",
       "      <th>Gender</th>\n",
       "      <th>Age</th>\n",
       "      <th>Driving_License</th>\n",
       "      <th>Region_Code</th>\n",
       "      <th>Previously_Insured</th>\n",
       "      <th>Vehicle_Age</th>\n",
       "      <th>Vehicle_Damage</th>\n",
       "      <th>Annual_Premium</th>\n",
       "      <th>Policy_Sales_Channel</th>\n",
       "      <th>Response</th>\n",
       "    </tr>\n",
       "  </thead>\n",
       "  <tbody>\n",
       "    <tr>\n",
       "      <th>0</th>\n",
       "      <td>1</td>\n",
       "      <td>0</td>\n",
       "      <td>44</td>\n",
       "      <td>1</td>\n",
       "      <td>28.0</td>\n",
       "      <td>0</td>\n",
       "      <td>2</td>\n",
       "      <td>0</td>\n",
       "      <td>40454.0</td>\n",
       "      <td>26.0</td>\n",
       "      <td>1</td>\n",
       "    </tr>\n",
       "    <tr>\n",
       "      <th>1</th>\n",
       "      <td>2</td>\n",
       "      <td>0</td>\n",
       "      <td>76</td>\n",
       "      <td>1</td>\n",
       "      <td>3.0</td>\n",
       "      <td>0</td>\n",
       "      <td>1</td>\n",
       "      <td>1</td>\n",
       "      <td>33536.0</td>\n",
       "      <td>26.0</td>\n",
       "      <td>0</td>\n",
       "    </tr>\n",
       "    <tr>\n",
       "      <th>2</th>\n",
       "      <td>3</td>\n",
       "      <td>0</td>\n",
       "      <td>47</td>\n",
       "      <td>1</td>\n",
       "      <td>28.0</td>\n",
       "      <td>0</td>\n",
       "      <td>2</td>\n",
       "      <td>0</td>\n",
       "      <td>38294.0</td>\n",
       "      <td>26.0</td>\n",
       "      <td>1</td>\n",
       "    </tr>\n",
       "    <tr>\n",
       "      <th>3</th>\n",
       "      <td>4</td>\n",
       "      <td>0</td>\n",
       "      <td>21</td>\n",
       "      <td>1</td>\n",
       "      <td>11.0</td>\n",
       "      <td>1</td>\n",
       "      <td>0</td>\n",
       "      <td>1</td>\n",
       "      <td>28619.0</td>\n",
       "      <td>152.0</td>\n",
       "      <td>0</td>\n",
       "    </tr>\n",
       "    <tr>\n",
       "      <th>4</th>\n",
       "      <td>5</td>\n",
       "      <td>1</td>\n",
       "      <td>29</td>\n",
       "      <td>1</td>\n",
       "      <td>41.0</td>\n",
       "      <td>1</td>\n",
       "      <td>0</td>\n",
       "      <td>1</td>\n",
       "      <td>27496.0</td>\n",
       "      <td>152.0</td>\n",
       "      <td>0</td>\n",
       "    </tr>\n",
       "  </tbody>\n",
       "</table>\n",
       "</div>"
      ],
      "text/plain": [
       "   id  Gender  Age  Driving_License  Region_Code  Previously_Insured  \\\n",
       "0   1       0   44                1         28.0                   0   \n",
       "1   2       0   76                1          3.0                   0   \n",
       "2   3       0   47                1         28.0                   0   \n",
       "3   4       0   21                1         11.0                   1   \n",
       "4   5       1   29                1         41.0                   1   \n",
       "\n",
       "   Vehicle_Age  Vehicle_Damage  Annual_Premium  Policy_Sales_Channel  Response  \n",
       "0            2               0         40454.0                  26.0         1  \n",
       "1            1               1         33536.0                  26.0         0  \n",
       "2            2               0         38294.0                  26.0         1  \n",
       "3            0               1         28619.0                 152.0         0  \n",
       "4            0               1         27496.0                 152.0         0  "
      ]
     },
     "execution_count": 97,
     "metadata": {},
     "output_type": "execute_result"
    }
   ],
   "source": [
    "fp.head()"
   ]
  },
  {
   "cell_type": "code",
   "execution_count": 97,
   "metadata": {},
   "outputs": [
    {
     "name": "stdout",
     "output_type": "stream",
     "text": [
      "Collecting catboost\n",
      "  Downloading catboost-0.24.2-cp38-none-win_amd64.whl (65.3 MB)\n",
      "Requirement already satisfied: six in d:\\anaconda\\lib\\site-packages (from catboost) (1.15.0)\n",
      "Requirement already satisfied: matplotlib in d:\\anaconda\\lib\\site-packages (from catboost) (3.2.2)\n",
      "Collecting plotly\n",
      "  Downloading plotly-4.12.0-py2.py3-none-any.whl (13.1 MB)\n",
      "Collecting graphviz\n",
      "  Downloading graphviz-0.14.2-py2.py3-none-any.whl (18 kB)\n",
      "Requirement already satisfied: scipy in d:\\anaconda\\lib\\site-packages (from catboost) (1.5.0)\n",
      "Requirement already satisfied: numpy>=1.16.0 in d:\\anaconda\\lib\\site-packages (from catboost) (1.18.5)\n",
      "Requirement already satisfied: pandas>=0.24.0 in d:\\anaconda\\lib\\site-packages (from catboost) (1.0.5)\n",
      "Requirement already satisfied: kiwisolver>=1.0.1 in d:\\anaconda\\lib\\site-packages (from matplotlib->catboost) (1.2.0)\n",
      "Requirement already satisfied: python-dateutil>=2.1 in d:\\anaconda\\lib\\site-packages (from matplotlib->catboost) (2.8.1)\n",
      "Requirement already satisfied: pyparsing!=2.0.4,!=2.1.2,!=2.1.6,>=2.0.1 in d:\\anaconda\\lib\\site-packages (from matplotlib->catboost) (2.4.7)\n",
      "Requirement already satisfied: cycler>=0.10 in d:\\anaconda\\lib\\site-packages (from matplotlib->catboost) (0.10.0)\n",
      "Collecting retrying>=1.3.3\n",
      "  Downloading retrying-1.3.3.tar.gz (10 kB)\n",
      "Requirement already satisfied: pytz>=2017.2 in d:\\anaconda\\lib\\site-packages (from pandas>=0.24.0->catboost) (2020.1)\n",
      "Building wheels for collected packages: retrying\n",
      "  Building wheel for retrying (setup.py): started\n",
      "  Building wheel for retrying (setup.py): finished with status 'done'\n",
      "  Created wheel for retrying: filename=retrying-1.3.3-py3-none-any.whl size=11435 sha256=3cbdb0b0929e6720220a5514328f5c20f20c81d2dbf69ae9b6309f9560f620bc\n",
      "  Stored in directory: c:\\users\\jason kim\\appdata\\local\\pip\\cache\\wheels\\c4\\a7\\48\\0a434133f6d56e878ca511c0e6c38326907c0792f67b476e56\n",
      "Successfully built retrying\n",
      "Installing collected packages: retrying, plotly, graphviz, catboost\n",
      "Successfully installed catboost-0.24.2 graphviz-0.14.2 plotly-4.12.0 retrying-1.3.3\n"
     ]
    }
   ],
   "source": [
    "!pip install catboost"
   ]
  },
  {
   "cell_type": "code",
   "execution_count": 42,
   "metadata": {},
   "outputs": [],
   "source": [
    "fp['Response'] = fp['Response'].astype(int)"
   ]
  },
  {
   "cell_type": "code",
   "execution_count": 43,
   "metadata": {},
   "outputs": [
    {
     "data": {
      "text/html": [
       "<div>\n",
       "<style scoped>\n",
       "    .dataframe tbody tr th:only-of-type {\n",
       "        vertical-align: middle;\n",
       "    }\n",
       "\n",
       "    .dataframe tbody tr th {\n",
       "        vertical-align: top;\n",
       "    }\n",
       "\n",
       "    .dataframe thead th {\n",
       "        text-align: right;\n",
       "    }\n",
       "</style>\n",
       "<table border=\"1\" class=\"dataframe\">\n",
       "  <thead>\n",
       "    <tr style=\"text-align: right;\">\n",
       "      <th></th>\n",
       "      <th>id</th>\n",
       "      <th>Gender</th>\n",
       "      <th>Age</th>\n",
       "      <th>Driving_License</th>\n",
       "      <th>Region_Code</th>\n",
       "      <th>Previously_Insured</th>\n",
       "      <th>Vehicle_Age</th>\n",
       "      <th>Vehicle_Damage</th>\n",
       "      <th>Annual_Premium</th>\n",
       "      <th>Policy_Sales_Channel</th>\n",
       "      <th>Response</th>\n",
       "    </tr>\n",
       "  </thead>\n",
       "  <tbody>\n",
       "    <tr>\n",
       "      <th>0</th>\n",
       "      <td>1</td>\n",
       "      <td>0</td>\n",
       "      <td>0.369231</td>\n",
       "      <td>1</td>\n",
       "      <td>28</td>\n",
       "      <td>0</td>\n",
       "      <td>2</td>\n",
       "      <td>0</td>\n",
       "      <td>0.070366</td>\n",
       "      <td>26</td>\n",
       "      <td>1</td>\n",
       "    </tr>\n",
       "    <tr>\n",
       "      <th>1</th>\n",
       "      <td>2</td>\n",
       "      <td>0</td>\n",
       "      <td>0.861538</td>\n",
       "      <td>1</td>\n",
       "      <td>3</td>\n",
       "      <td>0</td>\n",
       "      <td>1</td>\n",
       "      <td>1</td>\n",
       "      <td>0.057496</td>\n",
       "      <td>26</td>\n",
       "      <td>0</td>\n",
       "    </tr>\n",
       "    <tr>\n",
       "      <th>2</th>\n",
       "      <td>3</td>\n",
       "      <td>0</td>\n",
       "      <td>0.415385</td>\n",
       "      <td>1</td>\n",
       "      <td>28</td>\n",
       "      <td>0</td>\n",
       "      <td>2</td>\n",
       "      <td>0</td>\n",
       "      <td>0.066347</td>\n",
       "      <td>26</td>\n",
       "      <td>1</td>\n",
       "    </tr>\n",
       "    <tr>\n",
       "      <th>3</th>\n",
       "      <td>4</td>\n",
       "      <td>0</td>\n",
       "      <td>0.015385</td>\n",
       "      <td>1</td>\n",
       "      <td>11</td>\n",
       "      <td>1</td>\n",
       "      <td>0</td>\n",
       "      <td>1</td>\n",
       "      <td>0.048348</td>\n",
       "      <td>152</td>\n",
       "      <td>0</td>\n",
       "    </tr>\n",
       "    <tr>\n",
       "      <th>4</th>\n",
       "      <td>5</td>\n",
       "      <td>1</td>\n",
       "      <td>0.138462</td>\n",
       "      <td>1</td>\n",
       "      <td>41</td>\n",
       "      <td>1</td>\n",
       "      <td>0</td>\n",
       "      <td>1</td>\n",
       "      <td>0.046259</td>\n",
       "      <td>152</td>\n",
       "      <td>0</td>\n",
       "    </tr>\n",
       "  </tbody>\n",
       "</table>\n",
       "</div>"
      ],
      "text/plain": [
       "   id  Gender       Age  Driving_License  Region_Code  Previously_Insured  \\\n",
       "0   1       0  0.369231                1           28                   0   \n",
       "1   2       0  0.861538                1            3                   0   \n",
       "2   3       0  0.415385                1           28                   0   \n",
       "3   4       0  0.015385                1           11                   1   \n",
       "4   5       1  0.138462                1           41                   1   \n",
       "\n",
       "   Vehicle_Age  Vehicle_Damage  Annual_Premium  Policy_Sales_Channel  Response  \n",
       "0            2               0        0.070366                    26         1  \n",
       "1            1               1        0.057496                    26         0  \n",
       "2            2               0        0.066347                    26         1  \n",
       "3            0               1        0.048348                   152         0  \n",
       "4            0               1        0.046259                   152         0  "
      ]
     },
     "execution_count": 43,
     "metadata": {},
     "output_type": "execute_result"
    }
   ],
   "source": [
    "fp.head()"
   ]
  },
  {
   "cell_type": "code",
   "execution_count": 61,
   "metadata": {},
   "outputs": [],
   "source": [
    " from sklearn.metrics import confusion_matrix as cs\n",
    "    #We want to see how often our model correctly predicted the response. Left column is correct predictions, right column\n",
    "    # is incorrect. First row is 0, second is 1\n"
   ]
  },
  {
   "cell_type": "markdown",
   "metadata": {},
   "source": [
    "Quick rundown of confusion Matrix format:\n",
    "\n",
    "                Predicted: No , Predicted: Yes\n",
    "                \n",
    "Actual:No         \n",
    "Actual:Yes"
   ]
  },
  {
   "cell_type": "code",
   "execution_count": 99,
   "metadata": {},
   "outputs": [
    {
     "data": {
      "text/plain": [
       "array([[133803,     20],\n",
       "       [ 18620,      1]], dtype=int64)"
      ]
     },
     "execution_count": 99,
     "metadata": {},
     "output_type": "execute_result"
    }
   ],
   "source": [
    "cs(y_test, preds, ) #Overfit"
   ]
  },
  {
   "cell_type": "code",
   "execution_count": 100,
   "metadata": {},
   "outputs": [
    {
     "data": {
      "text/plain": [
       "array([[66923,     0],\n",
       "       [ 9299,     0]], dtype=int64)"
      ]
     },
     "execution_count": 100,
     "metadata": {},
     "output_type": "execute_result"
    }
   ],
   "source": [
    "cs(y2_test, preds2)"
   ]
  },
  {
   "cell_type": "code",
   "execution_count": 101,
   "metadata": {
    "scrolled": true
   },
   "outputs": [
    {
     "data": {
      "text/plain": [
       "array([[133725,      0],\n",
       "       [ 18719,      0]], dtype=int64)"
      ]
     },
     "execution_count": 101,
     "metadata": {},
     "output_type": "execute_result"
    }
   ],
   "source": [
    "cs(y3_test, preds3)"
   ]
  },
  {
   "cell_type": "markdown",
   "metadata": {},
   "source": [
    "The confusion matrices confirm that my models are overfitting and why my f-1 scores are so poor. No attempt is made to predict a success (response = 1) for two of my models!"
   ]
  },
  {
   "cell_type": "code",
   "execution_count": 102,
   "metadata": {},
   "outputs": [
    {
     "name": "stdout",
     "output_type": "stream",
     "text": [
      "(array([0, 1], dtype=int64), array([152423,     21], dtype=int64))\n",
      "(array([0], dtype=int64), array([76222], dtype=int64))\n",
      "(array([0], dtype=int64), array([152444], dtype=int64))\n"
     ]
    }
   ],
   "source": [
    "#as we can see from my counts, only model 1 attempts to classify responses as 1's.\n",
    "print(np.unique(preds, return_counts = True))\n",
    "print(np.unique(preds2, return_counts = True))\n",
    "print(np.unique(preds3, return_counts = True))\n",
    "#My first models achieved great accuracy by predicting every response to be 'No'"
   ]
  },
  {
   "cell_type": "markdown",
   "metadata": {},
   "source": [
    "What did my first use of keras teach me? It taught me that putting garbage data and methedology into a model returns garbage"
   ]
  },
  {
   "cell_type": "code",
   "execution_count": 62,
   "metadata": {},
   "outputs": [],
   "source": [
    "#!pip install tensorflow\n",
    "#!pip install keras \n",
    "\n",
    "from sklearn.metrics import r2_score\n",
    "from sklearn.metrics import mean_squared_error as mse\n",
    "import tensorflow.keras.backend as K\n",
    "\n",
    "import tensorflow as tf\n",
    "#Here we try Keras"
   ]
  },
  {
   "cell_type": "code",
   "execution_count": 110,
   "metadata": {},
   "outputs": [
    {
     "name": "stdout",
     "output_type": "stream",
     "text": [
      "Epoch 1/40\n",
      "7146/7146 [==============================] - 2s 347us/step - loss: 27419450.0000 - accuracy: 0.7814\n",
      "Epoch 2/40\n",
      "7146/7146 [==============================] - 2s 338us/step - loss: 27164338.0000 - accuracy: 0.7821\n",
      "Epoch 3/40\n",
      "7146/7146 [==============================] - 2s 345us/step - loss: 27221152.0000 - accuracy: 0.7807\n",
      "Epoch 4/40\n",
      "7146/7146 [==============================] - 3s 405us/step - loss: 27114206.0000 - accuracy: 0.7817\n",
      "Epoch 5/40\n",
      "7146/7146 [==============================] - 3s 410us/step - loss: 27218294.0000 - accuracy: 0.7821\n",
      "Epoch 6/40\n",
      "7146/7146 [==============================] - 3s 409us/step - loss: 27294514.0000 - accuracy: 0.7796\n",
      "Epoch 7/40\n",
      "7146/7146 [==============================] - 3s 399us/step - loss: 27315894.0000 - accuracy: 0.7806\n",
      "Epoch 8/40\n",
      "7146/7146 [==============================] - 3s 375us/step - loss: 27094994.0000 - accuracy: 0.7805\n",
      "Epoch 9/40\n",
      "7146/7146 [==============================] - 3s 380us/step - loss: 27095752.0000 - accuracy: 0.7808\n",
      "Epoch 10/40\n",
      "7146/7146 [==============================] - 3s 393us/step - loss: 27239122.0000 - accuracy: 0.7804\n",
      "Epoch 11/40\n",
      "7146/7146 [==============================] - 3s 388us/step - loss: 27193176.0000 - accuracy: 0.7799\n",
      "Epoch 12/40\n",
      "7146/7146 [==============================] - 3s 390us/step - loss: 27193794.0000 - accuracy: 0.7806\n",
      "Epoch 13/40\n",
      "7146/7146 [==============================] - 3s 385us/step - loss: 27102828.0000 - accuracy: 0.7803\n",
      "Epoch 14/40\n",
      "7146/7146 [==============================] - 3s 405us/step - loss: 27243912.0000 - accuracy: 0.7790\n",
      "Epoch 15/40\n",
      "7146/7146 [==============================] - 3s 393us/step - loss: 26851070.0000 - accuracy: 0.7798\n",
      "Epoch 16/40\n",
      "7146/7146 [==============================] - 3s 416us/step - loss: 27041500.0000 - accuracy: 0.7800\n",
      "Epoch 17/40\n",
      "7146/7146 [==============================] - 3s 414us/step - loss: 27284928.0000 - accuracy: 0.7796\n",
      "Epoch 18/40\n",
      "7146/7146 [==============================] - 3s 395us/step - loss: 26875344.0000 - accuracy: 0.7794\n",
      "Epoch 19/40\n",
      "7146/7146 [==============================] - 3s 392us/step - loss: 27169558.0000 - accuracy: 0.7793\n",
      "Epoch 20/40\n",
      "7146/7146 [==============================] - 3s 393us/step - loss: 26913034.0000 - accuracy: 0.7792\n",
      "Epoch 21/40\n",
      "7146/7146 [==============================] - 3s 393us/step - loss: 27005830.0000 - accuracy: 0.7788\n",
      "Epoch 22/40\n",
      "7146/7146 [==============================] - 3s 384us/step - loss: 26882622.0000 - accuracy: 0.7794\n",
      "Epoch 23/40\n",
      "7146/7146 [==============================] - 3s 391us/step - loss: 26984008.0000 - accuracy: 0.7797\n",
      "Epoch 24/40\n",
      "7146/7146 [==============================] - 3s 402us/step - loss: 26629844.0000 - accuracy: 0.7785\n",
      "Epoch 25/40\n",
      "7146/7146 [==============================] - 3s 390us/step - loss: 26948560.0000 - accuracy: 0.7789\n",
      "Epoch 26/40\n",
      "7146/7146 [==============================] - 3s 408us/step - loss: 27043348.0000 - accuracy: 0.7780\n",
      "Epoch 27/40\n",
      "7146/7146 [==============================] - 3s 400us/step - loss: 27145776.0000 - accuracy: 0.7782\n",
      "Epoch 28/40\n",
      "7146/7146 [==============================] - 3s 397us/step - loss: 27132376.0000 - accuracy: 0.7787\n",
      "Epoch 29/40\n",
      "7146/7146 [==============================] - 3s 378us/step - loss: 26733802.0000 - accuracy: 0.7792\n",
      "Epoch 30/40\n",
      "7146/7146 [==============================] - 3s 395us/step - loss: 26955630.0000 - accuracy: 0.7774\n",
      "Epoch 31/40\n",
      "7146/7146 [==============================] - 3s 381us/step - loss: 26912130.0000 - accuracy: 0.7782\n",
      "Epoch 32/40\n",
      "7146/7146 [==============================] - 3s 392us/step - loss: 26958454.0000 - accuracy: 0.7776\n",
      "Epoch 33/40\n",
      "7146/7146 [==============================] - 3s 382us/step - loss: 27026746.0000 - accuracy: 0.7769\n",
      "Epoch 34/40\n",
      "7146/7146 [==============================] - 3s 376us/step - loss: 27117932.0000 - accuracy: 0.7779\n",
      "Epoch 35/40\n",
      "7146/7146 [==============================] - 3s 399us/step - loss: 27258026.0000 - accuracy: 0.7790\n",
      "Epoch 36/40\n",
      "7146/7146 [==============================] - 3s 399us/step - loss: 27004368.0000 - accuracy: 0.7782\n",
      "Epoch 37/40\n",
      "7146/7146 [==============================] - 3s 462us/step - loss: 26974228.0000 - accuracy: 0.7778\n",
      "Epoch 38/40\n",
      "7146/7146 [==============================] - 3s 431us/step - loss: 26662168.0000 - accuracy: 0.7784\n",
      "Epoch 39/40\n",
      "7146/7146 [==============================] - 3s 446us/step - loss: 27062610.0000 - accuracy: 0.7785\n",
      "Epoch 40/40\n",
      "7146/7146 [==============================] - 3s 408us/step - loss: 26915690.0000 - accuracy: 0.7778\n"
     ]
    },
    {
     "data": {
      "text/plain": [
       "<tensorflow.python.keras.callbacks.History at 0x241c9a24af0>"
      ]
     },
     "execution_count": 110,
     "metadata": {},
     "output_type": "execute_result"
    }
   ],
   "source": [
    "#I have no idea what I'm doing\n",
    "#8 digit loss value\n",
    "epoc = 40 #@param {type:\"slider\", min:0, max:100, step:1}\n",
    "\n",
    "#Create Sequential object\n",
    "model = Sequential()\n",
    "\n",
    "#Add a dense layers and specify the sigmoid activation function\n",
    "model.add(Dense(1, input_shape=(6,), activation='sigmoid'))\n",
    "\n",
    "#Use the SGD optimizer with a lr of 0.5, and use the binary cross entropy loss\n",
    "model.compile(SGD(lr=0.5), 'binary_crossentropy', metrics=['accuracy'])\n",
    "\n",
    "model.fit(X4_train, y4_train, epochs=epoc)"
   ]
  },
  {
   "cell_type": "code",
   "execution_count": 43,
   "metadata": {},
   "outputs": [
    {
     "ename": "NameError",
     "evalue": "name 'model' is not defined",
     "output_type": "error",
     "traceback": [
      "\u001b[1;31m---------------------------------------------------------------------------\u001b[0m",
      "\u001b[1;31mNameError\u001b[0m                                 Traceback (most recent call last)",
      "\u001b[1;32m<ipython-input-43-afd53755c34a>\u001b[0m in \u001b[0;36m<module>\u001b[1;34m\u001b[0m\n\u001b[1;32m----> 1\u001b[1;33m \u001b[0mkpreds\u001b[0m \u001b[1;33m=\u001b[0m \u001b[0mmodel\u001b[0m\u001b[1;33m.\u001b[0m\u001b[0mpredict\u001b[0m\u001b[1;33m(\u001b[0m\u001b[0mX4_test\u001b[0m\u001b[1;33m)\u001b[0m\u001b[1;33m\u001b[0m\u001b[1;33m\u001b[0m\u001b[0m\n\u001b[0m",
      "\u001b[1;31mNameError\u001b[0m: name 'model' is not defined"
     ]
    }
   ],
   "source": [
    "kpreds = model.predict(X4_test)"
   ]
  },
  {
   "cell_type": "code",
   "execution_count": 116,
   "metadata": {},
   "outputs": [
    {
     "name": "stdout",
     "output_type": "stream",
     "text": [
      "0.877541917031828\n",
      "0.0\n",
      "0.5\n"
     ]
    }
   ],
   "source": [
    "print(accuracy_score(kpreds, y4_test))\n",
    "print(f1_score(kpreds, y4_test))\n",
    "print(roc_auc_score(y4_test, kpreds))\n",
    "#Great accuracy score but performance measures are awful"
   ]
  },
  {
   "cell_type": "markdown",
   "metadata": {},
   "source": [
    "How do we turn our garbage into gold? The trick is to fix the performance between each epoch by calculating the f-1 score between each iteration and optimizing for increasing the f-1 score"
   ]
  },
  {
   "cell_type": "code",
   "execution_count": 63,
   "metadata": {},
   "outputs": [],
   "source": [
    "from keras.layers import Dropout        \n",
    "from tensorflow.keras.utils import to_categorical\n"
   ]
  },
  {
   "cell_type": "code",
   "execution_count": 64,
   "metadata": {},
   "outputs": [],
   "source": [
    "#Using stack overflow we find a method of fixing the performance of the model through each epoch\n",
    "def recall_score(y_true, y_pred):\n",
    "    true_positives = K.sum(K.round(K.clip(y_true * y_pred, 0, 1)))\n",
    "    possible_positives = K.sum(K.round(K.clip(y_true, 0, 1)))\n",
    "    recall = true_positives / (possible_positives + K.epsilon())\n",
    "    #true_positives and possible_positives seem to be misnamed\n",
    "    return recall\n",
    "#Sum up the rounded 'clipped' value of y_true multiplied by y_pred, where y_true and y_pred are bounded between 0 and 1\n",
    "# Because this is log regression, clipping should be redundant as all values are 0 or 1 and any misentered responses should be\n",
    "#removed during data cleaning\n",
    "#Recall is 1 when there are no false negatives, lower when there are\n",
    "\n",
    "def precision_score(y_true, y_pred):\n",
    "    true_positives = K.sum(K.round(K.clip(y_true * y_pred, 0, 1)))\n",
    "    predicted_positives = K.sum(K.round(K.clip(y_pred, 0, 1)))\n",
    "    precision = true_positives / (predicted_positives + K.epsilon())\n",
    "    return precision\n",
    "#Precision is 1 when predicted = true positives\n",
    "#however unlike recall, precision is looking at how accurately the model predicted positives. It gets lower when there\n",
    "#are false positives, not false negatives\n",
    "def keras_f1_score(y_true, y_pred):\n",
    "    precision = precision_score(y_true, y_pred)\n",
    "    recall = recall_score(y_true, y_pred)\n",
    "    return 2*((precision*recall)/(precision+recall+K.epsilon()))"
   ]
  },
  {
   "cell_type": "code",
   "execution_count": 65,
   "metadata": {},
   "outputs": [],
   "source": [
    "def create_model():\n",
    "    model = tf.keras.Sequential([\n",
    "        tf.keras.layers.Input(5),\n",
    "        tf.keras.layers.BatchNormalization(),\n",
    "        tf.keras.layers.Dense(30, activation=\"relu\"),\n",
    "        tf.keras.layers.BatchNormalization(),\n",
    "        tf.keras.layers.Dropout(0.3),\n",
    "        tf.keras.layers.Dense(2, activation='softmax')\n",
    "    ])\n",
    "    model.compile(\n",
    "        loss=tf.keras.losses.binary_crossentropy, \n",
    "        optimizer=tf.keras.optimizers.Adam(learning_rate=0.001),\n",
    "        metrics=[keras_f1_score]\n",
    "    )\n",
    "    return model"
   ]
  },
  {
   "cell_type": "code",
   "execution_count": 66,
   "metadata": {},
   "outputs": [],
   "source": [
    "XK = fp[features_to_include]\n",
    "y = fp['Response']"
   ]
  },
  {
   "cell_type": "code",
   "execution_count": 67,
   "metadata": {},
   "outputs": [],
   "source": [
    "XK_train, XK_test, yk_train, yk_test = train_test_split(XK, y, test_size=0.2,)"
   ]
  },
  {
   "cell_type": "code",
   "execution_count": 68,
   "metadata": {},
   "outputs": [],
   "source": [
    "y_nn_train = to_categorical(yk_train)"
   ]
  },
  {
   "cell_type": "code",
   "execution_count": 69,
   "metadata": {},
   "outputs": [],
   "source": [
    "class_weight = {\n",
    "    0: 1.,\n",
    "    1: 8.\n",
    "}\n",
    "# We give success 8x the weight because they are ~12% of the responses, a.k.a about 1/8 of the responses"
   ]
  },
  {
   "cell_type": "code",
   "execution_count": 70,
   "metadata": {},
   "outputs": [
    {
     "name": "stdout",
     "output_type": "stream",
     "text": [
      "Epoch 1/35\n",
      "953/953 - 1s - loss: 0.9441 - keras_f1_score: 0.6287 - val_loss: 0.5725 - val_keras_f1_score: 0.5910\n",
      "Epoch 2/35\n",
      "953/953 - 1s - loss: 0.8584 - keras_f1_score: 0.6334 - val_loss: 0.5205 - val_keras_f1_score: 0.6298\n",
      "Epoch 3/35\n",
      "953/953 - 1s - loss: 0.8499 - keras_f1_score: 0.6357 - val_loss: 0.5263 - val_keras_f1_score: 0.6356\n",
      "Epoch 4/35\n",
      "953/953 - 1s - loss: 0.8469 - keras_f1_score: 0.6371 - val_loss: 0.5156 - val_keras_f1_score: 0.6469\n",
      "Epoch 5/35\n",
      "953/953 - 1s - loss: 0.8437 - keras_f1_score: 0.6374 - val_loss: 0.5259 - val_keras_f1_score: 0.6313\n",
      "Epoch 6/35\n",
      "953/953 - 1s - loss: 0.8433 - keras_f1_score: 0.6371 - val_loss: 0.5509 - val_keras_f1_score: 0.6256\n",
      "Epoch 7/35\n",
      "953/953 - 1s - loss: 0.8430 - keras_f1_score: 0.6371 - val_loss: 0.5285 - val_keras_f1_score: 0.6271\n",
      "Epoch 8/35\n",
      "953/953 - 1s - loss: 0.8416 - keras_f1_score: 0.6374 - val_loss: 0.5245 - val_keras_f1_score: 0.6431\n",
      "Epoch 9/35\n",
      "953/953 - 1s - loss: 0.8419 - keras_f1_score: 0.6373 - val_loss: 0.5193 - val_keras_f1_score: 0.6289\n",
      "Epoch 10/35\n",
      "953/953 - 1s - loss: 0.8403 - keras_f1_score: 0.6375 - val_loss: 0.5253 - val_keras_f1_score: 0.6559\n",
      "Epoch 11/35\n",
      "953/953 - 1s - loss: 0.8406 - keras_f1_score: 0.6378 - val_loss: 0.5286 - val_keras_f1_score: 0.6272\n",
      "Epoch 12/35\n",
      "953/953 - 1s - loss: 0.8407 - keras_f1_score: 0.6358 - val_loss: 0.5366 - val_keras_f1_score: 0.6430\n",
      "Epoch 13/35\n",
      "953/953 - 1s - loss: 0.8403 - keras_f1_score: 0.6363 - val_loss: 0.5593 - val_keras_f1_score: 0.6089\n",
      "Epoch 14/35\n",
      "953/953 - 1s - loss: 0.8406 - keras_f1_score: 0.6375 - val_loss: 0.5348 - val_keras_f1_score: 0.6259\n",
      "Epoch 15/35\n",
      "953/953 - 1s - loss: 0.8407 - keras_f1_score: 0.6369 - val_loss: 0.5141 - val_keras_f1_score: 0.6489\n",
      "Epoch 16/35\n",
      "953/953 - 1s - loss: 0.8391 - keras_f1_score: 0.6385 - val_loss: 0.5249 - val_keras_f1_score: 0.6376\n",
      "Epoch 17/35\n",
      "953/953 - 1s - loss: 0.8395 - keras_f1_score: 0.6378 - val_loss: 0.5274 - val_keras_f1_score: 0.6276\n",
      "Epoch 18/35\n",
      "953/953 - 1s - loss: 0.8394 - keras_f1_score: 0.6375 - val_loss: 0.5238 - val_keras_f1_score: 0.6310\n",
      "Epoch 19/35\n",
      "953/953 - 1s - loss: 0.8390 - keras_f1_score: 0.6383 - val_loss: 0.5054 - val_keras_f1_score: 0.6476\n",
      "Epoch 20/35\n",
      "953/953 - 1s - loss: 0.8394 - keras_f1_score: 0.6374 - val_loss: 0.5294 - val_keras_f1_score: 0.6312\n",
      "Epoch 21/35\n",
      "953/953 - 1s - loss: 0.8385 - keras_f1_score: 0.6376 - val_loss: 0.5227 - val_keras_f1_score: 0.6518\n",
      "Epoch 22/35\n",
      "953/953 - 1s - loss: 0.8394 - keras_f1_score: 0.6375 - val_loss: 0.5121 - val_keras_f1_score: 0.6543\n",
      "Epoch 23/35\n",
      "953/953 - 1s - loss: 0.8398 - keras_f1_score: 0.6376 - val_loss: 0.5301 - val_keras_f1_score: 0.6427\n",
      "Epoch 24/35\n",
      "953/953 - 1s - loss: 0.8393 - keras_f1_score: 0.6369 - val_loss: 0.5066 - val_keras_f1_score: 0.6472\n",
      "Epoch 25/35\n",
      "953/953 - 1s - loss: 0.8392 - keras_f1_score: 0.6372 - val_loss: 0.5264 - val_keras_f1_score: 0.6424\n",
      "Epoch 26/35\n",
      "953/953 - 1s - loss: 0.8386 - keras_f1_score: 0.6371 - val_loss: 0.5310 - val_keras_f1_score: 0.6420\n",
      "Epoch 27/35\n",
      "953/953 - 1s - loss: 0.8395 - keras_f1_score: 0.6377 - val_loss: 0.5328 - val_keras_f1_score: 0.6123\n",
      "Epoch 28/35\n",
      "953/953 - 1s - loss: 0.8388 - keras_f1_score: 0.6370 - val_loss: 0.5343 - val_keras_f1_score: 0.6433\n",
      "Epoch 29/35\n",
      "953/953 - 1s - loss: 0.8389 - keras_f1_score: 0.6378 - val_loss: 0.5359 - val_keras_f1_score: 0.6416\n",
      "Epoch 30/35\n",
      "953/953 - 1s - loss: 0.8387 - keras_f1_score: 0.6370 - val_loss: 0.5200 - val_keras_f1_score: 0.6447\n",
      "Epoch 31/35\n",
      "953/953 - 1s - loss: 0.8391 - keras_f1_score: 0.6374 - val_loss: 0.5234 - val_keras_f1_score: 0.6438\n",
      "Epoch 32/35\n",
      "953/953 - 1s - loss: 0.8383 - keras_f1_score: 0.6379 - val_loss: 0.5287 - val_keras_f1_score: 0.6424\n",
      "Epoch 33/35\n",
      "953/953 - 1s - loss: 0.8388 - keras_f1_score: 0.6383 - val_loss: 0.5360 - val_keras_f1_score: 0.6196\n",
      "Epoch 34/35\n",
      "953/953 - 1s - loss: 0.8393 - keras_f1_score: 0.6367 - val_loss: 0.5301 - val_keras_f1_score: 0.6428\n",
      "Epoch 35/35\n",
      "953/953 - 1s - loss: 0.8385 - keras_f1_score: 0.6368 - val_loss: 0.5182 - val_keras_f1_score: 0.6509\n"
     ]
    },
    {
     "data": {
      "text/plain": [
       "<tensorflow.python.keras.callbacks.History at 0x120cfebfd30>"
      ]
     },
     "execution_count": 70,
     "metadata": {},
     "output_type": "execute_result"
    }
   ],
   "source": [
    "model = create_model()\n",
    "model.fit(XK_train, y_nn_train, validation_split=0.2, epochs=35, batch_size=256, verbose=2, class_weight=class_weight)"
   ]
  },
  {
   "cell_type": "code",
   "execution_count": 71,
   "metadata": {},
   "outputs": [],
   "source": [
    "predsk = model.predict(XK_test)\n",
    "predsk = np.argmax(predsk, axis=1)"
   ]
  },
  {
   "cell_type": "code",
   "execution_count": 72,
   "metadata": {},
   "outputs": [
    {
     "name": "stdout",
     "output_type": "stream",
     "text": [
      "0.6527774133452284\n",
      "0.40040779338468513\n",
      "0.7736605489033316\n"
     ]
    }
   ],
   "source": [
    "print(accuracy_score(predsk, yk_test))\n",
    "print(f1_score(yk_test, predsk))\n",
    "print(roc_auc_score(yk_test, predsk))\n",
    "# Accuracy takes a hit but our model is no longer overfitted and now predicts correctly instead of assigning 0's to every input"
   ]
  },
  {
   "cell_type": "code",
   "execution_count": 73,
   "metadata": {},
   "outputs": [
    {
     "data": {
      "text/plain": [
       "array([[40919, 25846],\n",
       "       [  620,  8837]], dtype=int64)"
      ]
     },
     "execution_count": 73,
     "metadata": {},
     "output_type": "execute_result"
    }
   ],
   "source": [
    "cs(yk_test, predsk, ) #now it looks like successes are overweighted. Could alter weights to see better results"
   ]
  },
  {
   "cell_type": "code",
   "execution_count": 74,
   "metadata": {},
   "outputs": [],
   "source": [
    "class_weight2 = {\n",
    "    0: 1.,\n",
    "    1: 7.\n",
    "}\n",
    "#Actually, the proportions are closer to 7:1, so lets make a second model with the updated class weight"
   ]
  },
  {
   "cell_type": "code",
   "execution_count": 75,
   "metadata": {},
   "outputs": [
    {
     "name": "stdout",
     "output_type": "stream",
     "text": [
      "Epoch 1/35\n",
      "953/953 - 1s - loss: 0.9028 - keras_f1_score: 0.6485 - val_loss: 0.4959 - val_keras_f1_score: 0.6579\n",
      "Epoch 2/35\n",
      "953/953 - 1s - loss: 0.8060 - keras_f1_score: 0.6509 - val_loss: 0.4910 - val_keras_f1_score: 0.6474\n",
      "Epoch 3/35\n",
      "953/953 - 1s - loss: 0.8007 - keras_f1_score: 0.6514 - val_loss: 0.4854 - val_keras_f1_score: 0.6558\n",
      "Epoch 4/35\n",
      "953/953 - 1s - loss: 0.7991 - keras_f1_score: 0.6524 - val_loss: 0.5049 - val_keras_f1_score: 0.6383\n",
      "Epoch 5/35\n",
      "953/953 - 1s - loss: 0.7972 - keras_f1_score: 0.6517 - val_loss: 0.4974 - val_keras_f1_score: 0.6643\n",
      "Epoch 6/35\n",
      "953/953 - 1s - loss: 0.7956 - keras_f1_score: 0.6538 - val_loss: 0.4734 - val_keras_f1_score: 0.6620\n",
      "Epoch 7/35\n",
      "953/953 - 1s - loss: 0.7952 - keras_f1_score: 0.6520 - val_loss: 0.4870 - val_keras_f1_score: 0.6616\n",
      "Epoch 8/35\n",
      "953/953 - 1s - loss: 0.7954 - keras_f1_score: 0.6525 - val_loss: 0.4980 - val_keras_f1_score: 0.6589\n",
      "Epoch 9/35\n",
      "953/953 - 1s - loss: 0.7950 - keras_f1_score: 0.6530 - val_loss: 0.4926 - val_keras_f1_score: 0.6512\n",
      "Epoch 10/35\n",
      "953/953 - 1s - loss: 0.7949 - keras_f1_score: 0.6523 - val_loss: 0.4849 - val_keras_f1_score: 0.6577\n",
      "Epoch 11/35\n",
      "953/953 - 1s - loss: 0.7948 - keras_f1_score: 0.6523 - val_loss: 0.4880 - val_keras_f1_score: 0.6592\n",
      "Epoch 12/35\n",
      "953/953 - 1s - loss: 0.7938 - keras_f1_score: 0.6525 - val_loss: 0.5019 - val_keras_f1_score: 0.6527\n",
      "Epoch 13/35\n",
      "953/953 - 1s - loss: 0.7932 - keras_f1_score: 0.6526 - val_loss: 0.4980 - val_keras_f1_score: 0.6525\n",
      "Epoch 14/35\n",
      "953/953 - 1s - loss: 0.7926 - keras_f1_score: 0.6530 - val_loss: 0.4982 - val_keras_f1_score: 0.6496\n",
      "Epoch 15/35\n",
      "953/953 - 1s - loss: 0.7931 - keras_f1_score: 0.6527 - val_loss: 0.4921 - val_keras_f1_score: 0.6556\n",
      "Epoch 16/35\n",
      "953/953 - 1s - loss: 0.7935 - keras_f1_score: 0.6518 - val_loss: 0.4867 - val_keras_f1_score: 0.6572\n",
      "Epoch 17/35\n",
      "953/953 - 1s - loss: 0.7926 - keras_f1_score: 0.6539 - val_loss: 0.5062 - val_keras_f1_score: 0.6309\n",
      "Epoch 18/35\n",
      "953/953 - 1s - loss: 0.7931 - keras_f1_score: 0.6521 - val_loss: 0.4854 - val_keras_f1_score: 0.6576\n",
      "Epoch 19/35\n",
      "953/953 - 1s - loss: 0.7930 - keras_f1_score: 0.6520 - val_loss: 0.5049 - val_keras_f1_score: 0.6445\n",
      "Epoch 20/35\n",
      "953/953 - 1s - loss: 0.7923 - keras_f1_score: 0.6523 - val_loss: 0.4885 - val_keras_f1_score: 0.6626\n",
      "Epoch 21/35\n",
      "953/953 - 1s - loss: 0.7927 - keras_f1_score: 0.6529 - val_loss: 0.4992 - val_keras_f1_score: 0.6456\n",
      "Epoch 22/35\n",
      "953/953 - 1s - loss: 0.7920 - keras_f1_score: 0.6522 - val_loss: 0.4909 - val_keras_f1_score: 0.6493\n",
      "Epoch 23/35\n",
      "953/953 - 1s - loss: 0.7922 - keras_f1_score: 0.6515 - val_loss: 0.5009 - val_keras_f1_score: 0.6523\n",
      "Epoch 24/35\n",
      "953/953 - 1s - loss: 0.7924 - keras_f1_score: 0.6525 - val_loss: 0.5066 - val_keras_f1_score: 0.6451\n",
      "Epoch 25/35\n",
      "953/953 - 1s - loss: 0.7922 - keras_f1_score: 0.6531 - val_loss: 0.4892 - val_keras_f1_score: 0.6515\n",
      "Epoch 26/35\n",
      "953/953 - 1s - loss: 0.7925 - keras_f1_score: 0.6525 - val_loss: 0.4986 - val_keras_f1_score: 0.6471\n",
      "Epoch 27/35\n",
      "953/953 - 1s - loss: 0.7925 - keras_f1_score: 0.6524 - val_loss: 0.4853 - val_keras_f1_score: 0.6535\n",
      "Epoch 28/35\n",
      "953/953 - 1s - loss: 0.7916 - keras_f1_score: 0.6540 - val_loss: 0.4792 - val_keras_f1_score: 0.6621\n",
      "Epoch 29/35\n",
      "953/953 - 1s - loss: 0.7919 - keras_f1_score: 0.6523 - val_loss: 0.5020 - val_keras_f1_score: 0.6550\n",
      "Epoch 30/35\n",
      "953/953 - 1s - loss: 0.7918 - keras_f1_score: 0.6528 - val_loss: 0.4840 - val_keras_f1_score: 0.6626\n",
      "Epoch 31/35\n",
      "953/953 - 1s - loss: 0.7926 - keras_f1_score: 0.6523 - val_loss: 0.4885 - val_keras_f1_score: 0.6562\n",
      "Epoch 32/35\n",
      "953/953 - 1s - loss: 0.7921 - keras_f1_score: 0.6523 - val_loss: 0.5057 - val_keras_f1_score: 0.6451\n",
      "Epoch 33/35\n",
      "953/953 - 1s - loss: 0.7915 - keras_f1_score: 0.6525 - val_loss: 0.4885 - val_keras_f1_score: 0.6586\n",
      "Epoch 34/35\n",
      "953/953 - 1s - loss: 0.7918 - keras_f1_score: 0.6525 - val_loss: 0.5095 - val_keras_f1_score: 0.6447\n",
      "Epoch 35/35\n",
      "953/953 - 1s - loss: 0.7920 - keras_f1_score: 0.6520 - val_loss: 0.4921 - val_keras_f1_score: 0.6590\n"
     ]
    },
    {
     "data": {
      "text/plain": [
       "<tensorflow.python.keras.callbacks.History at 0x120d0038c10>"
      ]
     },
     "execution_count": 75,
     "metadata": {},
     "output_type": "execute_result"
    }
   ],
   "source": [
    "model2 = create_model()\n",
    "model2.fit(XK_train, y_nn_train, validation_split=0.2, epochs=35, batch_size=256, verbose=2, class_weight=class_weight2)"
   ]
  },
  {
   "cell_type": "code",
   "execution_count": 76,
   "metadata": {},
   "outputs": [],
   "source": [
    "predsk2 = model2.predict(XK_test)\n",
    "predsk2 = np.argmax(predsk2, axis=1)"
   ]
  },
  {
   "cell_type": "code",
   "execution_count": 77,
   "metadata": {},
   "outputs": [
    {
     "name": "stdout",
     "output_type": "stream",
     "text": [
      "0.661108341423736\n",
      "0.4039779413461317\n",
      "0.7746493339158833\n"
     ]
    }
   ],
   "source": [
    "print(accuracy_score(predsk2, yk_test))\n",
    "print(f1_score(yk_test, predsk2))\n",
    "print(roc_auc_score(yk_test, predsk2))\n",
    "#values from when I included 6 features instead of 5. Model performance takes a hit but now I no longer use variables heavily\n",
    "#correlated with each other giving more stable results and less nonsense coefficients for our model parameters\n",
    "#0.69376295557713\n",
    "#0.4240525069088038\n",
    "#0.792829730451888\n"
   ]
  },
  {
   "cell_type": "code",
   "execution_count": 78,
   "metadata": {},
   "outputs": [
    {
     "data": {
      "text/plain": [
       "array([[41637, 25128],\n",
       "       [  703,  8754]], dtype=int64)"
      ]
     },
     "execution_count": 78,
     "metadata": {},
     "output_type": "execute_result"
    }
   ],
   "source": [
    "cs(yk_test, predsk2, )"
   ]
  },
  {
   "cell_type": "code",
   "execution_count": 79,
   "metadata": {
    "scrolled": true
   },
   "outputs": [
    {
     "name": "stdout",
     "output_type": "stream",
     "text": [
      "[array([0.57460356, 1.0736587 , 0.25681537, 1.2206343 , 0.24287163],\n",
      "      dtype=float32), array([-0.10366635,  0.0641347 ,  0.0103442 , -0.41549972,  0.01775232],\n",
      "      dtype=float32), array([4.6070930e-01, 3.8881657e+01, 9.9807489e-01, 4.5447725e-01,\n",
      "       3.0582746e+04], dtype=float32), array([2.4739379e-01, 2.4095769e+02, 1.9134131e-03, 2.4689648e-01,\n",
      "       2.9789034e+08], dtype=float32), array([[ 0.09157148, -0.02849174,  0.12443691,  0.48714206, -0.05219379,\n",
      "        -0.5312495 ,  0.06082968,  0.03634905,  0.05682493, -0.512599  ,\n",
      "         0.03785536,  0.07597565, -0.01613114, -0.37515077,  0.03455433,\n",
      "        -0.00473614, -0.05945899, -0.30497575,  0.47156864, -0.19304515,\n",
      "        -0.0124439 , -0.01813813,  0.04326029, -0.36671743,  0.02121428,\n",
      "        -0.04102181,  0.07091012,  0.04956697, -0.0143817 ,  0.06555327],\n",
      "       [ 0.65710557, -0.12406678, -0.0203325 , -0.3647766 , -0.078789  ,\n",
      "         0.14074494,  0.20659038,  0.27505434, -0.5505666 , -0.10314042,\n",
      "         0.01604424, -0.68871814, -0.09109052, -0.3405263 , -0.7125673 ,\n",
      "        -0.51579994, -0.09762152,  0.18612266, -0.37368673,  0.13665816,\n",
      "        -0.10852469, -0.15893969, -0.44887927, -0.34270176, -0.8230816 ,\n",
      "         0.1451675 , -0.6801331 , -0.59238386, -0.0805765 , -0.5722191 ],\n",
      "       [-0.00595328,  0.8427266 ,  0.09828995,  0.19760655, -0.00221362,\n",
      "         0.43301398, -0.04747547, -0.16173713, -0.05439007, -0.21944699,\n",
      "         0.01275873, -0.16912612, -0.01490929, -0.14499564, -0.21161512,\n",
      "        -0.13695501,  0.00539721, -0.1910656 , -0.16329505, -0.09908343,\n",
      "         0.6590398 , -0.10664988, -0.1340994 ,  0.34926507, -0.2534788 ,\n",
      "        -0.15813293, -0.22386144, -0.10187308,  0.5056583 ,  0.11349022],\n",
      "       [ 0.35559118, -0.70827276,  0.49315935,  0.33845374, -0.6816569 ,\n",
      "         0.42057845,  0.2583458 ,  0.5491495 ,  0.16748986, -0.17303196,\n",
      "         0.4244244 ,  0.11935782, -0.8487413 ,  0.22991587, -0.07402466,\n",
      "         0.0793099 , -0.50765634,  0.49164537,  0.30285603,  0.29597855,\n",
      "        -0.6436495 , -0.864938  ,  0.07400819,  0.28970096,  0.05713948,\n",
      "         0.4653114 ,  0.05802647,  0.11950411, -0.474535  ,  0.1840853 ],\n",
      "       [ 0.12613542,  0.20136718,  0.06553961,  0.23500247,  0.20695193,\n",
      "        -0.49577835,  0.0021702 ,  0.05011114,  0.0578835 ,  0.22793184,\n",
      "        -0.06141257,  0.27344918,  0.25759506, -0.20064956, -0.1029882 ,\n",
      "         0.01279057,  0.21744049,  0.2847258 ,  0.2032559 ,  0.11726379,\n",
      "         0.27248964,  0.22130291,  0.01551838,  0.08068395, -0.08606584,\n",
      "         0.09017807,  0.00598293,  0.03387588,  0.20089573,  0.22680949]],\n",
      "      dtype=float32), array([-0.04380435,  0.54949385, -0.31200522,  0.06761507,  0.4731312 ,\n",
      "        0.23725866,  0.16798435, -0.17223379, -0.00390312, -0.22910912,\n",
      "       -0.3505104 , -0.14441414,  0.455517  , -0.04986918, -0.41152328,\n",
      "       -0.09265101,  0.3820413 , -0.08038207,  0.09509217, -0.17704822,\n",
      "        0.4805921 ,  0.52784044, -0.07814467, -0.00907045, -0.34640235,\n",
      "       -0.1994797 , -0.24648824, -0.10517428,  0.4208492 , -0.02029562],\n",
      "      dtype=float32), array([0.7181745 , 0.6952374 , 0.73968023, 0.86725307, 0.6023293 ,\n",
      "       0.6781731 , 0.67880386, 0.866357  , 0.78748894, 0.10343946,\n",
      "       1.095645  , 0.6337365 , 0.7603834 , 0.34009436, 0.35873616,\n",
      "       0.7321382 , 0.6246686 , 0.708818  , 0.7107003 , 0.6254561 ,\n",
      "       0.6169333 , 0.58055633, 0.6809565 , 0.7232049 , 0.73177075,\n",
      "       0.7414359 , 0.63972926, 0.7340853 , 0.6041039 , 0.6534075 ],\n",
      "      dtype=float32), array([ 0.1447714 , -0.5879678 ,  0.5012207 ,  0.49113333, -0.53298223,\n",
      "        0.45579946,  0.40317693,  0.47967556,  0.4710134 , -0.09036673,\n",
      "        0.42132103,  0.32179627, -0.69799143,  0.16609985,  0.06500088,\n",
      "        0.37327144, -0.512841  ,  0.43171525,  0.41423827,  0.22084907,\n",
      "       -0.53212875, -0.51285243,  0.3283384 ,  0.43529624,  0.27936816,\n",
      "        0.37770417,  0.26602343,  0.4120719 , -0.49920914,  0.3731973 ],\n",
      "      dtype=float32), array([0.22493042, 0.88980424, 0.06566402, 0.24286664, 0.814974  ,\n",
      "       0.30226338, 0.17848279, 0.12188718, 0.23120962, 0.10360379,\n",
      "       0.01823419, 0.21988116, 0.9299073 , 0.15981907, 0.1044845 ,\n",
      "       0.17034747, 0.62089694, 0.15921034, 0.24534184, 0.04998423,\n",
      "       0.7950041 , 0.9756891 , 0.14536345, 0.19386958, 0.17717949,\n",
      "       0.08638187, 0.17092294, 0.19725873, 0.64064205, 0.24210642],\n",
      "      dtype=float32), array([0.19393581, 0.61618227, 0.00846618, 0.12760516, 0.5523084 ,\n",
      "       0.1489019 , 0.0501902 , 0.0547545 , 0.08399738, 0.0247031 ,\n",
      "       0.00101888, 0.07799396, 0.7282051 , 0.05733483, 0.024845  ,\n",
      "       0.04353831, 0.30207184, 0.06762811, 0.12328701, 0.01361106,\n",
      "       0.5079768 , 0.80551267, 0.03284381, 0.07861188, 0.05280622,\n",
      "       0.02152989, 0.04707798, 0.06182566, 0.29060277, 0.09399254],\n",
      "      dtype=float32), array([[ 0.01136847, -0.15513243],\n",
      "       [-0.04960436,  0.14903417],\n",
      "       [ 0.28843626, -0.03737185],\n",
      "       [ 0.41162738,  0.22193633],\n",
      "       [-0.15651642,  0.10346416],\n",
      "       [ 0.09207271, -0.08499116],\n",
      "       [ 0.13912903, -0.10137969],\n",
      "       [ 0.08607893, -0.11896002],\n",
      "       [-0.12873699, -0.32821447],\n",
      "       [-0.08616769, -0.08219431],\n",
      "       [ 0.06596401, -0.25827748],\n",
      "       [ 0.09543765, -0.06958842],\n",
      "       [-0.15803178,  0.04538274],\n",
      "       [ 0.23868999, -0.06528118],\n",
      "       [-0.02560072, -0.19763774],\n",
      "       [ 0.16450699, -0.03258567],\n",
      "       [-0.1958841 ,  0.07319363],\n",
      "       [ 0.22915326, -0.05003352],\n",
      "       [-0.00239672, -0.26138356],\n",
      "       [ 0.21979557, -0.14450304],\n",
      "       [-0.17527159,  0.03163344],\n",
      "       [-0.17680256,  0.12638178],\n",
      "       [-0.13878404, -0.29942906],\n",
      "       [-0.2175739 , -0.35656935],\n",
      "       [ 0.30539054,  0.16920389],\n",
      "       [ 0.17850518, -0.17060825],\n",
      "       [ 0.00084878, -0.12240632],\n",
      "       [-0.10881162, -0.25070325],\n",
      "       [-0.26678064,  0.0008551 ],\n",
      "       [ 0.12833597, -0.06738849]], dtype=float32), array([-0.2659478,  0.2659067], dtype=float32)]\n"
     ]
    }
   ],
   "source": [
    "print(model2.get_weights())"
   ]
  },
  {
   "cell_type": "markdown",
   "metadata": {},
   "source": [
    "With the use of Keras, I have improved the performance of my model through iterative optimizing of the f-1 score"
   ]
  },
  {
   "cell_type": "markdown",
   "metadata": {},
   "source": [
    "I want to return to PCA using Keras and also with a new approach to training the data. Previously, I scaled the data before the train/test split which is incorrect. This time, I will scale the training set after splitting the data. Why should we do this? Transforming the data transforms the domain. If you transform the entire data set, you are causing overfitting as both the train and test data are shifted into the same domain. This will make your model unreliable when ran against new data."
   ]
  },
  {
   "cell_type": "code",
   "execution_count": 80,
   "metadata": {},
   "outputs": [],
   "source": [
    "#I don't think this is necessary when using Keras to run the model\n",
    "import statsmodels.api as sm\n",
    "from statsmodels.api import OLS"
   ]
  },
  {
   "cell_type": "code",
   "execution_count": 81,
   "metadata": {},
   "outputs": [
    {
     "name": "stdout",
     "output_type": "stream",
     "text": [
      "Training Set Accuracy: 87.72614960750444%\n",
      "Testing Set Accuracy: 87.76993518931542%\n"
     ]
    }
   ],
   "source": [
    "X_train, X_test, y_train, y_test = train_test_split(fpnr, y, test_size=0.4,) #Split up training data and test\n",
    "\n",
    "#Code borrowed from Harvard's CS109A Introduction to Data Science\n",
    "#Create and fit PCA object\n",
    "pca = PCA(n_components=3)\n",
    "pca.fit(X_train)\n",
    "\n",
    "#Transforming x_train and x_test \n",
    "X_train_pca = pca.transform(X_train)\n",
    "X_test_pca = pca.transform(X_test)\n",
    "\n",
    "#Add constant to x_train and x_test\n",
    "#I don't need this. Actually, I'm not even sure why it was needed. Does it add an intercept? How does it work with Keras?\n",
    "X_train_pca_cst = sm.add_constant(X_train_pca)\n",
    "X_test_pca_cst = sm.add_constant(X_test_pca)\n",
    "\n",
    "#Training\n",
    "model = LogisticRegression(C=100000).fit(X_train_pca_cst, y_train)\n",
    "\n",
    "#Predict\n",
    "y_pred_train = model.predict(X_train_pca_cst)\n",
    "y_pred_test = model.predict(X_test_pca_cst)\n",
    "\n",
    "#Perfromance Evaluation\n",
    "train_score = accuracy_score(y_train, y_pred_train)*100\n",
    "test_score = accuracy_score(y_test, y_pred_test)*100\n",
    "\n",
    "print(\"Training Set Accuracy:\",str(train_score)+'%')\n",
    "print(\"Testing Set Accuracy:\",str(test_score)+'%')"
   ]
  },
  {
   "cell_type": "code",
   "execution_count": 82,
   "metadata": {},
   "outputs": [
    {
     "name": "stdout",
     "output_type": "stream",
     "text": [
      "0.0\n"
     ]
    }
   ],
   "source": [
    "print(f1_score(y_pred_test, y_test))"
   ]
  },
  {
   "cell_type": "code",
   "execution_count": 83,
   "metadata": {},
   "outputs": [
    {
     "name": "stdout",
     "output_type": "stream",
     "text": [
      "0.5\n"
     ]
    }
   ],
   "source": [
    "print(roc_auc_score(y_test, y_pred_test))"
   ]
  },
  {
   "cell_type": "code",
   "execution_count": 84,
   "metadata": {},
   "outputs": [],
   "source": [
    "y_nn_train2 = to_categorical(y_train)"
   ]
  },
  {
   "cell_type": "code",
   "execution_count": 85,
   "metadata": {},
   "outputs": [],
   "source": [
    "def create_model2():\n",
    "    modelo = tf.keras.Sequential([\n",
    "        tf.keras.layers.Input(3),\n",
    "        tf.keras.layers.BatchNormalization(),\n",
    "        tf.keras.layers.Dense(30, activation=\"relu\"),\n",
    "        tf.keras.layers.BatchNormalization(),\n",
    "        tf.keras.layers.Dropout(0.3),\n",
    "        tf.keras.layers.Dense(2, activation='softmax')\n",
    "    ])\n",
    "    modelo.compile(\n",
    "        loss=tf.keras.losses.binary_crossentropy, \n",
    "        optimizer=tf.keras.optimizers.Adam(learning_rate=0.001),\n",
    "        metrics=[keras_f1_score]\n",
    "    )\n",
    "    return modelo"
   ]
  },
  {
   "cell_type": "code",
   "execution_count": 86,
   "metadata": {},
   "outputs": [
    {
     "name": "stdout",
     "output_type": "stream",
     "text": [
      "Epoch 1/35\n",
      "715/715 - 1s - loss: 1.2305 - keras_f1_score: 0.5763 - val_loss: 0.6475 - val_keras_f1_score: 0.5630\n",
      "Epoch 2/35\n",
      "715/715 - 1s - loss: 1.1331 - keras_f1_score: 0.5701 - val_loss: 0.6433 - val_keras_f1_score: 0.5692\n",
      "Epoch 3/35\n",
      "715/715 - 1s - loss: 1.1298 - keras_f1_score: 0.5663 - val_loss: 0.6323 - val_keras_f1_score: 0.5624\n",
      "Epoch 4/35\n",
      "715/715 - 1s - loss: 1.1289 - keras_f1_score: 0.5692 - val_loss: 0.6338 - val_keras_f1_score: 0.5533\n",
      "Epoch 5/35\n",
      "715/715 - 1s - loss: 1.1279 - keras_f1_score: 0.5696 - val_loss: 0.6457 - val_keras_f1_score: 0.5327\n",
      "Epoch 6/35\n",
      "715/715 - 1s - loss: 1.1278 - keras_f1_score: 0.5661 - val_loss: 0.6382 - val_keras_f1_score: 0.5716\n",
      "Epoch 7/35\n",
      "715/715 - 1s - loss: 1.1252 - keras_f1_score: 0.5649 - val_loss: 0.6456 - val_keras_f1_score: 0.5475\n",
      "Epoch 8/35\n",
      "715/715 - 1s - loss: 1.1249 - keras_f1_score: 0.5634 - val_loss: 0.6349 - val_keras_f1_score: 0.5899\n",
      "Epoch 9/35\n",
      "715/715 - 1s - loss: 1.1245 - keras_f1_score: 0.5675 - val_loss: 0.6375 - val_keras_f1_score: 0.5365\n",
      "Epoch 10/35\n",
      "715/715 - 1s - loss: 1.1242 - keras_f1_score: 0.5666 - val_loss: 0.6292 - val_keras_f1_score: 0.5924\n",
      "Epoch 11/35\n",
      "715/715 - 1s - loss: 1.1234 - keras_f1_score: 0.5700 - val_loss: 0.6304 - val_keras_f1_score: 0.5668\n",
      "Epoch 12/35\n",
      "715/715 - 1s - loss: 1.1244 - keras_f1_score: 0.5676 - val_loss: 0.6271 - val_keras_f1_score: 0.5872\n",
      "Epoch 13/35\n",
      "715/715 - 1s - loss: 1.1224 - keras_f1_score: 0.5674 - val_loss: 0.6414 - val_keras_f1_score: 0.5847\n",
      "Epoch 14/35\n",
      "715/715 - 1s - loss: 1.1228 - keras_f1_score: 0.5681 - val_loss: 0.6367 - val_keras_f1_score: 0.5727\n",
      "Epoch 15/35\n",
      "715/715 - 1s - loss: 1.1223 - keras_f1_score: 0.5711 - val_loss: 0.6300 - val_keras_f1_score: 0.5738\n",
      "Epoch 16/35\n",
      "715/715 - 1s - loss: 1.1220 - keras_f1_score: 0.5655 - val_loss: 0.6316 - val_keras_f1_score: 0.5913\n",
      "Epoch 17/35\n",
      "715/715 - 1s - loss: 1.1221 - keras_f1_score: 0.5699 - val_loss: 0.6257 - val_keras_f1_score: 0.5876\n",
      "Epoch 18/35\n",
      "715/715 - 1s - loss: 1.1211 - keras_f1_score: 0.5686 - val_loss: 0.6263 - val_keras_f1_score: 0.5791\n",
      "Epoch 19/35\n",
      "715/715 - 1s - loss: 1.1222 - keras_f1_score: 0.5664 - val_loss: 0.6371 - val_keras_f1_score: 0.5818\n",
      "Epoch 20/35\n",
      "715/715 - 1s - loss: 1.1213 - keras_f1_score: 0.5686 - val_loss: 0.6298 - val_keras_f1_score: 0.5742\n",
      "Epoch 21/35\n",
      "715/715 - 1s - loss: 1.1227 - keras_f1_score: 0.5695 - val_loss: 0.6402 - val_keras_f1_score: 0.5644\n",
      "Epoch 22/35\n",
      "715/715 - 1s - loss: 1.1219 - keras_f1_score: 0.5696 - val_loss: 0.6368 - val_keras_f1_score: 0.5790\n",
      "Epoch 23/35\n",
      "715/715 - 1s - loss: 1.1209 - keras_f1_score: 0.5681 - val_loss: 0.6357 - val_keras_f1_score: 0.5718\n",
      "Epoch 24/35\n",
      "715/715 - 1s - loss: 1.1227 - keras_f1_score: 0.5690 - val_loss: 0.6407 - val_keras_f1_score: 0.5828\n",
      "Epoch 25/35\n",
      "715/715 - 1s - loss: 1.1211 - keras_f1_score: 0.5705 - val_loss: 0.6427 - val_keras_f1_score: 0.5536\n",
      "Epoch 26/35\n",
      "715/715 - 1s - loss: 1.1217 - keras_f1_score: 0.5686 - val_loss: 0.6364 - val_keras_f1_score: 0.5841\n",
      "Epoch 27/35\n",
      "715/715 - 1s - loss: 1.1224 - keras_f1_score: 0.5661 - val_loss: 0.6291 - val_keras_f1_score: 0.5823\n",
      "Epoch 28/35\n",
      "715/715 - 1s - loss: 1.1214 - keras_f1_score: 0.5690 - val_loss: 0.6393 - val_keras_f1_score: 0.5679\n",
      "Epoch 29/35\n",
      "715/715 - 1s - loss: 1.1199 - keras_f1_score: 0.5719 - val_loss: 0.6358 - val_keras_f1_score: 0.5760\n",
      "Epoch 30/35\n",
      "715/715 - 1s - loss: 1.1207 - keras_f1_score: 0.5716 - val_loss: 0.6343 - val_keras_f1_score: 0.5812\n",
      "Epoch 31/35\n",
      "715/715 - 1s - loss: 1.1209 - keras_f1_score: 0.5730 - val_loss: 0.6424 - val_keras_f1_score: 0.5634\n",
      "Epoch 32/35\n",
      "715/715 - 1s - loss: 1.1207 - keras_f1_score: 0.5701 - val_loss: 0.6137 - val_keras_f1_score: 0.6039\n",
      "Epoch 33/35\n",
      "715/715 - 1s - loss: 1.1214 - keras_f1_score: 0.5703 - val_loss: 0.6304 - val_keras_f1_score: 0.5884\n",
      "Epoch 34/35\n",
      "715/715 - 1s - loss: 1.1199 - keras_f1_score: 0.5708 - val_loss: 0.6471 - val_keras_f1_score: 0.5807\n",
      "Epoch 35/35\n",
      "715/715 - 1s - loss: 1.1212 - keras_f1_score: 0.5700 - val_loss: 0.6259 - val_keras_f1_score: 0.5554\n"
     ]
    },
    {
     "data": {
      "text/plain": [
       "<tensorflow.python.keras.callbacks.History at 0x120d65d7550>"
      ]
     },
     "execution_count": 86,
     "metadata": {},
     "output_type": "execute_result"
    }
   ],
   "source": [
    "modelpca = create_model2()\n",
    "modelpca.fit(X_train_pca, y_nn_train2, validation_split=0.2, epochs=35, batch_size=256, verbose=2, class_weight=class_weight2)"
   ]
  },
  {
   "cell_type": "code",
   "execution_count": 88,
   "metadata": {},
   "outputs": [],
   "source": [
    "predspca = modelpca.predict(X_test_pca)\n",
    "predspca= np.argmax(predspca, axis=1)"
   ]
  },
  {
   "cell_type": "code",
   "execution_count": 89,
   "metadata": {},
   "outputs": [
    {
     "name": "stdout",
     "output_type": "stream",
     "text": [
      "0.5533900973472226\n",
      "0.29463018410501346\n",
      "0.6434442110839909\n"
     ]
    }
   ],
   "source": [
    "print(accuracy_score(predspca, y_test))\n",
    "print(f1_score(y_test, predspca))\n",
    "print(roc_auc_score(y_test, predspca))\n",
    "#Values without the constant \n",
    "#0.5849557870431109\n",
    "#0.30109688608070345\n",
    "#0.6474239066041656"
   ]
  },
  {
   "cell_type": "code",
   "execution_count": 90,
   "metadata": {},
   "outputs": [
    {
     "data": {
      "text/plain": [
       "array([[ 1.00000000e+00,  5.28675844e+03,  4.36990950e+01,\n",
       "         2.93297603e+00],\n",
       "       [ 1.00000000e+00,  1.24267694e+04,  1.51295634e+01,\n",
       "         3.35501756e+00],\n",
       "       [ 1.00000000e+00, -3.39924092e+03,  4.03505388e+01,\n",
       "         2.99699629e+00],\n",
       "       ...,\n",
       "       [ 1.00000000e+00, -2.20924048e+03,  4.01220903e+01,\n",
       "        -1.97685569e+01],\n",
       "       [ 1.00000000e+00, -5.07324091e+03,  4.01085923e+01,\n",
       "         6.78277804e-01],\n",
       "       [ 1.00000000e+00, -2.79022394e+04,  3.20752497e+01,\n",
       "        -1.15791522e+01]])"
      ]
     },
     "execution_count": 90,
     "metadata": {},
     "output_type": "execute_result"
    }
   ],
   "source": [
    "X_train_pca_cst"
   ]
  },
  {
   "cell_type": "code",
   "execution_count": null,
   "metadata": {},
   "outputs": [],
   "source": []
  },
  {
   "cell_type": "code",
   "execution_count": 91,
   "metadata": {},
   "outputs": [],
   "source": [
    "X2_train, X2_test, y2_train, y2_test = train_test_split(fpnr, y, test_size=0.2, )"
   ]
  },
  {
   "cell_type": "code",
   "execution_count": 94,
   "metadata": {},
   "outputs": [],
   "source": [
    "scaler = StandardScaler()\n",
    "scaler.fit(X2_train)\n",
    "XS = scaler.transform(X2_train)\n"
   ]
  },
  {
   "cell_type": "code",
   "execution_count": 95,
   "metadata": {},
   "outputs": [],
   "source": [
    "scaler.fit(X2_test)\n",
    "XST = scaler.transform(X2_test)\n"
   ]
  },
  {
   "cell_type": "code",
   "execution_count": 96,
   "metadata": {},
   "outputs": [],
   "source": [
    "def create_model3():\n",
    "    model3 = tf.keras.Sequential([\n",
    "        tf.keras.layers.Input(3),\n",
    "        tf.keras.layers.BatchNormalization(),\n",
    "        tf.keras.layers.Dense(30, activation=\"relu\"),\n",
    "        tf.keras.layers.BatchNormalization(),\n",
    "        tf.keras.layers.Dropout(0.3),\n",
    "        tf.keras.layers.Dense(2, activation='softmax')\n",
    "    ])\n",
    "    model3.compile(\n",
    "        loss=tf.keras.losses.binary_crossentropy, \n",
    "        optimizer=tf.keras.optimizers.Adam(learning_rate=0.001),\n",
    "        metrics=[keras_f1_score]\n",
    "    )\n",
    "    return model3"
   ]
  },
  {
   "cell_type": "code",
   "execution_count": 97,
   "metadata": {},
   "outputs": [],
   "source": [
    "pca2 = PCA(n_components=3)\n",
    "pca2.fit(XS)\n",
    "\n",
    "#Transforming x_train and x_test \n",
    "XS_train_pca = pca2.transform(XS)\n",
    "XS_test_pca = pca2.transform(XST)"
   ]
  },
  {
   "cell_type": "code",
   "execution_count": 98,
   "metadata": {},
   "outputs": [],
   "source": [
    "y_nn_train3 = to_categorical(y2_train)"
   ]
  },
  {
   "cell_type": "code",
   "execution_count": 99,
   "metadata": {
    "scrolled": true
   },
   "outputs": [
    {
     "name": "stdout",
     "output_type": "stream",
     "text": [
      "Epoch 1/35\n",
      "953/953 - 1s - loss: 0.8257 - keras_f1_score: 0.6662 - val_loss: 0.5090 - val_keras_f1_score: 0.6654\n",
      "Epoch 2/35\n",
      "953/953 - 1s - loss: 0.7839 - keras_f1_score: 0.6734 - val_loss: 0.4772 - val_keras_f1_score: 0.6757\n",
      "Epoch 3/35\n",
      "953/953 - 1s - loss: 0.7792 - keras_f1_score: 0.6734 - val_loss: 0.4878 - val_keras_f1_score: 0.6757\n",
      "Epoch 4/35\n",
      "953/953 - 1s - loss: 0.7780 - keras_f1_score: 0.6736 - val_loss: 0.4829 - val_keras_f1_score: 0.6680\n",
      "Epoch 5/35\n",
      "953/953 - 1s - loss: 0.7754 - keras_f1_score: 0.6738 - val_loss: 0.4674 - val_keras_f1_score: 0.6812\n",
      "Epoch 6/35\n",
      "953/953 - 1s - loss: 0.7757 - keras_f1_score: 0.6749 - val_loss: 0.4840 - val_keras_f1_score: 0.6689\n",
      "Epoch 7/35\n",
      "953/953 - 1s - loss: 0.7760 - keras_f1_score: 0.6739 - val_loss: 0.4973 - val_keras_f1_score: 0.6776\n",
      "Epoch 8/35\n",
      "953/953 - 1s - loss: 0.7744 - keras_f1_score: 0.6738 - val_loss: 0.4781 - val_keras_f1_score: 0.6880\n",
      "Epoch 9/35\n",
      "953/953 - 1s - loss: 0.7740 - keras_f1_score: 0.6734 - val_loss: 0.4660 - val_keras_f1_score: 0.6884\n",
      "Epoch 10/35\n",
      "953/953 - 1s - loss: 0.7743 - keras_f1_score: 0.6738 - val_loss: 0.4746 - val_keras_f1_score: 0.6735\n",
      "Epoch 11/35\n",
      "953/953 - 1s - loss: 0.7730 - keras_f1_score: 0.6730 - val_loss: 0.4818 - val_keras_f1_score: 0.6912\n",
      "Epoch 12/35\n",
      "953/953 - 1s - loss: 0.7739 - keras_f1_score: 0.6741 - val_loss: 0.4819 - val_keras_f1_score: 0.6742\n",
      "Epoch 13/35\n",
      "953/953 - 1s - loss: 0.7738 - keras_f1_score: 0.6736 - val_loss: 0.4834 - val_keras_f1_score: 0.6617\n",
      "Epoch 14/35\n",
      "953/953 - 1s - loss: 0.7725 - keras_f1_score: 0.6743 - val_loss: 0.4853 - val_keras_f1_score: 0.6776\n",
      "Epoch 15/35\n",
      "953/953 - 1s - loss: 0.7719 - keras_f1_score: 0.6743 - val_loss: 0.4828 - val_keras_f1_score: 0.6688\n",
      "Epoch 16/35\n",
      "953/953 - 1s - loss: 0.7732 - keras_f1_score: 0.6736 - val_loss: 0.4821 - val_keras_f1_score: 0.6776\n",
      "Epoch 17/35\n",
      "953/953 - 1s - loss: 0.7718 - keras_f1_score: 0.6745 - val_loss: 0.4813 - val_keras_f1_score: 0.6780\n",
      "Epoch 18/35\n",
      "953/953 - 1s - loss: 0.7721 - keras_f1_score: 0.6738 - val_loss: 0.4832 - val_keras_f1_score: 0.6823\n",
      "Epoch 19/35\n",
      "953/953 - 1s - loss: 0.7720 - keras_f1_score: 0.6733 - val_loss: 0.4898 - val_keras_f1_score: 0.6820\n",
      "Epoch 20/35\n",
      "953/953 - 1s - loss: 0.7725 - keras_f1_score: 0.6743 - val_loss: 0.4762 - val_keras_f1_score: 0.6750\n",
      "Epoch 21/35\n",
      "953/953 - 1s - loss: 0.7723 - keras_f1_score: 0.6737 - val_loss: 0.4855 - val_keras_f1_score: 0.6784\n",
      "Epoch 22/35\n",
      "953/953 - 1s - loss: 0.7718 - keras_f1_score: 0.6738 - val_loss: 0.4868 - val_keras_f1_score: 0.6846\n",
      "Epoch 23/35\n",
      "953/953 - 1s - loss: 0.7722 - keras_f1_score: 0.6738 - val_loss: 0.4750 - val_keras_f1_score: 0.6826\n",
      "Epoch 24/35\n",
      "953/953 - 1s - loss: 0.7717 - keras_f1_score: 0.6739 - val_loss: 0.4795 - val_keras_f1_score: 0.6790\n",
      "Epoch 25/35\n",
      "953/953 - 1s - loss: 0.7722 - keras_f1_score: 0.6734 - val_loss: 0.4850 - val_keras_f1_score: 0.6708\n",
      "Epoch 26/35\n",
      "953/953 - 1s - loss: 0.7716 - keras_f1_score: 0.6743 - val_loss: 0.4834 - val_keras_f1_score: 0.6850\n",
      "Epoch 27/35\n",
      "953/953 - 1s - loss: 0.7724 - keras_f1_score: 0.6735 - val_loss: 0.4835 - val_keras_f1_score: 0.6745\n",
      "Epoch 28/35\n",
      "953/953 - 1s - loss: 0.7716 - keras_f1_score: 0.6741 - val_loss: 0.4889 - val_keras_f1_score: 0.6716\n",
      "Epoch 29/35\n",
      "953/953 - 1s - loss: 0.7713 - keras_f1_score: 0.6735 - val_loss: 0.4948 - val_keras_f1_score: 0.6758\n",
      "Epoch 30/35\n",
      "953/953 - 1s - loss: 0.7721 - keras_f1_score: 0.6739 - val_loss: 0.4838 - val_keras_f1_score: 0.6717\n",
      "Epoch 31/35\n",
      "953/953 - 1s - loss: 0.7708 - keras_f1_score: 0.6745 - val_loss: 0.4861 - val_keras_f1_score: 0.6802\n",
      "Epoch 32/35\n",
      "953/953 - 1s - loss: 0.7706 - keras_f1_score: 0.6744 - val_loss: 0.4871 - val_keras_f1_score: 0.6659\n",
      "Epoch 33/35\n",
      "953/953 - 1s - loss: 0.7718 - keras_f1_score: 0.6735 - val_loss: 0.4800 - val_keras_f1_score: 0.6800\n",
      "Epoch 34/35\n",
      "953/953 - 1s - loss: 0.7702 - keras_f1_score: 0.6738 - val_loss: 0.4707 - val_keras_f1_score: 0.6818\n",
      "Epoch 35/35\n",
      "953/953 - 1s - loss: 0.7720 - keras_f1_score: 0.6731 - val_loss: 0.4754 - val_keras_f1_score: 0.6720\n"
     ]
    },
    {
     "data": {
      "text/plain": [
       "<tensorflow.python.keras.callbacks.History at 0x120d0bc1130>"
      ]
     },
     "execution_count": 99,
     "metadata": {},
     "output_type": "execute_result"
    }
   ],
   "source": [
    "modelpca = create_model3()\n",
    "modelpca.fit(XS_train_pca, y_nn_train3, validation_split=0.2, epochs=35, batch_size=256, verbose=2, class_weight=class_weight2)"
   ]
  },
  {
   "cell_type": "code",
   "execution_count": 100,
   "metadata": {},
   "outputs": [],
   "source": [
    "predspca2 = modelpca.predict(XS_test_pca)\n",
    "predspca2 = np.argmax(predspca2,axis = 1 )"
   ]
  },
  {
   "cell_type": "code",
   "execution_count": 101,
   "metadata": {},
   "outputs": [
    {
     "name": "stdout",
     "output_type": "stream",
     "text": [
      "0.6695048673611294\n",
      "0.41069548740262474\n",
      "0.788500437873026\n"
     ]
    }
   ],
   "source": [
    "print(accuracy_score(predspca2, y2_test))\n",
    "print(f1_score(y2_test, predspca2))\n",
    "print(roc_auc_score(y2_test, predspca2))\n",
    "#Out performs the non-scaled PCA model and the supervized learning model!\n",
    "#Seems impressive until you realize that we kept in more features that were\n",
    "#correlated with each other. Less meaningful interpretibility"
   ]
  },
  {
   "cell_type": "code",
   "execution_count": 102,
   "metadata": {
    "scrolled": true
   },
   "outputs": [
    {
     "data": {
      "text/html": [
       "<div>\n",
       "<style scoped>\n",
       "    .dataframe tbody tr th:only-of-type {\n",
       "        vertical-align: middle;\n",
       "    }\n",
       "\n",
       "    .dataframe tbody tr th {\n",
       "        vertical-align: top;\n",
       "    }\n",
       "\n",
       "    .dataframe thead th {\n",
       "        text-align: right;\n",
       "    }\n",
       "</style>\n",
       "<table border=\"1\" class=\"dataframe\">\n",
       "  <thead>\n",
       "    <tr style=\"text-align: right;\">\n",
       "      <th></th>\n",
       "      <th>Gender</th>\n",
       "      <th>Age</th>\n",
       "      <th>Driving_License</th>\n",
       "      <th>Region_Code</th>\n",
       "      <th>Previously_Insured</th>\n",
       "      <th>Vehicle_Age</th>\n",
       "      <th>Vehicle_Damage</th>\n",
       "      <th>Annual_Premium</th>\n",
       "      <th>Policy_Sales_Channel</th>\n",
       "    </tr>\n",
       "  </thead>\n",
       "  <tbody>\n",
       "    <tr>\n",
       "      <th>0</th>\n",
       "      <td>0</td>\n",
       "      <td>44</td>\n",
       "      <td>1</td>\n",
       "      <td>28.0</td>\n",
       "      <td>0</td>\n",
       "      <td>2</td>\n",
       "      <td>0</td>\n",
       "      <td>40454.0</td>\n",
       "      <td>26.0</td>\n",
       "    </tr>\n",
       "    <tr>\n",
       "      <th>1</th>\n",
       "      <td>0</td>\n",
       "      <td>76</td>\n",
       "      <td>1</td>\n",
       "      <td>3.0</td>\n",
       "      <td>0</td>\n",
       "      <td>1</td>\n",
       "      <td>1</td>\n",
       "      <td>33536.0</td>\n",
       "      <td>26.0</td>\n",
       "    </tr>\n",
       "    <tr>\n",
       "      <th>2</th>\n",
       "      <td>0</td>\n",
       "      <td>47</td>\n",
       "      <td>1</td>\n",
       "      <td>28.0</td>\n",
       "      <td>0</td>\n",
       "      <td>2</td>\n",
       "      <td>0</td>\n",
       "      <td>38294.0</td>\n",
       "      <td>26.0</td>\n",
       "    </tr>\n",
       "    <tr>\n",
       "      <th>3</th>\n",
       "      <td>0</td>\n",
       "      <td>21</td>\n",
       "      <td>1</td>\n",
       "      <td>11.0</td>\n",
       "      <td>1</td>\n",
       "      <td>0</td>\n",
       "      <td>1</td>\n",
       "      <td>28619.0</td>\n",
       "      <td>152.0</td>\n",
       "    </tr>\n",
       "    <tr>\n",
       "      <th>4</th>\n",
       "      <td>1</td>\n",
       "      <td>29</td>\n",
       "      <td>1</td>\n",
       "      <td>41.0</td>\n",
       "      <td>1</td>\n",
       "      <td>0</td>\n",
       "      <td>1</td>\n",
       "      <td>27496.0</td>\n",
       "      <td>152.0</td>\n",
       "    </tr>\n",
       "    <tr>\n",
       "      <th>...</th>\n",
       "      <td>...</td>\n",
       "      <td>...</td>\n",
       "      <td>...</td>\n",
       "      <td>...</td>\n",
       "      <td>...</td>\n",
       "      <td>...</td>\n",
       "      <td>...</td>\n",
       "      <td>...</td>\n",
       "      <td>...</td>\n",
       "    </tr>\n",
       "    <tr>\n",
       "      <th>381104</th>\n",
       "      <td>0</td>\n",
       "      <td>74</td>\n",
       "      <td>1</td>\n",
       "      <td>26.0</td>\n",
       "      <td>1</td>\n",
       "      <td>1</td>\n",
       "      <td>1</td>\n",
       "      <td>30170.0</td>\n",
       "      <td>26.0</td>\n",
       "    </tr>\n",
       "    <tr>\n",
       "      <th>381105</th>\n",
       "      <td>0</td>\n",
       "      <td>30</td>\n",
       "      <td>1</td>\n",
       "      <td>37.0</td>\n",
       "      <td>1</td>\n",
       "      <td>0</td>\n",
       "      <td>1</td>\n",
       "      <td>40016.0</td>\n",
       "      <td>152.0</td>\n",
       "    </tr>\n",
       "    <tr>\n",
       "      <th>381106</th>\n",
       "      <td>0</td>\n",
       "      <td>21</td>\n",
       "      <td>1</td>\n",
       "      <td>30.0</td>\n",
       "      <td>1</td>\n",
       "      <td>0</td>\n",
       "      <td>1</td>\n",
       "      <td>35118.0</td>\n",
       "      <td>160.0</td>\n",
       "    </tr>\n",
       "    <tr>\n",
       "      <th>381107</th>\n",
       "      <td>1</td>\n",
       "      <td>68</td>\n",
       "      <td>1</td>\n",
       "      <td>14.0</td>\n",
       "      <td>0</td>\n",
       "      <td>2</td>\n",
       "      <td>0</td>\n",
       "      <td>44617.0</td>\n",
       "      <td>124.0</td>\n",
       "    </tr>\n",
       "    <tr>\n",
       "      <th>381108</th>\n",
       "      <td>0</td>\n",
       "      <td>46</td>\n",
       "      <td>1</td>\n",
       "      <td>29.0</td>\n",
       "      <td>0</td>\n",
       "      <td>1</td>\n",
       "      <td>1</td>\n",
       "      <td>41777.0</td>\n",
       "      <td>26.0</td>\n",
       "    </tr>\n",
       "  </tbody>\n",
       "</table>\n",
       "<p>381109 rows × 9 columns</p>\n",
       "</div>"
      ],
      "text/plain": [
       "        Gender  Age  Driving_License  Region_Code  Previously_Insured  \\\n",
       "0            0   44                1         28.0                   0   \n",
       "1            0   76                1          3.0                   0   \n",
       "2            0   47                1         28.0                   0   \n",
       "3            0   21                1         11.0                   1   \n",
       "4            1   29                1         41.0                   1   \n",
       "...        ...  ...              ...          ...                 ...   \n",
       "381104       0   74                1         26.0                   1   \n",
       "381105       0   30                1         37.0                   1   \n",
       "381106       0   21                1         30.0                   1   \n",
       "381107       1   68                1         14.0                   0   \n",
       "381108       0   46                1         29.0                   0   \n",
       "\n",
       "        Vehicle_Age  Vehicle_Damage  Annual_Premium  Policy_Sales_Channel  \n",
       "0                 2               0         40454.0                  26.0  \n",
       "1                 1               1         33536.0                  26.0  \n",
       "2                 2               0         38294.0                  26.0  \n",
       "3                 0               1         28619.0                 152.0  \n",
       "4                 0               1         27496.0                 152.0  \n",
       "...             ...             ...             ...                   ...  \n",
       "381104            1               1         30170.0                  26.0  \n",
       "381105            0               1         40016.0                 152.0  \n",
       "381106            0               1         35118.0                 160.0  \n",
       "381107            2               0         44617.0                 124.0  \n",
       "381108            1               1         41777.0                  26.0  \n",
       "\n",
       "[381109 rows x 9 columns]"
      ]
     },
     "execution_count": 102,
     "metadata": {},
     "output_type": "execute_result"
    }
   ],
   "source": [
    "fpnr"
   ]
  },
  {
   "cell_type": "code",
   "execution_count": 103,
   "metadata": {},
   "outputs": [],
   "source": [
    "X3_train, X3_test, y3_train, y3_test = train_test_split(fpnr[features_to_include], y, test_size=0.2, )"
   ]
  },
  {
   "cell_type": "code",
   "execution_count": 104,
   "metadata": {},
   "outputs": [],
   "source": [
    "scaler.fit(X3_train)\n",
    "XS3 = scaler.transform(X3_train)\n"
   ]
  },
  {
   "cell_type": "code",
   "execution_count": 105,
   "metadata": {},
   "outputs": [],
   "source": [
    "scaler.fit(X3_test)\n",
    "XS3T = scaler.transform(X3_test)\n"
   ]
  },
  {
   "cell_type": "code",
   "execution_count": 106,
   "metadata": {},
   "outputs": [],
   "source": [
    "pca3 = PCA(n_components=3)\n",
    "pca3.fit(XS3)\n",
    "\n",
    "#Transforming x_train and x_test \n",
    "XS2_train_pca = pca3.transform(XS3)\n",
    "XS2_test_pca = pca3.transform(XS3T)"
   ]
  },
  {
   "cell_type": "code",
   "execution_count": 107,
   "metadata": {},
   "outputs": [],
   "source": [
    "y_nn_train4 = to_categorical(y3_train)"
   ]
  },
  {
   "cell_type": "code",
   "execution_count": 108,
   "metadata": {},
   "outputs": [
    {
     "name": "stdout",
     "output_type": "stream",
     "text": [
      "Epoch 1/35\n",
      "953/953 - 1s - loss: 0.9738 - keras_f1_score: 0.6317 - val_loss: 0.5081 - val_keras_f1_score: 0.6241\n",
      "Epoch 2/35\n",
      "953/953 - 1s - loss: 0.9169 - keras_f1_score: 0.6320 - val_loss: 0.4973 - val_keras_f1_score: 0.6279\n",
      "Epoch 3/35\n",
      "953/953 - 1s - loss: 0.9110 - keras_f1_score: 0.6286 - val_loss: 0.5043 - val_keras_f1_score: 0.6097\n",
      "Epoch 4/35\n",
      "953/953 - 1s - loss: 0.9070 - keras_f1_score: 0.6309 - val_loss: 0.4858 - val_keras_f1_score: 0.6423\n",
      "Epoch 5/35\n",
      "953/953 - 1s - loss: 0.9052 - keras_f1_score: 0.6304 - val_loss: 0.4992 - val_keras_f1_score: 0.6242\n",
      "Epoch 6/35\n",
      "953/953 - 1s - loss: 0.9026 - keras_f1_score: 0.6319 - val_loss: 0.5002 - val_keras_f1_score: 0.6263\n",
      "Epoch 7/35\n",
      "953/953 - 1s - loss: 0.9045 - keras_f1_score: 0.6353 - val_loss: 0.5033 - val_keras_f1_score: 0.6221\n",
      "Epoch 8/35\n",
      "953/953 - 1s - loss: 0.8988 - keras_f1_score: 0.6364 - val_loss: 0.4939 - val_keras_f1_score: 0.6307\n",
      "Epoch 9/35\n",
      "953/953 - 1s - loss: 0.8986 - keras_f1_score: 0.6368 - val_loss: 0.4644 - val_keras_f1_score: 0.6775\n",
      "Epoch 10/35\n",
      "953/953 - 1s - loss: 0.8989 - keras_f1_score: 0.6411 - val_loss: 0.4992 - val_keras_f1_score: 0.6261\n",
      "Epoch 11/35\n",
      "953/953 - 1s - loss: 0.8982 - keras_f1_score: 0.6400 - val_loss: 0.5009 - val_keras_f1_score: 0.6168\n",
      "Epoch 12/35\n",
      "953/953 - 1s - loss: 0.8975 - keras_f1_score: 0.6381 - val_loss: 0.4815 - val_keras_f1_score: 0.6573\n",
      "Epoch 13/35\n",
      "953/953 - 1s - loss: 0.8958 - keras_f1_score: 0.6395 - val_loss: 0.4902 - val_keras_f1_score: 0.6489\n",
      "Epoch 14/35\n",
      "953/953 - 1s - loss: 0.8981 - keras_f1_score: 0.6414 - val_loss: 0.4944 - val_keras_f1_score: 0.6386\n",
      "Epoch 15/35\n",
      "953/953 - 1s - loss: 0.8966 - keras_f1_score: 0.6411 - val_loss: 0.4860 - val_keras_f1_score: 0.6563\n",
      "Epoch 16/35\n",
      "953/953 - 1s - loss: 0.8965 - keras_f1_score: 0.6392 - val_loss: 0.5042 - val_keras_f1_score: 0.6216\n",
      "Epoch 17/35\n",
      "953/953 - 1s - loss: 0.8954 - keras_f1_score: 0.6396 - val_loss: 0.5018 - val_keras_f1_score: 0.6357\n",
      "Epoch 18/35\n",
      "953/953 - 1s - loss: 0.8922 - keras_f1_score: 0.6423 - val_loss: 0.5029 - val_keras_f1_score: 0.6207\n",
      "Epoch 19/35\n",
      "953/953 - 1s - loss: 0.8939 - keras_f1_score: 0.6398 - val_loss: 0.5048 - val_keras_f1_score: 0.6239\n",
      "Epoch 20/35\n",
      "953/953 - 1s - loss: 0.8908 - keras_f1_score: 0.6413 - val_loss: 0.4990 - val_keras_f1_score: 0.6365\n",
      "Epoch 21/35\n",
      "953/953 - 1s - loss: 0.8927 - keras_f1_score: 0.6405 - val_loss: 0.5036 - val_keras_f1_score: 0.6299\n",
      "Epoch 22/35\n",
      "953/953 - 1s - loss: 0.8931 - keras_f1_score: 0.6390 - val_loss: 0.5009 - val_keras_f1_score: 0.6309\n",
      "Epoch 23/35\n",
      "953/953 - 1s - loss: 0.8931 - keras_f1_score: 0.6379 - val_loss: 0.4905 - val_keras_f1_score: 0.6423\n",
      "Epoch 24/35\n",
      "953/953 - 1s - loss: 0.8928 - keras_f1_score: 0.6381 - val_loss: 0.4955 - val_keras_f1_score: 0.6387\n",
      "Epoch 25/35\n",
      "953/953 - 1s - loss: 0.8916 - keras_f1_score: 0.6383 - val_loss: 0.4960 - val_keras_f1_score: 0.6417\n",
      "Epoch 26/35\n",
      "953/953 - 1s - loss: 0.8914 - keras_f1_score: 0.6393 - val_loss: 0.5025 - val_keras_f1_score: 0.6310\n",
      "Epoch 27/35\n",
      "953/953 - 1s - loss: 0.8923 - keras_f1_score: 0.6382 - val_loss: 0.4931 - val_keras_f1_score: 0.6387\n",
      "Epoch 28/35\n",
      "953/953 - 1s - loss: 0.8916 - keras_f1_score: 0.6384 - val_loss: 0.5086 - val_keras_f1_score: 0.6180\n",
      "Epoch 29/35\n",
      "953/953 - 1s - loss: 0.8901 - keras_f1_score: 0.6396 - val_loss: 0.4999 - val_keras_f1_score: 0.6322\n",
      "Epoch 30/35\n",
      "953/953 - 1s - loss: 0.8911 - keras_f1_score: 0.6385 - val_loss: 0.4885 - val_keras_f1_score: 0.6432\n",
      "Epoch 31/35\n",
      "953/953 - 1s - loss: 0.8917 - keras_f1_score: 0.6398 - val_loss: 0.4881 - val_keras_f1_score: 0.6462\n",
      "Epoch 32/35\n",
      "953/953 - 1s - loss: 0.8905 - keras_f1_score: 0.6397 - val_loss: 0.5038 - val_keras_f1_score: 0.6361\n",
      "Epoch 33/35\n",
      "953/953 - 1s - loss: 0.8908 - keras_f1_score: 0.6403 - val_loss: 0.5119 - val_keras_f1_score: 0.6177\n",
      "Epoch 34/35\n",
      "953/953 - 1s - loss: 0.8920 - keras_f1_score: 0.6405 - val_loss: 0.5040 - val_keras_f1_score: 0.6199\n",
      "Epoch 35/35\n",
      "953/953 - 1s - loss: 0.8912 - keras_f1_score: 0.6388 - val_loss: 0.5131 - val_keras_f1_score: 0.6096\n"
     ]
    },
    {
     "data": {
      "text/plain": [
       "<tensorflow.python.keras.callbacks.History at 0x120b7f29100>"
      ]
     },
     "execution_count": 108,
     "metadata": {},
     "output_type": "execute_result"
    }
   ],
   "source": [
    "modelpca = create_model3()\n",
    "modelpca.fit(XS2_train_pca, y_nn_train4, validation_split=0.2, epochs=35, batch_size=256, verbose=2, class_weight=class_weight2)"
   ]
  },
  {
   "cell_type": "code",
   "execution_count": 109,
   "metadata": {},
   "outputs": [],
   "source": [
    "predspca3 = modelpca.predict(XS2_test_pca)\n",
    "predspca3 = np.argmax(predspca3,axis = 1 )"
   ]
  },
  {
   "cell_type": "code",
   "execution_count": 110,
   "metadata": {},
   "outputs": [
    {
     "name": "stdout",
     "output_type": "stream",
     "text": [
      "0.6092335546167773\n",
      "0.36120702597207627\n",
      "0.7332526983883134\n"
     ]
    }
   ],
   "source": [
    "print(accuracy_score(predspca3, y3_test))\n",
    "print(f1_score(y3_test, predspca3))\n",
    "print(roc_auc_score(y3_test, predspca3))\n",
    "#0.17519876151242422\n",
    "#0.2055300005054845\n",
    "#0.4716725856226549"
   ]
  },
  {
   "cell_type": "code",
   "execution_count": 111,
   "metadata": {},
   "outputs": [
    {
     "name": "stdout",
     "output_type": "stream",
     "text": [
      "0.6695048673611294\n",
      "0.41069548740262474\n",
      "0.788500437873026\n"
     ]
    }
   ],
   "source": [
    "print(accuracy_score(predspca2, y2_test))\n",
    "print(f1_score(y2_test, predspca2))\n",
    "print(roc_auc_score(y2_test, predspca2))\n",
    "#compare "
   ]
  },
  {
   "cell_type": "markdown",
   "metadata": {},
   "source": [
    "Final test without weights"
   ]
  },
  {
   "cell_type": "code",
   "execution_count": 116,
   "metadata": {},
   "outputs": [
    {
     "name": "stdout",
     "output_type": "stream",
     "text": [
      "Epoch 1/35\n",
      "953/953 - 1s - loss: 0.3664 - keras_f1_score: 0.8344 - val_loss: 0.2801 - val_keras_f1_score: 0.8788\n",
      "Epoch 2/35\n",
      "953/953 - 1s - loss: 0.2875 - keras_f1_score: 0.8773 - val_loss: 0.2782 - val_keras_f1_score: 0.8788\n",
      "Epoch 3/35\n",
      "953/953 - 1s - loss: 0.2839 - keras_f1_score: 0.8775 - val_loss: 0.2780 - val_keras_f1_score: 0.8788\n",
      "Epoch 4/35\n",
      "953/953 - 1s - loss: 0.2837 - keras_f1_score: 0.8776 - val_loss: 0.2779 - val_keras_f1_score: 0.8788\n",
      "Epoch 5/35\n",
      "953/953 - 1s - loss: 0.2831 - keras_f1_score: 0.8776 - val_loss: 0.2772 - val_keras_f1_score: 0.8788\n",
      "Epoch 6/35\n",
      "953/953 - 1s - loss: 0.2830 - keras_f1_score: 0.8776 - val_loss: 0.2771 - val_keras_f1_score: 0.8788\n",
      "Epoch 7/35\n",
      "953/953 - 1s - loss: 0.2830 - keras_f1_score: 0.8776 - val_loss: 0.2771 - val_keras_f1_score: 0.8788\n",
      "Epoch 8/35\n",
      "953/953 - 1s - loss: 0.2823 - keras_f1_score: 0.8776 - val_loss: 0.2772 - val_keras_f1_score: 0.8788\n",
      "Epoch 9/35\n",
      "953/953 - 1s - loss: 0.2826 - keras_f1_score: 0.8776 - val_loss: 0.2777 - val_keras_f1_score: 0.8788\n",
      "Epoch 10/35\n",
      "953/953 - 1s - loss: 0.2824 - keras_f1_score: 0.8776 - val_loss: 0.2774 - val_keras_f1_score: 0.8788\n",
      "Epoch 11/35\n",
      "953/953 - 1s - loss: 0.2823 - keras_f1_score: 0.8776 - val_loss: 0.2771 - val_keras_f1_score: 0.8788\n",
      "Epoch 12/35\n",
      "953/953 - 1s - loss: 0.2823 - keras_f1_score: 0.8776 - val_loss: 0.2768 - val_keras_f1_score: 0.8788\n",
      "Epoch 13/35\n",
      "953/953 - 1s - loss: 0.2824 - keras_f1_score: 0.8776 - val_loss: 0.2767 - val_keras_f1_score: 0.8788\n",
      "Epoch 14/35\n",
      "953/953 - 1s - loss: 0.2822 - keras_f1_score: 0.8776 - val_loss: 0.2768 - val_keras_f1_score: 0.8788\n",
      "Epoch 15/35\n",
      "953/953 - 1s - loss: 0.2820 - keras_f1_score: 0.8776 - val_loss: 0.2769 - val_keras_f1_score: 0.8788\n",
      "Epoch 16/35\n",
      "953/953 - 1s - loss: 0.2822 - keras_f1_score: 0.8776 - val_loss: 0.2769 - val_keras_f1_score: 0.8788\n",
      "Epoch 17/35\n",
      "953/953 - 1s - loss: 0.2819 - keras_f1_score: 0.8776 - val_loss: 0.2770 - val_keras_f1_score: 0.8788\n",
      "Epoch 18/35\n",
      "953/953 - 1s - loss: 0.2818 - keras_f1_score: 0.8776 - val_loss: 0.2772 - val_keras_f1_score: 0.8788\n",
      "Epoch 19/35\n",
      "953/953 - 1s - loss: 0.2818 - keras_f1_score: 0.8776 - val_loss: 0.2769 - val_keras_f1_score: 0.8788\n",
      "Epoch 20/35\n",
      "953/953 - 1s - loss: 0.2819 - keras_f1_score: 0.8776 - val_loss: 0.2770 - val_keras_f1_score: 0.8788\n",
      "Epoch 21/35\n",
      "953/953 - 1s - loss: 0.2818 - keras_f1_score: 0.8776 - val_loss: 0.2775 - val_keras_f1_score: 0.8788\n",
      "Epoch 22/35\n",
      "953/953 - 1s - loss: 0.2818 - keras_f1_score: 0.8776 - val_loss: 0.2771 - val_keras_f1_score: 0.8788\n",
      "Epoch 23/35\n",
      "953/953 - 1s - loss: 0.2818 - keras_f1_score: 0.8776 - val_loss: 0.2770 - val_keras_f1_score: 0.8788\n",
      "Epoch 24/35\n",
      "953/953 - 1s - loss: 0.2820 - keras_f1_score: 0.8776 - val_loss: 0.2767 - val_keras_f1_score: 0.8788\n",
      "Epoch 25/35\n",
      "953/953 - 1s - loss: 0.2818 - keras_f1_score: 0.8776 - val_loss: 0.2769 - val_keras_f1_score: 0.8788\n",
      "Epoch 26/35\n",
      "953/953 - 1s - loss: 0.2817 - keras_f1_score: 0.8776 - val_loss: 0.2767 - val_keras_f1_score: 0.8788\n",
      "Epoch 27/35\n",
      "953/953 - 1s - loss: 0.2819 - keras_f1_score: 0.8776 - val_loss: 0.2767 - val_keras_f1_score: 0.8788\n",
      "Epoch 28/35\n",
      "953/953 - 1s - loss: 0.2816 - keras_f1_score: 0.8776 - val_loss: 0.2769 - val_keras_f1_score: 0.8788\n",
      "Epoch 29/35\n",
      "953/953 - 1s - loss: 0.2817 - keras_f1_score: 0.8776 - val_loss: 0.2768 - val_keras_f1_score: 0.8788\n",
      "Epoch 30/35\n",
      "953/953 - 1s - loss: 0.2817 - keras_f1_score: 0.8776 - val_loss: 0.2771 - val_keras_f1_score: 0.8788\n",
      "Epoch 31/35\n",
      "953/953 - 1s - loss: 0.2817 - keras_f1_score: 0.8776 - val_loss: 0.2769 - val_keras_f1_score: 0.8788\n",
      "Epoch 32/35\n",
      "953/953 - 1s - loss: 0.2818 - keras_f1_score: 0.8776 - val_loss: 0.2771 - val_keras_f1_score: 0.8788\n",
      "Epoch 33/35\n",
      "953/953 - 1s - loss: 0.2816 - keras_f1_score: 0.8776 - val_loss: 0.2768 - val_keras_f1_score: 0.8788\n",
      "Epoch 34/35\n",
      "953/953 - 1s - loss: 0.2818 - keras_f1_score: 0.8776 - val_loss: 0.2768 - val_keras_f1_score: 0.8788\n",
      "Epoch 35/35\n",
      "953/953 - 1s - loss: 0.2818 - keras_f1_score: 0.8776 - val_loss: 0.2773 - val_keras_f1_score: 0.8788\n"
     ]
    },
    {
     "data": {
      "text/plain": [
       "<tensorflow.python.keras.callbacks.History at 0x120e1f6f460>"
      ]
     },
     "execution_count": 116,
     "metadata": {},
     "output_type": "execute_result"
    }
   ],
   "source": [
    "model = create_model()\n",
    "model.fit(XK_train, y_nn_train, validation_split=0.2, epochs=35, batch_size=256, verbose=2, )"
   ]
  },
  {
   "cell_type": "code",
   "execution_count": 118,
   "metadata": {},
   "outputs": [],
   "source": [
    "predsknoweights = model2.predict(XK_test)\n",
    "predsknoweights = np.argmax(predsknoweights, axis=1)"
   ]
  },
  {
   "cell_type": "code",
   "execution_count": 119,
   "metadata": {},
   "outputs": [
    {
     "name": "stdout",
     "output_type": "stream",
     "text": [
      "0.661108341423736\n",
      "0.4039779413461317\n",
      "0.7746493339158833\n"
     ]
    }
   ],
   "source": [
    "print(accuracy_score(predsknoweights, yk_test))\n",
    "print(f1_score(yk_test, predsknoweights))\n",
    "print(roc_auc_score(yk_test, predsknoweights))"
   ]
  },
  {
   "cell_type": "code",
   "execution_count": 120,
   "metadata": {},
   "outputs": [
    {
     "data": {
      "text/plain": [
       "array([[41637, 25128],\n",
       "       [  703,  8754]], dtype=int64)"
      ]
     },
     "execution_count": 120,
     "metadata": {},
     "output_type": "execute_result"
    }
   ],
   "source": [
    "cs(yk_test, predsknoweights)"
   ]
  },
  {
   "cell_type": "markdown",
   "metadata": {},
   "source": [
    "Problems with converting my notebook file into a pdf for upload purposes"
   ]
  },
  {
   "cell_type": "code",
   "execution_count": 55,
   "metadata": {},
   "outputs": [
    {
     "name": "stdout",
     "output_type": "stream",
     "text": [
      "Requirement already satisfied: nbconvert in d:\\anaconda\\lib\\site-packages (5.6.1)\n",
      "Requirement already satisfied: mistune<2,>=0.8.1 in d:\\anaconda\\lib\\site-packages (from nbconvert) (0.8.4)\n",
      "Requirement already satisfied: bleach in d:\\anaconda\\lib\\site-packages (from nbconvert) (3.1.5)\n",
      "Requirement already satisfied: defusedxml in d:\\anaconda\\lib\\site-packages (from nbconvert) (0.6.0)\n",
      "Requirement already satisfied: pygments in d:\\anaconda\\lib\\site-packages (from nbconvert) (2.6.1)\n",
      "Requirement already satisfied: entrypoints>=0.2.2 in d:\\anaconda\\lib\\site-packages (from nbconvert) (0.3)\n",
      "Requirement already satisfied: pandocfilters>=1.4.1 in d:\\anaconda\\lib\\site-packages (from nbconvert) (1.4.2)\n",
      "Requirement already satisfied: traitlets>=4.2 in d:\\anaconda\\lib\\site-packages (from nbconvert) (4.3.3)\n",
      "Requirement already satisfied: testpath in d:\\anaconda\\lib\\site-packages (from nbconvert) (0.4.4)\n",
      "Requirement already satisfied: jinja2>=2.4 in d:\\anaconda\\lib\\site-packages (from nbconvert) (2.11.2)\n",
      "Requirement already satisfied: nbformat>=4.4 in d:\\anaconda\\lib\\site-packages (from nbconvert) (5.0.7)\n",
      "Requirement already satisfied: jupyter-core in d:\\anaconda\\lib\\site-packages (from nbconvert) (4.6.3)\n",
      "Requirement already satisfied: six>=1.9.0 in d:\\anaconda\\lib\\site-packages (from bleach->nbconvert) (1.15.0)\n",
      "Requirement already satisfied: packaging in d:\\anaconda\\lib\\site-packages (from bleach->nbconvert) (20.4)\n",
      "Requirement already satisfied: webencodings in d:\\anaconda\\lib\\site-packages (from bleach->nbconvert) (0.5.1)\n",
      "Requirement already satisfied: ipython-genutils in d:\\anaconda\\lib\\site-packages (from traitlets>=4.2->nbconvert) (0.2.0)\n",
      "Requirement already satisfied: decorator in d:\\anaconda\\lib\\site-packages (from traitlets>=4.2->nbconvert) (4.4.2)\n",
      "Requirement already satisfied: MarkupSafe>=0.23 in d:\\anaconda\\lib\\site-packages (from jinja2>=2.4->nbconvert) (1.1.1)\n",
      "Requirement already satisfied: jsonschema!=2.5.0,>=2.4 in d:\\anaconda\\lib\\site-packages (from nbformat>=4.4->nbconvert) (3.2.0)\n",
      "Requirement already satisfied: pywin32>=1.0; sys_platform == \"win32\" in d:\\anaconda\\lib\\site-packages (from jupyter-core->nbconvert) (227)\n",
      "Requirement already satisfied: pyparsing>=2.0.2 in d:\\anaconda\\lib\\site-packages (from packaging->bleach->nbconvert) (2.4.7)\n",
      "Requirement already satisfied: pyrsistent>=0.14.0 in d:\\anaconda\\lib\\site-packages (from jsonschema!=2.5.0,>=2.4->nbformat>=4.4->nbconvert) (0.16.0)\n",
      "Requirement already satisfied: attrs>=17.4.0 in d:\\anaconda\\lib\\site-packages (from jsonschema!=2.5.0,>=2.4->nbformat>=4.4->nbconvert) (19.3.0)\n",
      "Requirement already satisfied: setuptools in d:\\anaconda\\lib\\site-packages (from jsonschema!=2.5.0,>=2.4->nbformat>=4.4->nbconvert) (49.2.0.post20200714)\n"
     ]
    }
   ],
   "source": [
    "!pip install nbconvert"
   ]
  },
  {
   "cell_type": "code",
   "execution_count": 56,
   "metadata": {},
   "outputs": [
    {
     "name": "stderr",
     "output_type": "stream",
     "text": [
      "'export' is not recognized as an internal or external command,\n",
      "operable program or batch file.\n"
     ]
    }
   ],
   "source": [
    "!export PATH=/Library/TeX/texbin:$PATH"
   ]
  },
  {
   "cell_type": "code",
   "execution_count": 58,
   "metadata": {},
   "outputs": [],
   "source": [
    "import nbconvert"
   ]
  },
  {
   "cell_type": "code",
   "execution_count": 59,
   "metadata": {},
   "outputs": [
    {
     "ename": "SyntaxError",
     "evalue": "invalid syntax (<ipython-input-59-5097655e60f4>, line 1)",
     "output_type": "error",
     "traceback": [
      "\u001b[1;36m  File \u001b[1;32m\"<ipython-input-59-5097655e60f4>\"\u001b[1;36m, line \u001b[1;32m1\u001b[0m\n\u001b[1;33m    jupyter nbconvert FinalProject.ipynb --to pdf\u001b[0m\n\u001b[1;37m            ^\u001b[0m\n\u001b[1;31mSyntaxError\u001b[0m\u001b[1;31m:\u001b[0m invalid syntax\n"
     ]
    }
   ],
   "source": [
    " jupyter nbconvert FinalProject.ipynb --to pdf"
   ]
  },
  {
   "cell_type": "markdown",
   "metadata": {},
   "source": [
    "Forget about fixing PATH, just press ctrl+p in your browser and save as a pdf "
   ]
  }
 ],
 "metadata": {
  "kernelspec": {
   "display_name": "Python 3",
   "language": "python",
   "name": "python3"
  },
  "language_info": {
   "codemirror_mode": {
    "name": "ipython",
    "version": 3
   },
   "file_extension": ".py",
   "mimetype": "text/x-python",
   "name": "python",
   "nbconvert_exporter": "python",
   "pygments_lexer": "ipython3",
   "version": "3.8.3"
  }
 },
 "nbformat": 4,
 "nbformat_minor": 4
}
