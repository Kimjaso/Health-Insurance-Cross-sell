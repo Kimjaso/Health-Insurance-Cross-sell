{
 "cells": [
  {
   "cell_type": "markdown",
   "metadata": {},
   "source": [
    "My final project for Brainstation's September 2020 machine learning course. In this project, I do basic data cleaning, logistic regression and PCA for modeling, and use ROC and AUC with F1 scores to evaluate model performance. Finally, I use keras to train a model and improve performance metrics.\n",
    "\n",
    "Original data from https://www.kaggle.com/anmolkumar/health-insurance-cross-sell-prediction?select=test.csv"
   ]
  },
  {
   "cell_type": "markdown",
   "metadata": {},
   "source": [
    "As you read this notebook, you'll notice I've left a lot of code that doesn't work well or at all. I've decided to keep my mistakes inside because this project is just as much about learning from my mistakes as it is showing off my ability. My sincerest hope is that someone will find this project, read it, and understand what not to do."
   ]
  },
  {
   "cell_type": "code",
   "execution_count": 1,
   "metadata": {},
   "outputs": [],
   "source": [
    "#Import all of the packages we think we will need\n",
    "import pandas as pd\n",
    "import numpy as np\n",
    "import matplotlib.pyplot as plt\n",
    "%matplotlib inline\n",
    "import sklearn as sk\n",
    "pd.options.display.max_columns=500\n",
    "import warnings\n",
    "warnings.filterwarnings(\"ignore\")\n",
    "from sklearn.metrics import accuracy_score\n",
    "from sklearn import model_selection, metrics, linear_model, datasets, feature_selection\n",
    "from sklearn.preprocessing import MinMaxScaler\n",
    "import seaborn as sns"
   ]
  },
  {
   "cell_type": "code",
   "execution_count": 2,
   "metadata": {},
   "outputs": [],
   "source": [
    "fp = pd.read_csv('trainfp.csv')"
   ]
  },
  {
   "cell_type": "code",
   "execution_count": 3,
   "metadata": {
    "scrolled": true
   },
   "outputs": [
    {
     "data": {
      "text/html": [
       "<div>\n",
       "<style scoped>\n",
       "    .dataframe tbody tr th:only-of-type {\n",
       "        vertical-align: middle;\n",
       "    }\n",
       "\n",
       "    .dataframe tbody tr th {\n",
       "        vertical-align: top;\n",
       "    }\n",
       "\n",
       "    .dataframe thead th {\n",
       "        text-align: right;\n",
       "    }\n",
       "</style>\n",
       "<table border=\"1\" class=\"dataframe\">\n",
       "  <thead>\n",
       "    <tr style=\"text-align: right;\">\n",
       "      <th></th>\n",
       "      <th>id</th>\n",
       "      <th>Gender</th>\n",
       "      <th>Age</th>\n",
       "      <th>Driving_License</th>\n",
       "      <th>Region_Code</th>\n",
       "      <th>Previously_Insured</th>\n",
       "      <th>Vehicle_Age</th>\n",
       "      <th>Vehicle_Damage</th>\n",
       "      <th>Annual_Premium</th>\n",
       "      <th>Policy_Sales_Channel</th>\n",
       "      <th>Vintage</th>\n",
       "      <th>Response</th>\n",
       "    </tr>\n",
       "  </thead>\n",
       "  <tbody>\n",
       "    <tr>\n",
       "      <th>0</th>\n",
       "      <td>1</td>\n",
       "      <td>Male</td>\n",
       "      <td>44</td>\n",
       "      <td>1</td>\n",
       "      <td>28.0</td>\n",
       "      <td>0</td>\n",
       "      <td>&gt; 2 Years</td>\n",
       "      <td>Yes</td>\n",
       "      <td>40454.0</td>\n",
       "      <td>26.0</td>\n",
       "      <td>217</td>\n",
       "      <td>1</td>\n",
       "    </tr>\n",
       "    <tr>\n",
       "      <th>1</th>\n",
       "      <td>2</td>\n",
       "      <td>Male</td>\n",
       "      <td>76</td>\n",
       "      <td>1</td>\n",
       "      <td>3.0</td>\n",
       "      <td>0</td>\n",
       "      <td>1-2 Year</td>\n",
       "      <td>No</td>\n",
       "      <td>33536.0</td>\n",
       "      <td>26.0</td>\n",
       "      <td>183</td>\n",
       "      <td>0</td>\n",
       "    </tr>\n",
       "    <tr>\n",
       "      <th>2</th>\n",
       "      <td>3</td>\n",
       "      <td>Male</td>\n",
       "      <td>47</td>\n",
       "      <td>1</td>\n",
       "      <td>28.0</td>\n",
       "      <td>0</td>\n",
       "      <td>&gt; 2 Years</td>\n",
       "      <td>Yes</td>\n",
       "      <td>38294.0</td>\n",
       "      <td>26.0</td>\n",
       "      <td>27</td>\n",
       "      <td>1</td>\n",
       "    </tr>\n",
       "    <tr>\n",
       "      <th>3</th>\n",
       "      <td>4</td>\n",
       "      <td>Male</td>\n",
       "      <td>21</td>\n",
       "      <td>1</td>\n",
       "      <td>11.0</td>\n",
       "      <td>1</td>\n",
       "      <td>&lt; 1 Year</td>\n",
       "      <td>No</td>\n",
       "      <td>28619.0</td>\n",
       "      <td>152.0</td>\n",
       "      <td>203</td>\n",
       "      <td>0</td>\n",
       "    </tr>\n",
       "    <tr>\n",
       "      <th>4</th>\n",
       "      <td>5</td>\n",
       "      <td>Female</td>\n",
       "      <td>29</td>\n",
       "      <td>1</td>\n",
       "      <td>41.0</td>\n",
       "      <td>1</td>\n",
       "      <td>&lt; 1 Year</td>\n",
       "      <td>No</td>\n",
       "      <td>27496.0</td>\n",
       "      <td>152.0</td>\n",
       "      <td>39</td>\n",
       "      <td>0</td>\n",
       "    </tr>\n",
       "  </tbody>\n",
       "</table>\n",
       "</div>"
      ],
      "text/plain": [
       "   id  Gender  Age  Driving_License  Region_Code  Previously_Insured  \\\n",
       "0   1    Male   44                1         28.0                   0   \n",
       "1   2    Male   76                1          3.0                   0   \n",
       "2   3    Male   47                1         28.0                   0   \n",
       "3   4    Male   21                1         11.0                   1   \n",
       "4   5  Female   29                1         41.0                   1   \n",
       "\n",
       "  Vehicle_Age Vehicle_Damage  Annual_Premium  Policy_Sales_Channel  Vintage  \\\n",
       "0   > 2 Years            Yes         40454.0                  26.0      217   \n",
       "1    1-2 Year             No         33536.0                  26.0      183   \n",
       "2   > 2 Years            Yes         38294.0                  26.0       27   \n",
       "3    < 1 Year             No         28619.0                 152.0      203   \n",
       "4    < 1 Year             No         27496.0                 152.0       39   \n",
       "\n",
       "   Response  \n",
       "0         1  \n",
       "1         0  \n",
       "2         1  \n",
       "3         0  \n",
       "4         0  "
      ]
     },
     "execution_count": 3,
     "metadata": {},
     "output_type": "execute_result"
    }
   ],
   "source": [
    "fp.head()\n",
    "#First lets look at the data"
   ]
  },
  {
   "cell_type": "code",
   "execution_count": 4,
   "metadata": {},
   "outputs": [
    {
     "data": {
      "text/plain": [
       "152.0    134784\n",
       "26.0      79700\n",
       "124.0     73995\n",
       "160.0     21779\n",
       "156.0     10661\n",
       "          ...  \n",
       "144.0         1\n",
       "149.0         1\n",
       "84.0          1\n",
       "143.0         1\n",
       "43.0          1\n",
       "Name: Policy_Sales_Channel, Length: 155, dtype: int64"
      ]
     },
     "execution_count": 4,
     "metadata": {},
     "output_type": "execute_result"
    }
   ],
   "source": [
    "fp['Policy_Sales_Channel'].value_counts(dropna=False)"
   ]
  },
  {
   "cell_type": "code",
   "execution_count": 5,
   "metadata": {},
   "outputs": [
    {
     "data": {
      "text/plain": [
       "False"
      ]
     },
     "execution_count": 5,
     "metadata": {},
     "output_type": "execute_result"
    }
   ],
   "source": [
    "fp.isnull().values.any() #Check for any NaN values across the entire data set. False return means no NaN at all"
   ]
  },
  {
   "cell_type": "code",
   "execution_count": 6,
   "metadata": {
    "scrolled": false
   },
   "outputs": [
    {
     "data": {
      "text/plain": [
       "array([217, 183,  27, 203,  39, 176, 249,  72,  28,  80,  46, 289, 221,\n",
       "        15,  58, 147, 256, 299, 158, 102, 116, 177, 232,  60, 180,  49,\n",
       "        57, 223, 136, 222, 149, 169,  88, 253, 107, 264, 233,  45, 184,\n",
       "       251, 153, 186,  71,  34,  83,  12, 246, 141, 216, 130, 282,  73,\n",
       "       171, 283, 295, 165,  30, 218,  22,  36,  79,  81, 100,  63, 242,\n",
       "       277,  61, 111, 167,  74, 235, 131, 243, 248, 114, 281,  62, 189,\n",
       "       139, 138, 209, 254, 291,  68,  92,  52,  78, 156, 247, 275,  77,\n",
       "       181, 229, 166,  16,  23,  31, 293, 219,  50, 155,  66, 260,  19,\n",
       "       258, 117, 193, 204, 212, 144, 234, 206, 228, 125,  29,  18,  84,\n",
       "       230,  54, 123, 101,  86,  13, 237,  85,  98,  67, 128,  95,  89,\n",
       "        99, 208, 134, 135, 268, 284, 119, 226, 105, 142, 207, 272, 263,\n",
       "        64,  40, 245, 163,  24, 265, 202, 259,  91, 106, 190, 162,  33,\n",
       "       194, 287, 292,  69, 239, 132, 255, 152, 121, 150, 143, 198, 103,\n",
       "       127, 285, 214, 151, 199,  56,  59, 215, 104, 238, 120,  21,  32,\n",
       "       270, 211, 200, 197,  11, 213,  93, 113, 178,  10, 290,  94, 231,\n",
       "       296,  47, 122, 271, 278, 276,  96, 240, 172, 257, 224, 173, 220,\n",
       "       185,  90,  51, 205,  70, 160, 137, 168,  87, 118, 288, 126, 241,\n",
       "        82, 227, 115, 164, 236, 286, 244, 108, 274, 201,  97,  25, 174,\n",
       "       182, 154,  48,  20,  53,  17, 261,  41, 266,  35, 140, 269, 146,\n",
       "       145,  65, 298, 133, 195,  55, 188,  75,  38,  43, 110,  37, 129,\n",
       "       170, 109, 267, 279, 112, 280,  76, 191,  26, 161, 179, 175, 252,\n",
       "        42, 124, 187, 148, 294,  44, 157, 192, 262, 159, 210, 250,  14,\n",
       "       273, 297, 225, 196], dtype=int64)"
      ]
     },
     "execution_count": 6,
     "metadata": {},
     "output_type": "execute_result"
    }
   ],
   "source": [
    "fp['Vintage'].unique() #The days someone has been a customer. Every customer is less than a year old, very suspicious data"
   ]
  },
  {
   "cell_type": "code",
   "execution_count": 8,
   "metadata": {},
   "outputs": [
    {
     "data": {
      "image/png": "[encoded data removed]",
      "text/plain": [
       "<Figure size 432x288 with 1 Axes>"
      ]
     },
     "metadata": {
      "needs_background": "light"
     },
     "output_type": "display_data"
    }
   ],
   "source": [
    "Annual_premium = sns.regplot(x= 'Annual_Premium', y= 'Response', data= fp, logistic= True).set_title(\"Annual Premium log odds linear plot\")\n",
    "#This takes a long time, like 5+ minutes long\n",
    "#Not a \"U\" shape, slight \"S\" shape Assumption of IV's log odds linearity seems intact"
   ]
  },
  {
   "cell_type": "code",
   "execution_count": 11,
   "metadata": {
    "scrolled": true
   },
   "outputs": [
    {
     "data": {
      "image/png": "[encoded data removed]",
      "text/plain": [
       "<Figure size 432x288 with 1 Axes>"
      ]
     },
     "metadata": {
      "needs_background": "light"
     },
     "output_type": "display_data"
    }
   ],
   "source": [
    "Days_With = sns.regplot(x= 'Vintage', y= 'Response', data= fp, logistic= True).set_title(\"Vintage log odds linear plot\")\n",
    "#Clearly not S shape, Discard"
   ]
  },
  {
   "cell_type": "code",
   "execution_count": 7,
   "metadata": {},
   "outputs": [],
   "source": [
    "fp['Vehicle_Age'] = fp['Vehicle_Age'].replace({'< 1 Year':0, '1-2 Year':1, '> 2 Years':2})\n",
    "\n",
    "#Consider turning Policy_Sales_Channel into dummy variables\n",
    "#Consider turning Region_Code into dummy variables"
   ]
  },
  {
   "cell_type": "code",
   "execution_count": 8,
   "metadata": {},
   "outputs": [],
   "source": [
    "fp['Gender'] = fp['Gender'].replace({'Male':0, 'Female':1})"
   ]
  },
  {
   "cell_type": "code",
   "execution_count": 9,
   "metadata": {},
   "outputs": [],
   "source": [
    "fp['Vehicle_Damage'] = fp['Vehicle_Damage'].replace({'Yes':0, 'No':1})"
   ]
  },
  {
   "cell_type": "code",
   "execution_count": 10,
   "metadata": {},
   "outputs": [],
   "source": [
    "from sklearn.cluster import KMeans\n",
    "#We originally wanted to use KMeans to determine customer segmentation but with responses already known, training a \n",
    "#logistic regression model made more sense"
   ]
  },
  {
   "cell_type": "markdown",
   "metadata": {},
   "source": [
    "For my feature selection, I made the decision to remove \"policy sales channel\" and \"region code\" because their numerical values were categorical but I had no information on what each value refered to. I am unable to interpret these variables' meaning. In addition, I remove 'vintage' for failing the linearity assumption of independent variable's log odds."
   ]
  },
  {
   "cell_type": "code",
   "execution_count": 11,
   "metadata": {},
   "outputs": [],
   "source": [
    "features_to_include = ['Gender', 'Age', 'Driving_License', 'Previously_Insured','Annual_Premium', ]\n",
    "# Remove 'Policy_Sales_Channel', 'Vintage', and 'Region_Code' because they do not meet conditions and/or do not have clear \n",
    "#documentation. In addition, we will remove Vehicle_age and Vehicle_Damage for this iteration due to multico"
   ]
  },
  {
   "cell_type": "code",
   "execution_count": 12,
   "metadata": {},
   "outputs": [],
   "source": [
    "#Check multicollinearity \n",
    "multico = fp.corr()\n",
    "#Vehicle Age and Age of customer are moderately positively correlated. Older customers have older vehicles. Consider dropping one\n",
    "#Vehicle Damage and Previously Insured are highly correlated which is not surprising. Consider dropping one term"
   ]
  },
  {
   "cell_type": "code",
   "execution_count": 13,
   "metadata": {},
   "outputs": [
    {
     "name": "stdout",
     "output_type": "stream",
     "text": [
      "                            id    Gender       Age  Driving_License  \\\n",
      "id                    1.000000 -0.000999  0.001561        -0.000564   \n",
      "Gender               -0.000999  1.000000 -0.145545         0.018374   \n",
      "Age                   0.001561 -0.145545  1.000000        -0.079782   \n",
      "Driving_License      -0.000564  0.018374 -0.079782         1.000000   \n",
      "Region_Code          -0.000572 -0.000604  0.042574        -0.001081   \n",
      "Previously_Insured    0.002457  0.081932 -0.254682         0.014969   \n",
      "Vehicle_Age           0.000878 -0.160427  0.765790        -0.037306   \n",
      "Vehicle_Damage        0.001507  0.091606 -0.267534         0.016622   \n",
      "Annual_Premium        0.003027 -0.003673  0.067507        -0.011906   \n",
      "Policy_Sales_Channel -0.002837  0.111159 -0.577826         0.043731   \n",
      "Vintage              -0.000630  0.002517 -0.001264        -0.000848   \n",
      "Response             -0.001368 -0.052440  0.111147         0.010155   \n",
      "\n",
      "                      Region_Code  Previously_Insured  Vehicle_Age  \\\n",
      "id                      -0.000572            0.002457     0.000878   \n",
      "Gender                  -0.000604            0.081932    -0.160427   \n",
      "Age                      0.042574           -0.254682     0.765790   \n",
      "Driving_License         -0.001081            0.014969    -0.037306   \n",
      "Region_Code              1.000000           -0.024659     0.043778   \n",
      "Previously_Insured      -0.024659            1.000000    -0.380873   \n",
      "Vehicle_Age              0.043778           -0.380873     1.000000   \n",
      "Vehicle_Damage          -0.028235            0.824143    -0.396873   \n",
      "Annual_Premium          -0.010588            0.004269     0.041580   \n",
      "Policy_Sales_Channel    -0.042420            0.219381    -0.550663   \n",
      "Vintage                 -0.002750            0.002537    -0.001892   \n",
      "Response                 0.010570           -0.341170     0.221874   \n",
      "\n",
      "                      Vehicle_Damage  Annual_Premium  Policy_Sales_Channel  \\\n",
      "id                          0.001507        0.003027             -0.002837   \n",
      "Gender                      0.091606       -0.003673              0.111159   \n",
      "Age                        -0.267534        0.067507             -0.577826   \n",
      "Driving_License             0.016622       -0.011906              0.043731   \n",
      "Region_Code                -0.028235       -0.010588             -0.042420   \n",
      "Previously_Insured          0.824143        0.004269              0.219381   \n",
      "Vehicle_Age                -0.396873        0.041580             -0.550663   \n",
      "Vehicle_Damage              1.000000       -0.009349              0.224377   \n",
      "Annual_Premium             -0.009349        1.000000             -0.113247   \n",
      "Policy_Sales_Channel        0.224377       -0.113247              1.000000   \n",
      "Vintage                     0.002064       -0.000608              0.000002   \n",
      "Response                   -0.354400        0.022575             -0.139042   \n",
      "\n",
      "                       Vintage  Response  \n",
      "id                   -0.000630 -0.001368  \n",
      "Gender                0.002517 -0.052440  \n",
      "Age                  -0.001264  0.111147  \n",
      "Driving_License      -0.000848  0.010155  \n",
      "Region_Code          -0.002750  0.010570  \n",
      "Previously_Insured    0.002537 -0.341170  \n",
      "Vehicle_Age          -0.001892  0.221874  \n",
      "Vehicle_Damage        0.002064 -0.354400  \n",
      "Annual_Premium       -0.000608  0.022575  \n",
      "Policy_Sales_Channel  0.000002 -0.139042  \n",
      "Vintage               1.000000 -0.001050  \n",
      "Response             -0.001050  1.000000  \n"
     ]
    }
   ],
   "source": [
    "print(multico)"
   ]
  },
  {
   "cell_type": "code",
   "execution_count": 15,
   "metadata": {},
   "outputs": [],
   "source": [
    "del fp['Vintage']\n",
    "del fp['id']\n",
    "del fp['Region_Code']\n",
    "del fp['Policy_Sales_Channel']"
   ]
  },
  {
   "cell_type": "code",
   "execution_count": 17,
   "metadata": {},
   "outputs": [],
   "source": [
    "sns.set(font_scale=1)"
   ]
  },
  {
   "cell_type": "code",
   "execution_count": 18,
   "metadata": {},
   "outputs": [
    {
     "data": {
      "text/plain": [
       "<matplotlib.axes._subplots.AxesSubplot at 0x29239137df0>"
      ]
     },
     "execution_count": 18,
     "metadata": {},
     "output_type": "execute_result"
    },
    {
     "data": {
      "image/png": "[encoded data removed]",
      "text/plain": [
       "<Figure size 720x720 with 2 Axes>"
      ]
     },
     "metadata": {},
     "output_type": "display_data"
    }
   ],
   "source": [
    "#We are going to make a heat graph of multicollinearity for visual's sake\n",
    "plt.figure(figsize=(10,10)) \n",
    "sns.heatmap(multico, annot = True, cmap = 'bwr')"
   ]
  },
  {
   "cell_type": "code",
   "execution_count": 19,
   "metadata": {
    "scrolled": true
   },
   "outputs": [
    {
     "data": {
      "text/html": [
       "<div>\n",
       "<style scoped>\n",
       "    .dataframe tbody tr th:only-of-type {\n",
       "        vertical-align: middle;\n",
       "    }\n",
       "\n",
       "    .dataframe tbody tr th {\n",
       "        vertical-align: top;\n",
       "    }\n",
       "\n",
       "    .dataframe thead th {\n",
       "        text-align: right;\n",
       "    }\n",
       "</style>\n",
       "<table border=\"1\" class=\"dataframe\">\n",
       "  <thead>\n",
       "    <tr style=\"text-align: right;\">\n",
       "      <th></th>\n",
       "      <th>Gender</th>\n",
       "      <th>Age</th>\n",
       "      <th>Driving_License</th>\n",
       "      <th>Previously_Insured</th>\n",
       "      <th>Vehicle_Age</th>\n",
       "      <th>Vehicle_Damage</th>\n",
       "      <th>Annual_Premium</th>\n",
       "      <th>Response</th>\n",
       "    </tr>\n",
       "  </thead>\n",
       "  <tbody>\n",
       "    <tr>\n",
       "      <th>0</th>\n",
       "      <td>0</td>\n",
       "      <td>44</td>\n",
       "      <td>1</td>\n",
       "      <td>0</td>\n",
       "      <td>2</td>\n",
       "      <td>0</td>\n",
       "      <td>40454.0</td>\n",
       "      <td>1</td>\n",
       "    </tr>\n",
       "    <tr>\n",
       "      <th>1</th>\n",
       "      <td>0</td>\n",
       "      <td>76</td>\n",
       "      <td>1</td>\n",
       "      <td>0</td>\n",
       "      <td>1</td>\n",
       "      <td>1</td>\n",
       "      <td>33536.0</td>\n",
       "      <td>0</td>\n",
       "    </tr>\n",
       "    <tr>\n",
       "      <th>2</th>\n",
       "      <td>0</td>\n",
       "      <td>47</td>\n",
       "      <td>1</td>\n",
       "      <td>0</td>\n",
       "      <td>2</td>\n",
       "      <td>0</td>\n",
       "      <td>38294.0</td>\n",
       "      <td>1</td>\n",
       "    </tr>\n",
       "    <tr>\n",
       "      <th>3</th>\n",
       "      <td>0</td>\n",
       "      <td>21</td>\n",
       "      <td>1</td>\n",
       "      <td>1</td>\n",
       "      <td>0</td>\n",
       "      <td>1</td>\n",
       "      <td>28619.0</td>\n",
       "      <td>0</td>\n",
       "    </tr>\n",
       "    <tr>\n",
       "      <th>4</th>\n",
       "      <td>1</td>\n",
       "      <td>29</td>\n",
       "      <td>1</td>\n",
       "      <td>1</td>\n",
       "      <td>0</td>\n",
       "      <td>1</td>\n",
       "      <td>27496.0</td>\n",
       "      <td>0</td>\n",
       "    </tr>\n",
       "    <tr>\n",
       "      <th>...</th>\n",
       "      <td>...</td>\n",
       "      <td>...</td>\n",
       "      <td>...</td>\n",
       "      <td>...</td>\n",
       "      <td>...</td>\n",
       "      <td>...</td>\n",
       "      <td>...</td>\n",
       "      <td>...</td>\n",
       "    </tr>\n",
       "    <tr>\n",
       "      <th>381104</th>\n",
       "      <td>0</td>\n",
       "      <td>74</td>\n",
       "      <td>1</td>\n",
       "      <td>1</td>\n",
       "      <td>1</td>\n",
       "      <td>1</td>\n",
       "      <td>30170.0</td>\n",
       "      <td>0</td>\n",
       "    </tr>\n",
       "    <tr>\n",
       "      <th>381105</th>\n",
       "      <td>0</td>\n",
       "      <td>30</td>\n",
       "      <td>1</td>\n",
       "      <td>1</td>\n",
       "      <td>0</td>\n",
       "      <td>1</td>\n",
       "      <td>40016.0</td>\n",
       "      <td>0</td>\n",
       "    </tr>\n",
       "    <tr>\n",
       "      <th>381106</th>\n",
       "      <td>0</td>\n",
       "      <td>21</td>\n",
       "      <td>1</td>\n",
       "      <td>1</td>\n",
       "      <td>0</td>\n",
       "      <td>1</td>\n",
       "      <td>35118.0</td>\n",
       "      <td>0</td>\n",
       "    </tr>\n",
       "    <tr>\n",
       "      <th>381107</th>\n",
       "      <td>1</td>\n",
       "      <td>68</td>\n",
       "      <td>1</td>\n",
       "      <td>0</td>\n",
       "      <td>2</td>\n",
       "      <td>0</td>\n",
       "      <td>44617.0</td>\n",
       "      <td>0</td>\n",
       "    </tr>\n",
       "    <tr>\n",
       "      <th>381108</th>\n",
       "      <td>0</td>\n",
       "      <td>46</td>\n",
       "      <td>1</td>\n",
       "      <td>0</td>\n",
       "      <td>1</td>\n",
       "      <td>1</td>\n",
       "      <td>41777.0</td>\n",
       "      <td>0</td>\n",
       "    </tr>\n",
       "  </tbody>\n",
       "</table>\n",
       "<p>381109 rows × 8 columns</p>\n",
       "</div>"
      ],
      "text/plain": [
       "        Gender  Age  Driving_License  Previously_Insured  Vehicle_Age  \\\n",
       "0            0   44                1                   0            2   \n",
       "1            0   76                1                   0            1   \n",
       "2            0   47                1                   0            2   \n",
       "3            0   21                1                   1            0   \n",
       "4            1   29                1                   1            0   \n",
       "...        ...  ...              ...                 ...          ...   \n",
       "381104       0   74                1                   1            1   \n",
       "381105       0   30                1                   1            0   \n",
       "381106       0   21                1                   1            0   \n",
       "381107       1   68                1                   0            2   \n",
       "381108       0   46                1                   0            1   \n",
       "\n",
       "        Vehicle_Damage  Annual_Premium  Response  \n",
       "0                    0         40454.0         1  \n",
       "1                    1         33536.0         0  \n",
       "2                    0         38294.0         1  \n",
       "3                    1         28619.0         0  \n",
       "4                    1         27496.0         0  \n",
       "...                ...             ...       ...  \n",
       "381104               1         30170.0         0  \n",
       "381105               1         40016.0         0  \n",
       "381106               1         35118.0         0  \n",
       "381107               0         44617.0         0  \n",
       "381108               1         41777.0         0  \n",
       "\n",
       "[381109 rows x 8 columns]"
      ]
     },
     "execution_count": 19,
     "metadata": {},
     "output_type": "execute_result"
    }
   ],
   "source": [
    "fp"
   ]
  },
  {
   "cell_type": "code",
   "execution_count": 22,
   "metadata": {},
   "outputs": [],
   "source": [
    "from sklearn.preprocessing import StandardScaler\n"
   ]
  },
  {
   "cell_type": "code",
   "execution_count": 23,
   "metadata": {},
   "outputs": [],
   "source": [
    "scaler = StandardScaler()\n",
    "scaler.fit(fp[features_to_include])\n",
    "XS = scaler.transform(fp[features_to_include])\n",
    "#We are going to scale the data because we are going to use PCA for some models\n",
    "#This is the wrong way of scaling data, but I didn't learn that until after I started"
   ]
  },
  {
   "cell_type": "code",
   "execution_count": 24,
   "metadata": {},
   "outputs": [
    {
     "data": {
      "text/plain": [
       "array([[-0.92154476,  0.33377727,  0.04620794, -0.91963797,  0.57453868],\n",
       "       [-0.92154476,  2.39675074,  0.04620794, -0.91963797,  0.17263624],\n",
       "       [-0.92154476,  0.52718104,  0.04620794, -0.91963797,  0.4490531 ],\n",
       "       ...,\n",
       "       [-0.92154476, -1.14898491,  0.04620794,  1.08738442,  0.26454281],\n",
       "       [ 1.08513449,  1.88100737,  0.04620794, -0.91963797,  0.81638891],\n",
       "       [-0.92154476,  0.46271311,  0.04620794, -0.91963797,  0.6513986 ]])"
      ]
     },
     "execution_count": 24,
     "metadata": {},
     "output_type": "execute_result"
    }
   ],
   "source": [
    "XS"
   ]
  },
  {
   "cell_type": "code",
   "execution_count": 25,
   "metadata": {},
   "outputs": [
    {
     "data": {
      "text/plain": [
       "KMeans(n_clusters=2)"
      ]
     },
     "execution_count": 25,
     "metadata": {},
     "output_type": "execute_result"
    }
   ],
   "source": [
    "k_means_model = KMeans(n_clusters = 2)\n",
    "k_means_model.fit(XS)"
   ]
  },
  {
   "cell_type": "code",
   "execution_count": 27,
   "metadata": {
    "scrolled": true
   },
   "outputs": [
    {
     "data": {
      "image/png": "[encoded data removed]",
      "text/plain": [
       "<Figure size 432x288 with 1 Axes>"
      ]
     },
     "metadata": {},
     "output_type": "display_data"
    }
   ],
   "source": [
    "inertia_list = []\n",
    "k_range = np.arange(1,10)\n",
    "for k in k_range:\n",
    "    k_means_model = KMeans(n_clusters = k)\n",
    "    k_means_model.fit(fp[features_to_include])\n",
    "    inertia_list.append(k_means_model.inertia_)\n",
    "\n",
    "plt.scatter(k_range,inertia_list)\n",
    "plt.show()"
   ]
  },
  {
   "cell_type": "code",
   "execution_count": 29,
   "metadata": {},
   "outputs": [],
   "source": [
    "#Looks like 2 is the elbow. Let's do k-means with 2, 3, and 4 clusters\n",
    "four_means_model = KMeans(n_clusters = 4)\n",
    "four_means_model.fit(fp[features_to_include]);\n",
    "\n",
    "three_means_model = KMeans(n_clusters = 3)\n",
    "three_means_model.fit(fp[features_to_include]);\n"
   ]
  },
  {
   "cell_type": "code",
   "execution_count": 30,
   "metadata": {},
   "outputs": [
    {
     "data": {
      "text/plain": [
       "KMeans(n_clusters=2)"
      ]
     },
     "execution_count": 30,
     "metadata": {},
     "output_type": "execute_result"
    }
   ],
   "source": [
    "two_means_model = KMeans(n_clusters = 2)\n",
    "two_means_model.fit(fp[features_to_include])"
   ]
  },
  {
   "cell_type": "code",
   "execution_count": 31,
   "metadata": {
    "scrolled": true
   },
   "outputs": [
    {
     "data": {
      "text/plain": [
       "array([0, 0, 0, ..., 0, 0, 0])"
      ]
     },
     "execution_count": 31,
     "metadata": {},
     "output_type": "execute_result"
    }
   ],
   "source": [
    "two_means_model.labels_"
   ]
  },
  {
   "cell_type": "code",
   "execution_count": 32,
   "metadata": {},
   "outputs": [],
   "source": [
    "from sklearn.metrics import accuracy_score\n"
   ]
  },
  {
   "cell_type": "code",
   "execution_count": 33,
   "metadata": {},
   "outputs": [
    {
     "name": "stdout",
     "output_type": "stream",
     "text": [
      "0.7366291533393333\n"
     ]
    }
   ],
   "source": [
    "print(accuracy_score(two_means_model.labels_, fp['Response']))"
   ]
  },
  {
   "cell_type": "code",
   "execution_count": 34,
   "metadata": {},
   "outputs": [],
   "source": [
    "from sklearn.decomposition import PCA\n"
   ]
  },
  {
   "cell_type": "code",
   "execution_count": 35,
   "metadata": {},
   "outputs": [],
   "source": [
    "from sklearn import decomposition"
   ]
  },
  {
   "cell_type": "markdown",
   "metadata": {},
   "source": [
    "I used PCA as a follow up to K-means in order to see if I could improve the accuracy of my unsupervised learning. However, both the use of K-means and PCA was flawed as I had already done pre-selection of the variables to include in my model."
   ]
  },
  {
   "cell_type": "code",
   "execution_count": 36,
   "metadata": {},
   "outputs": [
    {
     "data": {
      "image/png": "[encoded data removed]",
      "text/plain": [
       "<Figure size 432x288 with 1 Axes>"
      ]
     },
     "metadata": {},
     "output_type": "display_data"
    }
   ],
   "source": [
    "#PCA when we have already scaled down the features manually\n",
    "pca = PCA().fit(fp[features_to_include])\n",
    "plt.plot(np.cumsum(pca.explained_variance_ratio_))\n",
    "plt.xlabel('number of components')\n",
    "plt.ylabel('cumulative explained variance');"
   ]
  },
  {
   "cell_type": "code",
   "execution_count": 37,
   "metadata": {},
   "outputs": [],
   "source": [
    "fpnr = fp.drop('Response', axis = 1)"
   ]
  },
  {
   "cell_type": "code",
   "execution_count": 38,
   "metadata": {},
   "outputs": [
    {
     "data": {
      "text/html": [
       "<div>\n",
       "<style scoped>\n",
       "    .dataframe tbody tr th:only-of-type {\n",
       "        vertical-align: middle;\n",
       "    }\n",
       "\n",
       "    .dataframe tbody tr th {\n",
       "        vertical-align: top;\n",
       "    }\n",
       "\n",
       "    .dataframe thead th {\n",
       "        text-align: right;\n",
       "    }\n",
       "</style>\n",
       "<table border=\"1\" class=\"dataframe\">\n",
       "  <thead>\n",
       "    <tr style=\"text-align: right;\">\n",
       "      <th></th>\n",
       "      <th>Gender</th>\n",
       "      <th>Age</th>\n",
       "      <th>Driving_License</th>\n",
       "      <th>Previously_Insured</th>\n",
       "      <th>Vehicle_Age</th>\n",
       "      <th>Vehicle_Damage</th>\n",
       "      <th>Annual_Premium</th>\n",
       "    </tr>\n",
       "  </thead>\n",
       "  <tbody>\n",
       "    <tr>\n",
       "      <th>0</th>\n",
       "      <td>0</td>\n",
       "      <td>44</td>\n",
       "      <td>1</td>\n",
       "      <td>0</td>\n",
       "      <td>2</td>\n",
       "      <td>0</td>\n",
       "      <td>40454.0</td>\n",
       "    </tr>\n",
       "    <tr>\n",
       "      <th>1</th>\n",
       "      <td>0</td>\n",
       "      <td>76</td>\n",
       "      <td>1</td>\n",
       "      <td>0</td>\n",
       "      <td>1</td>\n",
       "      <td>1</td>\n",
       "      <td>33536.0</td>\n",
       "    </tr>\n",
       "    <tr>\n",
       "      <th>2</th>\n",
       "      <td>0</td>\n",
       "      <td>47</td>\n",
       "      <td>1</td>\n",
       "      <td>0</td>\n",
       "      <td>2</td>\n",
       "      <td>0</td>\n",
       "      <td>38294.0</td>\n",
       "    </tr>\n",
       "    <tr>\n",
       "      <th>3</th>\n",
       "      <td>0</td>\n",
       "      <td>21</td>\n",
       "      <td>1</td>\n",
       "      <td>1</td>\n",
       "      <td>0</td>\n",
       "      <td>1</td>\n",
       "      <td>28619.0</td>\n",
       "    </tr>\n",
       "    <tr>\n",
       "      <th>4</th>\n",
       "      <td>1</td>\n",
       "      <td>29</td>\n",
       "      <td>1</td>\n",
       "      <td>1</td>\n",
       "      <td>0</td>\n",
       "      <td>1</td>\n",
       "      <td>27496.0</td>\n",
       "    </tr>\n",
       "    <tr>\n",
       "      <th>...</th>\n",
       "      <td>...</td>\n",
       "      <td>...</td>\n",
       "      <td>...</td>\n",
       "      <td>...</td>\n",
       "      <td>...</td>\n",
       "      <td>...</td>\n",
       "      <td>...</td>\n",
       "    </tr>\n",
       "    <tr>\n",
       "      <th>381104</th>\n",
       "      <td>0</td>\n",
       "      <td>74</td>\n",
       "      <td>1</td>\n",
       "      <td>1</td>\n",
       "      <td>1</td>\n",
       "      <td>1</td>\n",
       "      <td>30170.0</td>\n",
       "    </tr>\n",
       "    <tr>\n",
       "      <th>381105</th>\n",
       "      <td>0</td>\n",
       "      <td>30</td>\n",
       "      <td>1</td>\n",
       "      <td>1</td>\n",
       "      <td>0</td>\n",
       "      <td>1</td>\n",
       "      <td>40016.0</td>\n",
       "    </tr>\n",
       "    <tr>\n",
       "      <th>381106</th>\n",
       "      <td>0</td>\n",
       "      <td>21</td>\n",
       "      <td>1</td>\n",
       "      <td>1</td>\n",
       "      <td>0</td>\n",
       "      <td>1</td>\n",
       "      <td>35118.0</td>\n",
       "    </tr>\n",
       "    <tr>\n",
       "      <th>381107</th>\n",
       "      <td>1</td>\n",
       "      <td>68</td>\n",
       "      <td>1</td>\n",
       "      <td>0</td>\n",
       "      <td>2</td>\n",
       "      <td>0</td>\n",
       "      <td>44617.0</td>\n",
       "    </tr>\n",
       "    <tr>\n",
       "      <th>381108</th>\n",
       "      <td>0</td>\n",
       "      <td>46</td>\n",
       "      <td>1</td>\n",
       "      <td>0</td>\n",
       "      <td>1</td>\n",
       "      <td>1</td>\n",
       "      <td>41777.0</td>\n",
       "    </tr>\n",
       "  </tbody>\n",
       "</table>\n",
       "<p>381109 rows × 7 columns</p>\n",
       "</div>"
      ],
      "text/plain": [
       "        Gender  Age  Driving_License  Previously_Insured  Vehicle_Age  \\\n",
       "0            0   44                1                   0            2   \n",
       "1            0   76                1                   0            1   \n",
       "2            0   47                1                   0            2   \n",
       "3            0   21                1                   1            0   \n",
       "4            1   29                1                   1            0   \n",
       "...        ...  ...              ...                 ...          ...   \n",
       "381104       0   74                1                   1            1   \n",
       "381105       0   30                1                   1            0   \n",
       "381106       0   21                1                   1            0   \n",
       "381107       1   68                1                   0            2   \n",
       "381108       0   46                1                   0            1   \n",
       "\n",
       "        Vehicle_Damage  Annual_Premium  \n",
       "0                    0         40454.0  \n",
       "1                    1         33536.0  \n",
       "2                    0         38294.0  \n",
       "3                    1         28619.0  \n",
       "4                    1         27496.0  \n",
       "...                ...             ...  \n",
       "381104               1         30170.0  \n",
       "381105               1         40016.0  \n",
       "381106               1         35118.0  \n",
       "381107               0         44617.0  \n",
       "381108               1         41777.0  \n",
       "\n",
       "[381109 rows x 7 columns]"
      ]
     },
     "execution_count": 38,
     "metadata": {},
     "output_type": "execute_result"
    }
   ],
   "source": [
    "fpnr"
   ]
  },
  {
   "cell_type": "code",
   "execution_count": 39,
   "metadata": {},
   "outputs": [
    {
     "data": {
      "image/png": "[encoded data removed]",
      "text/plain": [
       "<Figure size 432x288 with 1 Axes>"
      ]
     },
     "metadata": {},
     "output_type": "display_data"
    }
   ],
   "source": [
    "pca = PCA().fit(fpnr)\n",
    "plt.plot(np.cumsum(pca.explained_variance_ratio_))\n",
    "plt.xlabel('number of components')\n",
    "plt.ylabel('cumulative explained variance');"
   ]
  },
  {
   "cell_type": "code",
   "execution_count": 40,
   "metadata": {},
   "outputs": [],
   "source": [
    "\n",
    "#Build and fit a PCA model to the data\n",
    "my_pca = PCA(n_components=2)\n",
    "my_pca.fit(XS)\n",
    "my_pca_test = PCA(n_components = 2)\n",
    "my_pca2 = PCA(n_components= 3)\n",
    "my_pca2.fit(XS)\n",
    "X_PCA = my_pca.transform(XS)\n",
    "X2_PCA = my_pca2.transform(XS)\n"
   ]
  },
  {
   "cell_type": "code",
   "execution_count": 41,
   "metadata": {
    "scrolled": true
   },
   "outputs": [
    {
     "name": "stdout",
     "output_type": "stream",
     "text": [
      "[[ 1.20224365  0.03672681]\n",
      " [ 2.50943954 -0.2035566 ]\n",
      " [ 1.31338021 -0.05681788]\n",
      " ...\n",
      " [-0.97659743  0.22083672]\n",
      " [ 1.41569183  0.71374083]\n",
      " [ 1.29719845  0.10418913]]\n"
     ]
    }
   ],
   "source": [
    "print(X_PCA)"
   ]
  },
  {
   "cell_type": "code",
   "execution_count": 42,
   "metadata": {},
   "outputs": [
    {
     "name": "stdout",
     "output_type": "stream",
     "text": [
      "[[0.41738763 0.65896853 0.19941224 0.57869542 0.12997854]\n",
      " [0.20821783 0.04109291 0.4896834  0.24701481 0.80879575]]\n"
     ]
    }
   ],
   "source": [
    "print(abs(my_pca.components_))"
   ]
  },
  {
   "cell_type": "code",
   "execution_count": 43,
   "metadata": {
    "scrolled": true
   },
   "outputs": [
    {
     "name": "stdout",
     "output_type": "stream",
     "text": [
      "[0.27066079 0.20219936]\n"
     ]
    }
   ],
   "source": [
    "print(my_pca.explained_variance_ratio_)"
   ]
  },
  {
   "cell_type": "code",
   "execution_count": 44,
   "metadata": {},
   "outputs": [
    {
     "name": "stdout",
     "output_type": "stream",
     "text": [
      "[0.27066079 0.20219936 0.19720262]\n"
     ]
    }
   ],
   "source": [
    "print(my_pca2.explained_variance_ratio_)"
   ]
  },
  {
   "cell_type": "code",
   "execution_count": 45,
   "metadata": {},
   "outputs": [
    {
     "data": {
      "text/plain": [
       "Text(0, 0.5, 'pca d 2')"
      ]
     },
     "execution_count": 45,
     "metadata": {},
     "output_type": "execute_result"
    },
    {
     "data": {
      "image/png": "[encoded data removed]",
      "text/plain": [
       "<Figure size 576x576 with 1 Axes>"
      ]
     },
     "metadata": {},
     "output_type": "display_data"
    }
   ],
   "source": [
    "#Ploting the difference in groups determined by PCA. Not a lot of separation\n",
    "plt.figure(figsize=(8,8))\n",
    "plt.scatter(X_PCA[:,0], X_PCA[:,1],c=fp['Response'])\n",
    "plt.xlabel('pca d 1')\n",
    "plt.ylabel('pca d 2')"
   ]
  },
  {
   "cell_type": "code",
   "execution_count": 46,
   "metadata": {},
   "outputs": [
    {
     "data": {
      "text/plain": [
       "(381109, 2)"
      ]
     },
     "execution_count": 46,
     "metadata": {},
     "output_type": "execute_result"
    }
   ],
   "source": [
    "X_PCA.shape"
   ]
  },
  {
   "cell_type": "code",
   "execution_count": 51,
   "metadata": {},
   "outputs": [],
   "source": [
    "from sklearn.linear_model import LogisticRegression\n"
   ]
  },
  {
   "cell_type": "code",
   "execution_count": 54,
   "metadata": {},
   "outputs": [],
   "source": [
    "logreg = LogisticRegression()"
   ]
  },
  {
   "cell_type": "code",
   "execution_count": 55,
   "metadata": {},
   "outputs": [],
   "source": [
    "y = fp['Response']\n"
   ]
  },
  {
   "cell_type": "code",
   "execution_count": 56,
   "metadata": {},
   "outputs": [
    {
     "data": {
      "text/plain": [
       "LogisticRegression()"
      ]
     },
     "execution_count": 56,
     "metadata": {},
     "output_type": "execute_result"
    }
   ],
   "source": [
    "train1 = X_PCA\n",
    "logreg.fit(train1, y)\n",
    "#This is a poor training model with lots of overfitting. We will try splitting the data and making a training and test set next"
   ]
  },
  {
   "cell_type": "code",
   "execution_count": 57,
   "metadata": {},
   "outputs": [
    {
     "data": {
      "text/plain": [
       "0.8772896992723866"
      ]
     },
     "execution_count": 57,
     "metadata": {},
     "output_type": "execute_result"
    }
   ],
   "source": [
    "logreg.score(X_PCA,y) #Good accuracy"
   ]
  },
  {
   "cell_type": "code",
   "execution_count": 58,
   "metadata": {},
   "outputs": [],
   "source": [
    "from sklearn.model_selection import train_test_split\n"
   ]
  },
  {
   "cell_type": "code",
   "execution_count": 59,
   "metadata": {},
   "outputs": [],
   "source": [
    "\n",
    "X_train, X_test, y_train, y_test = train_test_split(X_PCA, y, test_size=0.4,) #Split up training data and test\n"
   ]
  },
  {
   "cell_type": "code",
   "execution_count": 60,
   "metadata": {},
   "outputs": [],
   "source": [
    "X2_train, X2_test, y2_train, y2_test = train_test_split(X2_PCA, y, test_size=0.2, ) #PCA with 3 components"
   ]
  },
  {
   "cell_type": "code",
   "execution_count": 61,
   "metadata": {},
   "outputs": [
    {
     "name": "stdout",
     "output_type": "stream",
     "text": [
      "0.8767285035816431\n"
     ]
    }
   ],
   "source": [
    "#logreg of PCA n_components = 3\n",
    "logreg2 = LogisticRegression()\n",
    "\n",
    "logreg2.fit(X2_train, y2_train)\n",
    "preds2 = logreg2.predict(X2_test)\n",
    "print(accuracy_score(y2_test, preds2))"
   ]
  },
  {
   "cell_type": "code",
   "execution_count": 62,
   "metadata": {},
   "outputs": [
    {
     "data": {
      "text/plain": [
       "LogisticRegression()"
      ]
     },
     "execution_count": 62,
     "metadata": {},
     "output_type": "execute_result"
    }
   ],
   "source": [
    "logreg.fit(X_train, y_train) #logreg of PCA n_components = 2"
   ]
  },
  {
   "cell_type": "code",
   "execution_count": 63,
   "metadata": {},
   "outputs": [],
   "source": [
    "preds = logreg.predict(X_test)"
   ]
  },
  {
   "cell_type": "code",
   "execution_count": 64,
   "metadata": {},
   "outputs": [
    {
     "name": "stdout",
     "output_type": "stream",
     "text": [
      "0.8781519771194668\n"
     ]
    }
   ],
   "source": [
    "print(accuracy_score(y_test, preds)) #Still overfitting????????"
   ]
  },
  {
   "cell_type": "code",
   "execution_count": 65,
   "metadata": {},
   "outputs": [
    {
     "data": {
      "text/plain": [
       "0    133893\n",
       "1     18551\n",
       "Name: Response, dtype: int64"
      ]
     },
     "execution_count": 65,
     "metadata": {},
     "output_type": "execute_result"
    }
   ],
   "source": [
    "y_test.value_counts()"
   ]
  },
  {
   "cell_type": "code",
   "execution_count": 66,
   "metadata": {},
   "outputs": [
    {
     "name": "stdout",
     "output_type": "stream",
     "text": [
      "0.8781519771194668\n",
      "0.8767285035816431\n"
     ]
    }
   ],
   "source": [
    " #accuracy hardly increases with three components\n",
    "print(accuracy_score(y_test, preds))\n",
    "print(accuracy_score(y2_test, preds2))\n",
    "#weird values\n",
    "#0.9633807473413257\n",
    "#0.9972711290703471\n",
    "#0.9397577083841715\n",
    "#0.997336726929233"
   ]
  },
  {
   "cell_type": "code",
   "execution_count": 68,
   "metadata": {},
   "outputs": [],
   "source": [
    "from sklearn.metrics import f1_score\n",
    "#A way of checking a model's performance. 0 is bad, 1 is max."
   ]
  },
  {
   "cell_type": "code",
   "execution_count": 69,
   "metadata": {
    "scrolled": false
   },
   "outputs": [
    {
     "name": "stdout",
     "output_type": "stream",
     "text": [
      "0.00010766000968940088\n",
      "0.0\n"
     ]
    }
   ],
   "source": [
    "\n",
    "print(f1_score(y_test, preds))\n",
    "print(f1_score(y2_test, preds2))\n",
    "#possible interpretations: One factor is under represented in sample, need to simulate data for higher counts of \n",
    "#under represented factor or change weights\n",
    "#change up test size and random state\n",
    "#Ideally want f1 score between .6 -> .8\n"
   ]
  },
  {
   "cell_type": "markdown",
   "metadata": {},
   "source": [
    "A poor f1-scores means poor model performance. The F1-score is calculated by creating a harmonic mean between precision and recall. Because accuracy score is good for the models but the f-1 score is 0, then the model's recall must be non-existant. What exactly are my models doing?"
   ]
  },
  {
   "cell_type": "code",
   "execution_count": 70,
   "metadata": {},
   "outputs": [
    {
     "data": {
      "text/plain": [
       "182357    0\n",
       "80310     0\n",
       "111942    0\n",
       "326706    0\n",
       "120823    0\n",
       "         ..\n",
       "252426    0\n",
       "263147    0\n",
       "350884    0\n",
       "329073    0\n",
       "226042    0\n",
       "Name: Response, Length: 152444, dtype: int64"
      ]
     },
     "execution_count": 70,
     "metadata": {},
     "output_type": "execute_result"
    }
   ],
   "source": [
    "y_test #Taking a look at the data"
   ]
  },
  {
   "cell_type": "code",
   "execution_count": 71,
   "metadata": {
    "scrolled": true
   },
   "outputs": [
    {
     "data": {
      "text/plain": [
       "0    334399\n",
       "1     46710\n",
       "Name: Response, dtype: int64"
      ]
     },
     "execution_count": 71,
     "metadata": {},
     "output_type": "execute_result"
    }
   ],
   "source": [
    "fp['Response'].value_counts()\n"
   ]
  },
  {
   "cell_type": "code",
   "execution_count": 72,
   "metadata": {},
   "outputs": [
    {
     "data": {
      "text/plain": [
       "0.13968343206767964"
      ]
     },
     "execution_count": 72,
     "metadata": {},
     "output_type": "execute_result"
    }
   ],
   "source": [
    "46710 / 334399 #Checking the percentage of successes in the dataset. This will be important for when we do weighting"
   ]
  },
  {
   "cell_type": "code",
   "execution_count": 74,
   "metadata": {},
   "outputs": [
    {
     "data": {
      "text/plain": [
       "LogisticRegression()"
      ]
     },
     "execution_count": 74,
     "metadata": {},
     "output_type": "execute_result"
    }
   ],
   "source": [
    "#Abandoning PCA and moving into normal logreg\n",
    "train3 = fp[features_to_include]\n",
    "X3_train, X3_test, y3_train, y3_test = train_test_split(train3, y, test_size=0.4, )\n",
    "logreg3 = LogisticRegression()\n",
    "y = fp['Response']\n",
    "logreg3.fit(X3_train, y3_train)\n"
   ]
  },
  {
   "cell_type": "code",
   "execution_count": 75,
   "metadata": {},
   "outputs": [],
   "source": [
    "preds3 = logreg3.predict(X3_test)"
   ]
  },
  {
   "cell_type": "code",
   "execution_count": 76,
   "metadata": {},
   "outputs": [
    {
     "name": "stdout",
     "output_type": "stream",
     "text": [
      "0.8767416231534203\n"
     ]
    }
   ],
   "source": [
    "print(accuracy_score(preds3, y3_test)) #Suspiciously similar score to my previous models"
   ]
  },
  {
   "cell_type": "code",
   "execution_count": 77,
   "metadata": {},
   "outputs": [
    {
     "name": "stdout",
     "output_type": "stream",
     "text": [
      "0.0\n"
     ]
    }
   ],
   "source": [
    "print(f1_score(preds3, y3_test)) #Yep, still 0"
   ]
  },
  {
   "cell_type": "code",
   "execution_count": 78,
   "metadata": {},
   "outputs": [
    {
     "name": "stdout",
     "output_type": "stream",
     "text": [
      "[0 0 0 0 0 0 0 0 0 0 0 0 0 0 0 0 0 0 0 0 0 0 0 0 0 0 0 0 0 0 0 0 0 0 0 0 0\n",
      " 0 0 0 0 0 0 0 0 0 0 0 0 0 0 0 0 0 0 0 0 0 0 0 0 0 0 0 0 0 0 0 0 0 0 0 0 0\n",
      " 0 0 0 0 0 0 0 0 0 0 0 0 0 0 0 0 0 0 0 0 0 0 0 0 0 0 0 0 0 0 0 0 0 0 0 0 0\n",
      " 0 0 0 0 0 0 0 0 0 0 0 0 0 0 0 0 0 0 0 0 0 0 0 0 0 0 0 0 0 0 0 0 0 0 0 0 0\n",
      " 0 0 0 0 0 0 0 0 0 0 0 0 0 0 0 0 0 0 0 0 0 0 0 0 0 0 0 0 0 0 0 0 0 0 0 0 0\n",
      " 0 0 0 0 0 0 0 0 0 0 0 0 0 0 0 0 0 0 0 0 0 0 0 0 0 0 0 0 0 0 0 0 0 0 0 0 0\n",
      " 0 0 0 0 0 0 0 0 0 0 0 0 0 0 0 0 0 0 0 0 0 0 0 0 0 0 0 0 0 0 0 0 0 0 0 0 0\n",
      " 0 0 0 0 0 0 0 0 0 0 0 0 0 0 0 0 0 0 0 0 0 0 0 0 0 0 0 0 0 0 0 0 0 0 0 0 0\n",
      " 0 0 0 0 0 0 0 0 0 0 0 0 0 0 0 0 0 0 0 0 0 0 0 0 0 0 0 0 0 0 0 0 0 0 0 0 0\n",
      " 0 0 0 0 0 0 0 0 0 0 0 0 0 0 0 0 0 0 0 0 0 0 0 0 0 0 0 0 0 0 0 0 0 0 0 0 0\n",
      " 0 0 0 0 0 0 0 0 0 0 0 0 0 0 0 0 0 0 0 0 0 0 0 0 0 0 0 0 0 0 0 0 0 0 0 0 0\n",
      " 0 0 0 0 0 0 0 0 0 0 0 0 0 0 0 0 0 0 0 0 0 0 0 0 0 0 0 0 0 0 0 0 0 0 0 0 0\n",
      " 0 0 0 0 0 0 0 0 0 0 0 0 0 0 0 0 0 0 0 0 0 0 0 0 0 0 0 0 0 0 0 0 0 0 0 0 0\n",
      " 0 0 0 0 0 0 0 0 0 0 0 0 0 0 0 0 0 0 0 0 0 0 0 0 0 0 0 0 0 0 0 0 0 0 0 0 0\n",
      " 0 0 0 0 0 0 0 0 0 0 0 0 0 0 0 0 0 0 0 0 0 0 0 0 0 0 0 0 0 0 0 0 0 0 0 0 0\n",
      " 0 0 0 0 0 0 0 0 0 0 0 0 0 0 0 0 0 0 0 0 0 0 0 0 0 0 0 0 0 0 0 0 0 0 0 0 0\n",
      " 0 0 0 0 0 0 0 0 0 0 0 0 0 0 0 0 0 0 0 0 0 0 0 0 0 0 0 0 0 0 0 0 0 0 0 0 0\n",
      " 0 0 0 0 0 0 0 0 0 0 0 0 0 0 0 0 0 0 0 0 0 0 0 0 0 0 0 0 0 0 0 0 0 0 0 0 0\n",
      " 0 0 0 0 0 0 0 0 0 0 0 0 0 0 0 0 0 0 0 0 0 0 0 0 0 0 0 0 0 0 0 0 0 0 0 0 0\n",
      " 0 0 0 0 0 0 0 0 0 0 0 0 0 0 0 0 0 0 0 0 0 0 0 0 0 0 0 0 0 0 0 0 0 0 0 0 0\n",
      " 0 0 0 0 0 0 0 0 0 0 0 0 0 0 0 0 0 0 0 0 0 0 0 0 0 0 0 0 0 0 0 0 0 0 0 0 0\n",
      " 0 0 0 0 0 0 0 0 0 0 0 0 0 0 0 0 0 0 0 0 0 0 0 0 0 0 0 0 0 0 0 0 0 0 0 0 0\n",
      " 0 0 0 0 0 0 0 0 0 0 0 0 0 0 0 0 0 0 0 0 0 0 0 0 0 0 0 0 0 0 0 0 0 0 0 0 0\n",
      " 0 0 0 0 0 0 0 0 0 0 0 0 0 0 0 0 0 0 0 0 0 0 0 0 0 0 0 0 0 0 0 0 0 0 0 0 0\n",
      " 0 0 0 0 0 0 0 0 0 0 0 0 0 0 0 0 0 0 0 0 0 0 0 0 0 0 0 0 0 0 0 0 0 0 0 0 0\n",
      " 0 0 0 0 0 0 0 0 0 0 0 0 0 0 0 0 0 0 0 0 0 0 0 0 0 0 0 0 0 0 0 0 0 0 0 0 0\n",
      " 0 0 0 0 0 0 0 0 0 0 0 0 0 0 0 0 0 0 0 0 0 0 0 0 0 0 0 0 0 0 0 0 0 0 0 0 0\n",
      " 0 ... 0 0 0 0 0 0 0 0 0 0 0 0 0 0 0 0 0 0 0 0 0 0 0 0 0 0 0 0 0 0 0 0 0 0\n",
      " 0 0 0 0 0 0 0 0 0 0 0 0 0 0 0 0 0 0 0 0 0 0 0 0 0 0 0 0 0 0 0 0 0 0 0 0 0\n",
      " 0 0 0 0 0 0 0 0 0 0 0 0 0 0 0 0 0 0 0 0 0 0 0 0 0 0 0 0 0 0 0 0 0 0 0 0 0\n",
      " 0 0 0 0 0 0 0 0 0 0 0 0 0 0 0 0 0 0 0 0 0 0 0 0 0 0 0 0 0 0 0 0 0 0 0 0 0\n",
      " 0 0 0 0 0 0 0 0 0 0 0 0 0 0 0 0 0 0 0 0 0 0 0 0 0 0 0 0 0 0 0 0 0 0 0 0 0\n",
      " 0 0 0 0 0 0 0 0 0 0 0 0 0 0 0 0 0 0 0 0 0 0 0 0 0 0 0 0 0 0 0 0 0 0 0 0 0\n",
      " 0 0 0 0 0 0 0 0 0 0 0 0 0 0 0 0 0 0 0 0 0 0 0 0 0 0 0 0 0 0 0 0 0 0 0 0 0\n",
      " 0 0 0 0 0 0 0 0 0 0 0 0 0 0 0 0 0 0 0 0 0 0 0 0 0 0 0 0 0 0 0 0 0 0 0 0 0\n",
      " 0 0 0 0 0 0 0 0 0 0 0 0 0 0 0 0 0 0 0 0 0 0 0 0 0 0 0 0 0 0 0 0 0 0 0 0 0\n",
      " 0 0 0 0 0 0 0 0 0 0 0 0 0 0 0 0 0 0 0 0 0 0 0 0 0 0 0 0 0 0 0 0 0 0 0 0 0\n",
      " 0 0 0 0 0 0 0 0 0 0 0 0 0 0 0 0 0 0 0 0 0 0 0 0 0 0 0 0 0 0 0 0 0 0 0 0 0\n",
      " 0 0 0 0 0 0 0 0 0 0 0 0 0 0 0 0 0 0 0 0 0 0 0 0 0 0 0 0 0 0 0 0 0 0 0 0 0\n",
      " 0 0 0 0 0 0 0 0 0 0 0 0 0 0 0 0 0 0 0 0 0 0 0 0 0 0 0 0 0 0 0 0 0 0 0 0 0\n",
      " 0 0 0 0 0 0 0 0 0 0 0 0 0 0 0 0 0 0 0 0 0 0 0 0 0 0 0 0 0 0 0 0 0 0 0 0 0\n",
      " 0 0 0 0 0 0 0 0 0 0 0 0 0 0 0 0 0 0 0 0 0 0 0 0 0 0 0 0 0 0 0 0 0 0 0 0 0\n",
      " 0 0 0 0 0 0 0 0 0 0 0 0 0 0 0 0 0 0 0 0 0 0 0 0 0 0 0 0 0 0 0 0 0 0 0 0 0\n",
      " 0 0 0 0 0 0 0 0 0 0 0 0 0 0 0 0 0 0 0 0 0 0 0 0 0 0 0 0 0 0 0 0 0 0 0 0 0\n",
      " 0 0 0 0 0 0 0 0 0 0 0 0 0 0 0 0 0 0 0 0 0 0 0 0 0 0 0 0 0 0 0 0 0 0 0 0 0\n",
      " 0 0 0 0 0 0 0 0 0 0 0 0 0 0 0 0 0 0 0 0 0 0 0 0 0 0 0 0 0 0 0 0 0 0 0 0 0\n",
      " 0 0 0 0 0 0 0 0 0 0 0 0 0 0 0 0 0 0 0 0 0 0 0 0 0 0 0 0 0 0 0 0 0 0 0 0 0\n",
      " 0 0 0 0 0 0 0 0 0 0 0 0 0 0 0 0 0 0 0 0 0 0 0 0 0 0 0 0 0 0 0 0 0 0 0 0 0\n",
      " 0 0 0 0 0 0 0 0 0 0 0 0 0 0 0 0 0 0 0 0 0 0 0 0 0 0 0 0 0 0 0 0 0 0 0 0 0\n",
      " 0 0 0 0 0 0 0 0 0 0 0 0 0 0 0 0 0 0 0 0 0 0 0 0 0 0 0 0 0 0 0 0 0 0 0 0 0\n",
      " 0 0 0 0 0 0 0 0 0 0 0 0 0 0 0 0 0 0 0 0 0 0 0 0 0 0 0 0 0 0 0 0 0 0 0 0 0\n",
      " 0 0 0 0 0 0 0 0 0 0 0 0 0 0 0 0 0 0 0 0 0 0 0 0 0 0 0 0 0 0 0 0 0 0 0 0 0\n",
      " 0 0 0 0 0 0 0 0 0 0 0 0 0 0 0 0 0 0 0 0 0 0 0 0 0 0 0 0 0 0 0 0 0 0 0 0 0\n",
      " 0 0 0 0 0 0 0 0 0 0 0 0 0 0 0 0 0 0 0 0 0 0 0 0 0 0 0 0 0 0 0 0 0 0 0 0 0\n",
      " 0 0 0 0]\n"
     ]
    }
   ],
   "source": [
    "np.set_printoptions(edgeitems = 1000)\n",
    "print(preds3)\n",
    "#Checking model predictions. As we can see, there is an abundance of 0's"
   ]
  },
  {
   "cell_type": "code",
   "execution_count": 80,
   "metadata": {},
   "outputs": [],
   "source": [
    " from sklearn.metrics import confusion_matrix as cs\n",
    "    #We want to see how often our model correctly predicted the response. Left column is correct predictions, right column\n",
    "    # is incorrect. First row is 0, second is 1\n"
   ]
  },
  {
   "cell_type": "markdown",
   "metadata": {},
   "source": [
    "Quick rundown of confusion Matrix format:\n",
    "\n",
    "                Predicted: No , Predicted: Yes\n",
    "                \n",
    "Actual:No         \n",
    "Actual:Yes"
   ]
  },
  {
   "cell_type": "code",
   "execution_count": 81,
   "metadata": {},
   "outputs": [
    {
     "data": {
      "text/plain": [
       "array([[133868,     25],\n",
       "       [ 18550,      1]], dtype=int64)"
      ]
     },
     "execution_count": 81,
     "metadata": {},
     "output_type": "execute_result"
    }
   ],
   "source": [
    "cs(y_test, preds, ) #Overfit"
   ]
  },
  {
   "cell_type": "code",
   "execution_count": 82,
   "metadata": {},
   "outputs": [
    {
     "data": {
      "text/plain": [
       "array([[66826,     1],\n",
       "       [ 9395,     0]], dtype=int64)"
      ]
     },
     "execution_count": 82,
     "metadata": {},
     "output_type": "execute_result"
    }
   ],
   "source": [
    "cs(y2_test, preds2)"
   ]
  },
  {
   "cell_type": "code",
   "execution_count": 83,
   "metadata": {
    "scrolled": true
   },
   "outputs": [
    {
     "data": {
      "text/plain": [
       "array([[133654,      0],\n",
       "       [ 18790,      0]], dtype=int64)"
      ]
     },
     "execution_count": 83,
     "metadata": {},
     "output_type": "execute_result"
    }
   ],
   "source": [
    "cs(y3_test, preds3)"
   ]
  },
  {
   "cell_type": "markdown",
   "metadata": {},
   "source": [
    "The confusion matrices confirm that my models are overfitting and why my f-1 scores are so poor. No attempt is made to predict a success (response = 1) for two of my models!"
   ]
  },
  {
   "cell_type": "code",
   "execution_count": 84,
   "metadata": {
    "scrolled": true
   },
   "outputs": [
    {
     "name": "stdout",
     "output_type": "stream",
     "text": [
      "(array([0, 1], dtype=int64), array([152418,     26], dtype=int64))\n",
      "(array([0, 1], dtype=int64), array([76221,     1], dtype=int64))\n",
      "(array([0], dtype=int64), array([152444], dtype=int64))\n"
     ]
    }
   ],
   "source": [
    "#as we can see from my counts, only model 1 attempts to classify responses as 1's.\n",
    "print(np.unique(preds, return_counts = True))\n",
    "print(np.unique(preds2, return_counts = True))\n",
    "print(np.unique(preds3, return_counts = True))\n",
    "#My first models achieved great accuracy by predicting every response to be 'No'"
   ]
  },
  {
   "cell_type": "markdown",
   "metadata": {},
   "source": [
    "One more measure of performance, the roc auc score also shows poor model performance"
   ]
  },
  {
   "cell_type": "code",
   "execution_count": 85,
   "metadata": {},
   "outputs": [],
   "source": [
    "from sklearn.metrics import roc_auc_score\n",
    "#Another method of checking a model's performance. We aren't expecting this value to be any better than what we got for\n",
    "#our f-1 scores"
   ]
  },
  {
   "cell_type": "code",
   "execution_count": 86,
   "metadata": {},
   "outputs": [
    {
     "name": "stdout",
     "output_type": "stream",
     "text": [
      "0.499933594595668\n",
      "0.4999925179942239\n",
      "0.5\n"
     ]
    }
   ],
   "source": [
    "print(roc_auc_score(y_test, preds))\n",
    "print(roc_auc_score(y2_test, preds2))\n",
    "print(roc_auc_score(y3_test, preds3))\n",
    "\n",
    "#Oh no, our model is worthless lets move onto keras"
   ]
  },
  {
   "cell_type": "markdown",
   "metadata": {},
   "source": [
    "What did my first use of keras teach me? It taught me that putting garbage data and methedology into a model returns garbage"
   ]
  },
  {
   "cell_type": "code",
   "execution_count": 92,
   "metadata": {},
   "outputs": [],
   "source": [
    "\n",
    "from sklearn.metrics import r2_score\n",
    "from sklearn.metrics import mean_squared_error as mse\n",
    "import tensorflow.keras.backend as K\n",
    "from keras.optimizers import SGD\n",
    "\n",
    "import tensorflow as tf\n",
    "#Here we try Keras"
   ]
  },
  {
   "cell_type": "code",
   "execution_count": null,
   "metadata": {},
   "outputs": [],
   "source": []
  },
  {
   "cell_type": "code",
   "execution_count": 95,
   "metadata": {},
   "outputs": [
    {
     "name": "stdout",
     "output_type": "stream",
     "text": [
      "Epoch 1/40\n",
      "7146/7146 [==============================] - 2s 350us/step - loss: 27234518.0000 - accuracy: 0.7821\n",
      "Epoch 2/40\n",
      "7146/7146 [==============================] - 3s 350us/step - loss: 27140204.0000 - accuracy: 0.7824\n",
      "Epoch 3/40\n",
      "7146/7146 [==============================] - 3s 374us/step - loss: 26978224.0000 - accuracy: 0.7823\n",
      "Epoch 4/40\n",
      "7146/7146 [==============================] - 3s 394us/step - loss: 27019538.0000 - accuracy: 0.7822\n",
      "Epoch 5/40\n",
      "7146/7146 [==============================] - 3s 366us/step - loss: 27013648.0000 - accuracy: 0.7817\n",
      "Epoch 6/40\n",
      "7146/7146 [==============================] - 3s 352us/step - loss: 27156670.0000 - accuracy: 0.7816\n",
      "Epoch 7/40\n",
      "7146/7146 [==============================] - 2s 344us/step - loss: 26960712.0000 - accuracy: 0.7822\n",
      "Epoch 8/40\n",
      "7146/7146 [==============================] - 3s 352us/step - loss: 26746390.0000 - accuracy: 0.7829\n",
      "Epoch 9/40\n",
      "7146/7146 [==============================] - 3s 361us/step - loss: 27017506.0000 - accuracy: 0.7814\n",
      "Epoch 10/40\n",
      "7146/7146 [==============================] - 3s 384us/step - loss: 26726382.0000 - accuracy: 0.7819\n",
      "Epoch 11/40\n",
      "7146/7146 [==============================] - 2s 347us/step - loss: 27146580.0000 - accuracy: 0.7809\n",
      "Epoch 12/40\n",
      "7146/7146 [==============================] - 2s 348us/step - loss: 26781966.0000 - accuracy: 0.7818\n",
      "Epoch 13/40\n",
      "7146/7146 [==============================] - 3s 382us/step - loss: 26787514.0000 - accuracy: 0.7806\n",
      "Epoch 14/40\n",
      "7146/7146 [==============================] - 2s 350us/step - loss: 27239936.0000 - accuracy: 0.7802\n",
      "Epoch 15/40\n",
      "7146/7146 [==============================] - 3s 351us/step - loss: 27255118.0000 - accuracy: 0.7806\n",
      "Epoch 16/40\n",
      "7146/7146 [==============================] - 2s 350us/step - loss: 26800890.0000 - accuracy: 0.7805\n",
      "Epoch 17/40\n",
      "7146/7146 [==============================] - 2s 349us/step - loss: 26902230.0000 - accuracy: 0.7798\n",
      "Epoch 18/40\n",
      "7146/7146 [==============================] - 2s 346us/step - loss: 26676808.0000 - accuracy: 0.7809\n",
      "Epoch 19/40\n",
      "7146/7146 [==============================] - 3s 353us/step - loss: 27004452.0000 - accuracy: 0.7800\n",
      "Epoch 20/40\n",
      "7146/7146 [==============================] - 2s 347us/step - loss: 26903930.0000 - accuracy: 0.7799\n",
      "Epoch 21/40\n",
      "7146/7146 [==============================] - 2s 349us/step - loss: 27314782.0000 - accuracy: 0.7797\n",
      "Epoch 22/40\n",
      "7146/7146 [==============================] - 3s 367us/step - loss: 26985390.0000 - accuracy: 0.7799\n",
      "Epoch 23/40\n",
      "7146/7146 [==============================] - 3s 355us/step - loss: 26734056.0000 - accuracy: 0.7796\n",
      "Epoch 24/40\n",
      "7146/7146 [==============================] - 2s 349us/step - loss: 26956398.0000 - accuracy: 0.7795\n",
      "Epoch 25/40\n",
      "7146/7146 [==============================] - 2s 347us/step - loss: 27144738.0000 - accuracy: 0.7799\n",
      "Epoch 26/40\n",
      "7146/7146 [==============================] - 2s 349us/step - loss: 26666144.0000 - accuracy: 0.7798\n",
      "Epoch 27/40\n",
      "7146/7146 [==============================] - 3s 350us/step - loss: 26752796.0000 - accuracy: 0.7797\n",
      "Epoch 28/40\n",
      "7146/7146 [==============================] - 2s 347us/step - loss: 26830420.0000 - accuracy: 0.7780\n",
      "Epoch 29/40\n",
      "7146/7146 [==============================] - 3s 350us/step - loss: 26856700.0000 - accuracy: 0.7791\n",
      "Epoch 30/40\n",
      "7146/7146 [==============================] - 2s 340us/step - loss: 26774158.0000 - accuracy: 0.7789\n",
      "Epoch 31/40\n",
      "7146/7146 [==============================] - 2s 340us/step - loss: 26968138.0000 - accuracy: 0.7796\n",
      "Epoch 32/40\n",
      "7146/7146 [==============================] - 2s 347us/step - loss: 27067264.0000 - accuracy: 0.7798\n",
      "Epoch 33/40\n",
      "7146/7146 [==============================] - 2s 345us/step - loss: 26858474.0000 - accuracy: 0.7785\n",
      "Epoch 34/40\n",
      "7146/7146 [==============================] - 2s 345us/step - loss: 26968000.0000 - accuracy: 0.7791\n",
      "Epoch 35/40\n",
      "7146/7146 [==============================] - 2s 343us/step - loss: 26970462.0000 - accuracy: 0.7792\n",
      "Epoch 36/40\n",
      "7146/7146 [==============================] - 2s 347us/step - loss: 26830000.0000 - accuracy: 0.7781\n",
      "Epoch 37/40\n",
      "7146/7146 [==============================] - 3s 351us/step - loss: 26872442.0000 - accuracy: 0.7789\n",
      "Epoch 38/40\n",
      "7146/7146 [==============================] - 2s 345us/step - loss: 26747430.0000 - accuracy: 0.7794\n",
      "Epoch 39/40\n",
      "7146/7146 [==============================] - 2s 348us/step - loss: 26795424.0000 - accuracy: 0.7787\n",
      "Epoch 40/40\n",
      "7146/7146 [==============================] - 3s 350us/step - loss: 26823196.0000 - accuracy: 0.7774\n"
     ]
    },
    {
     "data": {
      "text/plain": [
       "<tensorflow.python.keras.callbacks.History at 0x29257416550>"
      ]
     },
     "execution_count": 95,
     "metadata": {},
     "output_type": "execute_result"
    }
   ],
   "source": [
    "#I have no idea what I'm doing\n",
    "#8 digit loss value\n",
    "epoc = 40 #@param {type:\"slider\", min:0, max:100, step:1}\n",
    "\n",
    "#Create Sequential object\n",
    "model = tf.keras.Sequential()\n",
    "\n",
    "#Add a dense layers and specify the sigmoid activation function\n",
    "model.add(tf.keras.layers.Dense(1, input_shape=(5,), activation='sigmoid'))\n",
    "\n",
    "#Use the SGD optimizer with a lr of 0.5, and use the binary cross entropy loss\n",
    "model.compile(SGD(lr=0.5), 'binary_crossentropy', metrics=['accuracy'])\n",
    "\n",
    "model.fit(X3_train, y3_train, epochs=epoc)"
   ]
  },
  {
   "cell_type": "markdown",
   "metadata": {},
   "source": [
    "Wow! Look at those loss values. We don't even need to check performance to know I made a mistake, but let's look anyways."
   ]
  },
  {
   "cell_type": "code",
   "execution_count": 97,
   "metadata": {},
   "outputs": [],
   "source": [
    "kpreds = model.predict(X3_test)"
   ]
  },
  {
   "cell_type": "code",
   "execution_count": 99,
   "metadata": {},
   "outputs": [
    {
     "name": "stdout",
     "output_type": "stream",
     "text": [
      "0.8496365878617722\n",
      "0.04887966804979253\n",
      "0.4980119558072203\n"
     ]
    }
   ],
   "source": [
    "print(accuracy_score(kpreds, y3_test))\n",
    "print(f1_score(kpreds, y3_test))\n",
    "print(roc_auc_score(y3_test, kpreds))\n",
    "#Great accuracy score but performance measures are still awful"
   ]
  },
  {
   "cell_type": "markdown",
   "metadata": {},
   "source": [
    "How do we turn our garbage into gold? The trick is to fix the performance between each epoch by calculating the f-1 score between each iteration and optimizing for increasing the f-1 score"
   ]
  },
  {
   "cell_type": "code",
   "execution_count": 100,
   "metadata": {},
   "outputs": [],
   "source": [
    "from keras.layers import Dropout        \n",
    "from tensorflow.keras.utils import to_categorical\n"
   ]
  },
  {
   "cell_type": "code",
   "execution_count": 101,
   "metadata": {},
   "outputs": [],
   "source": [
    "#Using stack overflow we find a method of fixing the performance of the model through each epoch\n",
    "def recall_score(y_true, y_pred):\n",
    "    true_positives = K.sum(K.round(K.clip(y_true * y_pred, 0, 1)))\n",
    "    possible_positives = K.sum(K.round(K.clip(y_true, 0, 1)))\n",
    "    recall = true_positives / (possible_positives + K.epsilon())\n",
    "    #true_positives and possible_positives seem to be misnamed\n",
    "    return recall\n",
    "#Sum up the rounded 'clipped' value of y_true multiplied by y_pred, where y_true and y_pred are bounded between 0 and 1\n",
    "# Because this is log regression, clipping should be redundant as all values are 0 or 1 and any misentered responses should be\n",
    "#removed during data cleaning\n",
    "#Recall is 1 when there are no false negatives, lower when there are\n",
    "\n",
    "def precision_score(y_true, y_pred):\n",
    "    true_positives = K.sum(K.round(K.clip(y_true * y_pred, 0, 1)))\n",
    "    predicted_positives = K.sum(K.round(K.clip(y_pred, 0, 1)))\n",
    "    precision = true_positives / (predicted_positives + K.epsilon())\n",
    "    return precision\n",
    "#Precision is 1 when predicted = true positives\n",
    "#however unlike recall, precision is looking at how accurately the model predicted positives. It gets lower when there\n",
    "#are false positives, not false negatives\n",
    "def keras_f1_score(y_true, y_pred):\n",
    "    precision = precision_score(y_true, y_pred)\n",
    "    recall = recall_score(y_true, y_pred)\n",
    "    return 2*((precision*recall)/(precision+recall+K.epsilon()))"
   ]
  },
  {
   "cell_type": "code",
   "execution_count": 102,
   "metadata": {},
   "outputs": [],
   "source": [
    "def create_model():\n",
    "    model = tf.keras.Sequential([\n",
    "        tf.keras.layers.Input(5),\n",
    "        tf.keras.layers.BatchNormalization(),\n",
    "        tf.keras.layers.Dense(30, activation=\"relu\"),\n",
    "        tf.keras.layers.BatchNormalization(),\n",
    "        tf.keras.layers.Dropout(0.3),\n",
    "        tf.keras.layers.Dense(2, activation='softmax')\n",
    "    ])\n",
    "    model.compile(\n",
    "        loss=tf.keras.losses.binary_crossentropy, \n",
    "        optimizer=tf.keras.optimizers.Adam(learning_rate=0.001),\n",
    "        metrics=[keras_f1_score]\n",
    "    )\n",
    "    return model"
   ]
  },
  {
   "cell_type": "code",
   "execution_count": 103,
   "metadata": {},
   "outputs": [],
   "source": [
    "XK = fp[features_to_include]\n",
    "y = fp['Response']"
   ]
  },
  {
   "cell_type": "code",
   "execution_count": 104,
   "metadata": {},
   "outputs": [],
   "source": [
    "XK_train, XK_test, yk_train, yk_test = train_test_split(XK, y, test_size=0.2,)"
   ]
  },
  {
   "cell_type": "code",
   "execution_count": 105,
   "metadata": {},
   "outputs": [],
   "source": [
    "y_nn_train = to_categorical(yk_train)"
   ]
  },
  {
   "cell_type": "code",
   "execution_count": 106,
   "metadata": {},
   "outputs": [],
   "source": [
    "class_weight = {\n",
    "    0: 1.,\n",
    "    1: 8.\n",
    "}\n",
    "# We give success 8x the weight because they are ~12% of the responses, a.k.a about 1/8 of the responses"
   ]
  },
  {
   "cell_type": "code",
   "execution_count": 107,
   "metadata": {},
   "outputs": [
    {
     "name": "stdout",
     "output_type": "stream",
     "text": [
      "Epoch 1/35\n",
      "953/953 - 1s - loss: 0.9535 - keras_f1_score: 0.6238 - val_loss: 0.5183 - val_keras_f1_score: 0.6523\n",
      "Epoch 2/35\n",
      "953/953 - 1s - loss: 0.8540 - keras_f1_score: 0.6357 - val_loss: 0.5184 - val_keras_f1_score: 0.6434\n",
      "Epoch 3/35\n",
      "953/953 - 1s - loss: 0.8468 - keras_f1_score: 0.6389 - val_loss: 0.5225 - val_keras_f1_score: 0.6391\n",
      "Epoch 4/35\n",
      "953/953 - 1s - loss: 0.8440 - keras_f1_score: 0.6390 - val_loss: 0.5356 - val_keras_f1_score: 0.6317\n",
      "Epoch 5/35\n",
      "953/953 - 1s - loss: 0.8400 - keras_f1_score: 0.6396 - val_loss: 0.5305 - val_keras_f1_score: 0.6316\n",
      "Epoch 6/35\n",
      "953/953 - 1s - loss: 0.8408 - keras_f1_score: 0.6391 - val_loss: 0.5136 - val_keras_f1_score: 0.6587\n",
      "Epoch 7/35\n",
      "953/953 - 1s - loss: 0.8409 - keras_f1_score: 0.6372 - val_loss: 0.5285 - val_keras_f1_score: 0.6439\n",
      "Epoch 8/35\n",
      "953/953 - 1s - loss: 0.8392 - keras_f1_score: 0.6372 - val_loss: 0.5265 - val_keras_f1_score: 0.6542\n",
      "Epoch 9/35\n",
      "953/953 - 1s - loss: 0.8381 - keras_f1_score: 0.6388 - val_loss: 0.5130 - val_keras_f1_score: 0.6479\n",
      "Epoch 10/35\n",
      "953/953 - 1s - loss: 0.8387 - keras_f1_score: 0.6391 - val_loss: 0.5289 - val_keras_f1_score: 0.6340\n",
      "Epoch 11/35\n",
      "953/953 - 1s - loss: 0.8380 - keras_f1_score: 0.6379 - val_loss: 0.5465 - val_keras_f1_score: 0.6282\n",
      "Epoch 12/35\n",
      "953/953 - 1s - loss: 0.8375 - keras_f1_score: 0.6385 - val_loss: 0.5204 - val_keras_f1_score: 0.6352\n",
      "Epoch 13/35\n",
      "953/953 - 1s - loss: 0.8370 - keras_f1_score: 0.6375 - val_loss: 0.5153 - val_keras_f1_score: 0.6362\n",
      "Epoch 14/35\n",
      "953/953 - 1s - loss: 0.8369 - keras_f1_score: 0.6396 - val_loss: 0.5322 - val_keras_f1_score: 0.6357\n",
      "Epoch 15/35\n",
      "953/953 - 1s - loss: 0.8368 - keras_f1_score: 0.6387 - val_loss: 0.5075 - val_keras_f1_score: 0.6559\n",
      "Epoch 16/35\n",
      "953/953 - 1s - loss: 0.8364 - keras_f1_score: 0.6395 - val_loss: 0.5201 - val_keras_f1_score: 0.6449\n",
      "Epoch 17/35\n",
      "953/953 - 1s - loss: 0.8365 - keras_f1_score: 0.6393 - val_loss: 0.5199 - val_keras_f1_score: 0.6448\n",
      "Epoch 18/35\n",
      "953/953 - 1s - loss: 0.8361 - keras_f1_score: 0.6382 - val_loss: 0.5432 - val_keras_f1_score: 0.6279\n",
      "Epoch 19/35\n",
      "953/953 - 1s - loss: 0.8369 - keras_f1_score: 0.6389 - val_loss: 0.5101 - val_keras_f1_score: 0.6484\n",
      "Epoch 20/35\n",
      "953/953 - 1s - loss: 0.8358 - keras_f1_score: 0.6388 - val_loss: 0.5363 - val_keras_f1_score: 0.6272\n",
      "Epoch 21/35\n",
      "953/953 - 1s - loss: 0.8362 - keras_f1_score: 0.6386 - val_loss: 0.5191 - val_keras_f1_score: 0.6444\n",
      "Epoch 22/35\n",
      "953/953 - 1s - loss: 0.8368 - keras_f1_score: 0.6379 - val_loss: 0.5352 - val_keras_f1_score: 0.6347\n",
      "Epoch 23/35\n",
      "953/953 - 1s - loss: 0.8358 - keras_f1_score: 0.6376 - val_loss: 0.5263 - val_keras_f1_score: 0.6361\n",
      "Epoch 24/35\n",
      "953/953 - 1s - loss: 0.8366 - keras_f1_score: 0.6370 - val_loss: 0.5303 - val_keras_f1_score: 0.6447\n",
      "Epoch 25/35\n",
      "953/953 - 1s - loss: 0.8355 - keras_f1_score: 0.6384 - val_loss: 0.5251 - val_keras_f1_score: 0.6436\n",
      "Epoch 26/35\n",
      "953/953 - 1s - loss: 0.8361 - keras_f1_score: 0.6386 - val_loss: 0.5321 - val_keras_f1_score: 0.6286\n",
      "Epoch 27/35\n",
      "953/953 - 1s - loss: 0.8366 - keras_f1_score: 0.6369 - val_loss: 0.5227 - val_keras_f1_score: 0.6465\n",
      "Epoch 28/35\n",
      "953/953 - 1s - loss: 0.8354 - keras_f1_score: 0.6400 - val_loss: 0.5432 - val_keras_f1_score: 0.6432\n",
      "Epoch 29/35\n",
      "953/953 - 1s - loss: 0.8349 - keras_f1_score: 0.6400 - val_loss: 0.5207 - val_keras_f1_score: 0.6470\n",
      "Epoch 30/35\n",
      "953/953 - 1s - loss: 0.8345 - keras_f1_score: 0.6390 - val_loss: 0.5314 - val_keras_f1_score: 0.6380\n",
      "Epoch 31/35\n",
      "953/953 - 1s - loss: 0.8344 - keras_f1_score: 0.6402 - val_loss: 0.5218 - val_keras_f1_score: 0.6457\n",
      "Epoch 32/35\n",
      "953/953 - 1s - loss: 0.8350 - keras_f1_score: 0.6399 - val_loss: 0.5255 - val_keras_f1_score: 0.6355\n",
      "Epoch 33/35\n",
      "953/953 - 1s - loss: 0.8347 - keras_f1_score: 0.6399 - val_loss: 0.5091 - val_keras_f1_score: 0.6459\n",
      "Epoch 34/35\n",
      "953/953 - 1s - loss: 0.8351 - keras_f1_score: 0.6402 - val_loss: 0.5155 - val_keras_f1_score: 0.6430\n",
      "Epoch 35/35\n",
      "953/953 - 1s - loss: 0.8361 - keras_f1_score: 0.6384 - val_loss: 0.5261 - val_keras_f1_score: 0.6466\n"
     ]
    },
    {
     "data": {
      "text/plain": [
       "<tensorflow.python.keras.callbacks.History at 0x29257540460>"
      ]
     },
     "execution_count": 107,
     "metadata": {},
     "output_type": "execute_result"
    }
   ],
   "source": [
    "model = create_model()\n",
    "model.fit(XK_train, y_nn_train, validation_split=0.2, epochs=35, batch_size=256, verbose=2, class_weight=class_weight)"
   ]
  },
  {
   "cell_type": "code",
   "execution_count": 108,
   "metadata": {},
   "outputs": [],
   "source": [
    "predsk = model.predict(XK_test)\n",
    "predsk = np.argmax(predsk, axis=1)"
   ]
  },
  {
   "cell_type": "code",
   "execution_count": 109,
   "metadata": {},
   "outputs": [
    {
     "name": "stdout",
     "output_type": "stream",
     "text": [
      "0.6489596179580699\n",
      "0.39615445374737646\n",
      "0.7762473501944547\n"
     ]
    }
   ],
   "source": [
    "print(accuracy_score(predsk, yk_test))\n",
    "print(f1_score(yk_test, predsk))\n",
    "print(roc_auc_score(yk_test, predsk))\n",
    "# Accuracy takes a hit but our model is no longer overfitted and now predicts correctly instead of assigning 0's to every input"
   ]
  },
  {
   "cell_type": "code",
   "execution_count": 110,
   "metadata": {},
   "outputs": [
    {
     "data": {
      "text/plain": [
       "array([[40688, 26242],\n",
       "       [  515,  8777]], dtype=int64)"
      ]
     },
     "execution_count": 110,
     "metadata": {},
     "output_type": "execute_result"
    }
   ],
   "source": [
    "cs(yk_test, predsk, ) #now it looks like successes are overweighted. Could alter weights to maybe see better results"
   ]
  },
  {
   "cell_type": "code",
   "execution_count": 111,
   "metadata": {},
   "outputs": [],
   "source": [
    "class_weight2 = {\n",
    "    0: 1.,\n",
    "    1: 7.\n",
    "}\n",
    "#Actually, the proportions are closer to 7:1, so lets make a second model with the updated class weight"
   ]
  },
  {
   "cell_type": "code",
   "execution_count": 112,
   "metadata": {},
   "outputs": [
    {
     "name": "stdout",
     "output_type": "stream",
     "text": [
      "Epoch 1/35\n",
      "953/953 - 1s - loss: 0.9077 - keras_f1_score: 0.6381 - val_loss: 0.4991 - val_keras_f1_score: 0.6507\n",
      "Epoch 2/35\n",
      "953/953 - 1s - loss: 0.8041 - keras_f1_score: 0.6506 - val_loss: 0.5011 - val_keras_f1_score: 0.6566\n",
      "Epoch 3/35\n",
      "953/953 - 1s - loss: 0.7977 - keras_f1_score: 0.6516 - val_loss: 0.4935 - val_keras_f1_score: 0.6635\n",
      "Epoch 4/35\n",
      "953/953 - 1s - loss: 0.7964 - keras_f1_score: 0.6514 - val_loss: 0.4806 - val_keras_f1_score: 0.6638\n",
      "Epoch 5/35\n",
      "953/953 - 1s - loss: 0.7949 - keras_f1_score: 0.6513 - val_loss: 0.4869 - val_keras_f1_score: 0.6608\n",
      "Epoch 6/35\n",
      "953/953 - 1s - loss: 0.7939 - keras_f1_score: 0.6520 - val_loss: 0.4843 - val_keras_f1_score: 0.6507\n",
      "Epoch 7/35\n",
      "953/953 - 1s - loss: 0.7935 - keras_f1_score: 0.6526 - val_loss: 0.5120 - val_keras_f1_score: 0.6524\n",
      "Epoch 8/35\n",
      "953/953 - 1s - loss: 0.7931 - keras_f1_score: 0.6523 - val_loss: 0.4784 - val_keras_f1_score: 0.6731\n",
      "Epoch 9/35\n",
      "953/953 - 1s - loss: 0.7920 - keras_f1_score: 0.6538 - val_loss: 0.5068 - val_keras_f1_score: 0.6489\n",
      "Epoch 10/35\n",
      "953/953 - 1s - loss: 0.7922 - keras_f1_score: 0.6515 - val_loss: 0.4892 - val_keras_f1_score: 0.6536\n",
      "Epoch 11/35\n",
      "953/953 - 1s - loss: 0.7908 - keras_f1_score: 0.6532 - val_loss: 0.5052 - val_keras_f1_score: 0.6519\n",
      "Epoch 12/35\n",
      "953/953 - 1s - loss: 0.7909 - keras_f1_score: 0.6540 - val_loss: 0.4992 - val_keras_f1_score: 0.6542\n",
      "Epoch 13/35\n",
      "953/953 - 1s - loss: 0.7910 - keras_f1_score: 0.6524 - val_loss: 0.4882 - val_keras_f1_score: 0.6665\n",
      "Epoch 14/35\n",
      "953/953 - 1s - loss: 0.7903 - keras_f1_score: 0.6529 - val_loss: 0.4939 - val_keras_f1_score: 0.6557\n",
      "Epoch 15/35\n",
      "953/953 - 1s - loss: 0.7905 - keras_f1_score: 0.6535 - val_loss: 0.4968 - val_keras_f1_score: 0.6569\n",
      "Epoch 16/35\n",
      "953/953 - 1s - loss: 0.7902 - keras_f1_score: 0.6533 - val_loss: 0.4965 - val_keras_f1_score: 0.6468\n",
      "Epoch 17/35\n",
      "953/953 - 1s - loss: 0.7898 - keras_f1_score: 0.6515 - val_loss: 0.4995 - val_keras_f1_score: 0.6479\n",
      "Epoch 18/35\n",
      "953/953 - 1s - loss: 0.7898 - keras_f1_score: 0.6538 - val_loss: 0.4928 - val_keras_f1_score: 0.6540\n",
      "Epoch 19/35\n",
      "953/953 - 1s - loss: 0.7902 - keras_f1_score: 0.6529 - val_loss: 0.4755 - val_keras_f1_score: 0.6638\n",
      "Epoch 20/35\n",
      "953/953 - 1s - loss: 0.7899 - keras_f1_score: 0.6533 - val_loss: 0.4888 - val_keras_f1_score: 0.6559\n",
      "Epoch 21/35\n",
      "953/953 - 1s - loss: 0.7898 - keras_f1_score: 0.6526 - val_loss: 0.4829 - val_keras_f1_score: 0.6656\n",
      "Epoch 22/35\n",
      "953/953 - 1s - loss: 0.7897 - keras_f1_score: 0.6521 - val_loss: 0.4958 - val_keras_f1_score: 0.6508\n",
      "Epoch 23/35\n",
      "953/953 - 1s - loss: 0.7904 - keras_f1_score: 0.6517 - val_loss: 0.4968 - val_keras_f1_score: 0.6535\n",
      "Epoch 24/35\n",
      "953/953 - 1s - loss: 0.7891 - keras_f1_score: 0.6517 - val_loss: 0.4910 - val_keras_f1_score: 0.6623\n",
      "Epoch 25/35\n",
      "953/953 - 1s - loss: 0.7898 - keras_f1_score: 0.6528 - val_loss: 0.5019 - val_keras_f1_score: 0.6533\n",
      "Epoch 26/35\n",
      "953/953 - 1s - loss: 0.7893 - keras_f1_score: 0.6534 - val_loss: 0.4829 - val_keras_f1_score: 0.6624\n",
      "Epoch 27/35\n",
      "953/953 - 1s - loss: 0.7900 - keras_f1_score: 0.6525 - val_loss: 0.5007 - val_keras_f1_score: 0.6541\n",
      "Epoch 28/35\n",
      "953/953 - 1s - loss: 0.7901 - keras_f1_score: 0.6518 - val_loss: 0.4945 - val_keras_f1_score: 0.6554\n",
      "Epoch 29/35\n",
      "953/953 - 1s - loss: 0.7888 - keras_f1_score: 0.6518 - val_loss: 0.4880 - val_keras_f1_score: 0.6574\n",
      "Epoch 30/35\n",
      "953/953 - 1s - loss: 0.7894 - keras_f1_score: 0.6535 - val_loss: 0.4939 - val_keras_f1_score: 0.6575\n",
      "Epoch 31/35\n",
      "953/953 - 1s - loss: 0.7894 - keras_f1_score: 0.6515 - val_loss: 0.4826 - val_keras_f1_score: 0.6643\n",
      "Epoch 32/35\n",
      "953/953 - 1s - loss: 0.7892 - keras_f1_score: 0.6534 - val_loss: 0.4994 - val_keras_f1_score: 0.6480\n",
      "Epoch 33/35\n",
      "953/953 - 1s - loss: 0.7896 - keras_f1_score: 0.6527 - val_loss: 0.4910 - val_keras_f1_score: 0.6653\n",
      "Epoch 34/35\n",
      "953/953 - 1s - loss: 0.7892 - keras_f1_score: 0.6539 - val_loss: 0.4872 - val_keras_f1_score: 0.6644\n",
      "Epoch 35/35\n",
      "953/953 - 1s - loss: 0.7881 - keras_f1_score: 0.6548 - val_loss: 0.4902 - val_keras_f1_score: 0.6581\n"
     ]
    },
    {
     "data": {
      "text/plain": [
       "<tensorflow.python.keras.callbacks.History at 0x29257d69a60>"
      ]
     },
     "execution_count": 112,
     "metadata": {},
     "output_type": "execute_result"
    }
   ],
   "source": [
    "model2 = create_model()\n",
    "model2.fit(XK_train, y_nn_train, validation_split=0.2, epochs=35, batch_size=256, verbose=2, class_weight=class_weight2)"
   ]
  },
  {
   "cell_type": "code",
   "execution_count": 113,
   "metadata": {},
   "outputs": [],
   "source": [
    "predsk2 = model2.predict(XK_test)\n",
    "predsk2 = np.argmax(predsk2, axis=1)"
   ]
  },
  {
   "cell_type": "code",
   "execution_count": 114,
   "metadata": {},
   "outputs": [
    {
     "name": "stdout",
     "output_type": "stream",
     "text": [
      "0.6612395371415077\n",
      "0.40114108124405684\n",
      "0.777261968689025\n"
     ]
    }
   ],
   "source": [
    "print(accuracy_score(predsk2, yk_test))\n",
    "print(f1_score(yk_test, predsk2))\n",
    "print(roc_auc_score(yk_test, predsk2))\n",
    "\n",
    "#Slight improvement"
   ]
  },
  {
   "cell_type": "code",
   "execution_count": 115,
   "metadata": {},
   "outputs": [
    {
     "data": {
      "text/plain": [
       "array([[41753, 25177],\n",
       "       [  644,  8648]], dtype=int64)"
      ]
     },
     "execution_count": 115,
     "metadata": {},
     "output_type": "execute_result"
    }
   ],
   "source": [
    "cs(yk_test, predsk2, )"
   ]
  },
  {
   "cell_type": "markdown",
   "metadata": {},
   "source": [
    "With the use of Keras, I have improved the performance of my model through iterative optimizing of the f-1 score"
   ]
  },
  {
   "cell_type": "markdown",
   "metadata": {},
   "source": [
    "I want to return to PCA using Keras and also with a new approach to training the data. Previously, I scaled the data before the train/test split which is incorrect. This time, I will scale the training set after splitting the data. Why should we do this? Transforming the data transforms the domain. If you transform the entire data set, you are causing overfitting as both the train and test data are shifted into the same domain. This will make your model unreliable when ran against new data."
   ]
  },
  {
   "cell_type": "code",
   "execution_count": 116,
   "metadata": {},
   "outputs": [],
   "source": [
    "#I don't think this is necessary when using Keras to run the model\n",
    "import statsmodels.api as sm\n",
    "from statsmodels.api import OLS"
   ]
  },
  {
   "cell_type": "code",
   "execution_count": 122,
   "metadata": {},
   "outputs": [
    {
     "name": "stdout",
     "output_type": "stream",
     "text": [
      "Training Set Accuracy: 87.64230682187171%\n",
      "Testing Set Accuracy: 87.68596992994149%\n"
     ]
    }
   ],
   "source": [
    "X_train, X_test, y_train, y_test = train_test_split(fpnr, y, test_size=0.2,) #Split up training data and test\n",
    "\n",
    "#Code borrowed from Harvard's CS109A Introduction to Data Science\n",
    "#Create and fit PCA object\n",
    "pca = PCA(n_components=3)\n",
    "pca.fit(X_train)\n",
    "\n",
    "#Transforming x_train and x_test \n",
    "X_train_pca = pca.transform(X_train)\n",
    "X_test_pca = pca.transform(X_test)\n",
    "\n",
    "#Add constant to x_train and x_test\n",
    "#I don't need this part of the borrowed code. Actually, I'm not even sure why it was needed. Does it add an intercept? \n",
    "X_train_pca_cst = sm.add_constant(X_train_pca)\n",
    "X_test_pca_cst = sm.add_constant(X_test_pca)\n",
    "\n",
    "#Training\n",
    "model = LogisticRegression(C=100000).fit(X_train_pca_cst, y_train)\n",
    "\n",
    "#Predict\n",
    "y_pred_train = model.predict(X_train_pca_cst)\n",
    "y_pred_test = model.predict(X_test_pca_cst)\n",
    "\n",
    "#Perfromance Evaluation\n",
    "train_score = accuracy_score(y_train, y_pred_train)*100\n",
    "test_score = accuracy_score(y_test, y_pred_test)*100\n",
    "\n",
    "print(\"Training Set Accuracy:\",str(train_score)+'%')\n",
    "print(\"Testing Set Accuracy:\",str(test_score)+'%')"
   ]
  },
  {
   "cell_type": "code",
   "execution_count": 123,
   "metadata": {},
   "outputs": [
    {
     "name": "stdout",
     "output_type": "stream",
     "text": [
      "0.017172774869109945\n"
     ]
    }
   ],
   "source": [
    "print(f1_score(y_pred_test, y_test))"
   ]
  },
  {
   "cell_type": "code",
   "execution_count": 124,
   "metadata": {},
   "outputs": [
    {
     "name": "stdout",
     "output_type": "stream",
     "text": [
      "0.503300031384213\n"
     ]
    }
   ],
   "source": [
    "print(roc_auc_score(y_test, y_pred_test))"
   ]
  },
  {
   "cell_type": "code",
   "execution_count": 125,
   "metadata": {},
   "outputs": [],
   "source": [
    "y_nn_train2 = to_categorical(y_train)"
   ]
  },
  {
   "cell_type": "code",
   "execution_count": 126,
   "metadata": {},
   "outputs": [],
   "source": [
    "def create_model2():\n",
    "    modelo = tf.keras.Sequential([\n",
    "        tf.keras.layers.Input(3),\n",
    "        tf.keras.layers.BatchNormalization(),\n",
    "        tf.keras.layers.Dense(30, activation=\"relu\"),\n",
    "        tf.keras.layers.BatchNormalization(),\n",
    "        tf.keras.layers.Dropout(0.3),\n",
    "        tf.keras.layers.Dense(2, activation='softmax')\n",
    "    ])\n",
    "    modelo.compile(\n",
    "        loss=tf.keras.losses.binary_crossentropy, \n",
    "        optimizer=tf.keras.optimizers.Adam(learning_rate=0.001),\n",
    "        metrics=[keras_f1_score]\n",
    "    )\n",
    "    return modelo"
   ]
  },
  {
   "cell_type": "code",
   "execution_count": 127,
   "metadata": {},
   "outputs": [
    {
     "name": "stdout",
     "output_type": "stream",
     "text": [
      "Epoch 1/35\n",
      "953/953 - 1s - loss: 0.8440 - keras_f1_score: 0.6780 - val_loss: 0.4920 - val_keras_f1_score: 0.6837\n",
      "Epoch 2/35\n",
      "953/953 - 1s - loss: 0.7744 - keras_f1_score: 0.6859 - val_loss: 0.4590 - val_keras_f1_score: 0.7043\n",
      "Epoch 3/35\n",
      "953/953 - 1s - loss: 0.7682 - keras_f1_score: 0.6870 - val_loss: 0.4754 - val_keras_f1_score: 0.6872\n",
      "Epoch 4/35\n",
      "953/953 - 1s - loss: 0.7669 - keras_f1_score: 0.6866 - val_loss: 0.4898 - val_keras_f1_score: 0.6745\n",
      "Epoch 5/35\n",
      "953/953 - 1s - loss: 0.7654 - keras_f1_score: 0.6860 - val_loss: 0.4758 - val_keras_f1_score: 0.6913\n",
      "Epoch 6/35\n",
      "953/953 - 1s - loss: 0.7641 - keras_f1_score: 0.6854 - val_loss: 0.4694 - val_keras_f1_score: 0.6939\n",
      "Epoch 7/35\n",
      "953/953 - 1s - loss: 0.7639 - keras_f1_score: 0.6845 - val_loss: 0.4834 - val_keras_f1_score: 0.6831\n",
      "Epoch 8/35\n",
      "953/953 - 1s - loss: 0.7619 - keras_f1_score: 0.6862 - val_loss: 0.4829 - val_keras_f1_score: 0.6838\n",
      "Epoch 9/35\n",
      "953/953 - 1s - loss: 0.7624 - keras_f1_score: 0.6848 - val_loss: 0.4822 - val_keras_f1_score: 0.6739\n",
      "Epoch 10/35\n",
      "953/953 - 1s - loss: 0.7618 - keras_f1_score: 0.6857 - val_loss: 0.4683 - val_keras_f1_score: 0.6795\n",
      "Epoch 11/35\n",
      "953/953 - 1s - loss: 0.7627 - keras_f1_score: 0.6848 - val_loss: 0.4823 - val_keras_f1_score: 0.6873\n",
      "Epoch 12/35\n",
      "953/953 - 1s - loss: 0.7620 - keras_f1_score: 0.6838 - val_loss: 0.4847 - val_keras_f1_score: 0.6865\n",
      "Epoch 13/35\n",
      "953/953 - 1s - loss: 0.7618 - keras_f1_score: 0.6854 - val_loss: 0.4798 - val_keras_f1_score: 0.6846\n",
      "Epoch 14/35\n",
      "953/953 - 1s - loss: 0.7613 - keras_f1_score: 0.6853 - val_loss: 0.4840 - val_keras_f1_score: 0.6862\n",
      "Epoch 15/35\n",
      "953/953 - 1s - loss: 0.7610 - keras_f1_score: 0.6856 - val_loss: 0.4736 - val_keras_f1_score: 0.6859\n",
      "Epoch 16/35\n",
      "953/953 - 1s - loss: 0.7610 - keras_f1_score: 0.6865 - val_loss: 0.4728 - val_keras_f1_score: 0.6967\n",
      "Epoch 17/35\n",
      "953/953 - 1s - loss: 0.7611 - keras_f1_score: 0.6860 - val_loss: 0.4954 - val_keras_f1_score: 0.6716\n",
      "Epoch 18/35\n",
      "953/953 - 1s - loss: 0.7611 - keras_f1_score: 0.6867 - val_loss: 0.4770 - val_keras_f1_score: 0.6846\n",
      "Epoch 19/35\n",
      "953/953 - 1s - loss: 0.7606 - keras_f1_score: 0.6854 - val_loss: 0.4902 - val_keras_f1_score: 0.6806\n",
      "Epoch 20/35\n",
      "953/953 - 1s - loss: 0.7609 - keras_f1_score: 0.6842 - val_loss: 0.4847 - val_keras_f1_score: 0.6617\n",
      "Epoch 21/35\n",
      "953/953 - 1s - loss: 0.7611 - keras_f1_score: 0.6833 - val_loss: 0.4890 - val_keras_f1_score: 0.6829\n",
      "Epoch 22/35\n",
      "953/953 - 1s - loss: 0.7604 - keras_f1_score: 0.6841 - val_loss: 0.4770 - val_keras_f1_score: 0.6814\n",
      "Epoch 23/35\n",
      "953/953 - 1s - loss: 0.7592 - keras_f1_score: 0.6852 - val_loss: 0.4647 - val_keras_f1_score: 0.6945\n",
      "Epoch 24/35\n",
      "953/953 - 1s - loss: 0.7611 - keras_f1_score: 0.6833 - val_loss: 0.4876 - val_keras_f1_score: 0.6683\n",
      "Epoch 25/35\n",
      "953/953 - 1s - loss: 0.7599 - keras_f1_score: 0.6845 - val_loss: 0.4692 - val_keras_f1_score: 0.6887\n",
      "Epoch 26/35\n",
      "953/953 - 1s - loss: 0.7595 - keras_f1_score: 0.6846 - val_loss: 0.4749 - val_keras_f1_score: 0.6846\n",
      "Epoch 27/35\n",
      "953/953 - 1s - loss: 0.7605 - keras_f1_score: 0.6839 - val_loss: 0.4715 - val_keras_f1_score: 0.6951\n",
      "Epoch 28/35\n",
      "953/953 - 1s - loss: 0.7594 - keras_f1_score: 0.6846 - val_loss: 0.4676 - val_keras_f1_score: 0.6920\n",
      "Epoch 29/35\n",
      "953/953 - 1s - loss: 0.7598 - keras_f1_score: 0.6849 - val_loss: 0.4700 - val_keras_f1_score: 0.7000\n",
      "Epoch 30/35\n",
      "953/953 - 1s - loss: 0.7590 - keras_f1_score: 0.6844 - val_loss: 0.4792 - val_keras_f1_score: 0.6721\n",
      "Epoch 31/35\n",
      "953/953 - 1s - loss: 0.7601 - keras_f1_score: 0.6835 - val_loss: 0.4675 - val_keras_f1_score: 0.6981\n",
      "Epoch 32/35\n",
      "953/953 - 1s - loss: 0.7603 - keras_f1_score: 0.6844 - val_loss: 0.4780 - val_keras_f1_score: 0.6771\n",
      "Epoch 33/35\n",
      "953/953 - 1s - loss: 0.7603 - keras_f1_score: 0.6837 - val_loss: 0.4689 - val_keras_f1_score: 0.6823\n",
      "Epoch 34/35\n",
      "953/953 - 1s - loss: 0.7601 - keras_f1_score: 0.6830 - val_loss: 0.4861 - val_keras_f1_score: 0.6642\n",
      "Epoch 35/35\n",
      "953/953 - 1s - loss: 0.7602 - keras_f1_score: 0.6830 - val_loss: 0.4716 - val_keras_f1_score: 0.6876\n"
     ]
    },
    {
     "data": {
      "text/plain": [
       "<tensorflow.python.keras.callbacks.History at 0x29242ae9280>"
      ]
     },
     "execution_count": 127,
     "metadata": {},
     "output_type": "execute_result"
    }
   ],
   "source": [
    "modelpca = create_model2()\n",
    "modelpca.fit(X_train_pca, y_nn_train2, validation_split=0.2, epochs=35, batch_size=256, verbose=2, class_weight=class_weight2)"
   ]
  },
  {
   "cell_type": "code",
   "execution_count": 128,
   "metadata": {},
   "outputs": [],
   "source": [
    "predspca = modelpca.predict(X_test_pca)\n",
    "predspca= np.argmax(predspca, axis=1)"
   ]
  },
  {
   "cell_type": "code",
   "execution_count": 129,
   "metadata": {},
   "outputs": [
    {
     "name": "stdout",
     "output_type": "stream",
     "text": [
      "0.6890661488809006\n",
      "0.4219794156382615\n",
      "0.791939652045814\n"
     ]
    }
   ],
   "source": [
    "print(accuracy_score(predspca, y_test))\n",
    "print(f1_score(y_test, predspca))\n",
    "print(roc_auc_score(y_test, predspca))\n",
    "#Wow, outperforms the normal logistic model!\n",
    "#However, keep in mind that we are using more features in this model so it is only natural for 'better' results"
   ]
  },
  {
   "cell_type": "markdown",
   "metadata": {},
   "source": [
    "Now I am going to scale the data and see if there is a difference in performance"
   ]
  },
  {
   "cell_type": "code",
   "execution_count": 137,
   "metadata": {},
   "outputs": [],
   "source": [
    "X2_train, X2_test, y2_train, y2_test = train_test_split(fpnr, y, test_size=0.2, )"
   ]
  },
  {
   "cell_type": "code",
   "execution_count": 138,
   "metadata": {},
   "outputs": [],
   "source": [
    "scaler = StandardScaler()\n",
    "scaler.fit(X2_train)\n",
    "XS = scaler.transform(X2_train)\n"
   ]
  },
  {
   "cell_type": "code",
   "execution_count": 139,
   "metadata": {},
   "outputs": [],
   "source": [
    "scaler.fit(X2_test)\n",
    "XST = scaler.transform(X2_test)\n"
   ]
  },
  {
   "cell_type": "code",
   "execution_count": 140,
   "metadata": {},
   "outputs": [],
   "source": [
    "def create_model3():\n",
    "    model3 = tf.keras.Sequential([\n",
    "        tf.keras.layers.Input(3),\n",
    "        tf.keras.layers.BatchNormalization(),\n",
    "        tf.keras.layers.Dense(30, activation=\"relu\"),\n",
    "        tf.keras.layers.BatchNormalization(),\n",
    "        tf.keras.layers.Dropout(0.3),\n",
    "        tf.keras.layers.Dense(2, activation='softmax')\n",
    "    ])\n",
    "    model3.compile(\n",
    "        loss=tf.keras.losses.binary_crossentropy, \n",
    "        optimizer=tf.keras.optimizers.Adam(learning_rate=0.001),\n",
    "        metrics=[keras_f1_score]\n",
    "    )\n",
    "    return model3"
   ]
  },
  {
   "cell_type": "code",
   "execution_count": 141,
   "metadata": {},
   "outputs": [],
   "source": [
    "pca2 = PCA(n_components=3)\n",
    "pca2.fit(XS)\n",
    "\n",
    "#Transforming x_train and x_test \n",
    "XS_train_pca = pca2.transform(XS)\n",
    "XS_test_pca = pca2.transform(XST)"
   ]
  },
  {
   "cell_type": "code",
   "execution_count": 142,
   "metadata": {},
   "outputs": [],
   "source": [
    "y_nn_train3 = to_categorical(y2_train)"
   ]
  },
  {
   "cell_type": "code",
   "execution_count": 146,
   "metadata": {
    "scrolled": true
   },
   "outputs": [
    {
     "name": "stdout",
     "output_type": "stream",
     "text": [
      "Epoch 1/35\n",
      "953/953 - 1s - loss: 0.9175 - keras_f1_score: 0.6639 - val_loss: 0.5022 - val_keras_f1_score: 0.6685\n",
      "Epoch 2/35\n",
      "953/953 - 1s - loss: 0.7906 - keras_f1_score: 0.6683 - val_loss: 0.4929 - val_keras_f1_score: 0.6739\n",
      "Epoch 3/35\n",
      "953/953 - 1s - loss: 0.7847 - keras_f1_score: 0.6682 - val_loss: 0.4859 - val_keras_f1_score: 0.6636\n",
      "Epoch 4/35\n",
      "953/953 - 1s - loss: 0.7832 - keras_f1_score: 0.6670 - val_loss: 0.4916 - val_keras_f1_score: 0.6748\n",
      "Epoch 5/35\n",
      "953/953 - 1s - loss: 0.7815 - keras_f1_score: 0.6675 - val_loss: 0.4894 - val_keras_f1_score: 0.6463\n",
      "Epoch 6/35\n",
      "953/953 - 1s - loss: 0.7789 - keras_f1_score: 0.6681 - val_loss: 0.4928 - val_keras_f1_score: 0.6644\n",
      "Epoch 7/35\n",
      "953/953 - 1s - loss: 0.7794 - keras_f1_score: 0.6669 - val_loss: 0.4804 - val_keras_f1_score: 0.6674\n",
      "Epoch 8/35\n",
      "953/953 - 1s - loss: 0.7781 - keras_f1_score: 0.6675 - val_loss: 0.4804 - val_keras_f1_score: 0.6660\n",
      "Epoch 9/35\n",
      "953/953 - 1s - loss: 0.7774 - keras_f1_score: 0.6677 - val_loss: 0.4805 - val_keras_f1_score: 0.6567\n",
      "Epoch 10/35\n",
      "953/953 - 1s - loss: 0.7783 - keras_f1_score: 0.6681 - val_loss: 0.4809 - val_keras_f1_score: 0.6647\n",
      "Epoch 11/35\n",
      "953/953 - 1s - loss: 0.7768 - keras_f1_score: 0.6683 - val_loss: 0.4925 - val_keras_f1_score: 0.6689\n",
      "Epoch 12/35\n",
      "953/953 - 1s - loss: 0.7766 - keras_f1_score: 0.6675 - val_loss: 0.4960 - val_keras_f1_score: 0.6790\n",
      "Epoch 13/35\n",
      "953/953 - 1s - loss: 0.7772 - keras_f1_score: 0.6682 - val_loss: 0.4974 - val_keras_f1_score: 0.6715\n",
      "Epoch 14/35\n",
      "953/953 - 1s - loss: 0.7771 - keras_f1_score: 0.6677 - val_loss: 0.4909 - val_keras_f1_score: 0.6624\n",
      "Epoch 15/35\n",
      "953/953 - 1s - loss: 0.7755 - keras_f1_score: 0.6690 - val_loss: 0.4997 - val_keras_f1_score: 0.6532\n",
      "Epoch 16/35\n",
      "953/953 - 1s - loss: 0.7763 - keras_f1_score: 0.6676 - val_loss: 0.4881 - val_keras_f1_score: 0.6689\n",
      "Epoch 17/35\n",
      "953/953 - 1s - loss: 0.7762 - keras_f1_score: 0.6676 - val_loss: 0.4849 - val_keras_f1_score: 0.6712\n",
      "Epoch 18/35\n",
      "953/953 - 1s - loss: 0.7761 - keras_f1_score: 0.6681 - val_loss: 0.4976 - val_keras_f1_score: 0.6766\n",
      "Epoch 19/35\n",
      "953/953 - 1s - loss: 0.7755 - keras_f1_score: 0.6670 - val_loss: 0.4817 - val_keras_f1_score: 0.6692\n",
      "Epoch 20/35\n",
      "953/953 - 1s - loss: 0.7763 - keras_f1_score: 0.6672 - val_loss: 0.4825 - val_keras_f1_score: 0.6710\n",
      "Epoch 21/35\n",
      "953/953 - 1s - loss: 0.7759 - keras_f1_score: 0.6675 - val_loss: 0.4962 - val_keras_f1_score: 0.6777\n",
      "Epoch 22/35\n",
      "953/953 - 1s - loss: 0.7758 - keras_f1_score: 0.6680 - val_loss: 0.4853 - val_keras_f1_score: 0.6635\n",
      "Epoch 23/35\n",
      "953/953 - 1s - loss: 0.7758 - keras_f1_score: 0.6671 - val_loss: 0.4828 - val_keras_f1_score: 0.6741\n",
      "Epoch 24/35\n",
      "953/953 - 1s - loss: 0.7752 - keras_f1_score: 0.6680 - val_loss: 0.4880 - val_keras_f1_score: 0.6748\n",
      "Epoch 25/35\n",
      "953/953 - 1s - loss: 0.7752 - keras_f1_score: 0.6670 - val_loss: 0.4887 - val_keras_f1_score: 0.6460\n",
      "Epoch 26/35\n",
      "953/953 - 1s - loss: 0.7738 - keras_f1_score: 0.6667 - val_loss: 0.4900 - val_keras_f1_score: 0.6652\n",
      "Epoch 27/35\n",
      "953/953 - 1s - loss: 0.7755 - keras_f1_score: 0.6673 - val_loss: 0.4995 - val_keras_f1_score: 0.6502\n",
      "Epoch 28/35\n",
      "953/953 - 1s - loss: 0.7745 - keras_f1_score: 0.6678 - val_loss: 0.4867 - val_keras_f1_score: 0.6759\n",
      "Epoch 29/35\n",
      "953/953 - 1s - loss: 0.7745 - keras_f1_score: 0.6679 - val_loss: 0.4881 - val_keras_f1_score: 0.6752\n",
      "Epoch 30/35\n",
      "953/953 - 1s - loss: 0.7744 - keras_f1_score: 0.6672 - val_loss: 0.4953 - val_keras_f1_score: 0.6663\n",
      "Epoch 31/35\n",
      "953/953 - 1s - loss: 0.7744 - keras_f1_score: 0.6671 - val_loss: 0.4839 - val_keras_f1_score: 0.6789\n",
      "Epoch 32/35\n",
      "953/953 - 1s - loss: 0.7738 - keras_f1_score: 0.6678 - val_loss: 0.4815 - val_keras_f1_score: 0.6693\n",
      "Epoch 33/35\n",
      "953/953 - 1s - loss: 0.7746 - keras_f1_score: 0.6674 - val_loss: 0.4903 - val_keras_f1_score: 0.6709\n",
      "Epoch 34/35\n",
      "953/953 - 1s - loss: 0.7746 - keras_f1_score: 0.6677 - val_loss: 0.4930 - val_keras_f1_score: 0.6723\n",
      "Epoch 35/35\n",
      "953/953 - 1s - loss: 0.7759 - keras_f1_score: 0.6668 - val_loss: 0.4938 - val_keras_f1_score: 0.6625\n"
     ]
    },
    {
     "data": {
      "text/plain": [
       "<tensorflow.python.keras.callbacks.History at 0x292481313a0>"
      ]
     },
     "execution_count": 146,
     "metadata": {},
     "output_type": "execute_result"
    }
   ],
   "source": [
    "modelpca = create_model3()\n",
    "modelpca.fit(XS_train_pca, y_nn_train3, validation_split=0.2, epochs=35, batch_size=256, verbose=2, class_weight=class_weight2)"
   ]
  },
  {
   "cell_type": "code",
   "execution_count": 147,
   "metadata": {},
   "outputs": [],
   "source": [
    "predspca2 = modelpca.predict(XS_test_pca)\n",
    "predspca2 = np.argmax(predspca2,axis = 1 )"
   ]
  },
  {
   "cell_type": "code",
   "execution_count": 148,
   "metadata": {},
   "outputs": [
    {
     "name": "stdout",
     "output_type": "stream",
     "text": [
      "0.6641914407913726\n",
      "0.4119917298414886\n",
      "0.7892842050332978\n"
     ]
    }
   ],
   "source": [
    "print(accuracy_score(predspca2, y2_test))\n",
    "print(f1_score(y2_test, predspca2))\n",
    "print(roc_auc_score(y2_test, predspca2))\n",
    "#Actually we see a slight performance decrease"
   ]
  },
  {
   "cell_type": "code",
   "execution_count": 102,
   "metadata": {
    "scrolled": true
   },
   "outputs": [
    {
     "data": {
      "text/html": [
       "<div>\n",
       "<style scoped>\n",
       "    .dataframe tbody tr th:only-of-type {\n",
       "        vertical-align: middle;\n",
       "    }\n",
       "\n",
       "    .dataframe tbody tr th {\n",
       "        vertical-align: top;\n",
       "    }\n",
       "\n",
       "    .dataframe thead th {\n",
       "        text-align: right;\n",
       "    }\n",
       "</style>\n",
       "<table border=\"1\" class=\"dataframe\">\n",
       "  <thead>\n",
       "    <tr style=\"text-align: right;\">\n",
       "      <th></th>\n",
       "      <th>Gender</th>\n",
       "      <th>Age</th>\n",
       "      <th>Driving_License</th>\n",
       "      <th>Region_Code</th>\n",
       "      <th>Previously_Insured</th>\n",
       "      <th>Vehicle_Age</th>\n",
       "      <th>Vehicle_Damage</th>\n",
       "      <th>Annual_Premium</th>\n",
       "      <th>Policy_Sales_Channel</th>\n",
       "    </tr>\n",
       "  </thead>\n",
       "  <tbody>\n",
       "    <tr>\n",
       "      <th>0</th>\n",
       "      <td>0</td>\n",
       "      <td>44</td>\n",
       "      <td>1</td>\n",
       "      <td>28.0</td>\n",
       "      <td>0</td>\n",
       "      <td>2</td>\n",
       "      <td>0</td>\n",
       "      <td>40454.0</td>\n",
       "      <td>26.0</td>\n",
       "    </tr>\n",
       "    <tr>\n",
       "      <th>1</th>\n",
       "      <td>0</td>\n",
       "      <td>76</td>\n",
       "      <td>1</td>\n",
       "      <td>3.0</td>\n",
       "      <td>0</td>\n",
       "      <td>1</td>\n",
       "      <td>1</td>\n",
       "      <td>33536.0</td>\n",
       "      <td>26.0</td>\n",
       "    </tr>\n",
       "    <tr>\n",
       "      <th>2</th>\n",
       "      <td>0</td>\n",
       "      <td>47</td>\n",
       "      <td>1</td>\n",
       "      <td>28.0</td>\n",
       "      <td>0</td>\n",
       "      <td>2</td>\n",
       "      <td>0</td>\n",
       "      <td>38294.0</td>\n",
       "      <td>26.0</td>\n",
       "    </tr>\n",
       "    <tr>\n",
       "      <th>3</th>\n",
       "      <td>0</td>\n",
       "      <td>21</td>\n",
       "      <td>1</td>\n",
       "      <td>11.0</td>\n",
       "      <td>1</td>\n",
       "      <td>0</td>\n",
       "      <td>1</td>\n",
       "      <td>28619.0</td>\n",
       "      <td>152.0</td>\n",
       "    </tr>\n",
       "    <tr>\n",
       "      <th>4</th>\n",
       "      <td>1</td>\n",
       "      <td>29</td>\n",
       "      <td>1</td>\n",
       "      <td>41.0</td>\n",
       "      <td>1</td>\n",
       "      <td>0</td>\n",
       "      <td>1</td>\n",
       "      <td>27496.0</td>\n",
       "      <td>152.0</td>\n",
       "    </tr>\n",
       "    <tr>\n",
       "      <th>...</th>\n",
       "      <td>...</td>\n",
       "      <td>...</td>\n",
       "      <td>...</td>\n",
       "      <td>...</td>\n",
       "      <td>...</td>\n",
       "      <td>...</td>\n",
       "      <td>...</td>\n",
       "      <td>...</td>\n",
       "      <td>...</td>\n",
       "    </tr>\n",
       "    <tr>\n",
       "      <th>381104</th>\n",
       "      <td>0</td>\n",
       "      <td>74</td>\n",
       "      <td>1</td>\n",
       "      <td>26.0</td>\n",
       "      <td>1</td>\n",
       "      <td>1</td>\n",
       "      <td>1</td>\n",
       "      <td>30170.0</td>\n",
       "      <td>26.0</td>\n",
       "    </tr>\n",
       "    <tr>\n",
       "      <th>381105</th>\n",
       "      <td>0</td>\n",
       "      <td>30</td>\n",
       "      <td>1</td>\n",
       "      <td>37.0</td>\n",
       "      <td>1</td>\n",
       "      <td>0</td>\n",
       "      <td>1</td>\n",
       "      <td>40016.0</td>\n",
       "      <td>152.0</td>\n",
       "    </tr>\n",
       "    <tr>\n",
       "      <th>381106</th>\n",
       "      <td>0</td>\n",
       "      <td>21</td>\n",
       "      <td>1</td>\n",
       "      <td>30.0</td>\n",
       "      <td>1</td>\n",
       "      <td>0</td>\n",
       "      <td>1</td>\n",
       "      <td>35118.0</td>\n",
       "      <td>160.0</td>\n",
       "    </tr>\n",
       "    <tr>\n",
       "      <th>381107</th>\n",
       "      <td>1</td>\n",
       "      <td>68</td>\n",
       "      <td>1</td>\n",
       "      <td>14.0</td>\n",
       "      <td>0</td>\n",
       "      <td>2</td>\n",
       "      <td>0</td>\n",
       "      <td>44617.0</td>\n",
       "      <td>124.0</td>\n",
       "    </tr>\n",
       "    <tr>\n",
       "      <th>381108</th>\n",
       "      <td>0</td>\n",
       "      <td>46</td>\n",
       "      <td>1</td>\n",
       "      <td>29.0</td>\n",
       "      <td>0</td>\n",
       "      <td>1</td>\n",
       "      <td>1</td>\n",
       "      <td>41777.0</td>\n",
       "      <td>26.0</td>\n",
       "    </tr>\n",
       "  </tbody>\n",
       "</table>\n",
       "<p>381109 rows × 9 columns</p>\n",
       "</div>"
      ],
      "text/plain": [
       "        Gender  Age  Driving_License  Region_Code  Previously_Insured  \\\n",
       "0            0   44                1         28.0                   0   \n",
       "1            0   76                1          3.0                   0   \n",
       "2            0   47                1         28.0                   0   \n",
       "3            0   21                1         11.0                   1   \n",
       "4            1   29                1         41.0                   1   \n",
       "...        ...  ...              ...          ...                 ...   \n",
       "381104       0   74                1         26.0                   1   \n",
       "381105       0   30                1         37.0                   1   \n",
       "381106       0   21                1         30.0                   1   \n",
       "381107       1   68                1         14.0                   0   \n",
       "381108       0   46                1         29.0                   0   \n",
       "\n",
       "        Vehicle_Age  Vehicle_Damage  Annual_Premium  Policy_Sales_Channel  \n",
       "0                 2               0         40454.0                  26.0  \n",
       "1                 1               1         33536.0                  26.0  \n",
       "2                 2               0         38294.0                  26.0  \n",
       "3                 0               1         28619.0                 152.0  \n",
       "4                 0               1         27496.0                 152.0  \n",
       "...             ...             ...             ...                   ...  \n",
       "381104            1               1         30170.0                  26.0  \n",
       "381105            0               1         40016.0                 152.0  \n",
       "381106            0               1         35118.0                 160.0  \n",
       "381107            2               0         44617.0                 124.0  \n",
       "381108            1               1         41777.0                  26.0  \n",
       "\n",
       "[381109 rows x 9 columns]"
      ]
     },
     "execution_count": 102,
     "metadata": {},
     "output_type": "execute_result"
    }
   ],
   "source": [
    "fpnr"
   ]
  },
  {
   "cell_type": "markdown",
   "metadata": {},
   "source": [
    "Now I'm going to test models that use PCA and the reduced feature set"
   ]
  },
  {
   "cell_type": "code",
   "execution_count": 149,
   "metadata": {},
   "outputs": [],
   "source": [
    "X3_train, X3_test, y3_train, y3_test = train_test_split(fp[features_to_include], y, test_size=0.2, )"
   ]
  },
  {
   "cell_type": "code",
   "execution_count": 150,
   "metadata": {},
   "outputs": [],
   "source": [
    "scaler.fit(X3_train)\n",
    "XS3 = scaler.transform(X3_train)\n"
   ]
  },
  {
   "cell_type": "code",
   "execution_count": 151,
   "metadata": {},
   "outputs": [],
   "source": [
    "scaler.fit(X3_test)\n",
    "XS3T = scaler.transform(X3_test)\n"
   ]
  },
  {
   "cell_type": "code",
   "execution_count": 152,
   "metadata": {},
   "outputs": [],
   "source": [
    "pca3 = PCA(n_components=3)\n",
    "pca3.fit(XS3)\n",
    "\n",
    "#Transforming x_train and x_test \n",
    "XS2_train_pca = pca3.transform(XS3)\n",
    "XS2_test_pca = pca3.transform(XS3T)"
   ]
  },
  {
   "cell_type": "code",
   "execution_count": 153,
   "metadata": {},
   "outputs": [],
   "source": [
    "y_nn_train4 = to_categorical(y3_train)"
   ]
  },
  {
   "cell_type": "code",
   "execution_count": 154,
   "metadata": {},
   "outputs": [
    {
     "name": "stdout",
     "output_type": "stream",
     "text": [
      "Epoch 1/35\n",
      "953/953 - 1s - loss: 1.0298 - keras_f1_score: 0.6343 - val_loss: 0.5142 - val_keras_f1_score: 0.6413\n",
      "Epoch 2/35\n",
      "953/953 - 1s - loss: 0.9113 - keras_f1_score: 0.6436 - val_loss: 0.4949 - val_keras_f1_score: 0.6465\n",
      "Epoch 3/35\n",
      "953/953 - 1s - loss: 0.9032 - keras_f1_score: 0.6441 - val_loss: 0.4993 - val_keras_f1_score: 0.6389\n",
      "Epoch 4/35\n",
      "953/953 - 1s - loss: 0.8985 - keras_f1_score: 0.6439 - val_loss: 0.5189 - val_keras_f1_score: 0.6246\n",
      "Epoch 5/35\n",
      "953/953 - 1s - loss: 0.8985 - keras_f1_score: 0.6448 - val_loss: 0.4788 - val_keras_f1_score: 0.6511\n",
      "Epoch 6/35\n",
      "953/953 - 1s - loss: 0.8957 - keras_f1_score: 0.6464 - val_loss: 0.4991 - val_keras_f1_score: 0.6353\n",
      "Epoch 7/35\n",
      "953/953 - 1s - loss: 0.8897 - keras_f1_score: 0.6471 - val_loss: 0.4879 - val_keras_f1_score: 0.6546\n",
      "Epoch 8/35\n",
      "953/953 - 1s - loss: 0.8909 - keras_f1_score: 0.6478 - val_loss: 0.5155 - val_keras_f1_score: 0.6172\n",
      "Epoch 9/35\n",
      "953/953 - 1s - loss: 0.8905 - keras_f1_score: 0.6445 - val_loss: 0.4712 - val_keras_f1_score: 0.6723\n",
      "Epoch 10/35\n",
      "953/953 - 1s - loss: 0.8890 - keras_f1_score: 0.6449 - val_loss: 0.4825 - val_keras_f1_score: 0.6507\n",
      "Epoch 11/35\n",
      "953/953 - 1s - loss: 0.8880 - keras_f1_score: 0.6463 - val_loss: 0.4991 - val_keras_f1_score: 0.6303\n",
      "Epoch 12/35\n",
      "953/953 - 1s - loss: 0.8866 - keras_f1_score: 0.6462 - val_loss: 0.4893 - val_keras_f1_score: 0.6624\n",
      "Epoch 13/35\n",
      "953/953 - 1s - loss: 0.8864 - keras_f1_score: 0.6468 - val_loss: 0.4979 - val_keras_f1_score: 0.6371\n",
      "Epoch 14/35\n",
      "953/953 - 1s - loss: 0.8879 - keras_f1_score: 0.6447 - val_loss: 0.4994 - val_keras_f1_score: 0.6394\n",
      "Epoch 15/35\n",
      "953/953 - 1s - loss: 0.8849 - keras_f1_score: 0.6455 - val_loss: 0.4858 - val_keras_f1_score: 0.6471\n",
      "Epoch 16/35\n",
      "953/953 - 1s - loss: 0.8882 - keras_f1_score: 0.6490 - val_loss: 0.5010 - val_keras_f1_score: 0.6348\n",
      "Epoch 17/35\n",
      "953/953 - 1s - loss: 0.8867 - keras_f1_score: 0.6466 - val_loss: 0.5019 - val_keras_f1_score: 0.6326\n",
      "Epoch 18/35\n",
      "953/953 - 1s - loss: 0.8856 - keras_f1_score: 0.6453 - val_loss: 0.4842 - val_keras_f1_score: 0.6431\n",
      "Epoch 19/35\n",
      "953/953 - 1s - loss: 0.8861 - keras_f1_score: 0.6453 - val_loss: 0.4972 - val_keras_f1_score: 0.6362\n",
      "Epoch 20/35\n",
      "953/953 - 1s - loss: 0.8862 - keras_f1_score: 0.6462 - val_loss: 0.5016 - val_keras_f1_score: 0.6296\n",
      "Epoch 21/35\n",
      "953/953 - 1s - loss: 0.8843 - keras_f1_score: 0.6461 - val_loss: 0.4901 - val_keras_f1_score: 0.6419\n",
      "Epoch 22/35\n",
      "953/953 - 1s - loss: 0.8857 - keras_f1_score: 0.6455 - val_loss: 0.5080 - val_keras_f1_score: 0.6325\n",
      "Epoch 23/35\n",
      "953/953 - 1s - loss: 0.8878 - keras_f1_score: 0.6465 - val_loss: 0.5080 - val_keras_f1_score: 0.6298\n",
      "Epoch 24/35\n",
      "953/953 - 1s - loss: 0.8832 - keras_f1_score: 0.6448 - val_loss: 0.4810 - val_keras_f1_score: 0.6479\n",
      "Epoch 25/35\n",
      "953/953 - 1s - loss: 0.8870 - keras_f1_score: 0.6461 - val_loss: 0.5013 - val_keras_f1_score: 0.6389\n",
      "Epoch 26/35\n",
      "953/953 - 1s - loss: 0.8861 - keras_f1_score: 0.6473 - val_loss: 0.4887 - val_keras_f1_score: 0.6417\n",
      "Epoch 27/35\n",
      "953/953 - 1s - loss: 0.8867 - keras_f1_score: 0.6461 - val_loss: 0.4844 - val_keras_f1_score: 0.6434\n",
      "Epoch 28/35\n",
      "953/953 - 1s - loss: 0.8818 - keras_f1_score: 0.6484 - val_loss: 0.4954 - val_keras_f1_score: 0.6343\n",
      "Epoch 29/35\n",
      "953/953 - 1s - loss: 0.8848 - keras_f1_score: 0.6465 - val_loss: 0.4824 - val_keras_f1_score: 0.6534\n",
      "Epoch 30/35\n",
      "953/953 - 1s - loss: 0.8825 - keras_f1_score: 0.6483 - val_loss: 0.4840 - val_keras_f1_score: 0.6437\n",
      "Epoch 31/35\n",
      "953/953 - 1s - loss: 0.8851 - keras_f1_score: 0.6460 - val_loss: 0.5062 - val_keras_f1_score: 0.6298\n",
      "Epoch 32/35\n",
      "953/953 - 1s - loss: 0.8831 - keras_f1_score: 0.6482 - val_loss: 0.4991 - val_keras_f1_score: 0.6369\n",
      "Epoch 33/35\n",
      "953/953 - 1s - loss: 0.8845 - keras_f1_score: 0.6493 - val_loss: 0.4900 - val_keras_f1_score: 0.6496\n",
      "Epoch 34/35\n",
      "953/953 - 1s - loss: 0.8851 - keras_f1_score: 0.6473 - val_loss: 0.5009 - val_keras_f1_score: 0.6313\n",
      "Epoch 35/35\n",
      "953/953 - 1s - loss: 0.8853 - keras_f1_score: 0.6471 - val_loss: 0.5001 - val_keras_f1_score: 0.6374\n"
     ]
    },
    {
     "data": {
      "text/plain": [
       "<tensorflow.python.keras.callbacks.History at 0x29248288490>"
      ]
     },
     "execution_count": 154,
     "metadata": {},
     "output_type": "execute_result"
    }
   ],
   "source": [
    "modelpca = create_model3()\n",
    "modelpca.fit(XS2_train_pca, y_nn_train4, validation_split=0.2, epochs=35, batch_size=256, verbose=2, class_weight=class_weight2)"
   ]
  },
  {
   "cell_type": "code",
   "execution_count": 155,
   "metadata": {},
   "outputs": [],
   "source": [
    "predspca3 = modelpca.predict(XS2_test_pca)\n",
    "predspca3 = np.argmax(predspca3,axis = 1 )"
   ]
  },
  {
   "cell_type": "code",
   "execution_count": 156,
   "metadata": {},
   "outputs": [
    {
     "name": "stdout",
     "output_type": "stream",
     "text": [
      "0.6395266458502794\n",
      "0.378258508327299\n",
      "0.7498430805761529\n"
     ]
    }
   ],
   "source": [
    "print(accuracy_score(predspca3, y3_test))\n",
    "print(f1_score(y3_test, predspca3))\n",
    "print(roc_auc_score(y3_test, predspca3))\n",
    "#Reduced accuracy and performance which is to be expected with smaller feature set"
   ]
  },
  {
   "cell_type": "code",
   "execution_count": 157,
   "metadata": {},
   "outputs": [
    {
     "name": "stdout",
     "output_type": "stream",
     "text": [
      "0.6641914407913726\n",
      "0.4119917298414886\n",
      "0.7892842050332978\n"
     ]
    }
   ],
   "source": [
    "print(accuracy_score(predspca2, y2_test))\n",
    "print(f1_score(y2_test, predspca2))\n",
    "print(roc_auc_score(y2_test, predspca2))\n",
    "#compare "
   ]
  },
  {
   "cell_type": "markdown",
   "metadata": {},
   "source": [
    "Model with PCA and reduced feature set but no scaling"
   ]
  },
  {
   "cell_type": "code",
   "execution_count": 159,
   "metadata": {},
   "outputs": [],
   "source": [
    "pca3 = PCA(n_components=3)\n",
    "pca3.fit(X3_train)\n",
    "\n",
    "#Transforming x_train and x_test \n",
    "X3_train_pca = pca3.transform(X3_train)\n",
    "X3_test_pca = pca3.transform(X3_test)"
   ]
  },
  {
   "cell_type": "code",
   "execution_count": 160,
   "metadata": {
    "scrolled": false
   },
   "outputs": [
    {
     "name": "stdout",
     "output_type": "stream",
     "text": [
      "Epoch 1/35\n",
      "953/953 - 1s - loss: 1.0445 - keras_f1_score: 0.5930 - val_loss: 0.5409 - val_keras_f1_score: 0.6224\n",
      "Epoch 2/35\n",
      "953/953 - 1s - loss: 0.9661 - keras_f1_score: 0.6061 - val_loss: 0.5500 - val_keras_f1_score: 0.6129\n",
      "Epoch 3/35\n",
      "953/953 - 1s - loss: 0.9460 - keras_f1_score: 0.6343 - val_loss: 0.5246 - val_keras_f1_score: 0.6773\n",
      "Epoch 4/35\n",
      "953/953 - 1s - loss: 0.9331 - keras_f1_score: 0.6560 - val_loss: 0.5159 - val_keras_f1_score: 0.6898\n",
      "Epoch 5/35\n",
      "953/953 - 1s - loss: 0.9284 - keras_f1_score: 0.6595 - val_loss: 0.5028 - val_keras_f1_score: 0.7122\n",
      "Epoch 6/35\n",
      "953/953 - 1s - loss: 0.9291 - keras_f1_score: 0.6619 - val_loss: 0.5241 - val_keras_f1_score: 0.6910\n",
      "Epoch 7/35\n",
      "953/953 - 1s - loss: 0.9267 - keras_f1_score: 0.6633 - val_loss: 0.5057 - val_keras_f1_score: 0.6984\n",
      "Epoch 8/35\n",
      "953/953 - 1s - loss: 0.9224 - keras_f1_score: 0.6661 - val_loss: 0.5010 - val_keras_f1_score: 0.6895\n",
      "Epoch 9/35\n",
      "953/953 - 1s - loss: 0.9064 - keras_f1_score: 0.6724 - val_loss: 0.5073 - val_keras_f1_score: 0.6883\n",
      "Epoch 10/35\n",
      "953/953 - 1s - loss: 0.9031 - keras_f1_score: 0.6746 - val_loss: 0.5113 - val_keras_f1_score: 0.6881\n",
      "Epoch 11/35\n",
      "953/953 - 1s - loss: 0.9018 - keras_f1_score: 0.6749 - val_loss: 0.4835 - val_keras_f1_score: 0.6947\n",
      "Epoch 12/35\n",
      "953/953 - 1s - loss: 0.9010 - keras_f1_score: 0.6747 - val_loss: 0.5083 - val_keras_f1_score: 0.6869\n",
      "Epoch 13/35\n",
      "953/953 - 1s - loss: 0.9023 - keras_f1_score: 0.6748 - val_loss: 0.5003 - val_keras_f1_score: 0.6908\n",
      "Epoch 14/35\n",
      "953/953 - 1s - loss: 0.8992 - keras_f1_score: 0.6749 - val_loss: 0.5051 - val_keras_f1_score: 0.6904\n",
      "Epoch 15/35\n",
      "953/953 - 1s - loss: 0.8997 - keras_f1_score: 0.6755 - val_loss: 0.4980 - val_keras_f1_score: 0.7009\n",
      "Epoch 16/35\n",
      "953/953 - 1s - loss: 0.9010 - keras_f1_score: 0.6757 - val_loss: 0.5042 - val_keras_f1_score: 0.6861\n",
      "Epoch 17/35\n",
      "953/953 - 1s - loss: 0.8969 - keras_f1_score: 0.6751 - val_loss: 0.4902 - val_keras_f1_score: 0.6912\n",
      "Epoch 18/35\n",
      "953/953 - 1s - loss: 0.8994 - keras_f1_score: 0.6739 - val_loss: 0.5030 - val_keras_f1_score: 0.6867\n",
      "Epoch 19/35\n",
      "953/953 - 1s - loss: 0.9019 - keras_f1_score: 0.6735 - val_loss: 0.5068 - val_keras_f1_score: 0.6838\n",
      "Epoch 20/35\n",
      "953/953 - 1s - loss: 0.9019 - keras_f1_score: 0.6732 - val_loss: 0.5063 - val_keras_f1_score: 0.6867\n",
      "Epoch 21/35\n",
      "953/953 - 1s - loss: 0.9003 - keras_f1_score: 0.6746 - val_loss: 0.5068 - val_keras_f1_score: 0.6858\n",
      "Epoch 22/35\n",
      "953/953 - 1s - loss: 0.9000 - keras_f1_score: 0.6740 - val_loss: 0.5030 - val_keras_f1_score: 0.6901\n",
      "Epoch 23/35\n",
      "953/953 - 1s - loss: 0.9002 - keras_f1_score: 0.6741 - val_loss: 0.4928 - val_keras_f1_score: 0.6958\n",
      "Epoch 24/35\n",
      "953/953 - 1s - loss: 0.9006 - keras_f1_score: 0.6746 - val_loss: 0.4912 - val_keras_f1_score: 0.7025\n",
      "Epoch 25/35\n",
      "953/953 - 1s - loss: 0.8996 - keras_f1_score: 0.6748 - val_loss: 0.4908 - val_keras_f1_score: 0.6956\n",
      "Epoch 26/35\n",
      "953/953 - 1s - loss: 0.9003 - keras_f1_score: 0.6745 - val_loss: 0.5107 - val_keras_f1_score: 0.6753\n",
      "Epoch 27/35\n",
      "953/953 - 1s - loss: 0.9014 - keras_f1_score: 0.6740 - val_loss: 0.4917 - val_keras_f1_score: 0.6929\n",
      "Epoch 28/35\n",
      "953/953 - 1s - loss: 0.9012 - keras_f1_score: 0.6735 - val_loss: 0.4961 - val_keras_f1_score: 0.6962\n",
      "Epoch 29/35\n",
      "953/953 - 1s - loss: 0.9022 - keras_f1_score: 0.6737 - val_loss: 0.5172 - val_keras_f1_score: 0.6760\n",
      "Epoch 30/35\n",
      "953/953 - 1s - loss: 0.9018 - keras_f1_score: 0.6751 - val_loss: 0.5011 - val_keras_f1_score: 0.6895\n",
      "Epoch 31/35\n",
      "953/953 - 1s - loss: 0.9018 - keras_f1_score: 0.6741 - val_loss: 0.4995 - val_keras_f1_score: 0.6920\n",
      "Epoch 32/35\n",
      "953/953 - 1s - loss: 0.9008 - keras_f1_score: 0.6736 - val_loss: 0.4984 - val_keras_f1_score: 0.6921\n",
      "Epoch 33/35\n",
      "953/953 - 1s - loss: 0.9033 - keras_f1_score: 0.6736 - val_loss: 0.4989 - val_keras_f1_score: 0.6868\n",
      "Epoch 34/35\n",
      "953/953 - 1s - loss: 0.9002 - keras_f1_score: 0.6738 - val_loss: 0.5067 - val_keras_f1_score: 0.6869\n",
      "Epoch 35/35\n",
      "953/953 - 1s - loss: 0.9015 - keras_f1_score: 0.6743 - val_loss: 0.4961 - val_keras_f1_score: 0.6884\n"
     ]
    },
    {
     "data": {
      "text/plain": [
       "<tensorflow.python.keras.callbacks.History at 0x2924c355130>"
      ]
     },
     "execution_count": 160,
     "metadata": {},
     "output_type": "execute_result"
    }
   ],
   "source": [
    "modelpca_noscaling = create_model3()\n",
    "modelpca.fit(X3_train_pca, y_nn_train4, validation_split=0.2, epochs=35, batch_size=256, verbose=2, class_weight=class_weight2)"
   ]
  },
  {
   "cell_type": "code",
   "execution_count": 161,
   "metadata": {},
   "outputs": [],
   "source": [
    "predspca4 = modelpca.predict(X3_test_pca)\n",
    "predspca4 = np.argmax(predspca4,axis = 1 )"
   ]
  },
  {
   "cell_type": "code",
   "execution_count": 162,
   "metadata": {},
   "outputs": [
    {
     "name": "stdout",
     "output_type": "stream",
     "text": [
      "0.6894466164624387\n",
      "0.4086241786793914\n",
      "0.7699821195688937\n"
     ]
    }
   ],
   "source": [
    "print(accuracy_score(predspca4, y3_test))\n",
    "print(f1_score(y3_test, predspca4))\n",
    "print(roc_auc_score(y3_test, predspca4))\n",
    "#Better than the scaled model\n",
    "#Maybe I am scaling incorrectly?"
   ]
  },
  {
   "cell_type": "markdown",
   "metadata": {},
   "source": [
    "Non-pca model without weights"
   ]
  },
  {
   "cell_type": "code",
   "execution_count": 163,
   "metadata": {
    "scrolled": true
   },
   "outputs": [
    {
     "name": "stdout",
     "output_type": "stream",
     "text": [
      "Epoch 1/35\n",
      "953/953 - 1s - loss: 0.3722 - keras_f1_score: 0.8305 - val_loss: 0.2833 - val_keras_f1_score: 0.8774\n",
      "Epoch 2/35\n",
      "953/953 - 1s - loss: 0.2887 - keras_f1_score: 0.8768 - val_loss: 0.2817 - val_keras_f1_score: 0.8774\n",
      "Epoch 3/35\n",
      "953/953 - 1s - loss: 0.2843 - keras_f1_score: 0.8772 - val_loss: 0.2811 - val_keras_f1_score: 0.8774\n",
      "Epoch 4/35\n",
      "953/953 - 1s - loss: 0.2833 - keras_f1_score: 0.8772 - val_loss: 0.2810 - val_keras_f1_score: 0.8774\n",
      "Epoch 5/35\n",
      "953/953 - 1s - loss: 0.2829 - keras_f1_score: 0.8772 - val_loss: 0.2808 - val_keras_f1_score: 0.8774\n",
      "Epoch 6/35\n",
      "953/953 - 1s - loss: 0.2827 - keras_f1_score: 0.8772 - val_loss: 0.2810 - val_keras_f1_score: 0.8774\n",
      "Epoch 7/35\n",
      "953/953 - 1s - loss: 0.2827 - keras_f1_score: 0.8772 - val_loss: 0.2809 - val_keras_f1_score: 0.8774\n",
      "Epoch 8/35\n",
      "953/953 - 1s - loss: 0.2825 - keras_f1_score: 0.8772 - val_loss: 0.2807 - val_keras_f1_score: 0.8774\n",
      "Epoch 9/35\n",
      "953/953 - 1s - loss: 0.2822 - keras_f1_score: 0.8772 - val_loss: 0.2809 - val_keras_f1_score: 0.8774\n",
      "Epoch 10/35\n",
      "953/953 - 1s - loss: 0.2822 - keras_f1_score: 0.8772 - val_loss: 0.2807 - val_keras_f1_score: 0.8774\n",
      "Epoch 11/35\n",
      "953/953 - 1s - loss: 0.2823 - keras_f1_score: 0.8772 - val_loss: 0.2808 - val_keras_f1_score: 0.8774\n",
      "Epoch 12/35\n",
      "953/953 - 1s - loss: 0.2820 - keras_f1_score: 0.8772 - val_loss: 0.2810 - val_keras_f1_score: 0.8774\n",
      "Epoch 13/35\n",
      "953/953 - 1s - loss: 0.2822 - keras_f1_score: 0.8772 - val_loss: 0.2807 - val_keras_f1_score: 0.8774\n",
      "Epoch 14/35\n",
      "953/953 - 1s - loss: 0.2816 - keras_f1_score: 0.8772 - val_loss: 0.2807 - val_keras_f1_score: 0.8774\n",
      "Epoch 15/35\n",
      "953/953 - 1s - loss: 0.2818 - keras_f1_score: 0.8772 - val_loss: 0.2808 - val_keras_f1_score: 0.8774\n",
      "Epoch 16/35\n",
      "953/953 - 1s - loss: 0.2820 - keras_f1_score: 0.8772 - val_loss: 0.2808 - val_keras_f1_score: 0.8774\n",
      "Epoch 17/35\n",
      "953/953 - 1s - loss: 0.2819 - keras_f1_score: 0.8772 - val_loss: 0.2808 - val_keras_f1_score: 0.8774\n",
      "Epoch 18/35\n",
      "953/953 - 1s - loss: 0.2816 - keras_f1_score: 0.8772 - val_loss: 0.2809 - val_keras_f1_score: 0.8774\n",
      "Epoch 19/35\n",
      "953/953 - 1s - loss: 0.2819 - keras_f1_score: 0.8772 - val_loss: 0.2809 - val_keras_f1_score: 0.8774\n",
      "Epoch 20/35\n",
      "953/953 - 1s - loss: 0.2818 - keras_f1_score: 0.8772 - val_loss: 0.2811 - val_keras_f1_score: 0.8774\n",
      "Epoch 21/35\n",
      "953/953 - 1s - loss: 0.2818 - keras_f1_score: 0.8772 - val_loss: 0.2809 - val_keras_f1_score: 0.8774\n",
      "Epoch 22/35\n",
      "953/953 - 1s - loss: 0.2818 - keras_f1_score: 0.8772 - val_loss: 0.2808 - val_keras_f1_score: 0.8774\n",
      "Epoch 23/35\n",
      "953/953 - 1s - loss: 0.2816 - keras_f1_score: 0.8772 - val_loss: 0.2807 - val_keras_f1_score: 0.8774\n",
      "Epoch 24/35\n",
      "953/953 - 1s - loss: 0.2816 - keras_f1_score: 0.8772 - val_loss: 0.2807 - val_keras_f1_score: 0.8774\n",
      "Epoch 25/35\n",
      "953/953 - 1s - loss: 0.2815 - keras_f1_score: 0.8772 - val_loss: 0.2807 - val_keras_f1_score: 0.8774\n",
      "Epoch 26/35\n",
      "953/953 - 1s - loss: 0.2815 - keras_f1_score: 0.8772 - val_loss: 0.2807 - val_keras_f1_score: 0.8774\n",
      "Epoch 27/35\n",
      "953/953 - 1s - loss: 0.2816 - keras_f1_score: 0.8772 - val_loss: 0.2811 - val_keras_f1_score: 0.8774\n",
      "Epoch 28/35\n",
      "953/953 - 1s - loss: 0.2816 - keras_f1_score: 0.8772 - val_loss: 0.2806 - val_keras_f1_score: 0.8774\n",
      "Epoch 29/35\n",
      "953/953 - 1s - loss: 0.2817 - keras_f1_score: 0.8772 - val_loss: 0.2809 - val_keras_f1_score: 0.8774\n",
      "Epoch 30/35\n",
      "953/953 - 1s - loss: 0.2817 - keras_f1_score: 0.8772 - val_loss: 0.2807 - val_keras_f1_score: 0.8774\n",
      "Epoch 31/35\n",
      "953/953 - 1s - loss: 0.2816 - keras_f1_score: 0.8772 - val_loss: 0.2807 - val_keras_f1_score: 0.8774\n",
      "Epoch 32/35\n",
      "953/953 - 1s - loss: 0.2814 - keras_f1_score: 0.8772 - val_loss: 0.2809 - val_keras_f1_score: 0.8774\n",
      "Epoch 33/35\n",
      "953/953 - 1s - loss: 0.2815 - keras_f1_score: 0.8772 - val_loss: 0.2808 - val_keras_f1_score: 0.8774\n",
      "Epoch 34/35\n",
      "953/953 - 1s - loss: 0.2816 - keras_f1_score: 0.8772 - val_loss: 0.2810 - val_keras_f1_score: 0.8774\n",
      "Epoch 35/35\n",
      "953/953 - 1s - loss: 0.2814 - keras_f1_score: 0.8772 - val_loss: 0.2807 - val_keras_f1_score: 0.8774\n"
     ]
    },
    {
     "data": {
      "text/plain": [
       "<tensorflow.python.keras.callbacks.History at 0x292619d05e0>"
      ]
     },
     "execution_count": 163,
     "metadata": {},
     "output_type": "execute_result"
    }
   ],
   "source": [
    "model = create_model()\n",
    "model.fit(XK_train, y_nn_train, validation_split=0.2, epochs=35, batch_size=256, verbose=2, )"
   ]
  },
  {
   "cell_type": "code",
   "execution_count": 164,
   "metadata": {},
   "outputs": [],
   "source": [
    "predsknoweights = model2.predict(XK_test)\n",
    "predsknoweights = np.argmax(predsknoweights, axis=1)"
   ]
  },
  {
   "cell_type": "code",
   "execution_count": 165,
   "metadata": {},
   "outputs": [
    {
     "name": "stdout",
     "output_type": "stream",
     "text": [
      "0.6612395371415077\n",
      "0.40114108124405684\n",
      "0.777261968689025\n"
     ]
    }
   ],
   "source": [
    "print(accuracy_score(predsknoweights, yk_test))\n",
    "print(f1_score(yk_test, predsknoweights))\n",
    "print(roc_auc_score(yk_test, predsknoweights))"
   ]
  },
  {
   "cell_type": "code",
   "execution_count": 166,
   "metadata": {},
   "outputs": [
    {
     "data": {
      "text/plain": [
       "array([[41753, 25177],\n",
       "       [  644,  8648]], dtype=int64)"
      ]
     },
     "execution_count": 166,
     "metadata": {},
     "output_type": "execute_result"
    }
   ],
   "source": [
    "cs(yk_test, predsknoweights)"
   ]
  },
  {
   "cell_type": "markdown",
   "metadata": {},
   "source": [
    "Problems with converting my notebook file into a pdf for upload purposes"
   ]
  },
  {
   "cell_type": "code",
   "execution_count": 55,
   "metadata": {},
   "outputs": [
    {
     "name": "stdout",
     "output_type": "stream",
     "text": [
      "Requirement already satisfied: nbconvert in d:\\anaconda\\lib\\site-packages (5.6.1)\n",
      "Requirement already satisfied: mistune<2,>=0.8.1 in d:\\anaconda\\lib\\site-packages (from nbconvert) (0.8.4)\n",
      "Requirement already satisfied: bleach in d:\\anaconda\\lib\\site-packages (from nbconvert) (3.1.5)\n",
      "Requirement already satisfied: defusedxml in d:\\anaconda\\lib\\site-packages (from nbconvert) (0.6.0)\n",
      "Requirement already satisfied: pygments in d:\\anaconda\\lib\\site-packages (from nbconvert) (2.6.1)\n",
      "Requirement already satisfied: entrypoints>=0.2.2 in d:\\anaconda\\lib\\site-packages (from nbconvert) (0.3)\n",
      "Requirement already satisfied: pandocfilters>=1.4.1 in d:\\anaconda\\lib\\site-packages (from nbconvert) (1.4.2)\n",
      "Requirement already satisfied: traitlets>=4.2 in d:\\anaconda\\lib\\site-packages (from nbconvert) (4.3.3)\n",
      "Requirement already satisfied: testpath in d:\\anaconda\\lib\\site-packages (from nbconvert) (0.4.4)\n",
      "Requirement already satisfied: jinja2>=2.4 in d:\\anaconda\\lib\\site-packages (from nbconvert) (2.11.2)\n",
      "Requirement already satisfied: nbformat>=4.4 in d:\\anaconda\\lib\\site-packages (from nbconvert) (5.0.7)\n",
      "Requirement already satisfied: jupyter-core in d:\\anaconda\\lib\\site-packages (from nbconvert) (4.6.3)\n",
      "Requirement already satisfied: six>=1.9.0 in d:\\anaconda\\lib\\site-packages (from bleach->nbconvert) (1.15.0)\n",
      "Requirement already satisfied: packaging in d:\\anaconda\\lib\\site-packages (from bleach->nbconvert) (20.4)\n",
      "Requirement already satisfied: webencodings in d:\\anaconda\\lib\\site-packages (from bleach->nbconvert) (0.5.1)\n",
      "Requirement already satisfied: ipython-genutils in d:\\anaconda\\lib\\site-packages (from traitlets>=4.2->nbconvert) (0.2.0)\n",
      "Requirement already satisfied: decorator in d:\\anaconda\\lib\\site-packages (from traitlets>=4.2->nbconvert) (4.4.2)\n",
      "Requirement already satisfied: MarkupSafe>=0.23 in d:\\anaconda\\lib\\site-packages (from jinja2>=2.4->nbconvert) (1.1.1)\n",
      "Requirement already satisfied: jsonschema!=2.5.0,>=2.4 in d:\\anaconda\\lib\\site-packages (from nbformat>=4.4->nbconvert) (3.2.0)\n",
      "Requirement already satisfied: pywin32>=1.0; sys_platform == \"win32\" in d:\\anaconda\\lib\\site-packages (from jupyter-core->nbconvert) (227)\n",
      "Requirement already satisfied: pyparsing>=2.0.2 in d:\\anaconda\\lib\\site-packages (from packaging->bleach->nbconvert) (2.4.7)\n",
      "Requirement already satisfied: pyrsistent>=0.14.0 in d:\\anaconda\\lib\\site-packages (from jsonschema!=2.5.0,>=2.4->nbformat>=4.4->nbconvert) (0.16.0)\n",
      "Requirement already satisfied: attrs>=17.4.0 in d:\\anaconda\\lib\\site-packages (from jsonschema!=2.5.0,>=2.4->nbformat>=4.4->nbconvert) (19.3.0)\n",
      "Requirement already satisfied: setuptools in d:\\anaconda\\lib\\site-packages (from jsonschema!=2.5.0,>=2.4->nbformat>=4.4->nbconvert) (49.2.0.post20200714)\n"
     ]
    }
   ],
   "source": [
    "!pip install nbconvert"
   ]
  },
  {
   "cell_type": "code",
   "execution_count": 56,
   "metadata": {},
   "outputs": [
    {
     "name": "stderr",
     "output_type": "stream",
     "text": [
      "'export' is not recognized as an internal or external command,\n",
      "operable program or batch file.\n"
     ]
    }
   ],
   "source": [
    "!export PATH=/Library/TeX/texbin:$PATH"
   ]
  },
  {
   "cell_type": "code",
   "execution_count": 58,
   "metadata": {},
   "outputs": [],
   "source": [
    "import nbconvert"
   ]
  },
  {
   "cell_type": "code",
   "execution_count": 59,
   "metadata": {},
   "outputs": [
    {
     "ename": "SyntaxError",
     "evalue": "invalid syntax (<ipython-input-59-5097655e60f4>, line 1)",
     "output_type": "error",
     "traceback": [
      "\u001b[1;36m  File \u001b[1;32m\"<ipython-input-59-5097655e60f4>\"\u001b[1;36m, line \u001b[1;32m1\u001b[0m\n\u001b[1;33m    jupyter nbconvert FinalProject.ipynb --to pdf\u001b[0m\n\u001b[1;37m            ^\u001b[0m\n\u001b[1;31mSyntaxError\u001b[0m\u001b[1;31m:\u001b[0m invalid syntax\n"
     ]
    }
   ],
   "source": [
    " jupyter nbconvert FinalProject.ipynb --to pdf"
   ]
  },
  {
   "cell_type": "markdown",
   "metadata": {},
   "source": [
    "Forget about fixing PATH, just press ctrl+p in your browser and save as a pdf "
   ]
  }
 ],
 "metadata": {
  "kernelspec": {
   "display_name": "Python 3",
   "language": "python",
   "name": "python3"
  },
  "language_info": {
   "codemirror_mode": {
    "name": "ipython",
    "version": 3
   },
   "file_extension": ".py",
   "mimetype": "text/x-python",
   "name": "python",
   "nbconvert_exporter": "python",
   "pygments_lexer": "ipython3",
   "version": "3.8.3"
  }
 },
 "nbformat": 4,
 "nbformat_minor": 4
}
